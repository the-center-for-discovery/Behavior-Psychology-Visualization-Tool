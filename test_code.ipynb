{
 "cells": [
  {
   "cell_type": "code",
   "execution_count": 15,
   "metadata": {},
   "outputs": [
    {
     "data": {
      "text/html": [
       "<div>\n",
       "<style scoped>\n",
       "    .dataframe tbody tr th:only-of-type {\n",
       "        vertical-align: middle;\n",
       "    }\n",
       "\n",
       "    .dataframe tbody tr th {\n",
       "        vertical-align: top;\n",
       "    }\n",
       "\n",
       "    .dataframe thead th {\n",
       "        text-align: right;\n",
       "    }\n",
       "</style>\n",
       "<table border=\"1\" class=\"dataframe\">\n",
       "  <thead>\n",
       "    <tr style=\"text-align: right;\">\n",
       "      <th></th>\n",
       "      <th>Date</th>\n",
       "      <th>Shift</th>\n",
       "      <th>No Data</th>\n",
       "      <th>Unnamed: 3</th>\n",
       "      <th>Subcategory</th>\n",
       "      <th>Unnamed: 5</th>\n",
       "      <th>Unnamed: 6</th>\n",
       "      <th>Freq</th>\n",
       "      <th>Duration Specific</th>\n",
       "      <th>Time Sampling %</th>\n",
       "      <th>Duration Intervals</th>\n",
       "      <th>Unnamed: 11</th>\n",
       "      <th>Unnamed: 12</th>\n",
       "      <th>Unnamed: 13</th>\n",
       "      <th>Unnamed: 14</th>\n",
       "      <th>Unnamed: 15</th>\n",
       "      <th>Intensity</th>\n",
       "      <th>Unnamed: 17</th>\n",
       "      <th>Unnamed: 18</th>\n",
       "      <th>Unnamed: 19</th>\n",
       "      <th>Unnamed: 20</th>\n",
       "      <th>Comments</th>\n",
       "      <th>Subcategory.1</th>\n",
       "      <th>Unnamed: 23</th>\n",
       "      <th>Unnamed: 24</th>\n",
       "      <th>Freq.1</th>\n",
       "      <th>Duration Specific.1</th>\n",
       "      <th>Time Sampling %.1</th>\n",
       "      <th>Duration Intervals.1</th>\n",
       "      <th>Unnamed: 29</th>\n",
       "      <th>Unnamed: 30</th>\n",
       "      <th>Unnamed: 31</th>\n",
       "      <th>Unnamed: 32</th>\n",
       "      <th>Unnamed: 33</th>\n",
       "      <th>Intensity.1</th>\n",
       "      <th>Unnamed: 35</th>\n",
       "      <th>Unnamed: 36</th>\n",
       "      <th>Unnamed: 37</th>\n",
       "      <th>Unnamed: 38</th>\n",
       "      <th>Comments.1</th>\n",
       "      <th>Subcategory.2</th>\n",
       "      <th>Unnamed: 41</th>\n",
       "      <th>Unnamed: 42</th>\n",
       "      <th>Freq.2</th>\n",
       "      <th>Duration Specific.2</th>\n",
       "      <th>Time Sampling %.2</th>\n",
       "      <th>Duration Intervals.2</th>\n",
       "      <th>Unnamed: 47</th>\n",
       "      <th>Unnamed: 48</th>\n",
       "      <th>Unnamed: 49</th>\n",
       "      <th>Unnamed: 50</th>\n",
       "      <th>Unnamed: 51</th>\n",
       "      <th>Intensity.2</th>\n",
       "      <th>Unnamed: 53</th>\n",
       "      <th>Unnamed: 54</th>\n",
       "      <th>Unnamed: 55</th>\n",
       "      <th>Unnamed: 56</th>\n",
       "      <th>Comments.2</th>\n",
       "      <th>Subcategory.3</th>\n",
       "      <th>Unnamed: 59</th>\n",
       "      <th>Unnamed: 60</th>\n",
       "      <th>Freq.3</th>\n",
       "      <th>Duration Specific.3</th>\n",
       "      <th>Time Sampling %.3</th>\n",
       "      <th>Duration Intervals.3</th>\n",
       "      <th>Unnamed: 65</th>\n",
       "      <th>Unnamed: 66</th>\n",
       "      <th>Unnamed: 67</th>\n",
       "      <th>Unnamed: 68</th>\n",
       "      <th>Unnamed: 69</th>\n",
       "      <th>Intensity.3</th>\n",
       "      <th>Unnamed: 71</th>\n",
       "      <th>Unnamed: 72</th>\n",
       "      <th>Unnamed: 73</th>\n",
       "      <th>Unnamed: 74</th>\n",
       "      <th>Comments.3</th>\n",
       "      <th>Subcategory.4</th>\n",
       "      <th>Unnamed: 77</th>\n",
       "      <th>Unnamed: 78</th>\n",
       "      <th>Freq.4</th>\n",
       "      <th>Duration Specific.4</th>\n",
       "      <th>Time Sampling %.4</th>\n",
       "      <th>Duration Intervals.4</th>\n",
       "      <th>Unnamed: 83</th>\n",
       "      <th>Unnamed: 84</th>\n",
       "      <th>Unnamed: 85</th>\n",
       "      <th>Unnamed: 86</th>\n",
       "      <th>Unnamed: 87</th>\n",
       "      <th>Intensity.4</th>\n",
       "      <th>Unnamed: 89</th>\n",
       "      <th>Unnamed: 90</th>\n",
       "      <th>Unnamed: 91</th>\n",
       "      <th>Unnamed: 92</th>\n",
       "      <th>Comments.4</th>\n",
       "      <th>Unnamed: 94</th>\n",
       "      <th>Unnamed: 95</th>\n",
       "      <th>Unnamed: 96</th>\n",
       "      <th>Unnamed: 97</th>\n",
       "      <th>Unnamed: 98</th>\n",
       "      <th>Unnamed: 99</th>\n",
       "      <th>Unnamed: 100</th>\n",
       "      <th>Unnamed: 101</th>\n",
       "      <th>Unnamed: 102</th>\n",
       "      <th>Unnamed: 103</th>\n",
       "      <th>Unnamed: 104</th>\n",
       "      <th>Unnamed: 105</th>\n",
       "      <th>Unnamed: 106</th>\n",
       "      <th>Unnamed: 107</th>\n",
       "      <th>Unnamed: 108</th>\n",
       "      <th>Unnamed: 109</th>\n",
       "      <th>Unnamed: 110</th>\n",
       "      <th>Unnamed: 111</th>\n",
       "      <th>Unnamed: 112</th>\n",
       "      <th>Unnamed: 113</th>\n",
       "      <th>Unnamed: 114</th>\n",
       "      <th>Unnamed: 115</th>\n",
       "      <th>Unnamed: 116</th>\n",
       "      <th>Unnamed: 117</th>\n",
       "    </tr>\n",
       "  </thead>\n",
       "  <tbody>\n",
       "    <tr>\n",
       "      <th>0</th>\n",
       "      <td>NaN</td>\n",
       "      <td>NaN</td>\n",
       "      <td>NaN</td>\n",
       "      <td>NaN</td>\n",
       "      <td>NaN</td>\n",
       "      <td>NaN</td>\n",
       "      <td>NaN</td>\n",
       "      <td>NaN</td>\n",
       "      <td>NaN</td>\n",
       "      <td>NaN</td>\n",
       "      <td>Not Specified</td>\n",
       "      <td>&lt;5</td>\n",
       "      <td>6-10</td>\n",
       "      <td>11-15</td>\n",
       "      <td>16-20</td>\n",
       "      <td>20+</td>\n",
       "      <td>Not Specified</td>\n",
       "      <td>1.0</td>\n",
       "      <td>2.0</td>\n",
       "      <td>3.0</td>\n",
       "      <td>4.0</td>\n",
       "      <td>NaN</td>\n",
       "      <td>NaN</td>\n",
       "      <td>NaN</td>\n",
       "      <td>NaN</td>\n",
       "      <td>NaN</td>\n",
       "      <td>NaN</td>\n",
       "      <td>NaN</td>\n",
       "      <td>Not Specified</td>\n",
       "      <td>0.0</td>\n",
       "      <td>0.0</td>\n",
       "      <td>0.0</td>\n",
       "      <td>0.0</td>\n",
       "      <td>0.0</td>\n",
       "      <td>Not Specified</td>\n",
       "      <td>1.0</td>\n",
       "      <td>2.0</td>\n",
       "      <td>3.0</td>\n",
       "      <td>4.0</td>\n",
       "      <td>NaN</td>\n",
       "      <td>NaN</td>\n",
       "      <td>NaN</td>\n",
       "      <td>NaN</td>\n",
       "      <td>NaN</td>\n",
       "      <td>NaN</td>\n",
       "      <td>NaN</td>\n",
       "      <td>Not Specified</td>\n",
       "      <td>&lt;5</td>\n",
       "      <td>6-10</td>\n",
       "      <td>11-15</td>\n",
       "      <td>16-20</td>\n",
       "      <td>20+</td>\n",
       "      <td>Not Specified</td>\n",
       "      <td>1.0</td>\n",
       "      <td>2.0</td>\n",
       "      <td>3.0</td>\n",
       "      <td>4.0</td>\n",
       "      <td>NaN</td>\n",
       "      <td>NaN</td>\n",
       "      <td>NaN</td>\n",
       "      <td>NaN</td>\n",
       "      <td>NaN</td>\n",
       "      <td>NaN</td>\n",
       "      <td>NaN</td>\n",
       "      <td>Not Specified</td>\n",
       "      <td>&lt;5</td>\n",
       "      <td>6-10</td>\n",
       "      <td>11-15</td>\n",
       "      <td>16-20</td>\n",
       "      <td>20+</td>\n",
       "      <td>Not Specified</td>\n",
       "      <td>1.0</td>\n",
       "      <td>2.0</td>\n",
       "      <td>3.0</td>\n",
       "      <td>4.0</td>\n",
       "      <td>NaN</td>\n",
       "      <td>NaN</td>\n",
       "      <td>NaN</td>\n",
       "      <td>NaN</td>\n",
       "      <td>NaN</td>\n",
       "      <td>NaN</td>\n",
       "      <td>NaN</td>\n",
       "      <td>Not Specified</td>\n",
       "      <td>0.0</td>\n",
       "      <td>0.0</td>\n",
       "      <td>0.0</td>\n",
       "      <td>0.0</td>\n",
       "      <td>0.0</td>\n",
       "      <td>Not Specified</td>\n",
       "      <td>1.0</td>\n",
       "      <td>2.0</td>\n",
       "      <td>3.0</td>\n",
       "      <td>4.0</td>\n",
       "      <td>NaN</td>\n",
       "      <td>NaN</td>\n",
       "      <td>NaN</td>\n",
       "      <td>NaN</td>\n",
       "      <td>NaN</td>\n",
       "      <td>NaN</td>\n",
       "      <td>NaN</td>\n",
       "      <td>NaN</td>\n",
       "      <td>NaN</td>\n",
       "      <td>NaN</td>\n",
       "      <td>NaN</td>\n",
       "      <td>NaN</td>\n",
       "      <td>NaN</td>\n",
       "      <td>NaN</td>\n",
       "      <td>NaN</td>\n",
       "      <td>NaN</td>\n",
       "      <td>NaN</td>\n",
       "      <td>NaN</td>\n",
       "      <td>NaN</td>\n",
       "      <td>NaN</td>\n",
       "      <td>NaN</td>\n",
       "      <td>NaN</td>\n",
       "      <td>NaN</td>\n",
       "      <td>NaN</td>\n",
       "      <td>NaN</td>\n",
       "    </tr>\n",
       "    <tr>\n",
       "      <th>1</th>\n",
       "      <td>1</td>\n",
       "      <td>7-3</td>\n",
       "      <td>LOA</td>\n",
       "      <td>NaN</td>\n",
       "      <td>NaN</td>\n",
       "      <td>NaN</td>\n",
       "      <td>NaN</td>\n",
       "      <td>NaN</td>\n",
       "      <td>NaN</td>\n",
       "      <td>NaN</td>\n",
       "      <td>NaN</td>\n",
       "      <td>NaN</td>\n",
       "      <td>NaN</td>\n",
       "      <td>NaN</td>\n",
       "      <td>NaN</td>\n",
       "      <td>NaN</td>\n",
       "      <td>NaN</td>\n",
       "      <td>NaN</td>\n",
       "      <td>NaN</td>\n",
       "      <td>NaN</td>\n",
       "      <td>NaN</td>\n",
       "      <td>NaN</td>\n",
       "      <td>NaN</td>\n",
       "      <td>NaN</td>\n",
       "      <td>NaN</td>\n",
       "      <td>NaN</td>\n",
       "      <td>NaN</td>\n",
       "      <td>NaN</td>\n",
       "      <td>NaN</td>\n",
       "      <td>NaN</td>\n",
       "      <td>NaN</td>\n",
       "      <td>NaN</td>\n",
       "      <td>NaN</td>\n",
       "      <td>NaN</td>\n",
       "      <td>NaN</td>\n",
       "      <td>NaN</td>\n",
       "      <td>NaN</td>\n",
       "      <td>NaN</td>\n",
       "      <td>NaN</td>\n",
       "      <td>NaN</td>\n",
       "      <td>NaN</td>\n",
       "      <td>NaN</td>\n",
       "      <td>NaN</td>\n",
       "      <td>NaN</td>\n",
       "      <td>NaN</td>\n",
       "      <td>NaN</td>\n",
       "      <td>NaN</td>\n",
       "      <td>NaN</td>\n",
       "      <td>NaN</td>\n",
       "      <td>NaN</td>\n",
       "      <td>NaN</td>\n",
       "      <td>NaN</td>\n",
       "      <td>NaN</td>\n",
       "      <td>NaN</td>\n",
       "      <td>NaN</td>\n",
       "      <td>NaN</td>\n",
       "      <td>NaN</td>\n",
       "      <td>NaN</td>\n",
       "      <td>NaN</td>\n",
       "      <td>NaN</td>\n",
       "      <td>NaN</td>\n",
       "      <td>NaN</td>\n",
       "      <td>NaN</td>\n",
       "      <td>NaN</td>\n",
       "      <td>NaN</td>\n",
       "      <td>NaN</td>\n",
       "      <td>NaN</td>\n",
       "      <td>NaN</td>\n",
       "      <td>NaN</td>\n",
       "      <td>NaN</td>\n",
       "      <td>NaN</td>\n",
       "      <td>NaN</td>\n",
       "      <td>NaN</td>\n",
       "      <td>NaN</td>\n",
       "      <td>NaN</td>\n",
       "      <td>NaN</td>\n",
       "      <td>NaN</td>\n",
       "      <td>NaN</td>\n",
       "      <td>NaN</td>\n",
       "      <td>NaN</td>\n",
       "      <td>NaN</td>\n",
       "      <td>NaN</td>\n",
       "      <td>NaN</td>\n",
       "      <td>NaN</td>\n",
       "      <td>NaN</td>\n",
       "      <td>NaN</td>\n",
       "      <td>NaN</td>\n",
       "      <td>NaN</td>\n",
       "      <td>NaN</td>\n",
       "      <td>NaN</td>\n",
       "      <td>NaN</td>\n",
       "      <td>NaN</td>\n",
       "      <td>NaN</td>\n",
       "      <td>NaN</td>\n",
       "      <td>NaN</td>\n",
       "      <td>NaN</td>\n",
       "      <td>NaN</td>\n",
       "      <td>NaN</td>\n",
       "      <td>NaN</td>\n",
       "      <td>NaN</td>\n",
       "      <td>NaN</td>\n",
       "      <td>NaN</td>\n",
       "      <td>NaN</td>\n",
       "      <td>NaN</td>\n",
       "      <td>NaN</td>\n",
       "      <td>NaN</td>\n",
       "      <td>NaN</td>\n",
       "      <td>NaN</td>\n",
       "      <td>NaN</td>\n",
       "      <td>NaN</td>\n",
       "      <td>NaN</td>\n",
       "      <td>NaN</td>\n",
       "      <td>NaN</td>\n",
       "      <td>NaN</td>\n",
       "      <td>NaN</td>\n",
       "      <td>NaN</td>\n",
       "      <td>NaN</td>\n",
       "      <td>NaN</td>\n",
       "    </tr>\n",
       "    <tr>\n",
       "      <th>2</th>\n",
       "      <td>NaN</td>\n",
       "      <td>3-11</td>\n",
       "      <td>LOA</td>\n",
       "      <td>NaN</td>\n",
       "      <td>NaN</td>\n",
       "      <td>NaN</td>\n",
       "      <td>NaN</td>\n",
       "      <td>NaN</td>\n",
       "      <td>NaN</td>\n",
       "      <td>NaN</td>\n",
       "      <td>NaN</td>\n",
       "      <td>NaN</td>\n",
       "      <td>NaN</td>\n",
       "      <td>NaN</td>\n",
       "      <td>NaN</td>\n",
       "      <td>NaN</td>\n",
       "      <td>NaN</td>\n",
       "      <td>NaN</td>\n",
       "      <td>NaN</td>\n",
       "      <td>NaN</td>\n",
       "      <td>NaN</td>\n",
       "      <td>NaN</td>\n",
       "      <td>NaN</td>\n",
       "      <td>NaN</td>\n",
       "      <td>NaN</td>\n",
       "      <td>NaN</td>\n",
       "      <td>NaN</td>\n",
       "      <td>NaN</td>\n",
       "      <td>NaN</td>\n",
       "      <td>NaN</td>\n",
       "      <td>NaN</td>\n",
       "      <td>NaN</td>\n",
       "      <td>NaN</td>\n",
       "      <td>NaN</td>\n",
       "      <td>NaN</td>\n",
       "      <td>NaN</td>\n",
       "      <td>NaN</td>\n",
       "      <td>NaN</td>\n",
       "      <td>NaN</td>\n",
       "      <td>NaN</td>\n",
       "      <td>NaN</td>\n",
       "      <td>NaN</td>\n",
       "      <td>NaN</td>\n",
       "      <td>NaN</td>\n",
       "      <td>NaN</td>\n",
       "      <td>NaN</td>\n",
       "      <td>NaN</td>\n",
       "      <td>NaN</td>\n",
       "      <td>NaN</td>\n",
       "      <td>NaN</td>\n",
       "      <td>NaN</td>\n",
       "      <td>NaN</td>\n",
       "      <td>NaN</td>\n",
       "      <td>NaN</td>\n",
       "      <td>NaN</td>\n",
       "      <td>NaN</td>\n",
       "      <td>NaN</td>\n",
       "      <td>NaN</td>\n",
       "      <td>NaN</td>\n",
       "      <td>NaN</td>\n",
       "      <td>NaN</td>\n",
       "      <td>NaN</td>\n",
       "      <td>NaN</td>\n",
       "      <td>NaN</td>\n",
       "      <td>NaN</td>\n",
       "      <td>NaN</td>\n",
       "      <td>NaN</td>\n",
       "      <td>NaN</td>\n",
       "      <td>NaN</td>\n",
       "      <td>NaN</td>\n",
       "      <td>NaN</td>\n",
       "      <td>NaN</td>\n",
       "      <td>NaN</td>\n",
       "      <td>NaN</td>\n",
       "      <td>NaN</td>\n",
       "      <td>NaN</td>\n",
       "      <td>NaN</td>\n",
       "      <td>NaN</td>\n",
       "      <td>NaN</td>\n",
       "      <td>NaN</td>\n",
       "      <td>NaN</td>\n",
       "      <td>NaN</td>\n",
       "      <td>NaN</td>\n",
       "      <td>NaN</td>\n",
       "      <td>NaN</td>\n",
       "      <td>NaN</td>\n",
       "      <td>NaN</td>\n",
       "      <td>NaN</td>\n",
       "      <td>NaN</td>\n",
       "      <td>NaN</td>\n",
       "      <td>NaN</td>\n",
       "      <td>NaN</td>\n",
       "      <td>NaN</td>\n",
       "      <td>NaN</td>\n",
       "      <td>NaN</td>\n",
       "      <td>NaN</td>\n",
       "      <td>NaN</td>\n",
       "      <td>NaN</td>\n",
       "      <td>NaN</td>\n",
       "      <td>NaN</td>\n",
       "      <td>NaN</td>\n",
       "      <td>NaN</td>\n",
       "      <td>NaN</td>\n",
       "      <td>NaN</td>\n",
       "      <td>NaN</td>\n",
       "      <td>NaN</td>\n",
       "      <td>NaN</td>\n",
       "      <td>NaN</td>\n",
       "      <td>NaN</td>\n",
       "      <td>NaN</td>\n",
       "      <td>NaN</td>\n",
       "      <td>NaN</td>\n",
       "      <td>NaN</td>\n",
       "      <td>NaN</td>\n",
       "      <td>NaN</td>\n",
       "      <td>NaN</td>\n",
       "      <td>NaN</td>\n",
       "      <td>NaN</td>\n",
       "    </tr>\n",
       "    <tr>\n",
       "      <th>3</th>\n",
       "      <td>NaN</td>\n",
       "      <td>11-7</td>\n",
       "      <td>LOA</td>\n",
       "      <td>NaN</td>\n",
       "      <td>NaN</td>\n",
       "      <td>NaN</td>\n",
       "      <td>NaN</td>\n",
       "      <td>NaN</td>\n",
       "      <td>NaN</td>\n",
       "      <td>NaN</td>\n",
       "      <td>NaN</td>\n",
       "      <td>NaN</td>\n",
       "      <td>NaN</td>\n",
       "      <td>NaN</td>\n",
       "      <td>NaN</td>\n",
       "      <td>NaN</td>\n",
       "      <td>NaN</td>\n",
       "      <td>NaN</td>\n",
       "      <td>NaN</td>\n",
       "      <td>NaN</td>\n",
       "      <td>NaN</td>\n",
       "      <td>NaN</td>\n",
       "      <td>NaN</td>\n",
       "      <td>NaN</td>\n",
       "      <td>NaN</td>\n",
       "      <td>NaN</td>\n",
       "      <td>NaN</td>\n",
       "      <td>NaN</td>\n",
       "      <td>NaN</td>\n",
       "      <td>NaN</td>\n",
       "      <td>NaN</td>\n",
       "      <td>NaN</td>\n",
       "      <td>NaN</td>\n",
       "      <td>NaN</td>\n",
       "      <td>NaN</td>\n",
       "      <td>NaN</td>\n",
       "      <td>NaN</td>\n",
       "      <td>NaN</td>\n",
       "      <td>NaN</td>\n",
       "      <td>NaN</td>\n",
       "      <td>NaN</td>\n",
       "      <td>NaN</td>\n",
       "      <td>NaN</td>\n",
       "      <td>NaN</td>\n",
       "      <td>NaN</td>\n",
       "      <td>NaN</td>\n",
       "      <td>NaN</td>\n",
       "      <td>NaN</td>\n",
       "      <td>NaN</td>\n",
       "      <td>NaN</td>\n",
       "      <td>NaN</td>\n",
       "      <td>NaN</td>\n",
       "      <td>NaN</td>\n",
       "      <td>NaN</td>\n",
       "      <td>NaN</td>\n",
       "      <td>NaN</td>\n",
       "      <td>NaN</td>\n",
       "      <td>NaN</td>\n",
       "      <td>NaN</td>\n",
       "      <td>NaN</td>\n",
       "      <td>NaN</td>\n",
       "      <td>NaN</td>\n",
       "      <td>NaN</td>\n",
       "      <td>NaN</td>\n",
       "      <td>NaN</td>\n",
       "      <td>NaN</td>\n",
       "      <td>NaN</td>\n",
       "      <td>NaN</td>\n",
       "      <td>NaN</td>\n",
       "      <td>NaN</td>\n",
       "      <td>NaN</td>\n",
       "      <td>NaN</td>\n",
       "      <td>NaN</td>\n",
       "      <td>NaN</td>\n",
       "      <td>NaN</td>\n",
       "      <td>NaN</td>\n",
       "      <td>NaN</td>\n",
       "      <td>NaN</td>\n",
       "      <td>NaN</td>\n",
       "      <td>NaN</td>\n",
       "      <td>NaN</td>\n",
       "      <td>NaN</td>\n",
       "      <td>NaN</td>\n",
       "      <td>NaN</td>\n",
       "      <td>NaN</td>\n",
       "      <td>NaN</td>\n",
       "      <td>NaN</td>\n",
       "      <td>NaN</td>\n",
       "      <td>NaN</td>\n",
       "      <td>NaN</td>\n",
       "      <td>NaN</td>\n",
       "      <td>NaN</td>\n",
       "      <td>NaN</td>\n",
       "      <td>NaN</td>\n",
       "      <td>NaN</td>\n",
       "      <td>NaN</td>\n",
       "      <td>NaN</td>\n",
       "      <td>NaN</td>\n",
       "      <td>NaN</td>\n",
       "      <td>NaN</td>\n",
       "      <td>NaN</td>\n",
       "      <td>NaN</td>\n",
       "      <td>NaN</td>\n",
       "      <td>NaN</td>\n",
       "      <td>NaN</td>\n",
       "      <td>NaN</td>\n",
       "      <td>NaN</td>\n",
       "      <td>NaN</td>\n",
       "      <td>NaN</td>\n",
       "      <td>NaN</td>\n",
       "      <td>NaN</td>\n",
       "      <td>NaN</td>\n",
       "      <td>NaN</td>\n",
       "      <td>NaN</td>\n",
       "      <td>NaN</td>\n",
       "      <td>NaN</td>\n",
       "      <td>NaN</td>\n",
       "      <td>NaN</td>\n",
       "    </tr>\n",
       "    <tr>\n",
       "      <th>4</th>\n",
       "      <td>2</td>\n",
       "      <td>7-3</td>\n",
       "      <td>LOA</td>\n",
       "      <td>NaN</td>\n",
       "      <td>NaN</td>\n",
       "      <td>NaN</td>\n",
       "      <td>NaN</td>\n",
       "      <td>NaN</td>\n",
       "      <td>NaN</td>\n",
       "      <td>NaN</td>\n",
       "      <td>NaN</td>\n",
       "      <td>NaN</td>\n",
       "      <td>NaN</td>\n",
       "      <td>NaN</td>\n",
       "      <td>NaN</td>\n",
       "      <td>NaN</td>\n",
       "      <td>NaN</td>\n",
       "      <td>NaN</td>\n",
       "      <td>NaN</td>\n",
       "      <td>NaN</td>\n",
       "      <td>NaN</td>\n",
       "      <td>NaN</td>\n",
       "      <td>NaN</td>\n",
       "      <td>NaN</td>\n",
       "      <td>NaN</td>\n",
       "      <td>NaN</td>\n",
       "      <td>NaN</td>\n",
       "      <td>NaN</td>\n",
       "      <td>NaN</td>\n",
       "      <td>NaN</td>\n",
       "      <td>NaN</td>\n",
       "      <td>NaN</td>\n",
       "      <td>NaN</td>\n",
       "      <td>NaN</td>\n",
       "      <td>NaN</td>\n",
       "      <td>NaN</td>\n",
       "      <td>NaN</td>\n",
       "      <td>NaN</td>\n",
       "      <td>NaN</td>\n",
       "      <td>NaN</td>\n",
       "      <td>NaN</td>\n",
       "      <td>NaN</td>\n",
       "      <td>NaN</td>\n",
       "      <td>NaN</td>\n",
       "      <td>NaN</td>\n",
       "      <td>NaN</td>\n",
       "      <td>NaN</td>\n",
       "      <td>NaN</td>\n",
       "      <td>NaN</td>\n",
       "      <td>NaN</td>\n",
       "      <td>NaN</td>\n",
       "      <td>NaN</td>\n",
       "      <td>NaN</td>\n",
       "      <td>NaN</td>\n",
       "      <td>NaN</td>\n",
       "      <td>NaN</td>\n",
       "      <td>NaN</td>\n",
       "      <td>NaN</td>\n",
       "      <td>NaN</td>\n",
       "      <td>NaN</td>\n",
       "      <td>NaN</td>\n",
       "      <td>NaN</td>\n",
       "      <td>NaN</td>\n",
       "      <td>NaN</td>\n",
       "      <td>NaN</td>\n",
       "      <td>NaN</td>\n",
       "      <td>NaN</td>\n",
       "      <td>NaN</td>\n",
       "      <td>NaN</td>\n",
       "      <td>NaN</td>\n",
       "      <td>NaN</td>\n",
       "      <td>NaN</td>\n",
       "      <td>NaN</td>\n",
       "      <td>NaN</td>\n",
       "      <td>NaN</td>\n",
       "      <td>NaN</td>\n",
       "      <td>NaN</td>\n",
       "      <td>NaN</td>\n",
       "      <td>NaN</td>\n",
       "      <td>NaN</td>\n",
       "      <td>NaN</td>\n",
       "      <td>NaN</td>\n",
       "      <td>NaN</td>\n",
       "      <td>NaN</td>\n",
       "      <td>NaN</td>\n",
       "      <td>NaN</td>\n",
       "      <td>NaN</td>\n",
       "      <td>NaN</td>\n",
       "      <td>NaN</td>\n",
       "      <td>NaN</td>\n",
       "      <td>NaN</td>\n",
       "      <td>NaN</td>\n",
       "      <td>NaN</td>\n",
       "      <td>NaN</td>\n",
       "      <td>NaN</td>\n",
       "      <td>NaN</td>\n",
       "      <td>NaN</td>\n",
       "      <td>NaN</td>\n",
       "      <td>NaN</td>\n",
       "      <td>NaN</td>\n",
       "      <td>NaN</td>\n",
       "      <td>NaN</td>\n",
       "      <td>NaN</td>\n",
       "      <td>NaN</td>\n",
       "      <td>NaN</td>\n",
       "      <td>NaN</td>\n",
       "      <td>NaN</td>\n",
       "      <td>NaN</td>\n",
       "      <td>NaN</td>\n",
       "      <td>NaN</td>\n",
       "      <td>NaN</td>\n",
       "      <td>NaN</td>\n",
       "      <td>NaN</td>\n",
       "      <td>NaN</td>\n",
       "      <td>NaN</td>\n",
       "      <td>NaN</td>\n",
       "      <td>NaN</td>\n",
       "      <td>NaN</td>\n",
       "    </tr>\n",
       "  </tbody>\n",
       "</table>\n",
       "</div>"
      ],
      "text/plain": [
       "  Date Shift No Data  Unnamed: 3 Subcategory Unnamed: 5 Unnamed: 6  Freq  \\\n",
       "0  NaN   NaN     NaN         NaN         NaN        NaN        NaN   NaN   \n",
       "1    1   7-3     LOA         NaN         NaN        NaN        NaN   NaN   \n",
       "2  NaN  3-11     LOA         NaN         NaN        NaN        NaN   NaN   \n",
       "3  NaN  11-7     LOA         NaN         NaN        NaN        NaN   NaN   \n",
       "4    2   7-3     LOA         NaN         NaN        NaN        NaN   NaN   \n",
       "\n",
       "   Duration Specific  Time Sampling % Duration Intervals Unnamed: 11  \\\n",
       "0                NaN              NaN      Not Specified          <5   \n",
       "1                NaN              NaN                NaN         NaN   \n",
       "2                NaN              NaN                NaN         NaN   \n",
       "3                NaN              NaN                NaN         NaN   \n",
       "4                NaN              NaN                NaN         NaN   \n",
       "\n",
       "  Unnamed: 12 Unnamed: 13 Unnamed: 14 Unnamed: 15      Intensity  Unnamed: 17  \\\n",
       "0        6-10       11-15       16-20         20+  Not Specified          1.0   \n",
       "1         NaN         NaN         NaN         NaN            NaN          NaN   \n",
       "2         NaN         NaN         NaN         NaN            NaN          NaN   \n",
       "3         NaN         NaN         NaN         NaN            NaN          NaN   \n",
       "4         NaN         NaN         NaN         NaN            NaN          NaN   \n",
       "\n",
       "   Unnamed: 18  Unnamed: 19  Unnamed: 20 Comments Subcategory.1 Unnamed: 23  \\\n",
       "0          2.0          3.0          4.0      NaN           NaN         NaN   \n",
       "1          NaN          NaN          NaN      NaN           NaN         NaN   \n",
       "2          NaN          NaN          NaN      NaN           NaN         NaN   \n",
       "3          NaN          NaN          NaN      NaN           NaN         NaN   \n",
       "4          NaN          NaN          NaN      NaN           NaN         NaN   \n",
       "\n",
       "  Unnamed: 24  Freq.1  Duration Specific.1  Time Sampling %.1  \\\n",
       "0         NaN     NaN                  NaN                NaN   \n",
       "1         NaN     NaN                  NaN                NaN   \n",
       "2         NaN     NaN                  NaN                NaN   \n",
       "3         NaN     NaN                  NaN                NaN   \n",
       "4         NaN     NaN                  NaN                NaN   \n",
       "\n",
       "  Duration Intervals.1  Unnamed: 29  Unnamed: 30  Unnamed: 31  Unnamed: 32  \\\n",
       "0        Not Specified          0.0          0.0          0.0          0.0   \n",
       "1                  NaN          NaN          NaN          NaN          NaN   \n",
       "2                  NaN          NaN          NaN          NaN          NaN   \n",
       "3                  NaN          NaN          NaN          NaN          NaN   \n",
       "4                  NaN          NaN          NaN          NaN          NaN   \n",
       "\n",
       "   Unnamed: 33    Intensity.1  Unnamed: 35  Unnamed: 36  Unnamed: 37  \\\n",
       "0          0.0  Not Specified          1.0          2.0          3.0   \n",
       "1          NaN            NaN          NaN          NaN          NaN   \n",
       "2          NaN            NaN          NaN          NaN          NaN   \n",
       "3          NaN            NaN          NaN          NaN          NaN   \n",
       "4          NaN            NaN          NaN          NaN          NaN   \n",
       "\n",
       "   Unnamed: 38 Comments.1 Subcategory.2 Unnamed: 41 Unnamed: 42  Freq.2  \\\n",
       "0          4.0        NaN           NaN         NaN         NaN     NaN   \n",
       "1          NaN        NaN           NaN         NaN         NaN     NaN   \n",
       "2          NaN        NaN           NaN         NaN         NaN     NaN   \n",
       "3          NaN        NaN           NaN         NaN         NaN     NaN   \n",
       "4          NaN        NaN           NaN         NaN         NaN     NaN   \n",
       "\n",
       "   Duration Specific.2  Time Sampling %.2 Duration Intervals.2 Unnamed: 47  \\\n",
       "0                  NaN                NaN        Not Specified          <5   \n",
       "1                  NaN                NaN                  NaN         NaN   \n",
       "2                  NaN                NaN                  NaN         NaN   \n",
       "3                  NaN                NaN                  NaN         NaN   \n",
       "4                  NaN                NaN                  NaN         NaN   \n",
       "\n",
       "  Unnamed: 48 Unnamed: 49 Unnamed: 50 Unnamed: 51    Intensity.2  Unnamed: 53  \\\n",
       "0        6-10       11-15       16-20         20+  Not Specified          1.0   \n",
       "1         NaN         NaN         NaN         NaN            NaN          NaN   \n",
       "2         NaN         NaN         NaN         NaN            NaN          NaN   \n",
       "3         NaN         NaN         NaN         NaN            NaN          NaN   \n",
       "4         NaN         NaN         NaN         NaN            NaN          NaN   \n",
       "\n",
       "   Unnamed: 54  Unnamed: 55  Unnamed: 56 Comments.2 Subcategory.3 Unnamed: 59  \\\n",
       "0          2.0          3.0          4.0        NaN           NaN         NaN   \n",
       "1          NaN          NaN          NaN        NaN           NaN         NaN   \n",
       "2          NaN          NaN          NaN        NaN           NaN         NaN   \n",
       "3          NaN          NaN          NaN        NaN           NaN         NaN   \n",
       "4          NaN          NaN          NaN        NaN           NaN         NaN   \n",
       "\n",
       "  Unnamed: 60  Freq.3  Duration Specific.3  Time Sampling %.3  \\\n",
       "0         NaN     NaN                  NaN                NaN   \n",
       "1         NaN     NaN                  NaN                NaN   \n",
       "2         NaN     NaN                  NaN                NaN   \n",
       "3         NaN     NaN                  NaN                NaN   \n",
       "4         NaN     NaN                  NaN                NaN   \n",
       "\n",
       "  Duration Intervals.3 Unnamed: 65 Unnamed: 66 Unnamed: 67 Unnamed: 68  \\\n",
       "0        Not Specified          <5        6-10       11-15       16-20   \n",
       "1                  NaN         NaN         NaN         NaN         NaN   \n",
       "2                  NaN         NaN         NaN         NaN         NaN   \n",
       "3                  NaN         NaN         NaN         NaN         NaN   \n",
       "4                  NaN         NaN         NaN         NaN         NaN   \n",
       "\n",
       "  Unnamed: 69    Intensity.3  Unnamed: 71  Unnamed: 72  Unnamed: 73  \\\n",
       "0         20+  Not Specified          1.0          2.0          3.0   \n",
       "1         NaN            NaN          NaN          NaN          NaN   \n",
       "2         NaN            NaN          NaN          NaN          NaN   \n",
       "3         NaN            NaN          NaN          NaN          NaN   \n",
       "4         NaN            NaN          NaN          NaN          NaN   \n",
       "\n",
       "   Unnamed: 74 Comments.3 Subcategory.4 Unnamed: 77 Unnamed: 78  Freq.4  \\\n",
       "0          4.0        NaN           NaN         NaN         NaN     NaN   \n",
       "1          NaN        NaN           NaN         NaN         NaN     NaN   \n",
       "2          NaN        NaN           NaN         NaN         NaN     NaN   \n",
       "3          NaN        NaN           NaN         NaN         NaN     NaN   \n",
       "4          NaN        NaN           NaN         NaN         NaN     NaN   \n",
       "\n",
       "   Duration Specific.4  Time Sampling %.4 Duration Intervals.4  Unnamed: 83  \\\n",
       "0                  NaN                NaN        Not Specified          0.0   \n",
       "1                  NaN                NaN                  NaN          NaN   \n",
       "2                  NaN                NaN                  NaN          NaN   \n",
       "3                  NaN                NaN                  NaN          NaN   \n",
       "4                  NaN                NaN                  NaN          NaN   \n",
       "\n",
       "   Unnamed: 84  Unnamed: 85  Unnamed: 86  Unnamed: 87    Intensity.4  \\\n",
       "0          0.0          0.0          0.0          0.0  Not Specified   \n",
       "1          NaN          NaN          NaN          NaN            NaN   \n",
       "2          NaN          NaN          NaN          NaN            NaN   \n",
       "3          NaN          NaN          NaN          NaN            NaN   \n",
       "4          NaN          NaN          NaN          NaN            NaN   \n",
       "\n",
       "   Unnamed: 89  Unnamed: 90  Unnamed: 91  Unnamed: 92 Comments.4  Unnamed: 94  \\\n",
       "0          1.0          2.0          3.0          4.0        NaN          NaN   \n",
       "1          NaN          NaN          NaN          NaN        NaN          NaN   \n",
       "2          NaN          NaN          NaN          NaN        NaN          NaN   \n",
       "3          NaN          NaN          NaN          NaN        NaN          NaN   \n",
       "4          NaN          NaN          NaN          NaN        NaN          NaN   \n",
       "\n",
       "   Unnamed: 95  Unnamed: 96  Unnamed: 97  Unnamed: 98  Unnamed: 99  \\\n",
       "0          NaN          NaN          NaN          NaN          NaN   \n",
       "1          NaN          NaN          NaN          NaN          NaN   \n",
       "2          NaN          NaN          NaN          NaN          NaN   \n",
       "3          NaN          NaN          NaN          NaN          NaN   \n",
       "4          NaN          NaN          NaN          NaN          NaN   \n",
       "\n",
       "   Unnamed: 100  Unnamed: 101  Unnamed: 102  Unnamed: 103  Unnamed: 104  \\\n",
       "0           NaN           NaN           NaN           NaN           NaN   \n",
       "1           NaN           NaN           NaN           NaN           NaN   \n",
       "2           NaN           NaN           NaN           NaN           NaN   \n",
       "3           NaN           NaN           NaN           NaN           NaN   \n",
       "4           NaN           NaN           NaN           NaN           NaN   \n",
       "\n",
       "   Unnamed: 105  Unnamed: 106  Unnamed: 107  Unnamed: 108  Unnamed: 109  \\\n",
       "0           NaN           NaN           NaN           NaN           NaN   \n",
       "1           NaN           NaN           NaN           NaN           NaN   \n",
       "2           NaN           NaN           NaN           NaN           NaN   \n",
       "3           NaN           NaN           NaN           NaN           NaN   \n",
       "4           NaN           NaN           NaN           NaN           NaN   \n",
       "\n",
       "   Unnamed: 110  Unnamed: 111  Unnamed: 112  Unnamed: 113  Unnamed: 114  \\\n",
       "0           NaN           NaN           NaN           NaN           NaN   \n",
       "1           NaN           NaN           NaN           NaN           NaN   \n",
       "2           NaN           NaN           NaN           NaN           NaN   \n",
       "3           NaN           NaN           NaN           NaN           NaN   \n",
       "4           NaN           NaN           NaN           NaN           NaN   \n",
       "\n",
       "   Unnamed: 115  Unnamed: 116  Unnamed: 117  \n",
       "0           NaN           NaN           NaN  \n",
       "1           NaN           NaN           NaN  \n",
       "2           NaN           NaN           NaN  \n",
       "3           NaN           NaN           NaN  \n",
       "4           NaN           NaN           NaN  "
      ]
     },
     "execution_count": 15,
     "metadata": {},
     "output_type": "execute_result"
    }
   ],
   "source": [
    "import datetime\n",
    "import numpy as np\n",
    "import pandas as pd\n",
    "import plotly.express as px\n",
    "import warnings\n",
    "\n",
    "import pdb\n",
    "\n",
    "pd.options.display.max_columns = 200\n",
    "pd.options.display.max_rows = 200\n",
    "warnings.filterwarnings('ignore')\n",
    "\n",
    "wbpath = 'data/DP Beh Data 2022-23.xlsm'\n",
    "#read in necessary sheets \n",
    "dfcolnmes = pd.read_excel(wbpath, sheet_name='Oct', skiprows=0)\n",
    "df = pd.read_excel(wbpath, sheet_name='Oct', skiprows=1)\n",
    "\n",
    "dfinfo = pd.read_excel(wbpath, sheet_name=0)\n",
    "dfstudet = pd.read_excel(wbpath, sheet_name=2, header=None)\n",
    "\n",
    "#get years variable \n",
    "year = dfinfo.iloc[3,1]\n",
    "year1, year2 = str.split(year, '-')\n",
    "\n",
    "df.head()"
   ]
  },
  {
   "cell_type": "code",
   "execution_count": 16,
   "metadata": {},
   "outputs": [
    {
     "data": {
      "text/html": [
       "<div>\n",
       "<style scoped>\n",
       "    .dataframe tbody tr th:only-of-type {\n",
       "        vertical-align: middle;\n",
       "    }\n",
       "\n",
       "    .dataframe tbody tr th {\n",
       "        vertical-align: top;\n",
       "    }\n",
       "\n",
       "    .dataframe thead th {\n",
       "        text-align: right;\n",
       "    }\n",
       "</style>\n",
       "<table border=\"1\" class=\"dataframe\">\n",
       "  <thead>\n",
       "    <tr style=\"text-align: right;\">\n",
       "      <th></th>\n",
       "      <th>October</th>\n",
       "      <th>Unnamed: 1</th>\n",
       "      <th>Unnamed: 2</th>\n",
       "      <th>Unnamed: 3</th>\n",
       "      <th>Aggression</th>\n",
       "      <th>Unnamed: 5</th>\n",
       "      <th>Unnamed: 6</th>\n",
       "      <th>Unnamed: 7</th>\n",
       "      <th>Unnamed: 8</th>\n",
       "      <th>Unnamed: 9</th>\n",
       "      <th>Unnamed: 10</th>\n",
       "      <th>Unnamed: 11</th>\n",
       "      <th>Unnamed: 12</th>\n",
       "      <th>Unnamed: 13</th>\n",
       "      <th>Unnamed: 14</th>\n",
       "      <th>Unnamed: 15</th>\n",
       "      <th>Unnamed: 16</th>\n",
       "      <th>Unnamed: 17</th>\n",
       "      <th>Unnamed: 18</th>\n",
       "      <th>Unnamed: 19</th>\n",
       "      <th>Unnamed: 20</th>\n",
       "      <th>Unnamed: 21</th>\n",
       "      <th>Self Mutilation</th>\n",
       "      <th>Unnamed: 23</th>\n",
       "      <th>Unnamed: 24</th>\n",
       "      <th>Unnamed: 25</th>\n",
       "      <th>Unnamed: 26</th>\n",
       "      <th>Unnamed: 27</th>\n",
       "      <th>Unnamed: 28</th>\n",
       "      <th>Unnamed: 29</th>\n",
       "      <th>Unnamed: 30</th>\n",
       "      <th>Unnamed: 31</th>\n",
       "      <th>Unnamed: 32</th>\n",
       "      <th>Unnamed: 33</th>\n",
       "      <th>Unnamed: 34</th>\n",
       "      <th>Unnamed: 35</th>\n",
       "      <th>Unnamed: 36</th>\n",
       "      <th>Unnamed: 37</th>\n",
       "      <th>Unnamed: 38</th>\n",
       "      <th>Unnamed: 39</th>\n",
       "      <th>SIB</th>\n",
       "      <th>Unnamed: 41</th>\n",
       "      <th>Unnamed: 42</th>\n",
       "      <th>Unnamed: 43</th>\n",
       "      <th>Unnamed: 44</th>\n",
       "      <th>Unnamed: 45</th>\n",
       "      <th>Unnamed: 46</th>\n",
       "      <th>Unnamed: 47</th>\n",
       "      <th>Unnamed: 48</th>\n",
       "      <th>Unnamed: 49</th>\n",
       "      <th>Unnamed: 50</th>\n",
       "      <th>Unnamed: 51</th>\n",
       "      <th>Unnamed: 52</th>\n",
       "      <th>Unnamed: 53</th>\n",
       "      <th>Unnamed: 54</th>\n",
       "      <th>Unnamed: 55</th>\n",
       "      <th>Unnamed: 56</th>\n",
       "      <th>Unnamed: 57</th>\n",
       "      <th>Disruptive</th>\n",
       "      <th>Unnamed: 59</th>\n",
       "      <th>Unnamed: 60</th>\n",
       "      <th>Unnamed: 61</th>\n",
       "      <th>Unnamed: 62</th>\n",
       "      <th>Unnamed: 63</th>\n",
       "      <th>Unnamed: 64</th>\n",
       "      <th>Unnamed: 65</th>\n",
       "      <th>Unnamed: 66</th>\n",
       "      <th>Unnamed: 67</th>\n",
       "      <th>Unnamed: 68</th>\n",
       "      <th>Unnamed: 69</th>\n",
       "      <th>Unnamed: 70</th>\n",
       "      <th>Unnamed: 71</th>\n",
       "      <th>Unnamed: 72</th>\n",
       "      <th>Unnamed: 73</th>\n",
       "      <th>Unnamed: 74</th>\n",
       "      <th>Unnamed: 75</th>\n",
       "      <th>Insert</th>\n",
       "      <th>Unnamed: 77</th>\n",
       "      <th>Unnamed: 78</th>\n",
       "      <th>Unnamed: 79</th>\n",
       "      <th>Unnamed: 80</th>\n",
       "      <th>Unnamed: 81</th>\n",
       "      <th>Unnamed: 82</th>\n",
       "      <th>Unnamed: 83</th>\n",
       "      <th>Unnamed: 84</th>\n",
       "      <th>Unnamed: 85</th>\n",
       "      <th>Unnamed: 86</th>\n",
       "      <th>Unnamed: 87</th>\n",
       "      <th>Unnamed: 88</th>\n",
       "      <th>Unnamed: 89</th>\n",
       "      <th>Unnamed: 90</th>\n",
       "      <th>Unnamed: 91</th>\n",
       "      <th>Unnamed: 92</th>\n",
       "      <th>Unnamed: 93</th>\n",
       "      <th>Unnamed: 94</th>\n",
       "      <th>Bite Rel</th>\n",
       "      <th>F-Arm Catch</th>\n",
       "      <th>F-Choke Windmill</th>\n",
       "      <th>B-Choke</th>\n",
       "      <th>F-Hair Stab/Rel</th>\n",
       "      <th>B-Hair Stab/Rel</th>\n",
       "      <th>Deflection</th>\n",
       "      <th>Bite prevention</th>\n",
       "      <th>Front hair Pull Stab</th>\n",
       "      <th>Touch</th>\n",
       "      <th>Block Punch</th>\n",
       "      <th>1 Escort</th>\n",
       "      <th>2 Escort</th>\n",
       "      <th>2 Removal</th>\n",
       "      <th>1 E Seat Var</th>\n",
       "      <th>2 E Seat Var</th>\n",
       "      <th>Stand Wrap</th>\n",
       "      <th>One Arm Release</th>\n",
       "      <th>Mitts wear</th>\n",
       "      <th>Splints wear</th>\n",
       "      <th>Stuck/Combo</th>\n",
       "      <th>Frozen</th>\n",
       "      <th>Pacing</th>\n",
       "    </tr>\n",
       "  </thead>\n",
       "  <tbody>\n",
       "    <tr>\n",
       "      <th>0</th>\n",
       "      <td>Date</td>\n",
       "      <td>Shift</td>\n",
       "      <td>No Data</td>\n",
       "      <td>NaN</td>\n",
       "      <td>Subcategory</td>\n",
       "      <td>NaN</td>\n",
       "      <td>NaN</td>\n",
       "      <td>Freq</td>\n",
       "      <td>Duration Specific</td>\n",
       "      <td>Time Sampling %</td>\n",
       "      <td>Duration Intervals</td>\n",
       "      <td>NaN</td>\n",
       "      <td>NaN</td>\n",
       "      <td>NaN</td>\n",
       "      <td>NaN</td>\n",
       "      <td>NaN</td>\n",
       "      <td>Intensity</td>\n",
       "      <td>NaN</td>\n",
       "      <td>NaN</td>\n",
       "      <td>NaN</td>\n",
       "      <td>NaN</td>\n",
       "      <td>Comments</td>\n",
       "      <td>Subcategory</td>\n",
       "      <td>NaN</td>\n",
       "      <td>NaN</td>\n",
       "      <td>Freq</td>\n",
       "      <td>Duration Specific</td>\n",
       "      <td>Time Sampling %</td>\n",
       "      <td>Duration Intervals</td>\n",
       "      <td>NaN</td>\n",
       "      <td>NaN</td>\n",
       "      <td>NaN</td>\n",
       "      <td>NaN</td>\n",
       "      <td>NaN</td>\n",
       "      <td>Intensity</td>\n",
       "      <td>NaN</td>\n",
       "      <td>NaN</td>\n",
       "      <td>NaN</td>\n",
       "      <td>NaN</td>\n",
       "      <td>Comments</td>\n",
       "      <td>Subcategory</td>\n",
       "      <td>NaN</td>\n",
       "      <td>NaN</td>\n",
       "      <td>Freq</td>\n",
       "      <td>Duration Specific</td>\n",
       "      <td>Time Sampling %</td>\n",
       "      <td>Duration Intervals</td>\n",
       "      <td>NaN</td>\n",
       "      <td>NaN</td>\n",
       "      <td>NaN</td>\n",
       "      <td>NaN</td>\n",
       "      <td>NaN</td>\n",
       "      <td>Intensity</td>\n",
       "      <td>NaN</td>\n",
       "      <td>NaN</td>\n",
       "      <td>NaN</td>\n",
       "      <td>NaN</td>\n",
       "      <td>Comments</td>\n",
       "      <td>Subcategory</td>\n",
       "      <td>NaN</td>\n",
       "      <td>NaN</td>\n",
       "      <td>Freq</td>\n",
       "      <td>Duration Specific</td>\n",
       "      <td>Time Sampling %</td>\n",
       "      <td>Duration Intervals</td>\n",
       "      <td>NaN</td>\n",
       "      <td>NaN</td>\n",
       "      <td>NaN</td>\n",
       "      <td>NaN</td>\n",
       "      <td>NaN</td>\n",
       "      <td>Intensity</td>\n",
       "      <td>NaN</td>\n",
       "      <td>NaN</td>\n",
       "      <td>NaN</td>\n",
       "      <td>NaN</td>\n",
       "      <td>Comments</td>\n",
       "      <td>Subcategory</td>\n",
       "      <td>NaN</td>\n",
       "      <td>NaN</td>\n",
       "      <td>Freq</td>\n",
       "      <td>Duration Specific</td>\n",
       "      <td>Time Sampling %</td>\n",
       "      <td>Duration Intervals</td>\n",
       "      <td>NaN</td>\n",
       "      <td>NaN</td>\n",
       "      <td>NaN</td>\n",
       "      <td>NaN</td>\n",
       "      <td>NaN</td>\n",
       "      <td>Intensity</td>\n",
       "      <td>NaN</td>\n",
       "      <td>NaN</td>\n",
       "      <td>NaN</td>\n",
       "      <td>NaN</td>\n",
       "      <td>Comments</td>\n",
       "      <td>NaN</td>\n",
       "      <td>NaN</td>\n",
       "      <td>NaN</td>\n",
       "      <td>NaN</td>\n",
       "      <td>NaN</td>\n",
       "      <td>NaN</td>\n",
       "      <td>NaN</td>\n",
       "      <td>NaN</td>\n",
       "      <td>NaN</td>\n",
       "      <td>NaN</td>\n",
       "      <td>NaN</td>\n",
       "      <td>NaN</td>\n",
       "      <td>NaN</td>\n",
       "      <td>NaN</td>\n",
       "      <td>NaN</td>\n",
       "      <td>NaN</td>\n",
       "      <td>NaN</td>\n",
       "      <td>NaN</td>\n",
       "      <td>NaN</td>\n",
       "      <td>NaN</td>\n",
       "      <td>NaN</td>\n",
       "      <td>NaN</td>\n",
       "      <td>NaN</td>\n",
       "      <td>NaN</td>\n",
       "    </tr>\n",
       "    <tr>\n",
       "      <th>1</th>\n",
       "      <td>NaN</td>\n",
       "      <td>NaN</td>\n",
       "      <td>NaN</td>\n",
       "      <td>NaN</td>\n",
       "      <td>NaN</td>\n",
       "      <td>NaN</td>\n",
       "      <td>NaN</td>\n",
       "      <td>NaN</td>\n",
       "      <td>NaN</td>\n",
       "      <td>NaN</td>\n",
       "      <td>Not Specified</td>\n",
       "      <td>&lt;5</td>\n",
       "      <td>6-10</td>\n",
       "      <td>11-15</td>\n",
       "      <td>16-20</td>\n",
       "      <td>20+</td>\n",
       "      <td>Not Specified</td>\n",
       "      <td>1.0</td>\n",
       "      <td>2.0</td>\n",
       "      <td>3.0</td>\n",
       "      <td>4.0</td>\n",
       "      <td>NaN</td>\n",
       "      <td>NaN</td>\n",
       "      <td>NaN</td>\n",
       "      <td>NaN</td>\n",
       "      <td>NaN</td>\n",
       "      <td>NaN</td>\n",
       "      <td>NaN</td>\n",
       "      <td>Not Specified</td>\n",
       "      <td>0.0</td>\n",
       "      <td>0.0</td>\n",
       "      <td>0.0</td>\n",
       "      <td>0.0</td>\n",
       "      <td>0.0</td>\n",
       "      <td>Not Specified</td>\n",
       "      <td>1.0</td>\n",
       "      <td>2.0</td>\n",
       "      <td>3.0</td>\n",
       "      <td>4.0</td>\n",
       "      <td>NaN</td>\n",
       "      <td>NaN</td>\n",
       "      <td>NaN</td>\n",
       "      <td>NaN</td>\n",
       "      <td>NaN</td>\n",
       "      <td>NaN</td>\n",
       "      <td>NaN</td>\n",
       "      <td>Not Specified</td>\n",
       "      <td>&lt;5</td>\n",
       "      <td>6-10</td>\n",
       "      <td>11-15</td>\n",
       "      <td>16-20</td>\n",
       "      <td>20+</td>\n",
       "      <td>Not Specified</td>\n",
       "      <td>1.0</td>\n",
       "      <td>2.0</td>\n",
       "      <td>3.0</td>\n",
       "      <td>4.0</td>\n",
       "      <td>NaN</td>\n",
       "      <td>NaN</td>\n",
       "      <td>NaN</td>\n",
       "      <td>NaN</td>\n",
       "      <td>NaN</td>\n",
       "      <td>NaN</td>\n",
       "      <td>NaN</td>\n",
       "      <td>Not Specified</td>\n",
       "      <td>&lt;5</td>\n",
       "      <td>6-10</td>\n",
       "      <td>11-15</td>\n",
       "      <td>16-20</td>\n",
       "      <td>20+</td>\n",
       "      <td>Not Specified</td>\n",
       "      <td>1.0</td>\n",
       "      <td>2.0</td>\n",
       "      <td>3.0</td>\n",
       "      <td>4.0</td>\n",
       "      <td>NaN</td>\n",
       "      <td>NaN</td>\n",
       "      <td>NaN</td>\n",
       "      <td>NaN</td>\n",
       "      <td>NaN</td>\n",
       "      <td>NaN</td>\n",
       "      <td>NaN</td>\n",
       "      <td>Not Specified</td>\n",
       "      <td>0.0</td>\n",
       "      <td>0.0</td>\n",
       "      <td>0.0</td>\n",
       "      <td>0.0</td>\n",
       "      <td>0.0</td>\n",
       "      <td>Not Specified</td>\n",
       "      <td>1.0</td>\n",
       "      <td>2.0</td>\n",
       "      <td>3.0</td>\n",
       "      <td>4.0</td>\n",
       "      <td>NaN</td>\n",
       "      <td>NaN</td>\n",
       "      <td>NaN</td>\n",
       "      <td>NaN</td>\n",
       "      <td>NaN</td>\n",
       "      <td>NaN</td>\n",
       "      <td>NaN</td>\n",
       "      <td>NaN</td>\n",
       "      <td>NaN</td>\n",
       "      <td>NaN</td>\n",
       "      <td>NaN</td>\n",
       "      <td>NaN</td>\n",
       "      <td>NaN</td>\n",
       "      <td>NaN</td>\n",
       "      <td>NaN</td>\n",
       "      <td>NaN</td>\n",
       "      <td>NaN</td>\n",
       "      <td>NaN</td>\n",
       "      <td>NaN</td>\n",
       "      <td>NaN</td>\n",
       "      <td>NaN</td>\n",
       "      <td>NaN</td>\n",
       "      <td>NaN</td>\n",
       "      <td>NaN</td>\n",
       "      <td>NaN</td>\n",
       "    </tr>\n",
       "    <tr>\n",
       "      <th>2</th>\n",
       "      <td>1</td>\n",
       "      <td>7-3</td>\n",
       "      <td>LOA</td>\n",
       "      <td>NaN</td>\n",
       "      <td>NaN</td>\n",
       "      <td>NaN</td>\n",
       "      <td>NaN</td>\n",
       "      <td>NaN</td>\n",
       "      <td>NaN</td>\n",
       "      <td>NaN</td>\n",
       "      <td>NaN</td>\n",
       "      <td>NaN</td>\n",
       "      <td>NaN</td>\n",
       "      <td>NaN</td>\n",
       "      <td>NaN</td>\n",
       "      <td>NaN</td>\n",
       "      <td>NaN</td>\n",
       "      <td>NaN</td>\n",
       "      <td>NaN</td>\n",
       "      <td>NaN</td>\n",
       "      <td>NaN</td>\n",
       "      <td>NaN</td>\n",
       "      <td>NaN</td>\n",
       "      <td>NaN</td>\n",
       "      <td>NaN</td>\n",
       "      <td>NaN</td>\n",
       "      <td>NaN</td>\n",
       "      <td>NaN</td>\n",
       "      <td>NaN</td>\n",
       "      <td>NaN</td>\n",
       "      <td>NaN</td>\n",
       "      <td>NaN</td>\n",
       "      <td>NaN</td>\n",
       "      <td>NaN</td>\n",
       "      <td>NaN</td>\n",
       "      <td>NaN</td>\n",
       "      <td>NaN</td>\n",
       "      <td>NaN</td>\n",
       "      <td>NaN</td>\n",
       "      <td>NaN</td>\n",
       "      <td>NaN</td>\n",
       "      <td>NaN</td>\n",
       "      <td>NaN</td>\n",
       "      <td>NaN</td>\n",
       "      <td>NaN</td>\n",
       "      <td>NaN</td>\n",
       "      <td>NaN</td>\n",
       "      <td>NaN</td>\n",
       "      <td>NaN</td>\n",
       "      <td>NaN</td>\n",
       "      <td>NaN</td>\n",
       "      <td>NaN</td>\n",
       "      <td>NaN</td>\n",
       "      <td>NaN</td>\n",
       "      <td>NaN</td>\n",
       "      <td>NaN</td>\n",
       "      <td>NaN</td>\n",
       "      <td>NaN</td>\n",
       "      <td>NaN</td>\n",
       "      <td>NaN</td>\n",
       "      <td>NaN</td>\n",
       "      <td>NaN</td>\n",
       "      <td>NaN</td>\n",
       "      <td>NaN</td>\n",
       "      <td>NaN</td>\n",
       "      <td>NaN</td>\n",
       "      <td>NaN</td>\n",
       "      <td>NaN</td>\n",
       "      <td>NaN</td>\n",
       "      <td>NaN</td>\n",
       "      <td>NaN</td>\n",
       "      <td>NaN</td>\n",
       "      <td>NaN</td>\n",
       "      <td>NaN</td>\n",
       "      <td>NaN</td>\n",
       "      <td>NaN</td>\n",
       "      <td>NaN</td>\n",
       "      <td>NaN</td>\n",
       "      <td>NaN</td>\n",
       "      <td>NaN</td>\n",
       "      <td>NaN</td>\n",
       "      <td>NaN</td>\n",
       "      <td>NaN</td>\n",
       "      <td>NaN</td>\n",
       "      <td>NaN</td>\n",
       "      <td>NaN</td>\n",
       "      <td>NaN</td>\n",
       "      <td>NaN</td>\n",
       "      <td>NaN</td>\n",
       "      <td>NaN</td>\n",
       "      <td>NaN</td>\n",
       "      <td>NaN</td>\n",
       "      <td>NaN</td>\n",
       "      <td>NaN</td>\n",
       "      <td>NaN</td>\n",
       "      <td>NaN</td>\n",
       "      <td>NaN</td>\n",
       "      <td>NaN</td>\n",
       "      <td>NaN</td>\n",
       "      <td>NaN</td>\n",
       "      <td>NaN</td>\n",
       "      <td>NaN</td>\n",
       "      <td>NaN</td>\n",
       "      <td>NaN</td>\n",
       "      <td>NaN</td>\n",
       "      <td>NaN</td>\n",
       "      <td>NaN</td>\n",
       "      <td>NaN</td>\n",
       "      <td>NaN</td>\n",
       "      <td>NaN</td>\n",
       "      <td>NaN</td>\n",
       "      <td>NaN</td>\n",
       "      <td>NaN</td>\n",
       "      <td>NaN</td>\n",
       "      <td>NaN</td>\n",
       "      <td>NaN</td>\n",
       "      <td>NaN</td>\n",
       "      <td>NaN</td>\n",
       "    </tr>\n",
       "    <tr>\n",
       "      <th>3</th>\n",
       "      <td>NaN</td>\n",
       "      <td>3-11</td>\n",
       "      <td>LOA</td>\n",
       "      <td>NaN</td>\n",
       "      <td>NaN</td>\n",
       "      <td>NaN</td>\n",
       "      <td>NaN</td>\n",
       "      <td>NaN</td>\n",
       "      <td>NaN</td>\n",
       "      <td>NaN</td>\n",
       "      <td>NaN</td>\n",
       "      <td>NaN</td>\n",
       "      <td>NaN</td>\n",
       "      <td>NaN</td>\n",
       "      <td>NaN</td>\n",
       "      <td>NaN</td>\n",
       "      <td>NaN</td>\n",
       "      <td>NaN</td>\n",
       "      <td>NaN</td>\n",
       "      <td>NaN</td>\n",
       "      <td>NaN</td>\n",
       "      <td>NaN</td>\n",
       "      <td>NaN</td>\n",
       "      <td>NaN</td>\n",
       "      <td>NaN</td>\n",
       "      <td>NaN</td>\n",
       "      <td>NaN</td>\n",
       "      <td>NaN</td>\n",
       "      <td>NaN</td>\n",
       "      <td>NaN</td>\n",
       "      <td>NaN</td>\n",
       "      <td>NaN</td>\n",
       "      <td>NaN</td>\n",
       "      <td>NaN</td>\n",
       "      <td>NaN</td>\n",
       "      <td>NaN</td>\n",
       "      <td>NaN</td>\n",
       "      <td>NaN</td>\n",
       "      <td>NaN</td>\n",
       "      <td>NaN</td>\n",
       "      <td>NaN</td>\n",
       "      <td>NaN</td>\n",
       "      <td>NaN</td>\n",
       "      <td>NaN</td>\n",
       "      <td>NaN</td>\n",
       "      <td>NaN</td>\n",
       "      <td>NaN</td>\n",
       "      <td>NaN</td>\n",
       "      <td>NaN</td>\n",
       "      <td>NaN</td>\n",
       "      <td>NaN</td>\n",
       "      <td>NaN</td>\n",
       "      <td>NaN</td>\n",
       "      <td>NaN</td>\n",
       "      <td>NaN</td>\n",
       "      <td>NaN</td>\n",
       "      <td>NaN</td>\n",
       "      <td>NaN</td>\n",
       "      <td>NaN</td>\n",
       "      <td>NaN</td>\n",
       "      <td>NaN</td>\n",
       "      <td>NaN</td>\n",
       "      <td>NaN</td>\n",
       "      <td>NaN</td>\n",
       "      <td>NaN</td>\n",
       "      <td>NaN</td>\n",
       "      <td>NaN</td>\n",
       "      <td>NaN</td>\n",
       "      <td>NaN</td>\n",
       "      <td>NaN</td>\n",
       "      <td>NaN</td>\n",
       "      <td>NaN</td>\n",
       "      <td>NaN</td>\n",
       "      <td>NaN</td>\n",
       "      <td>NaN</td>\n",
       "      <td>NaN</td>\n",
       "      <td>NaN</td>\n",
       "      <td>NaN</td>\n",
       "      <td>NaN</td>\n",
       "      <td>NaN</td>\n",
       "      <td>NaN</td>\n",
       "      <td>NaN</td>\n",
       "      <td>NaN</td>\n",
       "      <td>NaN</td>\n",
       "      <td>NaN</td>\n",
       "      <td>NaN</td>\n",
       "      <td>NaN</td>\n",
       "      <td>NaN</td>\n",
       "      <td>NaN</td>\n",
       "      <td>NaN</td>\n",
       "      <td>NaN</td>\n",
       "      <td>NaN</td>\n",
       "      <td>NaN</td>\n",
       "      <td>NaN</td>\n",
       "      <td>NaN</td>\n",
       "      <td>NaN</td>\n",
       "      <td>NaN</td>\n",
       "      <td>NaN</td>\n",
       "      <td>NaN</td>\n",
       "      <td>NaN</td>\n",
       "      <td>NaN</td>\n",
       "      <td>NaN</td>\n",
       "      <td>NaN</td>\n",
       "      <td>NaN</td>\n",
       "      <td>NaN</td>\n",
       "      <td>NaN</td>\n",
       "      <td>NaN</td>\n",
       "      <td>NaN</td>\n",
       "      <td>NaN</td>\n",
       "      <td>NaN</td>\n",
       "      <td>NaN</td>\n",
       "      <td>NaN</td>\n",
       "      <td>NaN</td>\n",
       "      <td>NaN</td>\n",
       "      <td>NaN</td>\n",
       "      <td>NaN</td>\n",
       "      <td>NaN</td>\n",
       "      <td>NaN</td>\n",
       "    </tr>\n",
       "    <tr>\n",
       "      <th>4</th>\n",
       "      <td>NaN</td>\n",
       "      <td>11-7</td>\n",
       "      <td>LOA</td>\n",
       "      <td>NaN</td>\n",
       "      <td>NaN</td>\n",
       "      <td>NaN</td>\n",
       "      <td>NaN</td>\n",
       "      <td>NaN</td>\n",
       "      <td>NaN</td>\n",
       "      <td>NaN</td>\n",
       "      <td>NaN</td>\n",
       "      <td>NaN</td>\n",
       "      <td>NaN</td>\n",
       "      <td>NaN</td>\n",
       "      <td>NaN</td>\n",
       "      <td>NaN</td>\n",
       "      <td>NaN</td>\n",
       "      <td>NaN</td>\n",
       "      <td>NaN</td>\n",
       "      <td>NaN</td>\n",
       "      <td>NaN</td>\n",
       "      <td>NaN</td>\n",
       "      <td>NaN</td>\n",
       "      <td>NaN</td>\n",
       "      <td>NaN</td>\n",
       "      <td>NaN</td>\n",
       "      <td>NaN</td>\n",
       "      <td>NaN</td>\n",
       "      <td>NaN</td>\n",
       "      <td>NaN</td>\n",
       "      <td>NaN</td>\n",
       "      <td>NaN</td>\n",
       "      <td>NaN</td>\n",
       "      <td>NaN</td>\n",
       "      <td>NaN</td>\n",
       "      <td>NaN</td>\n",
       "      <td>NaN</td>\n",
       "      <td>NaN</td>\n",
       "      <td>NaN</td>\n",
       "      <td>NaN</td>\n",
       "      <td>NaN</td>\n",
       "      <td>NaN</td>\n",
       "      <td>NaN</td>\n",
       "      <td>NaN</td>\n",
       "      <td>NaN</td>\n",
       "      <td>NaN</td>\n",
       "      <td>NaN</td>\n",
       "      <td>NaN</td>\n",
       "      <td>NaN</td>\n",
       "      <td>NaN</td>\n",
       "      <td>NaN</td>\n",
       "      <td>NaN</td>\n",
       "      <td>NaN</td>\n",
       "      <td>NaN</td>\n",
       "      <td>NaN</td>\n",
       "      <td>NaN</td>\n",
       "      <td>NaN</td>\n",
       "      <td>NaN</td>\n",
       "      <td>NaN</td>\n",
       "      <td>NaN</td>\n",
       "      <td>NaN</td>\n",
       "      <td>NaN</td>\n",
       "      <td>NaN</td>\n",
       "      <td>NaN</td>\n",
       "      <td>NaN</td>\n",
       "      <td>NaN</td>\n",
       "      <td>NaN</td>\n",
       "      <td>NaN</td>\n",
       "      <td>NaN</td>\n",
       "      <td>NaN</td>\n",
       "      <td>NaN</td>\n",
       "      <td>NaN</td>\n",
       "      <td>NaN</td>\n",
       "      <td>NaN</td>\n",
       "      <td>NaN</td>\n",
       "      <td>NaN</td>\n",
       "      <td>NaN</td>\n",
       "      <td>NaN</td>\n",
       "      <td>NaN</td>\n",
       "      <td>NaN</td>\n",
       "      <td>NaN</td>\n",
       "      <td>NaN</td>\n",
       "      <td>NaN</td>\n",
       "      <td>NaN</td>\n",
       "      <td>NaN</td>\n",
       "      <td>NaN</td>\n",
       "      <td>NaN</td>\n",
       "      <td>NaN</td>\n",
       "      <td>NaN</td>\n",
       "      <td>NaN</td>\n",
       "      <td>NaN</td>\n",
       "      <td>NaN</td>\n",
       "      <td>NaN</td>\n",
       "      <td>NaN</td>\n",
       "      <td>NaN</td>\n",
       "      <td>NaN</td>\n",
       "      <td>NaN</td>\n",
       "      <td>NaN</td>\n",
       "      <td>NaN</td>\n",
       "      <td>NaN</td>\n",
       "      <td>NaN</td>\n",
       "      <td>NaN</td>\n",
       "      <td>NaN</td>\n",
       "      <td>NaN</td>\n",
       "      <td>NaN</td>\n",
       "      <td>NaN</td>\n",
       "      <td>NaN</td>\n",
       "      <td>NaN</td>\n",
       "      <td>NaN</td>\n",
       "      <td>NaN</td>\n",
       "      <td>NaN</td>\n",
       "      <td>NaN</td>\n",
       "      <td>NaN</td>\n",
       "      <td>NaN</td>\n",
       "      <td>NaN</td>\n",
       "      <td>NaN</td>\n",
       "      <td>NaN</td>\n",
       "      <td>NaN</td>\n",
       "    </tr>\n",
       "  </tbody>\n",
       "</table>\n",
       "</div>"
      ],
      "text/plain": [
       "  October Unnamed: 1 Unnamed: 2  Unnamed: 3   Aggression Unnamed: 5  \\\n",
       "0    Date      Shift    No Data         NaN  Subcategory        NaN   \n",
       "1     NaN        NaN        NaN         NaN          NaN        NaN   \n",
       "2       1        7-3        LOA         NaN          NaN        NaN   \n",
       "3     NaN       3-11        LOA         NaN          NaN        NaN   \n",
       "4     NaN       11-7        LOA         NaN          NaN        NaN   \n",
       "\n",
       "  Unnamed: 6 Unnamed: 7         Unnamed: 8       Unnamed: 9  \\\n",
       "0        NaN       Freq  Duration Specific  Time Sampling %   \n",
       "1        NaN        NaN                NaN              NaN   \n",
       "2        NaN        NaN                NaN              NaN   \n",
       "3        NaN        NaN                NaN              NaN   \n",
       "4        NaN        NaN                NaN              NaN   \n",
       "\n",
       "          Unnamed: 10 Unnamed: 11 Unnamed: 12 Unnamed: 13 Unnamed: 14  \\\n",
       "0  Duration Intervals         NaN         NaN         NaN         NaN   \n",
       "1       Not Specified          <5        6-10       11-15       16-20   \n",
       "2                 NaN         NaN         NaN         NaN         NaN   \n",
       "3                 NaN         NaN         NaN         NaN         NaN   \n",
       "4                 NaN         NaN         NaN         NaN         NaN   \n",
       "\n",
       "  Unnamed: 15    Unnamed: 16  Unnamed: 17  Unnamed: 18  Unnamed: 19  \\\n",
       "0         NaN      Intensity          NaN          NaN          NaN   \n",
       "1         20+  Not Specified          1.0          2.0          3.0   \n",
       "2         NaN            NaN          NaN          NaN          NaN   \n",
       "3         NaN            NaN          NaN          NaN          NaN   \n",
       "4         NaN            NaN          NaN          NaN          NaN   \n",
       "\n",
       "   Unnamed: 20 Unnamed: 21 Self Mutilation Unnamed: 23 Unnamed: 24  \\\n",
       "0          NaN    Comments     Subcategory         NaN         NaN   \n",
       "1          4.0         NaN             NaN         NaN         NaN   \n",
       "2          NaN         NaN             NaN         NaN         NaN   \n",
       "3          NaN         NaN             NaN         NaN         NaN   \n",
       "4          NaN         NaN             NaN         NaN         NaN   \n",
       "\n",
       "  Unnamed: 25        Unnamed: 26      Unnamed: 27         Unnamed: 28  \\\n",
       "0        Freq  Duration Specific  Time Sampling %  Duration Intervals   \n",
       "1         NaN                NaN              NaN       Not Specified   \n",
       "2         NaN                NaN              NaN                 NaN   \n",
       "3         NaN                NaN              NaN                 NaN   \n",
       "4         NaN                NaN              NaN                 NaN   \n",
       "\n",
       "   Unnamed: 29  Unnamed: 30  Unnamed: 31  Unnamed: 32  Unnamed: 33  \\\n",
       "0          NaN          NaN          NaN          NaN          NaN   \n",
       "1          0.0          0.0          0.0          0.0          0.0   \n",
       "2          NaN          NaN          NaN          NaN          NaN   \n",
       "3          NaN          NaN          NaN          NaN          NaN   \n",
       "4          NaN          NaN          NaN          NaN          NaN   \n",
       "\n",
       "     Unnamed: 34  Unnamed: 35  Unnamed: 36  Unnamed: 37  Unnamed: 38  \\\n",
       "0      Intensity          NaN          NaN          NaN          NaN   \n",
       "1  Not Specified          1.0          2.0          3.0          4.0   \n",
       "2            NaN          NaN          NaN          NaN          NaN   \n",
       "3            NaN          NaN          NaN          NaN          NaN   \n",
       "4            NaN          NaN          NaN          NaN          NaN   \n",
       "\n",
       "  Unnamed: 39          SIB Unnamed: 41 Unnamed: 42 Unnamed: 43  \\\n",
       "0    Comments  Subcategory         NaN         NaN        Freq   \n",
       "1         NaN          NaN         NaN         NaN         NaN   \n",
       "2         NaN          NaN         NaN         NaN         NaN   \n",
       "3         NaN          NaN         NaN         NaN         NaN   \n",
       "4         NaN          NaN         NaN         NaN         NaN   \n",
       "\n",
       "         Unnamed: 44      Unnamed: 45         Unnamed: 46 Unnamed: 47  \\\n",
       "0  Duration Specific  Time Sampling %  Duration Intervals         NaN   \n",
       "1                NaN              NaN       Not Specified          <5   \n",
       "2                NaN              NaN                 NaN         NaN   \n",
       "3                NaN              NaN                 NaN         NaN   \n",
       "4                NaN              NaN                 NaN         NaN   \n",
       "\n",
       "  Unnamed: 48 Unnamed: 49 Unnamed: 50 Unnamed: 51    Unnamed: 52  Unnamed: 53  \\\n",
       "0         NaN         NaN         NaN         NaN      Intensity          NaN   \n",
       "1        6-10       11-15       16-20         20+  Not Specified          1.0   \n",
       "2         NaN         NaN         NaN         NaN            NaN          NaN   \n",
       "3         NaN         NaN         NaN         NaN            NaN          NaN   \n",
       "4         NaN         NaN         NaN         NaN            NaN          NaN   \n",
       "\n",
       "   Unnamed: 54  Unnamed: 55  Unnamed: 56 Unnamed: 57   Disruptive Unnamed: 59  \\\n",
       "0          NaN          NaN          NaN    Comments  Subcategory         NaN   \n",
       "1          2.0          3.0          4.0         NaN          NaN         NaN   \n",
       "2          NaN          NaN          NaN         NaN          NaN         NaN   \n",
       "3          NaN          NaN          NaN         NaN          NaN         NaN   \n",
       "4          NaN          NaN          NaN         NaN          NaN         NaN   \n",
       "\n",
       "  Unnamed: 60 Unnamed: 61        Unnamed: 62      Unnamed: 63  \\\n",
       "0         NaN        Freq  Duration Specific  Time Sampling %   \n",
       "1         NaN         NaN                NaN              NaN   \n",
       "2         NaN         NaN                NaN              NaN   \n",
       "3         NaN         NaN                NaN              NaN   \n",
       "4         NaN         NaN                NaN              NaN   \n",
       "\n",
       "          Unnamed: 64 Unnamed: 65 Unnamed: 66 Unnamed: 67 Unnamed: 68  \\\n",
       "0  Duration Intervals         NaN         NaN         NaN         NaN   \n",
       "1       Not Specified          <5        6-10       11-15       16-20   \n",
       "2                 NaN         NaN         NaN         NaN         NaN   \n",
       "3                 NaN         NaN         NaN         NaN         NaN   \n",
       "4                 NaN         NaN         NaN         NaN         NaN   \n",
       "\n",
       "  Unnamed: 69    Unnamed: 70  Unnamed: 71  Unnamed: 72  Unnamed: 73  \\\n",
       "0         NaN      Intensity          NaN          NaN          NaN   \n",
       "1         20+  Not Specified          1.0          2.0          3.0   \n",
       "2         NaN            NaN          NaN          NaN          NaN   \n",
       "3         NaN            NaN          NaN          NaN          NaN   \n",
       "4         NaN            NaN          NaN          NaN          NaN   \n",
       "\n",
       "   Unnamed: 74 Unnamed: 75       Insert Unnamed: 77 Unnamed: 78 Unnamed: 79  \\\n",
       "0          NaN    Comments  Subcategory         NaN         NaN        Freq   \n",
       "1          4.0         NaN          NaN         NaN         NaN         NaN   \n",
       "2          NaN         NaN          NaN         NaN         NaN         NaN   \n",
       "3          NaN         NaN          NaN         NaN         NaN         NaN   \n",
       "4          NaN         NaN          NaN         NaN         NaN         NaN   \n",
       "\n",
       "         Unnamed: 80      Unnamed: 81         Unnamed: 82  Unnamed: 83  \\\n",
       "0  Duration Specific  Time Sampling %  Duration Intervals          NaN   \n",
       "1                NaN              NaN       Not Specified          0.0   \n",
       "2                NaN              NaN                 NaN          NaN   \n",
       "3                NaN              NaN                 NaN          NaN   \n",
       "4                NaN              NaN                 NaN          NaN   \n",
       "\n",
       "   Unnamed: 84  Unnamed: 85  Unnamed: 86  Unnamed: 87    Unnamed: 88  \\\n",
       "0          NaN          NaN          NaN          NaN      Intensity   \n",
       "1          0.0          0.0          0.0          0.0  Not Specified   \n",
       "2          NaN          NaN          NaN          NaN            NaN   \n",
       "3          NaN          NaN          NaN          NaN            NaN   \n",
       "4          NaN          NaN          NaN          NaN            NaN   \n",
       "\n",
       "   Unnamed: 89  Unnamed: 90  Unnamed: 91  Unnamed: 92 Unnamed: 93  \\\n",
       "0          NaN          NaN          NaN          NaN    Comments   \n",
       "1          1.0          2.0          3.0          4.0         NaN   \n",
       "2          NaN          NaN          NaN          NaN         NaN   \n",
       "3          NaN          NaN          NaN          NaN         NaN   \n",
       "4          NaN          NaN          NaN          NaN         NaN   \n",
       "\n",
       "   Unnamed: 94  Bite Rel   F-Arm Catch  F-Choke Windmill  B-Choke  \\\n",
       "0          NaN        NaN          NaN               NaN      NaN   \n",
       "1          NaN        NaN          NaN               NaN      NaN   \n",
       "2          NaN        NaN          NaN               NaN      NaN   \n",
       "3          NaN        NaN          NaN               NaN      NaN   \n",
       "4          NaN        NaN          NaN               NaN      NaN   \n",
       "\n",
       "   F-Hair Stab/Rel  B-Hair Stab/Rel  Deflection  Bite prevention  \\\n",
       "0              NaN              NaN         NaN              NaN   \n",
       "1              NaN              NaN         NaN              NaN   \n",
       "2              NaN              NaN         NaN              NaN   \n",
       "3              NaN              NaN         NaN              NaN   \n",
       "4              NaN              NaN         NaN              NaN   \n",
       "\n",
       "   Front hair Pull Stab  Touch  Block Punch  1 Escort  2 Escort  2 Removal  \\\n",
       "0                   NaN    NaN          NaN       NaN       NaN        NaN   \n",
       "1                   NaN    NaN          NaN       NaN       NaN        NaN   \n",
       "2                   NaN    NaN          NaN       NaN       NaN        NaN   \n",
       "3                   NaN    NaN          NaN       NaN       NaN        NaN   \n",
       "4                   NaN    NaN          NaN       NaN       NaN        NaN   \n",
       "\n",
       "   1 E Seat Var  2 E Seat Var  Stand Wrap  One Arm Release  Mitts wear  \\\n",
       "0           NaN           NaN         NaN              NaN         NaN   \n",
       "1           NaN           NaN         NaN              NaN         NaN   \n",
       "2           NaN           NaN         NaN              NaN         NaN   \n",
       "3           NaN           NaN         NaN              NaN         NaN   \n",
       "4           NaN           NaN         NaN              NaN         NaN   \n",
       "\n",
       "   Splints wear  Stuck/Combo  Frozen  Pacing  \n",
       "0           NaN          NaN     NaN     NaN  \n",
       "1           NaN          NaN     NaN     NaN  \n",
       "2           NaN          NaN     NaN     NaN  \n",
       "3           NaN          NaN     NaN     NaN  \n",
       "4           NaN          NaN     NaN     NaN  "
      ]
     },
     "execution_count": 16,
     "metadata": {},
     "output_type": "execute_result"
    }
   ],
   "source": [
    "dfcolnmes.head()"
   ]
  },
  {
   "cell_type": "code",
   "execution_count": 17,
   "metadata": {},
   "outputs": [
    {
     "name": "stdout",
     "output_type": "stream",
     "text": [
      "2022-10\n",
      "(465, 17)\n"
     ]
    },
    {
     "data": {
      "text/html": [
       "<div>\n",
       "<style scoped>\n",
       "    .dataframe tbody tr th:only-of-type {\n",
       "        vertical-align: middle;\n",
       "    }\n",
       "\n",
       "    .dataframe tbody tr th {\n",
       "        vertical-align: top;\n",
       "    }\n",
       "\n",
       "    .dataframe thead th {\n",
       "        text-align: right;\n",
       "    }\n",
       "</style>\n",
       "<table border=\"1\" class=\"dataframe\">\n",
       "  <thead>\n",
       "    <tr style=\"text-align: right;\">\n",
       "      <th></th>\n",
       "      <th>Date</th>\n",
       "      <th>Shift</th>\n",
       "      <th>No Data</th>\n",
       "      <th>Target</th>\n",
       "      <th>Duration Specific</th>\n",
       "      <th>Time Sampling %</th>\n",
       "      <th>Duration: 0</th>\n",
       "      <th>Duration: &lt;5</th>\n",
       "      <th>Duration: 6-10</th>\n",
       "      <th>Duration: 11-15</th>\n",
       "      <th>Duration: 16-20</th>\n",
       "      <th>Duration: 20+</th>\n",
       "      <th>Interval: 0</th>\n",
       "      <th>Interval: 1</th>\n",
       "      <th>Interval: 2</th>\n",
       "      <th>Interval: 3</th>\n",
       "      <th>Interval: 4</th>\n",
       "    </tr>\n",
       "  </thead>\n",
       "  <tbody>\n",
       "    <tr>\n",
       "      <th>1</th>\n",
       "      <td>1</td>\n",
       "      <td>7-3</td>\n",
       "      <td>LOA</td>\n",
       "      <td>Aggression</td>\n",
       "      <td>NaN</td>\n",
       "      <td>NaN</td>\n",
       "      <td>NaN</td>\n",
       "      <td>NaN</td>\n",
       "      <td>NaN</td>\n",
       "      <td>NaN</td>\n",
       "      <td>NaN</td>\n",
       "      <td>NaN</td>\n",
       "      <td>NaN</td>\n",
       "      <td>NaN</td>\n",
       "      <td>NaN</td>\n",
       "      <td>NaN</td>\n",
       "      <td>NaN</td>\n",
       "    </tr>\n",
       "    <tr>\n",
       "      <th>2</th>\n",
       "      <td>1</td>\n",
       "      <td>3-11</td>\n",
       "      <td>LOA</td>\n",
       "      <td>Aggression</td>\n",
       "      <td>NaN</td>\n",
       "      <td>NaN</td>\n",
       "      <td>NaN</td>\n",
       "      <td>NaN</td>\n",
       "      <td>NaN</td>\n",
       "      <td>NaN</td>\n",
       "      <td>NaN</td>\n",
       "      <td>NaN</td>\n",
       "      <td>NaN</td>\n",
       "      <td>NaN</td>\n",
       "      <td>NaN</td>\n",
       "      <td>NaN</td>\n",
       "      <td>NaN</td>\n",
       "    </tr>\n",
       "    <tr>\n",
       "      <th>3</th>\n",
       "      <td>1</td>\n",
       "      <td>11-7</td>\n",
       "      <td>LOA</td>\n",
       "      <td>Aggression</td>\n",
       "      <td>NaN</td>\n",
       "      <td>NaN</td>\n",
       "      <td>NaN</td>\n",
       "      <td>NaN</td>\n",
       "      <td>NaN</td>\n",
       "      <td>NaN</td>\n",
       "      <td>NaN</td>\n",
       "      <td>NaN</td>\n",
       "      <td>NaN</td>\n",
       "      <td>NaN</td>\n",
       "      <td>NaN</td>\n",
       "      <td>NaN</td>\n",
       "      <td>NaN</td>\n",
       "    </tr>\n",
       "    <tr>\n",
       "      <th>4</th>\n",
       "      <td>2</td>\n",
       "      <td>7-3</td>\n",
       "      <td>LOA</td>\n",
       "      <td>Aggression</td>\n",
       "      <td>NaN</td>\n",
       "      <td>NaN</td>\n",
       "      <td>NaN</td>\n",
       "      <td>NaN</td>\n",
       "      <td>NaN</td>\n",
       "      <td>NaN</td>\n",
       "      <td>NaN</td>\n",
       "      <td>NaN</td>\n",
       "      <td>NaN</td>\n",
       "      <td>NaN</td>\n",
       "      <td>NaN</td>\n",
       "      <td>NaN</td>\n",
       "      <td>NaN</td>\n",
       "    </tr>\n",
       "    <tr>\n",
       "      <th>5</th>\n",
       "      <td>2</td>\n",
       "      <td>3-11</td>\n",
       "      <td>LOA</td>\n",
       "      <td>Aggression</td>\n",
       "      <td>NaN</td>\n",
       "      <td>NaN</td>\n",
       "      <td>NaN</td>\n",
       "      <td>NaN</td>\n",
       "      <td>NaN</td>\n",
       "      <td>NaN</td>\n",
       "      <td>NaN</td>\n",
       "      <td>NaN</td>\n",
       "      <td>NaN</td>\n",
       "      <td>NaN</td>\n",
       "      <td>NaN</td>\n",
       "      <td>NaN</td>\n",
       "      <td>NaN</td>\n",
       "    </tr>\n",
       "    <tr>\n",
       "      <th>6</th>\n",
       "      <td>2</td>\n",
       "      <td>11-7</td>\n",
       "      <td>LOA</td>\n",
       "      <td>Aggression</td>\n",
       "      <td>NaN</td>\n",
       "      <td>NaN</td>\n",
       "      <td>NaN</td>\n",
       "      <td>NaN</td>\n",
       "      <td>NaN</td>\n",
       "      <td>NaN</td>\n",
       "      <td>NaN</td>\n",
       "      <td>NaN</td>\n",
       "      <td>NaN</td>\n",
       "      <td>NaN</td>\n",
       "      <td>NaN</td>\n",
       "      <td>NaN</td>\n",
       "      <td>NaN</td>\n",
       "    </tr>\n",
       "    <tr>\n",
       "      <th>7</th>\n",
       "      <td>3</td>\n",
       "      <td>7-3</td>\n",
       "      <td>LOA</td>\n",
       "      <td>Aggression</td>\n",
       "      <td>NaN</td>\n",
       "      <td>NaN</td>\n",
       "      <td>NaN</td>\n",
       "      <td>NaN</td>\n",
       "      <td>NaN</td>\n",
       "      <td>NaN</td>\n",
       "      <td>NaN</td>\n",
       "      <td>NaN</td>\n",
       "      <td>NaN</td>\n",
       "      <td>NaN</td>\n",
       "      <td>NaN</td>\n",
       "      <td>NaN</td>\n",
       "      <td>NaN</td>\n",
       "    </tr>\n",
       "    <tr>\n",
       "      <th>8</th>\n",
       "      <td>3</td>\n",
       "      <td>3-11</td>\n",
       "      <td>No Behaviors</td>\n",
       "      <td>Aggression</td>\n",
       "      <td>0.0</td>\n",
       "      <td>0.0</td>\n",
       "      <td>0</td>\n",
       "      <td>0</td>\n",
       "      <td>0</td>\n",
       "      <td>0</td>\n",
       "      <td>0</td>\n",
       "      <td>0</td>\n",
       "      <td>0</td>\n",
       "      <td>0.0</td>\n",
       "      <td>0.0</td>\n",
       "      <td>0.0</td>\n",
       "      <td>0.0</td>\n",
       "    </tr>\n",
       "    <tr>\n",
       "      <th>9</th>\n",
       "      <td>3</td>\n",
       "      <td>11-7</td>\n",
       "      <td>No Data Recorded</td>\n",
       "      <td>Aggression</td>\n",
       "      <td>NaN</td>\n",
       "      <td>NaN</td>\n",
       "      <td>NaN</td>\n",
       "      <td>NaN</td>\n",
       "      <td>NaN</td>\n",
       "      <td>NaN</td>\n",
       "      <td>NaN</td>\n",
       "      <td>NaN</td>\n",
       "      <td>NaN</td>\n",
       "      <td>NaN</td>\n",
       "      <td>NaN</td>\n",
       "      <td>NaN</td>\n",
       "      <td>NaN</td>\n",
       "    </tr>\n",
       "    <tr>\n",
       "      <th>10</th>\n",
       "      <td>4</td>\n",
       "      <td>7-3</td>\n",
       "      <td>NaN</td>\n",
       "      <td>Aggression</td>\n",
       "      <td>NaN</td>\n",
       "      <td>NaN</td>\n",
       "      <td>0</td>\n",
       "      <td>2</td>\n",
       "      <td>0</td>\n",
       "      <td>0</td>\n",
       "      <td>0</td>\n",
       "      <td>0</td>\n",
       "      <td>1</td>\n",
       "      <td>1.0</td>\n",
       "      <td>NaN</td>\n",
       "      <td>NaN</td>\n",
       "      <td>NaN</td>\n",
       "    </tr>\n",
       "    <tr>\n",
       "      <th>11</th>\n",
       "      <td>4</td>\n",
       "      <td>3-11</td>\n",
       "      <td>No Behaviors</td>\n",
       "      <td>Aggression</td>\n",
       "      <td>0.0</td>\n",
       "      <td>0.0</td>\n",
       "      <td>0</td>\n",
       "      <td>0</td>\n",
       "      <td>0</td>\n",
       "      <td>0</td>\n",
       "      <td>0</td>\n",
       "      <td>0</td>\n",
       "      <td>0</td>\n",
       "      <td>0.0</td>\n",
       "      <td>0.0</td>\n",
       "      <td>0.0</td>\n",
       "      <td>0.0</td>\n",
       "    </tr>\n",
       "    <tr>\n",
       "      <th>12</th>\n",
       "      <td>4</td>\n",
       "      <td>11-7</td>\n",
       "      <td>No Data Recorded</td>\n",
       "      <td>Aggression</td>\n",
       "      <td>NaN</td>\n",
       "      <td>NaN</td>\n",
       "      <td>NaN</td>\n",
       "      <td>NaN</td>\n",
       "      <td>NaN</td>\n",
       "      <td>NaN</td>\n",
       "      <td>NaN</td>\n",
       "      <td>NaN</td>\n",
       "      <td>NaN</td>\n",
       "      <td>NaN</td>\n",
       "      <td>NaN</td>\n",
       "      <td>NaN</td>\n",
       "      <td>NaN</td>\n",
       "    </tr>\n",
       "    <tr>\n",
       "      <th>13</th>\n",
       "      <td>5</td>\n",
       "      <td>7-3</td>\n",
       "      <td>NaN</td>\n",
       "      <td>Aggression</td>\n",
       "      <td>NaN</td>\n",
       "      <td>NaN</td>\n",
       "      <td>0</td>\n",
       "      <td>2</td>\n",
       "      <td>0</td>\n",
       "      <td>0</td>\n",
       "      <td>0</td>\n",
       "      <td>0</td>\n",
       "      <td>0</td>\n",
       "      <td>0.0</td>\n",
       "      <td>2.0</td>\n",
       "      <td>0.0</td>\n",
       "      <td>0.0</td>\n",
       "    </tr>\n",
       "    <tr>\n",
       "      <th>14</th>\n",
       "      <td>5</td>\n",
       "      <td>3-11</td>\n",
       "      <td>NaN</td>\n",
       "      <td>Aggression</td>\n",
       "      <td>NaN</td>\n",
       "      <td>NaN</td>\n",
       "      <td>0</td>\n",
       "      <td>2</td>\n",
       "      <td>0</td>\n",
       "      <td>0</td>\n",
       "      <td>0</td>\n",
       "      <td>0</td>\n",
       "      <td>0</td>\n",
       "      <td>2.0</td>\n",
       "      <td>0.0</td>\n",
       "      <td>0.0</td>\n",
       "      <td>0.0</td>\n",
       "    </tr>\n",
       "    <tr>\n",
       "      <th>15</th>\n",
       "      <td>5</td>\n",
       "      <td>11-7</td>\n",
       "      <td>No Data Recorded</td>\n",
       "      <td>Aggression</td>\n",
       "      <td>NaN</td>\n",
       "      <td>NaN</td>\n",
       "      <td>NaN</td>\n",
       "      <td>NaN</td>\n",
       "      <td>NaN</td>\n",
       "      <td>NaN</td>\n",
       "      <td>NaN</td>\n",
       "      <td>NaN</td>\n",
       "      <td>NaN</td>\n",
       "      <td>NaN</td>\n",
       "      <td>NaN</td>\n",
       "      <td>NaN</td>\n",
       "      <td>NaN</td>\n",
       "    </tr>\n",
       "    <tr>\n",
       "      <th>16</th>\n",
       "      <td>6</td>\n",
       "      <td>7-3</td>\n",
       "      <td>NaN</td>\n",
       "      <td>Aggression</td>\n",
       "      <td>NaN</td>\n",
       "      <td>NaN</td>\n",
       "      <td>0</td>\n",
       "      <td>2</td>\n",
       "      <td>0</td>\n",
       "      <td>0</td>\n",
       "      <td>0</td>\n",
       "      <td>0</td>\n",
       "      <td>0</td>\n",
       "      <td>0.0</td>\n",
       "      <td>2.0</td>\n",
       "      <td>0.0</td>\n",
       "      <td>0.0</td>\n",
       "    </tr>\n",
       "    <tr>\n",
       "      <th>17</th>\n",
       "      <td>6</td>\n",
       "      <td>3-11</td>\n",
       "      <td>No Data Recorded</td>\n",
       "      <td>Aggression</td>\n",
       "      <td>NaN</td>\n",
       "      <td>NaN</td>\n",
       "      <td>NaN</td>\n",
       "      <td>NaN</td>\n",
       "      <td>NaN</td>\n",
       "      <td>NaN</td>\n",
       "      <td>NaN</td>\n",
       "      <td>NaN</td>\n",
       "      <td>NaN</td>\n",
       "      <td>NaN</td>\n",
       "      <td>NaN</td>\n",
       "      <td>NaN</td>\n",
       "      <td>NaN</td>\n",
       "    </tr>\n",
       "    <tr>\n",
       "      <th>18</th>\n",
       "      <td>6</td>\n",
       "      <td>11-7</td>\n",
       "      <td>No Behaviors</td>\n",
       "      <td>Aggression</td>\n",
       "      <td>0.0</td>\n",
       "      <td>0.0</td>\n",
       "      <td>0</td>\n",
       "      <td>0</td>\n",
       "      <td>0</td>\n",
       "      <td>0</td>\n",
       "      <td>0</td>\n",
       "      <td>0</td>\n",
       "      <td>0</td>\n",
       "      <td>0.0</td>\n",
       "      <td>0.0</td>\n",
       "      <td>0.0</td>\n",
       "      <td>0.0</td>\n",
       "    </tr>\n",
       "    <tr>\n",
       "      <th>19</th>\n",
       "      <td>7</td>\n",
       "      <td>7-3</td>\n",
       "      <td>NaN</td>\n",
       "      <td>Aggression</td>\n",
       "      <td>NaN</td>\n",
       "      <td>NaN</td>\n",
       "      <td>0</td>\n",
       "      <td>0</td>\n",
       "      <td>0</td>\n",
       "      <td>0</td>\n",
       "      <td>0</td>\n",
       "      <td>1</td>\n",
       "      <td>0</td>\n",
       "      <td>0.0</td>\n",
       "      <td>0.0</td>\n",
       "      <td>0.0</td>\n",
       "      <td>1.0</td>\n",
       "    </tr>\n",
       "    <tr>\n",
       "      <th>20</th>\n",
       "      <td>7</td>\n",
       "      <td>3-11</td>\n",
       "      <td>No Behaviors</td>\n",
       "      <td>Aggression</td>\n",
       "      <td>0.0</td>\n",
       "      <td>0.0</td>\n",
       "      <td>0</td>\n",
       "      <td>0</td>\n",
       "      <td>0</td>\n",
       "      <td>0</td>\n",
       "      <td>0</td>\n",
       "      <td>0</td>\n",
       "      <td>0</td>\n",
       "      <td>0.0</td>\n",
       "      <td>0.0</td>\n",
       "      <td>0.0</td>\n",
       "      <td>0.0</td>\n",
       "    </tr>\n",
       "    <tr>\n",
       "      <th>21</th>\n",
       "      <td>7</td>\n",
       "      <td>11-7</td>\n",
       "      <td>No Data Recorded</td>\n",
       "      <td>Aggression</td>\n",
       "      <td>NaN</td>\n",
       "      <td>NaN</td>\n",
       "      <td>NaN</td>\n",
       "      <td>NaN</td>\n",
       "      <td>NaN</td>\n",
       "      <td>NaN</td>\n",
       "      <td>NaN</td>\n",
       "      <td>NaN</td>\n",
       "      <td>NaN</td>\n",
       "      <td>NaN</td>\n",
       "      <td>NaN</td>\n",
       "      <td>NaN</td>\n",
       "      <td>NaN</td>\n",
       "    </tr>\n",
       "    <tr>\n",
       "      <th>22</th>\n",
       "      <td>8</td>\n",
       "      <td>7-3</td>\n",
       "      <td>NaN</td>\n",
       "      <td>Aggression</td>\n",
       "      <td>NaN</td>\n",
       "      <td>NaN</td>\n",
       "      <td>NaN</td>\n",
       "      <td>NaN</td>\n",
       "      <td>NaN</td>\n",
       "      <td>NaN</td>\n",
       "      <td>NaN</td>\n",
       "      <td>NaN</td>\n",
       "      <td>NaN</td>\n",
       "      <td>NaN</td>\n",
       "      <td>NaN</td>\n",
       "      <td>NaN</td>\n",
       "      <td>NaN</td>\n",
       "    </tr>\n",
       "    <tr>\n",
       "      <th>23</th>\n",
       "      <td>8</td>\n",
       "      <td>3-11</td>\n",
       "      <td>NaN</td>\n",
       "      <td>Aggression</td>\n",
       "      <td>NaN</td>\n",
       "      <td>NaN</td>\n",
       "      <td>NaN</td>\n",
       "      <td>NaN</td>\n",
       "      <td>NaN</td>\n",
       "      <td>NaN</td>\n",
       "      <td>NaN</td>\n",
       "      <td>NaN</td>\n",
       "      <td>NaN</td>\n",
       "      <td>NaN</td>\n",
       "      <td>NaN</td>\n",
       "      <td>NaN</td>\n",
       "      <td>NaN</td>\n",
       "    </tr>\n",
       "    <tr>\n",
       "      <th>24</th>\n",
       "      <td>8</td>\n",
       "      <td>11-7</td>\n",
       "      <td>NaN</td>\n",
       "      <td>Aggression</td>\n",
       "      <td>NaN</td>\n",
       "      <td>NaN</td>\n",
       "      <td>NaN</td>\n",
       "      <td>NaN</td>\n",
       "      <td>NaN</td>\n",
       "      <td>NaN</td>\n",
       "      <td>NaN</td>\n",
       "      <td>NaN</td>\n",
       "      <td>NaN</td>\n",
       "      <td>NaN</td>\n",
       "      <td>NaN</td>\n",
       "      <td>NaN</td>\n",
       "      <td>NaN</td>\n",
       "    </tr>\n",
       "    <tr>\n",
       "      <th>25</th>\n",
       "      <td>9</td>\n",
       "      <td>7-3</td>\n",
       "      <td>NaN</td>\n",
       "      <td>Aggression</td>\n",
       "      <td>NaN</td>\n",
       "      <td>NaN</td>\n",
       "      <td>NaN</td>\n",
       "      <td>NaN</td>\n",
       "      <td>NaN</td>\n",
       "      <td>NaN</td>\n",
       "      <td>NaN</td>\n",
       "      <td>NaN</td>\n",
       "      <td>NaN</td>\n",
       "      <td>NaN</td>\n",
       "      <td>NaN</td>\n",
       "      <td>NaN</td>\n",
       "      <td>NaN</td>\n",
       "    </tr>\n",
       "    <tr>\n",
       "      <th>26</th>\n",
       "      <td>9</td>\n",
       "      <td>3-11</td>\n",
       "      <td>NaN</td>\n",
       "      <td>Aggression</td>\n",
       "      <td>NaN</td>\n",
       "      <td>NaN</td>\n",
       "      <td>NaN</td>\n",
       "      <td>NaN</td>\n",
       "      <td>NaN</td>\n",
       "      <td>NaN</td>\n",
       "      <td>NaN</td>\n",
       "      <td>NaN</td>\n",
       "      <td>NaN</td>\n",
       "      <td>NaN</td>\n",
       "      <td>NaN</td>\n",
       "      <td>NaN</td>\n",
       "      <td>NaN</td>\n",
       "    </tr>\n",
       "    <tr>\n",
       "      <th>27</th>\n",
       "      <td>9</td>\n",
       "      <td>11-7</td>\n",
       "      <td>NaN</td>\n",
       "      <td>Aggression</td>\n",
       "      <td>NaN</td>\n",
       "      <td>NaN</td>\n",
       "      <td>NaN</td>\n",
       "      <td>NaN</td>\n",
       "      <td>NaN</td>\n",
       "      <td>NaN</td>\n",
       "      <td>NaN</td>\n",
       "      <td>NaN</td>\n",
       "      <td>NaN</td>\n",
       "      <td>NaN</td>\n",
       "      <td>NaN</td>\n",
       "      <td>NaN</td>\n",
       "      <td>NaN</td>\n",
       "    </tr>\n",
       "    <tr>\n",
       "      <th>28</th>\n",
       "      <td>10</td>\n",
       "      <td>7-3</td>\n",
       "      <td>No Behaviors</td>\n",
       "      <td>Aggression</td>\n",
       "      <td>0.0</td>\n",
       "      <td>0.0</td>\n",
       "      <td>0</td>\n",
       "      <td>0</td>\n",
       "      <td>0</td>\n",
       "      <td>0</td>\n",
       "      <td>0</td>\n",
       "      <td>0</td>\n",
       "      <td>0</td>\n",
       "      <td>0.0</td>\n",
       "      <td>0.0</td>\n",
       "      <td>0.0</td>\n",
       "      <td>0.0</td>\n",
       "    </tr>\n",
       "    <tr>\n",
       "      <th>29</th>\n",
       "      <td>10</td>\n",
       "      <td>3-11</td>\n",
       "      <td>NaN</td>\n",
       "      <td>Aggression</td>\n",
       "      <td>NaN</td>\n",
       "      <td>NaN</td>\n",
       "      <td>NaN</td>\n",
       "      <td>NaN</td>\n",
       "      <td>NaN</td>\n",
       "      <td>NaN</td>\n",
       "      <td>NaN</td>\n",
       "      <td>NaN</td>\n",
       "      <td>NaN</td>\n",
       "      <td>NaN</td>\n",
       "      <td>NaN</td>\n",
       "      <td>NaN</td>\n",
       "      <td>NaN</td>\n",
       "    </tr>\n",
       "    <tr>\n",
       "      <th>30</th>\n",
       "      <td>10</td>\n",
       "      <td>11-7</td>\n",
       "      <td>NaN</td>\n",
       "      <td>Aggression</td>\n",
       "      <td>NaN</td>\n",
       "      <td>NaN</td>\n",
       "      <td>NaN</td>\n",
       "      <td>NaN</td>\n",
       "      <td>NaN</td>\n",
       "      <td>NaN</td>\n",
       "      <td>NaN</td>\n",
       "      <td>NaN</td>\n",
       "      <td>NaN</td>\n",
       "      <td>NaN</td>\n",
       "      <td>NaN</td>\n",
       "      <td>NaN</td>\n",
       "      <td>NaN</td>\n",
       "    </tr>\n",
       "    <tr>\n",
       "      <th>31</th>\n",
       "      <td>11</td>\n",
       "      <td>7-3</td>\n",
       "      <td>No Behaviors</td>\n",
       "      <td>Aggression</td>\n",
       "      <td>0.0</td>\n",
       "      <td>0.0</td>\n",
       "      <td>0</td>\n",
       "      <td>0</td>\n",
       "      <td>0</td>\n",
       "      <td>0</td>\n",
       "      <td>0</td>\n",
       "      <td>0</td>\n",
       "      <td>0</td>\n",
       "      <td>0.0</td>\n",
       "      <td>0.0</td>\n",
       "      <td>0.0</td>\n",
       "      <td>0.0</td>\n",
       "    </tr>\n",
       "    <tr>\n",
       "      <th>32</th>\n",
       "      <td>11</td>\n",
       "      <td>3-11</td>\n",
       "      <td>No Data Recorded</td>\n",
       "      <td>Aggression</td>\n",
       "      <td>NaN</td>\n",
       "      <td>NaN</td>\n",
       "      <td>NaN</td>\n",
       "      <td>NaN</td>\n",
       "      <td>NaN</td>\n",
       "      <td>NaN</td>\n",
       "      <td>NaN</td>\n",
       "      <td>NaN</td>\n",
       "      <td>NaN</td>\n",
       "      <td>NaN</td>\n",
       "      <td>NaN</td>\n",
       "      <td>NaN</td>\n",
       "      <td>NaN</td>\n",
       "    </tr>\n",
       "    <tr>\n",
       "      <th>33</th>\n",
       "      <td>11</td>\n",
       "      <td>11-7</td>\n",
       "      <td>NaN</td>\n",
       "      <td>Aggression</td>\n",
       "      <td>NaN</td>\n",
       "      <td>NaN</td>\n",
       "      <td>NaN</td>\n",
       "      <td>NaN</td>\n",
       "      <td>NaN</td>\n",
       "      <td>NaN</td>\n",
       "      <td>NaN</td>\n",
       "      <td>NaN</td>\n",
       "      <td>NaN</td>\n",
       "      <td>NaN</td>\n",
       "      <td>NaN</td>\n",
       "      <td>NaN</td>\n",
       "      <td>NaN</td>\n",
       "    </tr>\n",
       "    <tr>\n",
       "      <th>34</th>\n",
       "      <td>12</td>\n",
       "      <td>7-3</td>\n",
       "      <td>No Behaviors</td>\n",
       "      <td>Aggression</td>\n",
       "      <td>0.0</td>\n",
       "      <td>0.0</td>\n",
       "      <td>0</td>\n",
       "      <td>0</td>\n",
       "      <td>0</td>\n",
       "      <td>0</td>\n",
       "      <td>0</td>\n",
       "      <td>0</td>\n",
       "      <td>0</td>\n",
       "      <td>0.0</td>\n",
       "      <td>0.0</td>\n",
       "      <td>0.0</td>\n",
       "      <td>0.0</td>\n",
       "    </tr>\n",
       "    <tr>\n",
       "      <th>35</th>\n",
       "      <td>12</td>\n",
       "      <td>3-11</td>\n",
       "      <td>NaN</td>\n",
       "      <td>Aggression</td>\n",
       "      <td>NaN</td>\n",
       "      <td>NaN</td>\n",
       "      <td>NaN</td>\n",
       "      <td>NaN</td>\n",
       "      <td>NaN</td>\n",
       "      <td>NaN</td>\n",
       "      <td>NaN</td>\n",
       "      <td>NaN</td>\n",
       "      <td>NaN</td>\n",
       "      <td>NaN</td>\n",
       "      <td>NaN</td>\n",
       "      <td>NaN</td>\n",
       "      <td>NaN</td>\n",
       "    </tr>\n",
       "    <tr>\n",
       "      <th>36</th>\n",
       "      <td>12</td>\n",
       "      <td>11-7</td>\n",
       "      <td>NaN</td>\n",
       "      <td>Aggression</td>\n",
       "      <td>NaN</td>\n",
       "      <td>NaN</td>\n",
       "      <td>NaN</td>\n",
       "      <td>NaN</td>\n",
       "      <td>NaN</td>\n",
       "      <td>NaN</td>\n",
       "      <td>NaN</td>\n",
       "      <td>NaN</td>\n",
       "      <td>NaN</td>\n",
       "      <td>NaN</td>\n",
       "      <td>NaN</td>\n",
       "      <td>NaN</td>\n",
       "      <td>NaN</td>\n",
       "    </tr>\n",
       "    <tr>\n",
       "      <th>37</th>\n",
       "      <td>13</td>\n",
       "      <td>7-3</td>\n",
       "      <td>No Behaviors</td>\n",
       "      <td>Aggression</td>\n",
       "      <td>0.0</td>\n",
       "      <td>0.0</td>\n",
       "      <td>0</td>\n",
       "      <td>0</td>\n",
       "      <td>0</td>\n",
       "      <td>0</td>\n",
       "      <td>0</td>\n",
       "      <td>0</td>\n",
       "      <td>0</td>\n",
       "      <td>0.0</td>\n",
       "      <td>0.0</td>\n",
       "      <td>0.0</td>\n",
       "      <td>0.0</td>\n",
       "    </tr>\n",
       "    <tr>\n",
       "      <th>38</th>\n",
       "      <td>13</td>\n",
       "      <td>3-11</td>\n",
       "      <td>NaN</td>\n",
       "      <td>Aggression</td>\n",
       "      <td>NaN</td>\n",
       "      <td>NaN</td>\n",
       "      <td>0</td>\n",
       "      <td>3</td>\n",
       "      <td>0</td>\n",
       "      <td>0</td>\n",
       "      <td>0</td>\n",
       "      <td>0</td>\n",
       "      <td>0</td>\n",
       "      <td>2.0</td>\n",
       "      <td>1.0</td>\n",
       "      <td>0.0</td>\n",
       "      <td>0.0</td>\n",
       "    </tr>\n",
       "    <tr>\n",
       "      <th>39</th>\n",
       "      <td>13</td>\n",
       "      <td>11-7</td>\n",
       "      <td>No Data Recorded</td>\n",
       "      <td>Aggression</td>\n",
       "      <td>NaN</td>\n",
       "      <td>NaN</td>\n",
       "      <td>NaN</td>\n",
       "      <td>NaN</td>\n",
       "      <td>NaN</td>\n",
       "      <td>NaN</td>\n",
       "      <td>NaN</td>\n",
       "      <td>NaN</td>\n",
       "      <td>NaN</td>\n",
       "      <td>NaN</td>\n",
       "      <td>NaN</td>\n",
       "      <td>NaN</td>\n",
       "      <td>NaN</td>\n",
       "    </tr>\n",
       "    <tr>\n",
       "      <th>40</th>\n",
       "      <td>14</td>\n",
       "      <td>7-3</td>\n",
       "      <td>No Data Recorded</td>\n",
       "      <td>Aggression</td>\n",
       "      <td>NaN</td>\n",
       "      <td>NaN</td>\n",
       "      <td>NaN</td>\n",
       "      <td>NaN</td>\n",
       "      <td>NaN</td>\n",
       "      <td>NaN</td>\n",
       "      <td>NaN</td>\n",
       "      <td>NaN</td>\n",
       "      <td>NaN</td>\n",
       "      <td>NaN</td>\n",
       "      <td>NaN</td>\n",
       "      <td>NaN</td>\n",
       "      <td>NaN</td>\n",
       "    </tr>\n",
       "    <tr>\n",
       "      <th>41</th>\n",
       "      <td>14</td>\n",
       "      <td>3-11</td>\n",
       "      <td>NaN</td>\n",
       "      <td>Aggression</td>\n",
       "      <td>NaN</td>\n",
       "      <td>NaN</td>\n",
       "      <td>0</td>\n",
       "      <td>1</td>\n",
       "      <td>0</td>\n",
       "      <td>0</td>\n",
       "      <td>0</td>\n",
       "      <td>0</td>\n",
       "      <td>0</td>\n",
       "      <td>1.0</td>\n",
       "      <td>0.0</td>\n",
       "      <td>0.0</td>\n",
       "      <td>0.0</td>\n",
       "    </tr>\n",
       "    <tr>\n",
       "      <th>42</th>\n",
       "      <td>14</td>\n",
       "      <td>11-7</td>\n",
       "      <td>No Data Recorded</td>\n",
       "      <td>Aggression</td>\n",
       "      <td>NaN</td>\n",
       "      <td>NaN</td>\n",
       "      <td>NaN</td>\n",
       "      <td>NaN</td>\n",
       "      <td>NaN</td>\n",
       "      <td>NaN</td>\n",
       "      <td>NaN</td>\n",
       "      <td>NaN</td>\n",
       "      <td>NaN</td>\n",
       "      <td>NaN</td>\n",
       "      <td>NaN</td>\n",
       "      <td>NaN</td>\n",
       "      <td>NaN</td>\n",
       "    </tr>\n",
       "    <tr>\n",
       "      <th>43</th>\n",
       "      <td>15</td>\n",
       "      <td>7-3</td>\n",
       "      <td>NaN</td>\n",
       "      <td>Aggression</td>\n",
       "      <td>NaN</td>\n",
       "      <td>NaN</td>\n",
       "      <td>NaN</td>\n",
       "      <td>NaN</td>\n",
       "      <td>NaN</td>\n",
       "      <td>NaN</td>\n",
       "      <td>NaN</td>\n",
       "      <td>NaN</td>\n",
       "      <td>NaN</td>\n",
       "      <td>NaN</td>\n",
       "      <td>NaN</td>\n",
       "      <td>NaN</td>\n",
       "      <td>NaN</td>\n",
       "    </tr>\n",
       "    <tr>\n",
       "      <th>44</th>\n",
       "      <td>15</td>\n",
       "      <td>3-11</td>\n",
       "      <td>NaN</td>\n",
       "      <td>Aggression</td>\n",
       "      <td>NaN</td>\n",
       "      <td>NaN</td>\n",
       "      <td>NaN</td>\n",
       "      <td>NaN</td>\n",
       "      <td>NaN</td>\n",
       "      <td>NaN</td>\n",
       "      <td>NaN</td>\n",
       "      <td>NaN</td>\n",
       "      <td>NaN</td>\n",
       "      <td>NaN</td>\n",
       "      <td>NaN</td>\n",
       "      <td>NaN</td>\n",
       "      <td>NaN</td>\n",
       "    </tr>\n",
       "    <tr>\n",
       "      <th>45</th>\n",
       "      <td>15</td>\n",
       "      <td>11-7</td>\n",
       "      <td>NaN</td>\n",
       "      <td>Aggression</td>\n",
       "      <td>NaN</td>\n",
       "      <td>NaN</td>\n",
       "      <td>NaN</td>\n",
       "      <td>NaN</td>\n",
       "      <td>NaN</td>\n",
       "      <td>NaN</td>\n",
       "      <td>NaN</td>\n",
       "      <td>NaN</td>\n",
       "      <td>NaN</td>\n",
       "      <td>NaN</td>\n",
       "      <td>NaN</td>\n",
       "      <td>NaN</td>\n",
       "      <td>NaN</td>\n",
       "    </tr>\n",
       "    <tr>\n",
       "      <th>46</th>\n",
       "      <td>16</td>\n",
       "      <td>7-3</td>\n",
       "      <td>NaN</td>\n",
       "      <td>Aggression</td>\n",
       "      <td>NaN</td>\n",
       "      <td>NaN</td>\n",
       "      <td>0</td>\n",
       "      <td>1</td>\n",
       "      <td>0</td>\n",
       "      <td>0</td>\n",
       "      <td>0</td>\n",
       "      <td>0</td>\n",
       "      <td>0</td>\n",
       "      <td>0.0</td>\n",
       "      <td>1.0</td>\n",
       "      <td>0.0</td>\n",
       "      <td>0.0</td>\n",
       "    </tr>\n",
       "    <tr>\n",
       "      <th>47</th>\n",
       "      <td>16</td>\n",
       "      <td>3-11</td>\n",
       "      <td>NaN</td>\n",
       "      <td>Aggression</td>\n",
       "      <td>NaN</td>\n",
       "      <td>NaN</td>\n",
       "      <td>NaN</td>\n",
       "      <td>NaN</td>\n",
       "      <td>NaN</td>\n",
       "      <td>NaN</td>\n",
       "      <td>NaN</td>\n",
       "      <td>NaN</td>\n",
       "      <td>NaN</td>\n",
       "      <td>NaN</td>\n",
       "      <td>NaN</td>\n",
       "      <td>NaN</td>\n",
       "      <td>NaN</td>\n",
       "    </tr>\n",
       "    <tr>\n",
       "      <th>48</th>\n",
       "      <td>16</td>\n",
       "      <td>11-7</td>\n",
       "      <td>NaN</td>\n",
       "      <td>Aggression</td>\n",
       "      <td>NaN</td>\n",
       "      <td>NaN</td>\n",
       "      <td>NaN</td>\n",
       "      <td>NaN</td>\n",
       "      <td>NaN</td>\n",
       "      <td>NaN</td>\n",
       "      <td>NaN</td>\n",
       "      <td>NaN</td>\n",
       "      <td>NaN</td>\n",
       "      <td>NaN</td>\n",
       "      <td>NaN</td>\n",
       "      <td>NaN</td>\n",
       "      <td>NaN</td>\n",
       "    </tr>\n",
       "    <tr>\n",
       "      <th>49</th>\n",
       "      <td>17</td>\n",
       "      <td>7-3</td>\n",
       "      <td>NaN</td>\n",
       "      <td>Aggression</td>\n",
       "      <td>NaN</td>\n",
       "      <td>NaN</td>\n",
       "      <td>0</td>\n",
       "      <td>0</td>\n",
       "      <td>1</td>\n",
       "      <td>0</td>\n",
       "      <td>0</td>\n",
       "      <td>0</td>\n",
       "      <td>0</td>\n",
       "      <td>1.0</td>\n",
       "      <td>0.0</td>\n",
       "      <td>0.0</td>\n",
       "      <td>0.0</td>\n",
       "    </tr>\n",
       "    <tr>\n",
       "      <th>50</th>\n",
       "      <td>17</td>\n",
       "      <td>3-11</td>\n",
       "      <td>NaN</td>\n",
       "      <td>Aggression</td>\n",
       "      <td>NaN</td>\n",
       "      <td>NaN</td>\n",
       "      <td>0</td>\n",
       "      <td>0</td>\n",
       "      <td>2</td>\n",
       "      <td>0</td>\n",
       "      <td>0</td>\n",
       "      <td>0</td>\n",
       "      <td>0</td>\n",
       "      <td>1.0</td>\n",
       "      <td>1.0</td>\n",
       "      <td>0.0</td>\n",
       "      <td>0.0</td>\n",
       "    </tr>\n",
       "    <tr>\n",
       "      <th>51</th>\n",
       "      <td>17</td>\n",
       "      <td>11-7</td>\n",
       "      <td>No Data Recorded</td>\n",
       "      <td>Aggression</td>\n",
       "      <td>NaN</td>\n",
       "      <td>NaN</td>\n",
       "      <td>NaN</td>\n",
       "      <td>NaN</td>\n",
       "      <td>NaN</td>\n",
       "      <td>NaN</td>\n",
       "      <td>NaN</td>\n",
       "      <td>NaN</td>\n",
       "      <td>NaN</td>\n",
       "      <td>NaN</td>\n",
       "      <td>NaN</td>\n",
       "      <td>NaN</td>\n",
       "      <td>NaN</td>\n",
       "    </tr>\n",
       "    <tr>\n",
       "      <th>52</th>\n",
       "      <td>18</td>\n",
       "      <td>7-3</td>\n",
       "      <td>No Data Recorded</td>\n",
       "      <td>Aggression</td>\n",
       "      <td>NaN</td>\n",
       "      <td>NaN</td>\n",
       "      <td>0</td>\n",
       "      <td>1</td>\n",
       "      <td>1</td>\n",
       "      <td>0</td>\n",
       "      <td>0</td>\n",
       "      <td>0</td>\n",
       "      <td>0</td>\n",
       "      <td>0.0</td>\n",
       "      <td>1.0</td>\n",
       "      <td>0.0</td>\n",
       "      <td>0.0</td>\n",
       "    </tr>\n",
       "    <tr>\n",
       "      <th>53</th>\n",
       "      <td>18</td>\n",
       "      <td>3-11</td>\n",
       "      <td>No Behaviors</td>\n",
       "      <td>Aggression</td>\n",
       "      <td>0.0</td>\n",
       "      <td>0.0</td>\n",
       "      <td>0</td>\n",
       "      <td>0</td>\n",
       "      <td>0</td>\n",
       "      <td>0</td>\n",
       "      <td>0</td>\n",
       "      <td>0</td>\n",
       "      <td>0</td>\n",
       "      <td>0.0</td>\n",
       "      <td>0.0</td>\n",
       "      <td>0.0</td>\n",
       "      <td>0.0</td>\n",
       "    </tr>\n",
       "    <tr>\n",
       "      <th>54</th>\n",
       "      <td>18</td>\n",
       "      <td>11-7</td>\n",
       "      <td>No Data Recorded</td>\n",
       "      <td>Aggression</td>\n",
       "      <td>NaN</td>\n",
       "      <td>NaN</td>\n",
       "      <td>NaN</td>\n",
       "      <td>NaN</td>\n",
       "      <td>NaN</td>\n",
       "      <td>NaN</td>\n",
       "      <td>NaN</td>\n",
       "      <td>NaN</td>\n",
       "      <td>NaN</td>\n",
       "      <td>NaN</td>\n",
       "      <td>NaN</td>\n",
       "      <td>NaN</td>\n",
       "      <td>NaN</td>\n",
       "    </tr>\n",
       "    <tr>\n",
       "      <th>55</th>\n",
       "      <td>19</td>\n",
       "      <td>7-3</td>\n",
       "      <td>No Behaviors</td>\n",
       "      <td>Aggression</td>\n",
       "      <td>0.0</td>\n",
       "      <td>0.0</td>\n",
       "      <td>0</td>\n",
       "      <td>0</td>\n",
       "      <td>0</td>\n",
       "      <td>0</td>\n",
       "      <td>0</td>\n",
       "      <td>0</td>\n",
       "      <td>0</td>\n",
       "      <td>0.0</td>\n",
       "      <td>0.0</td>\n",
       "      <td>0.0</td>\n",
       "      <td>0.0</td>\n",
       "    </tr>\n",
       "    <tr>\n",
       "      <th>56</th>\n",
       "      <td>19</td>\n",
       "      <td>3-11</td>\n",
       "      <td>NaN</td>\n",
       "      <td>Aggression</td>\n",
       "      <td>NaN</td>\n",
       "      <td>NaN</td>\n",
       "      <td>0</td>\n",
       "      <td>0</td>\n",
       "      <td>0</td>\n",
       "      <td>0</td>\n",
       "      <td>0</td>\n",
       "      <td>0</td>\n",
       "      <td>0</td>\n",
       "      <td>0.0</td>\n",
       "      <td>0.0</td>\n",
       "      <td>0.0</td>\n",
       "      <td>0.0</td>\n",
       "    </tr>\n",
       "    <tr>\n",
       "      <th>57</th>\n",
       "      <td>19</td>\n",
       "      <td>11-7</td>\n",
       "      <td>NaN</td>\n",
       "      <td>Aggression</td>\n",
       "      <td>NaN</td>\n",
       "      <td>NaN</td>\n",
       "      <td>NaN</td>\n",
       "      <td>NaN</td>\n",
       "      <td>NaN</td>\n",
       "      <td>NaN</td>\n",
       "      <td>NaN</td>\n",
       "      <td>NaN</td>\n",
       "      <td>NaN</td>\n",
       "      <td>NaN</td>\n",
       "      <td>NaN</td>\n",
       "      <td>NaN</td>\n",
       "      <td>NaN</td>\n",
       "    </tr>\n",
       "    <tr>\n",
       "      <th>58</th>\n",
       "      <td>20</td>\n",
       "      <td>7-3</td>\n",
       "      <td>NaN</td>\n",
       "      <td>Aggression</td>\n",
       "      <td>NaN</td>\n",
       "      <td>NaN</td>\n",
       "      <td>0</td>\n",
       "      <td>1</td>\n",
       "      <td>1</td>\n",
       "      <td>0</td>\n",
       "      <td>0</td>\n",
       "      <td>0</td>\n",
       "      <td>0</td>\n",
       "      <td>0.0</td>\n",
       "      <td>2.0</td>\n",
       "      <td>0.0</td>\n",
       "      <td>0.0</td>\n",
       "    </tr>\n",
       "    <tr>\n",
       "      <th>59</th>\n",
       "      <td>20</td>\n",
       "      <td>3-11</td>\n",
       "      <td>NaN</td>\n",
       "      <td>Aggression</td>\n",
       "      <td>NaN</td>\n",
       "      <td>NaN</td>\n",
       "      <td>NaN</td>\n",
       "      <td>NaN</td>\n",
       "      <td>NaN</td>\n",
       "      <td>NaN</td>\n",
       "      <td>NaN</td>\n",
       "      <td>NaN</td>\n",
       "      <td>NaN</td>\n",
       "      <td>NaN</td>\n",
       "      <td>NaN</td>\n",
       "      <td>NaN</td>\n",
       "      <td>NaN</td>\n",
       "    </tr>\n",
       "    <tr>\n",
       "      <th>60</th>\n",
       "      <td>20</td>\n",
       "      <td>11-7</td>\n",
       "      <td>NaN</td>\n",
       "      <td>Aggression</td>\n",
       "      <td>NaN</td>\n",
       "      <td>NaN</td>\n",
       "      <td>NaN</td>\n",
       "      <td>NaN</td>\n",
       "      <td>NaN</td>\n",
       "      <td>NaN</td>\n",
       "      <td>NaN</td>\n",
       "      <td>NaN</td>\n",
       "      <td>NaN</td>\n",
       "      <td>NaN</td>\n",
       "      <td>NaN</td>\n",
       "      <td>NaN</td>\n",
       "      <td>NaN</td>\n",
       "    </tr>\n",
       "    <tr>\n",
       "      <th>61</th>\n",
       "      <td>21</td>\n",
       "      <td>7-3</td>\n",
       "      <td>NaN</td>\n",
       "      <td>Aggression</td>\n",
       "      <td>NaN</td>\n",
       "      <td>NaN</td>\n",
       "      <td>0</td>\n",
       "      <td>1</td>\n",
       "      <td>1</td>\n",
       "      <td>0</td>\n",
       "      <td>0</td>\n",
       "      <td>0</td>\n",
       "      <td>0</td>\n",
       "      <td>0.0</td>\n",
       "      <td>2.0</td>\n",
       "      <td>0.0</td>\n",
       "      <td>0.0</td>\n",
       "    </tr>\n",
       "    <tr>\n",
       "      <th>62</th>\n",
       "      <td>21</td>\n",
       "      <td>3-11</td>\n",
       "      <td>NaN</td>\n",
       "      <td>Aggression</td>\n",
       "      <td>NaN</td>\n",
       "      <td>NaN</td>\n",
       "      <td>NaN</td>\n",
       "      <td>NaN</td>\n",
       "      <td>NaN</td>\n",
       "      <td>NaN</td>\n",
       "      <td>NaN</td>\n",
       "      <td>NaN</td>\n",
       "      <td>NaN</td>\n",
       "      <td>NaN</td>\n",
       "      <td>NaN</td>\n",
       "      <td>NaN</td>\n",
       "      <td>NaN</td>\n",
       "    </tr>\n",
       "    <tr>\n",
       "      <th>63</th>\n",
       "      <td>21</td>\n",
       "      <td>11-7</td>\n",
       "      <td>NaN</td>\n",
       "      <td>Aggression</td>\n",
       "      <td>NaN</td>\n",
       "      <td>NaN</td>\n",
       "      <td>NaN</td>\n",
       "      <td>NaN</td>\n",
       "      <td>NaN</td>\n",
       "      <td>NaN</td>\n",
       "      <td>NaN</td>\n",
       "      <td>NaN</td>\n",
       "      <td>NaN</td>\n",
       "      <td>NaN</td>\n",
       "      <td>NaN</td>\n",
       "      <td>NaN</td>\n",
       "      <td>NaN</td>\n",
       "    </tr>\n",
       "    <tr>\n",
       "      <th>64</th>\n",
       "      <td>22</td>\n",
       "      <td>7-3</td>\n",
       "      <td>NaN</td>\n",
       "      <td>Aggression</td>\n",
       "      <td>NaN</td>\n",
       "      <td>NaN</td>\n",
       "      <td>0</td>\n",
       "      <td>0</td>\n",
       "      <td>1</td>\n",
       "      <td>0</td>\n",
       "      <td>0</td>\n",
       "      <td>0</td>\n",
       "      <td>0</td>\n",
       "      <td>1.0</td>\n",
       "      <td>0.0</td>\n",
       "      <td>0.0</td>\n",
       "      <td>0.0</td>\n",
       "    </tr>\n",
       "    <tr>\n",
       "      <th>65</th>\n",
       "      <td>22</td>\n",
       "      <td>3-11</td>\n",
       "      <td>NaN</td>\n",
       "      <td>Aggression</td>\n",
       "      <td>NaN</td>\n",
       "      <td>NaN</td>\n",
       "      <td>0</td>\n",
       "      <td>0</td>\n",
       "      <td>1</td>\n",
       "      <td>0</td>\n",
       "      <td>0</td>\n",
       "      <td>0</td>\n",
       "      <td>1</td>\n",
       "      <td>0.0</td>\n",
       "      <td>0.0</td>\n",
       "      <td>0.0</td>\n",
       "      <td>0.0</td>\n",
       "    </tr>\n",
       "    <tr>\n",
       "      <th>66</th>\n",
       "      <td>22</td>\n",
       "      <td>11-7</td>\n",
       "      <td>No Data Recorded</td>\n",
       "      <td>Aggression</td>\n",
       "      <td>NaN</td>\n",
       "      <td>NaN</td>\n",
       "      <td>NaN</td>\n",
       "      <td>NaN</td>\n",
       "      <td>NaN</td>\n",
       "      <td>NaN</td>\n",
       "      <td>NaN</td>\n",
       "      <td>NaN</td>\n",
       "      <td>NaN</td>\n",
       "      <td>NaN</td>\n",
       "      <td>NaN</td>\n",
       "      <td>NaN</td>\n",
       "      <td>NaN</td>\n",
       "    </tr>\n",
       "    <tr>\n",
       "      <th>67</th>\n",
       "      <td>23</td>\n",
       "      <td>7-3</td>\n",
       "      <td>NaN</td>\n",
       "      <td>Aggression</td>\n",
       "      <td>NaN</td>\n",
       "      <td>NaN</td>\n",
       "      <td>NaN</td>\n",
       "      <td>NaN</td>\n",
       "      <td>NaN</td>\n",
       "      <td>NaN</td>\n",
       "      <td>NaN</td>\n",
       "      <td>NaN</td>\n",
       "      <td>NaN</td>\n",
       "      <td>NaN</td>\n",
       "      <td>NaN</td>\n",
       "      <td>NaN</td>\n",
       "      <td>NaN</td>\n",
       "    </tr>\n",
       "    <tr>\n",
       "      <th>68</th>\n",
       "      <td>23</td>\n",
       "      <td>3-11</td>\n",
       "      <td>NaN</td>\n",
       "      <td>Aggression</td>\n",
       "      <td>NaN</td>\n",
       "      <td>NaN</td>\n",
       "      <td>NaN</td>\n",
       "      <td>NaN</td>\n",
       "      <td>NaN</td>\n",
       "      <td>NaN</td>\n",
       "      <td>NaN</td>\n",
       "      <td>NaN</td>\n",
       "      <td>NaN</td>\n",
       "      <td>NaN</td>\n",
       "      <td>NaN</td>\n",
       "      <td>NaN</td>\n",
       "      <td>NaN</td>\n",
       "    </tr>\n",
       "    <tr>\n",
       "      <th>69</th>\n",
       "      <td>23</td>\n",
       "      <td>11-7</td>\n",
       "      <td>NaN</td>\n",
       "      <td>Aggression</td>\n",
       "      <td>NaN</td>\n",
       "      <td>NaN</td>\n",
       "      <td>NaN</td>\n",
       "      <td>NaN</td>\n",
       "      <td>NaN</td>\n",
       "      <td>NaN</td>\n",
       "      <td>NaN</td>\n",
       "      <td>NaN</td>\n",
       "      <td>NaN</td>\n",
       "      <td>NaN</td>\n",
       "      <td>NaN</td>\n",
       "      <td>NaN</td>\n",
       "      <td>NaN</td>\n",
       "    </tr>\n",
       "    <tr>\n",
       "      <th>70</th>\n",
       "      <td>24</td>\n",
       "      <td>7-3</td>\n",
       "      <td>No Behaviors</td>\n",
       "      <td>Aggression</td>\n",
       "      <td>0.0</td>\n",
       "      <td>0.0</td>\n",
       "      <td>0</td>\n",
       "      <td>0</td>\n",
       "      <td>0</td>\n",
       "      <td>0</td>\n",
       "      <td>0</td>\n",
       "      <td>0</td>\n",
       "      <td>0</td>\n",
       "      <td>0.0</td>\n",
       "      <td>0.0</td>\n",
       "      <td>0.0</td>\n",
       "      <td>0.0</td>\n",
       "    </tr>\n",
       "    <tr>\n",
       "      <th>71</th>\n",
       "      <td>24</td>\n",
       "      <td>3-11</td>\n",
       "      <td>NaN</td>\n",
       "      <td>Aggression</td>\n",
       "      <td>NaN</td>\n",
       "      <td>NaN</td>\n",
       "      <td>NaN</td>\n",
       "      <td>NaN</td>\n",
       "      <td>NaN</td>\n",
       "      <td>NaN</td>\n",
       "      <td>NaN</td>\n",
       "      <td>NaN</td>\n",
       "      <td>NaN</td>\n",
       "      <td>NaN</td>\n",
       "      <td>NaN</td>\n",
       "      <td>NaN</td>\n",
       "      <td>NaN</td>\n",
       "    </tr>\n",
       "    <tr>\n",
       "      <th>72</th>\n",
       "      <td>24</td>\n",
       "      <td>11-7</td>\n",
       "      <td>NaN</td>\n",
       "      <td>Aggression</td>\n",
       "      <td>NaN</td>\n",
       "      <td>NaN</td>\n",
       "      <td>NaN</td>\n",
       "      <td>NaN</td>\n",
       "      <td>NaN</td>\n",
       "      <td>NaN</td>\n",
       "      <td>NaN</td>\n",
       "      <td>NaN</td>\n",
       "      <td>NaN</td>\n",
       "      <td>NaN</td>\n",
       "      <td>NaN</td>\n",
       "      <td>NaN</td>\n",
       "      <td>NaN</td>\n",
       "    </tr>\n",
       "    <tr>\n",
       "      <th>73</th>\n",
       "      <td>25</td>\n",
       "      <td>7-3</td>\n",
       "      <td>NaN</td>\n",
       "      <td>Aggression</td>\n",
       "      <td>NaN</td>\n",
       "      <td>NaN</td>\n",
       "      <td>0</td>\n",
       "      <td>2</td>\n",
       "      <td>1</td>\n",
       "      <td>0</td>\n",
       "      <td>0</td>\n",
       "      <td>0</td>\n",
       "      <td>0</td>\n",
       "      <td>2.0</td>\n",
       "      <td>1.0</td>\n",
       "      <td>0.0</td>\n",
       "      <td>0.0</td>\n",
       "    </tr>\n",
       "    <tr>\n",
       "      <th>74</th>\n",
       "      <td>25</td>\n",
       "      <td>3-11</td>\n",
       "      <td>NaN</td>\n",
       "      <td>Aggression</td>\n",
       "      <td>NaN</td>\n",
       "      <td>NaN</td>\n",
       "      <td>NaN</td>\n",
       "      <td>NaN</td>\n",
       "      <td>NaN</td>\n",
       "      <td>NaN</td>\n",
       "      <td>NaN</td>\n",
       "      <td>NaN</td>\n",
       "      <td>NaN</td>\n",
       "      <td>NaN</td>\n",
       "      <td>NaN</td>\n",
       "      <td>NaN</td>\n",
       "      <td>NaN</td>\n",
       "    </tr>\n",
       "    <tr>\n",
       "      <th>75</th>\n",
       "      <td>25</td>\n",
       "      <td>11-7</td>\n",
       "      <td>NaN</td>\n",
       "      <td>Aggression</td>\n",
       "      <td>NaN</td>\n",
       "      <td>NaN</td>\n",
       "      <td>NaN</td>\n",
       "      <td>NaN</td>\n",
       "      <td>NaN</td>\n",
       "      <td>NaN</td>\n",
       "      <td>NaN</td>\n",
       "      <td>NaN</td>\n",
       "      <td>NaN</td>\n",
       "      <td>NaN</td>\n",
       "      <td>NaN</td>\n",
       "      <td>NaN</td>\n",
       "      <td>NaN</td>\n",
       "    </tr>\n",
       "    <tr>\n",
       "      <th>76</th>\n",
       "      <td>26</td>\n",
       "      <td>7-3</td>\n",
       "      <td>No Behaviors</td>\n",
       "      <td>Aggression</td>\n",
       "      <td>0.0</td>\n",
       "      <td>0.0</td>\n",
       "      <td>0</td>\n",
       "      <td>0</td>\n",
       "      <td>0</td>\n",
       "      <td>0</td>\n",
       "      <td>0</td>\n",
       "      <td>0</td>\n",
       "      <td>0</td>\n",
       "      <td>0.0</td>\n",
       "      <td>0.0</td>\n",
       "      <td>0.0</td>\n",
       "      <td>0.0</td>\n",
       "    </tr>\n",
       "    <tr>\n",
       "      <th>77</th>\n",
       "      <td>26</td>\n",
       "      <td>3-11</td>\n",
       "      <td>No Behaviors</td>\n",
       "      <td>Aggression</td>\n",
       "      <td>0.0</td>\n",
       "      <td>0.0</td>\n",
       "      <td>0</td>\n",
       "      <td>0</td>\n",
       "      <td>0</td>\n",
       "      <td>0</td>\n",
       "      <td>0</td>\n",
       "      <td>0</td>\n",
       "      <td>0</td>\n",
       "      <td>0.0</td>\n",
       "      <td>0.0</td>\n",
       "      <td>0.0</td>\n",
       "      <td>0.0</td>\n",
       "    </tr>\n",
       "    <tr>\n",
       "      <th>78</th>\n",
       "      <td>26</td>\n",
       "      <td>11-7</td>\n",
       "      <td>No Data Recorded</td>\n",
       "      <td>Aggression</td>\n",
       "      <td>NaN</td>\n",
       "      <td>NaN</td>\n",
       "      <td>NaN</td>\n",
       "      <td>NaN</td>\n",
       "      <td>NaN</td>\n",
       "      <td>NaN</td>\n",
       "      <td>NaN</td>\n",
       "      <td>NaN</td>\n",
       "      <td>NaN</td>\n",
       "      <td>NaN</td>\n",
       "      <td>NaN</td>\n",
       "      <td>NaN</td>\n",
       "      <td>NaN</td>\n",
       "    </tr>\n",
       "    <tr>\n",
       "      <th>79</th>\n",
       "      <td>27</td>\n",
       "      <td>7-3</td>\n",
       "      <td>NaN</td>\n",
       "      <td>Aggression</td>\n",
       "      <td>NaN</td>\n",
       "      <td>NaN</td>\n",
       "      <td>0</td>\n",
       "      <td>0</td>\n",
       "      <td>2</td>\n",
       "      <td>0</td>\n",
       "      <td>0</td>\n",
       "      <td>0</td>\n",
       "      <td>0</td>\n",
       "      <td>0.0</td>\n",
       "      <td>1.0</td>\n",
       "      <td>1.0</td>\n",
       "      <td>0.0</td>\n",
       "    </tr>\n",
       "    <tr>\n",
       "      <th>80</th>\n",
       "      <td>27</td>\n",
       "      <td>3-11</td>\n",
       "      <td>NaN</td>\n",
       "      <td>Aggression</td>\n",
       "      <td>NaN</td>\n",
       "      <td>NaN</td>\n",
       "      <td>0</td>\n",
       "      <td>1</td>\n",
       "      <td>0</td>\n",
       "      <td>0</td>\n",
       "      <td>0</td>\n",
       "      <td>0</td>\n",
       "      <td>0</td>\n",
       "      <td>1.0</td>\n",
       "      <td>0.0</td>\n",
       "      <td>0.0</td>\n",
       "      <td>0.0</td>\n",
       "    </tr>\n",
       "    <tr>\n",
       "      <th>81</th>\n",
       "      <td>27</td>\n",
       "      <td>11-7</td>\n",
       "      <td>No Data Recorded</td>\n",
       "      <td>Aggression</td>\n",
       "      <td>NaN</td>\n",
       "      <td>NaN</td>\n",
       "      <td>NaN</td>\n",
       "      <td>NaN</td>\n",
       "      <td>NaN</td>\n",
       "      <td>NaN</td>\n",
       "      <td>NaN</td>\n",
       "      <td>NaN</td>\n",
       "      <td>NaN</td>\n",
       "      <td>NaN</td>\n",
       "      <td>NaN</td>\n",
       "      <td>NaN</td>\n",
       "      <td>NaN</td>\n",
       "    </tr>\n",
       "    <tr>\n",
       "      <th>82</th>\n",
       "      <td>28</td>\n",
       "      <td>7-3</td>\n",
       "      <td>NaN</td>\n",
       "      <td>Aggression</td>\n",
       "      <td>NaN</td>\n",
       "      <td>NaN</td>\n",
       "      <td>0</td>\n",
       "      <td>1</td>\n",
       "      <td>0</td>\n",
       "      <td>0</td>\n",
       "      <td>0</td>\n",
       "      <td>0</td>\n",
       "      <td>0</td>\n",
       "      <td>1.0</td>\n",
       "      <td>0.0</td>\n",
       "      <td>0.0</td>\n",
       "      <td>0.0</td>\n",
       "    </tr>\n",
       "    <tr>\n",
       "      <th>83</th>\n",
       "      <td>28</td>\n",
       "      <td>3-11</td>\n",
       "      <td>NaN</td>\n",
       "      <td>Aggression</td>\n",
       "      <td>NaN</td>\n",
       "      <td>NaN</td>\n",
       "      <td>NaN</td>\n",
       "      <td>NaN</td>\n",
       "      <td>NaN</td>\n",
       "      <td>NaN</td>\n",
       "      <td>NaN</td>\n",
       "      <td>NaN</td>\n",
       "      <td>NaN</td>\n",
       "      <td>NaN</td>\n",
       "      <td>NaN</td>\n",
       "      <td>NaN</td>\n",
       "      <td>NaN</td>\n",
       "    </tr>\n",
       "    <tr>\n",
       "      <th>84</th>\n",
       "      <td>28</td>\n",
       "      <td>11-7</td>\n",
       "      <td>NaN</td>\n",
       "      <td>Aggression</td>\n",
       "      <td>NaN</td>\n",
       "      <td>NaN</td>\n",
       "      <td>NaN</td>\n",
       "      <td>NaN</td>\n",
       "      <td>NaN</td>\n",
       "      <td>NaN</td>\n",
       "      <td>NaN</td>\n",
       "      <td>NaN</td>\n",
       "      <td>NaN</td>\n",
       "      <td>NaN</td>\n",
       "      <td>NaN</td>\n",
       "      <td>NaN</td>\n",
       "      <td>NaN</td>\n",
       "    </tr>\n",
       "    <tr>\n",
       "      <th>85</th>\n",
       "      <td>29</td>\n",
       "      <td>7-3</td>\n",
       "      <td>No Data Recorded</td>\n",
       "      <td>Aggression</td>\n",
       "      <td>NaN</td>\n",
       "      <td>NaN</td>\n",
       "      <td>NaN</td>\n",
       "      <td>NaN</td>\n",
       "      <td>NaN</td>\n",
       "      <td>NaN</td>\n",
       "      <td>NaN</td>\n",
       "      <td>NaN</td>\n",
       "      <td>NaN</td>\n",
       "      <td>NaN</td>\n",
       "      <td>NaN</td>\n",
       "      <td>NaN</td>\n",
       "      <td>NaN</td>\n",
       "    </tr>\n",
       "    <tr>\n",
       "      <th>86</th>\n",
       "      <td>29</td>\n",
       "      <td>3-11</td>\n",
       "      <td>NaN</td>\n",
       "      <td>Aggression</td>\n",
       "      <td>NaN</td>\n",
       "      <td>NaN</td>\n",
       "      <td>0</td>\n",
       "      <td>5</td>\n",
       "      <td>5</td>\n",
       "      <td>0</td>\n",
       "      <td>0</td>\n",
       "      <td>0</td>\n",
       "      <td>0</td>\n",
       "      <td>0.0</td>\n",
       "      <td>5.0</td>\n",
       "      <td>0.0</td>\n",
       "      <td>5.0</td>\n",
       "    </tr>\n",
       "    <tr>\n",
       "      <th>87</th>\n",
       "      <td>29</td>\n",
       "      <td>11-7</td>\n",
       "      <td>No Data Recorded</td>\n",
       "      <td>Aggression</td>\n",
       "      <td>NaN</td>\n",
       "      <td>NaN</td>\n",
       "      <td>NaN</td>\n",
       "      <td>NaN</td>\n",
       "      <td>NaN</td>\n",
       "      <td>NaN</td>\n",
       "      <td>NaN</td>\n",
       "      <td>NaN</td>\n",
       "      <td>NaN</td>\n",
       "      <td>NaN</td>\n",
       "      <td>NaN</td>\n",
       "      <td>NaN</td>\n",
       "      <td>NaN</td>\n",
       "    </tr>\n",
       "    <tr>\n",
       "      <th>88</th>\n",
       "      <td>30</td>\n",
       "      <td>7-3</td>\n",
       "      <td>NaN</td>\n",
       "      <td>Aggression</td>\n",
       "      <td>NaN</td>\n",
       "      <td>NaN</td>\n",
       "      <td>1</td>\n",
       "      <td>NaN</td>\n",
       "      <td>NaN</td>\n",
       "      <td>NaN</td>\n",
       "      <td>NaN</td>\n",
       "      <td>NaN</td>\n",
       "      <td>1</td>\n",
       "      <td>NaN</td>\n",
       "      <td>NaN</td>\n",
       "      <td>NaN</td>\n",
       "      <td>NaN</td>\n",
       "    </tr>\n",
       "    <tr>\n",
       "      <th>89</th>\n",
       "      <td>30</td>\n",
       "      <td>3-11</td>\n",
       "      <td>No Behaviors</td>\n",
       "      <td>Aggression</td>\n",
       "      <td>0.0</td>\n",
       "      <td>0.0</td>\n",
       "      <td>0</td>\n",
       "      <td>0</td>\n",
       "      <td>0</td>\n",
       "      <td>0</td>\n",
       "      <td>0</td>\n",
       "      <td>0</td>\n",
       "      <td>0</td>\n",
       "      <td>0.0</td>\n",
       "      <td>0.0</td>\n",
       "      <td>0.0</td>\n",
       "      <td>0.0</td>\n",
       "    </tr>\n",
       "    <tr>\n",
       "      <th>90</th>\n",
       "      <td>30</td>\n",
       "      <td>11-7</td>\n",
       "      <td>NaN</td>\n",
       "      <td>Aggression</td>\n",
       "      <td>NaN</td>\n",
       "      <td>NaN</td>\n",
       "      <td>NaN</td>\n",
       "      <td>NaN</td>\n",
       "      <td>NaN</td>\n",
       "      <td>NaN</td>\n",
       "      <td>NaN</td>\n",
       "      <td>NaN</td>\n",
       "      <td>NaN</td>\n",
       "      <td>NaN</td>\n",
       "      <td>NaN</td>\n",
       "      <td>NaN</td>\n",
       "      <td>NaN</td>\n",
       "    </tr>\n",
       "    <tr>\n",
       "      <th>91</th>\n",
       "      <td>31</td>\n",
       "      <td>7-3</td>\n",
       "      <td>No Behaviors</td>\n",
       "      <td>Aggression</td>\n",
       "      <td>0.0</td>\n",
       "      <td>0.0</td>\n",
       "      <td>0</td>\n",
       "      <td>0</td>\n",
       "      <td>0</td>\n",
       "      <td>0</td>\n",
       "      <td>0</td>\n",
       "      <td>0</td>\n",
       "      <td>0</td>\n",
       "      <td>0.0</td>\n",
       "      <td>0.0</td>\n",
       "      <td>0.0</td>\n",
       "      <td>0.0</td>\n",
       "    </tr>\n",
       "    <tr>\n",
       "      <th>92</th>\n",
       "      <td>31</td>\n",
       "      <td>3-11</td>\n",
       "      <td>No Data Recorded</td>\n",
       "      <td>Aggression</td>\n",
       "      <td>NaN</td>\n",
       "      <td>NaN</td>\n",
       "      <td>NaN</td>\n",
       "      <td>NaN</td>\n",
       "      <td>NaN</td>\n",
       "      <td>NaN</td>\n",
       "      <td>NaN</td>\n",
       "      <td>NaN</td>\n",
       "      <td>NaN</td>\n",
       "      <td>NaN</td>\n",
       "      <td>NaN</td>\n",
       "      <td>NaN</td>\n",
       "      <td>NaN</td>\n",
       "    </tr>\n",
       "    <tr>\n",
       "      <th>93</th>\n",
       "      <td>31</td>\n",
       "      <td>11-7</td>\n",
       "      <td>No Data Recorded</td>\n",
       "      <td>Aggression</td>\n",
       "      <td>NaN</td>\n",
       "      <td>NaN</td>\n",
       "      <td>NaN</td>\n",
       "      <td>NaN</td>\n",
       "      <td>NaN</td>\n",
       "      <td>NaN</td>\n",
       "      <td>NaN</td>\n",
       "      <td>NaN</td>\n",
       "      <td>NaN</td>\n",
       "      <td>NaN</td>\n",
       "      <td>NaN</td>\n",
       "      <td>NaN</td>\n",
       "      <td>NaN</td>\n",
       "    </tr>\n",
       "    <tr>\n",
       "      <th>1</th>\n",
       "      <td>1</td>\n",
       "      <td>7-3</td>\n",
       "      <td>LOA</td>\n",
       "      <td>Self Mutilation</td>\n",
       "      <td>NaN</td>\n",
       "      <td>NaN</td>\n",
       "      <td>NaN</td>\n",
       "      <td>NaN</td>\n",
       "      <td>NaN</td>\n",
       "      <td>NaN</td>\n",
       "      <td>NaN</td>\n",
       "      <td>NaN</td>\n",
       "      <td>NaN</td>\n",
       "      <td>NaN</td>\n",
       "      <td>NaN</td>\n",
       "      <td>NaN</td>\n",
       "      <td>NaN</td>\n",
       "    </tr>\n",
       "    <tr>\n",
       "      <th>2</th>\n",
       "      <td>1</td>\n",
       "      <td>3-11</td>\n",
       "      <td>LOA</td>\n",
       "      <td>Self Mutilation</td>\n",
       "      <td>NaN</td>\n",
       "      <td>NaN</td>\n",
       "      <td>NaN</td>\n",
       "      <td>NaN</td>\n",
       "      <td>NaN</td>\n",
       "      <td>NaN</td>\n",
       "      <td>NaN</td>\n",
       "      <td>NaN</td>\n",
       "      <td>NaN</td>\n",
       "      <td>NaN</td>\n",
       "      <td>NaN</td>\n",
       "      <td>NaN</td>\n",
       "      <td>NaN</td>\n",
       "    </tr>\n",
       "    <tr>\n",
       "      <th>3</th>\n",
       "      <td>1</td>\n",
       "      <td>11-7</td>\n",
       "      <td>LOA</td>\n",
       "      <td>Self Mutilation</td>\n",
       "      <td>NaN</td>\n",
       "      <td>NaN</td>\n",
       "      <td>NaN</td>\n",
       "      <td>NaN</td>\n",
       "      <td>NaN</td>\n",
       "      <td>NaN</td>\n",
       "      <td>NaN</td>\n",
       "      <td>NaN</td>\n",
       "      <td>NaN</td>\n",
       "      <td>NaN</td>\n",
       "      <td>NaN</td>\n",
       "      <td>NaN</td>\n",
       "      <td>NaN</td>\n",
       "    </tr>\n",
       "    <tr>\n",
       "      <th>4</th>\n",
       "      <td>2</td>\n",
       "      <td>7-3</td>\n",
       "      <td>LOA</td>\n",
       "      <td>Self Mutilation</td>\n",
       "      <td>NaN</td>\n",
       "      <td>NaN</td>\n",
       "      <td>NaN</td>\n",
       "      <td>NaN</td>\n",
       "      <td>NaN</td>\n",
       "      <td>NaN</td>\n",
       "      <td>NaN</td>\n",
       "      <td>NaN</td>\n",
       "      <td>NaN</td>\n",
       "      <td>NaN</td>\n",
       "      <td>NaN</td>\n",
       "      <td>NaN</td>\n",
       "      <td>NaN</td>\n",
       "    </tr>\n",
       "    <tr>\n",
       "      <th>5</th>\n",
       "      <td>2</td>\n",
       "      <td>3-11</td>\n",
       "      <td>LOA</td>\n",
       "      <td>Self Mutilation</td>\n",
       "      <td>NaN</td>\n",
       "      <td>NaN</td>\n",
       "      <td>NaN</td>\n",
       "      <td>NaN</td>\n",
       "      <td>NaN</td>\n",
       "      <td>NaN</td>\n",
       "      <td>NaN</td>\n",
       "      <td>NaN</td>\n",
       "      <td>NaN</td>\n",
       "      <td>NaN</td>\n",
       "      <td>NaN</td>\n",
       "      <td>NaN</td>\n",
       "      <td>NaN</td>\n",
       "    </tr>\n",
       "    <tr>\n",
       "      <th>6</th>\n",
       "      <td>2</td>\n",
       "      <td>11-7</td>\n",
       "      <td>LOA</td>\n",
       "      <td>Self Mutilation</td>\n",
       "      <td>NaN</td>\n",
       "      <td>NaN</td>\n",
       "      <td>NaN</td>\n",
       "      <td>NaN</td>\n",
       "      <td>NaN</td>\n",
       "      <td>NaN</td>\n",
       "      <td>NaN</td>\n",
       "      <td>NaN</td>\n",
       "      <td>NaN</td>\n",
       "      <td>NaN</td>\n",
       "      <td>NaN</td>\n",
       "      <td>NaN</td>\n",
       "      <td>NaN</td>\n",
       "    </tr>\n",
       "    <tr>\n",
       "      <th>7</th>\n",
       "      <td>3</td>\n",
       "      <td>7-3</td>\n",
       "      <td>LOA</td>\n",
       "      <td>Self Mutilation</td>\n",
       "      <td>NaN</td>\n",
       "      <td>NaN</td>\n",
       "      <td>NaN</td>\n",
       "      <td>NaN</td>\n",
       "      <td>NaN</td>\n",
       "      <td>NaN</td>\n",
       "      <td>NaN</td>\n",
       "      <td>NaN</td>\n",
       "      <td>NaN</td>\n",
       "      <td>NaN</td>\n",
       "      <td>NaN</td>\n",
       "      <td>NaN</td>\n",
       "      <td>NaN</td>\n",
       "    </tr>\n",
       "  </tbody>\n",
       "</table>\n",
       "</div>"
      ],
      "text/plain": [
       "    Date Shift           No Data           Target  Duration Specific  \\\n",
       "1      1   7-3               LOA       Aggression                NaN   \n",
       "2      1  3-11               LOA       Aggression                NaN   \n",
       "3      1  11-7               LOA       Aggression                NaN   \n",
       "4      2   7-3               LOA       Aggression                NaN   \n",
       "5      2  3-11               LOA       Aggression                NaN   \n",
       "6      2  11-7               LOA       Aggression                NaN   \n",
       "7      3   7-3               LOA       Aggression                NaN   \n",
       "8      3  3-11      No Behaviors       Aggression                0.0   \n",
       "9      3  11-7  No Data Recorded       Aggression                NaN   \n",
       "10     4   7-3               NaN       Aggression                NaN   \n",
       "11     4  3-11      No Behaviors       Aggression                0.0   \n",
       "12     4  11-7  No Data Recorded       Aggression                NaN   \n",
       "13     5   7-3               NaN       Aggression                NaN   \n",
       "14     5  3-11               NaN       Aggression                NaN   \n",
       "15     5  11-7  No Data Recorded       Aggression                NaN   \n",
       "16     6   7-3               NaN       Aggression                NaN   \n",
       "17     6  3-11  No Data Recorded       Aggression                NaN   \n",
       "18     6  11-7      No Behaviors       Aggression                0.0   \n",
       "19     7   7-3               NaN       Aggression                NaN   \n",
       "20     7  3-11      No Behaviors       Aggression                0.0   \n",
       "21     7  11-7  No Data Recorded       Aggression                NaN   \n",
       "22     8   7-3               NaN       Aggression                NaN   \n",
       "23     8  3-11               NaN       Aggression                NaN   \n",
       "24     8  11-7               NaN       Aggression                NaN   \n",
       "25     9   7-3               NaN       Aggression                NaN   \n",
       "26     9  3-11               NaN       Aggression                NaN   \n",
       "27     9  11-7               NaN       Aggression                NaN   \n",
       "28    10   7-3      No Behaviors       Aggression                0.0   \n",
       "29    10  3-11               NaN       Aggression                NaN   \n",
       "30    10  11-7               NaN       Aggression                NaN   \n",
       "31    11   7-3      No Behaviors       Aggression                0.0   \n",
       "32    11  3-11  No Data Recorded       Aggression                NaN   \n",
       "33    11  11-7               NaN       Aggression                NaN   \n",
       "34    12   7-3      No Behaviors       Aggression                0.0   \n",
       "35    12  3-11               NaN       Aggression                NaN   \n",
       "36    12  11-7               NaN       Aggression                NaN   \n",
       "37    13   7-3      No Behaviors       Aggression                0.0   \n",
       "38    13  3-11               NaN       Aggression                NaN   \n",
       "39    13  11-7  No Data Recorded       Aggression                NaN   \n",
       "40    14   7-3  No Data Recorded       Aggression                NaN   \n",
       "41    14  3-11               NaN       Aggression                NaN   \n",
       "42    14  11-7  No Data Recorded       Aggression                NaN   \n",
       "43    15   7-3               NaN       Aggression                NaN   \n",
       "44    15  3-11               NaN       Aggression                NaN   \n",
       "45    15  11-7               NaN       Aggression                NaN   \n",
       "46    16   7-3               NaN       Aggression                NaN   \n",
       "47    16  3-11               NaN       Aggression                NaN   \n",
       "48    16  11-7               NaN       Aggression                NaN   \n",
       "49    17   7-3               NaN       Aggression                NaN   \n",
       "50    17  3-11               NaN       Aggression                NaN   \n",
       "51    17  11-7  No Data Recorded       Aggression                NaN   \n",
       "52    18   7-3  No Data Recorded       Aggression                NaN   \n",
       "53    18  3-11      No Behaviors       Aggression                0.0   \n",
       "54    18  11-7  No Data Recorded       Aggression                NaN   \n",
       "55    19   7-3      No Behaviors       Aggression                0.0   \n",
       "56    19  3-11               NaN       Aggression                NaN   \n",
       "57    19  11-7               NaN       Aggression                NaN   \n",
       "58    20   7-3               NaN       Aggression                NaN   \n",
       "59    20  3-11               NaN       Aggression                NaN   \n",
       "60    20  11-7               NaN       Aggression                NaN   \n",
       "61    21   7-3               NaN       Aggression                NaN   \n",
       "62    21  3-11               NaN       Aggression                NaN   \n",
       "63    21  11-7               NaN       Aggression                NaN   \n",
       "64    22   7-3               NaN       Aggression                NaN   \n",
       "65    22  3-11               NaN       Aggression                NaN   \n",
       "66    22  11-7  No Data Recorded       Aggression                NaN   \n",
       "67    23   7-3               NaN       Aggression                NaN   \n",
       "68    23  3-11               NaN       Aggression                NaN   \n",
       "69    23  11-7               NaN       Aggression                NaN   \n",
       "70    24   7-3      No Behaviors       Aggression                0.0   \n",
       "71    24  3-11               NaN       Aggression                NaN   \n",
       "72    24  11-7               NaN       Aggression                NaN   \n",
       "73    25   7-3               NaN       Aggression                NaN   \n",
       "74    25  3-11               NaN       Aggression                NaN   \n",
       "75    25  11-7               NaN       Aggression                NaN   \n",
       "76    26   7-3      No Behaviors       Aggression                0.0   \n",
       "77    26  3-11      No Behaviors       Aggression                0.0   \n",
       "78    26  11-7  No Data Recorded       Aggression                NaN   \n",
       "79    27   7-3               NaN       Aggression                NaN   \n",
       "80    27  3-11               NaN       Aggression                NaN   \n",
       "81    27  11-7  No Data Recorded       Aggression                NaN   \n",
       "82    28   7-3               NaN       Aggression                NaN   \n",
       "83    28  3-11               NaN       Aggression                NaN   \n",
       "84    28  11-7               NaN       Aggression                NaN   \n",
       "85    29   7-3  No Data Recorded       Aggression                NaN   \n",
       "86    29  3-11               NaN       Aggression                NaN   \n",
       "87    29  11-7  No Data Recorded       Aggression                NaN   \n",
       "88    30   7-3               NaN       Aggression                NaN   \n",
       "89    30  3-11      No Behaviors       Aggression                0.0   \n",
       "90    30  11-7               NaN       Aggression                NaN   \n",
       "91    31   7-3      No Behaviors       Aggression                0.0   \n",
       "92    31  3-11  No Data Recorded       Aggression                NaN   \n",
       "93    31  11-7  No Data Recorded       Aggression                NaN   \n",
       "1      1   7-3               LOA  Self Mutilation                NaN   \n",
       "2      1  3-11               LOA  Self Mutilation                NaN   \n",
       "3      1  11-7               LOA  Self Mutilation                NaN   \n",
       "4      2   7-3               LOA  Self Mutilation                NaN   \n",
       "5      2  3-11               LOA  Self Mutilation                NaN   \n",
       "6      2  11-7               LOA  Self Mutilation                NaN   \n",
       "7      3   7-3               LOA  Self Mutilation                NaN   \n",
       "\n",
       "    Time Sampling % Duration: 0 Duration: <5 Duration: 6-10 Duration: 11-15  \\\n",
       "1               NaN         NaN          NaN            NaN             NaN   \n",
       "2               NaN         NaN          NaN            NaN             NaN   \n",
       "3               NaN         NaN          NaN            NaN             NaN   \n",
       "4               NaN         NaN          NaN            NaN             NaN   \n",
       "5               NaN         NaN          NaN            NaN             NaN   \n",
       "6               NaN         NaN          NaN            NaN             NaN   \n",
       "7               NaN         NaN          NaN            NaN             NaN   \n",
       "8               0.0           0            0              0               0   \n",
       "9               NaN         NaN          NaN            NaN             NaN   \n",
       "10              NaN           0            2              0               0   \n",
       "11              0.0           0            0              0               0   \n",
       "12              NaN         NaN          NaN            NaN             NaN   \n",
       "13              NaN           0            2              0               0   \n",
       "14              NaN           0            2              0               0   \n",
       "15              NaN         NaN          NaN            NaN             NaN   \n",
       "16              NaN           0            2              0               0   \n",
       "17              NaN         NaN          NaN            NaN             NaN   \n",
       "18              0.0           0            0              0               0   \n",
       "19              NaN           0            0              0               0   \n",
       "20              0.0           0            0              0               0   \n",
       "21              NaN         NaN          NaN            NaN             NaN   \n",
       "22              NaN         NaN          NaN            NaN             NaN   \n",
       "23              NaN         NaN          NaN            NaN             NaN   \n",
       "24              NaN         NaN          NaN            NaN             NaN   \n",
       "25              NaN         NaN          NaN            NaN             NaN   \n",
       "26              NaN         NaN          NaN            NaN             NaN   \n",
       "27              NaN         NaN          NaN            NaN             NaN   \n",
       "28              0.0           0            0              0               0   \n",
       "29              NaN         NaN          NaN            NaN             NaN   \n",
       "30              NaN         NaN          NaN            NaN             NaN   \n",
       "31              0.0           0            0              0               0   \n",
       "32              NaN         NaN          NaN            NaN             NaN   \n",
       "33              NaN         NaN          NaN            NaN             NaN   \n",
       "34              0.0           0            0              0               0   \n",
       "35              NaN         NaN          NaN            NaN             NaN   \n",
       "36              NaN         NaN          NaN            NaN             NaN   \n",
       "37              0.0           0            0              0               0   \n",
       "38              NaN           0            3              0               0   \n",
       "39              NaN         NaN          NaN            NaN             NaN   \n",
       "40              NaN         NaN          NaN            NaN             NaN   \n",
       "41              NaN           0            1              0               0   \n",
       "42              NaN         NaN          NaN            NaN             NaN   \n",
       "43              NaN         NaN          NaN            NaN             NaN   \n",
       "44              NaN         NaN          NaN            NaN             NaN   \n",
       "45              NaN         NaN          NaN            NaN             NaN   \n",
       "46              NaN           0            1              0               0   \n",
       "47              NaN         NaN          NaN            NaN             NaN   \n",
       "48              NaN         NaN          NaN            NaN             NaN   \n",
       "49              NaN           0            0              1               0   \n",
       "50              NaN           0            0              2               0   \n",
       "51              NaN         NaN          NaN            NaN             NaN   \n",
       "52              NaN           0            1              1               0   \n",
       "53              0.0           0            0              0               0   \n",
       "54              NaN         NaN          NaN            NaN             NaN   \n",
       "55              0.0           0            0              0               0   \n",
       "56              NaN           0            0              0               0   \n",
       "57              NaN         NaN          NaN            NaN             NaN   \n",
       "58              NaN           0            1              1               0   \n",
       "59              NaN         NaN          NaN            NaN             NaN   \n",
       "60              NaN         NaN          NaN            NaN             NaN   \n",
       "61              NaN           0            1              1               0   \n",
       "62              NaN         NaN          NaN            NaN             NaN   \n",
       "63              NaN         NaN          NaN            NaN             NaN   \n",
       "64              NaN           0            0              1               0   \n",
       "65              NaN           0            0              1               0   \n",
       "66              NaN         NaN          NaN            NaN             NaN   \n",
       "67              NaN         NaN          NaN            NaN             NaN   \n",
       "68              NaN         NaN          NaN            NaN             NaN   \n",
       "69              NaN         NaN          NaN            NaN             NaN   \n",
       "70              0.0           0            0              0               0   \n",
       "71              NaN         NaN          NaN            NaN             NaN   \n",
       "72              NaN         NaN          NaN            NaN             NaN   \n",
       "73              NaN           0            2              1               0   \n",
       "74              NaN         NaN          NaN            NaN             NaN   \n",
       "75              NaN         NaN          NaN            NaN             NaN   \n",
       "76              0.0           0            0              0               0   \n",
       "77              0.0           0            0              0               0   \n",
       "78              NaN         NaN          NaN            NaN             NaN   \n",
       "79              NaN           0            0              2               0   \n",
       "80              NaN           0            1              0               0   \n",
       "81              NaN         NaN          NaN            NaN             NaN   \n",
       "82              NaN           0            1              0               0   \n",
       "83              NaN         NaN          NaN            NaN             NaN   \n",
       "84              NaN         NaN          NaN            NaN             NaN   \n",
       "85              NaN         NaN          NaN            NaN             NaN   \n",
       "86              NaN           0            5              5               0   \n",
       "87              NaN         NaN          NaN            NaN             NaN   \n",
       "88              NaN           1          NaN            NaN             NaN   \n",
       "89              0.0           0            0              0               0   \n",
       "90              NaN         NaN          NaN            NaN             NaN   \n",
       "91              0.0           0            0              0               0   \n",
       "92              NaN         NaN          NaN            NaN             NaN   \n",
       "93              NaN         NaN          NaN            NaN             NaN   \n",
       "1               NaN         NaN          NaN            NaN             NaN   \n",
       "2               NaN         NaN          NaN            NaN             NaN   \n",
       "3               NaN         NaN          NaN            NaN             NaN   \n",
       "4               NaN         NaN          NaN            NaN             NaN   \n",
       "5               NaN         NaN          NaN            NaN             NaN   \n",
       "6               NaN         NaN          NaN            NaN             NaN   \n",
       "7               NaN         NaN          NaN            NaN             NaN   \n",
       "\n",
       "   Duration: 16-20 Duration: 20+ Interval: 0  Interval: 1  Interval: 2  \\\n",
       "1              NaN           NaN         NaN          NaN          NaN   \n",
       "2              NaN           NaN         NaN          NaN          NaN   \n",
       "3              NaN           NaN         NaN          NaN          NaN   \n",
       "4              NaN           NaN         NaN          NaN          NaN   \n",
       "5              NaN           NaN         NaN          NaN          NaN   \n",
       "6              NaN           NaN         NaN          NaN          NaN   \n",
       "7              NaN           NaN         NaN          NaN          NaN   \n",
       "8                0             0           0          0.0          0.0   \n",
       "9              NaN           NaN         NaN          NaN          NaN   \n",
       "10               0             0           1          1.0          NaN   \n",
       "11               0             0           0          0.0          0.0   \n",
       "12             NaN           NaN         NaN          NaN          NaN   \n",
       "13               0             0           0          0.0          2.0   \n",
       "14               0             0           0          2.0          0.0   \n",
       "15             NaN           NaN         NaN          NaN          NaN   \n",
       "16               0             0           0          0.0          2.0   \n",
       "17             NaN           NaN         NaN          NaN          NaN   \n",
       "18               0             0           0          0.0          0.0   \n",
       "19               0             1           0          0.0          0.0   \n",
       "20               0             0           0          0.0          0.0   \n",
       "21             NaN           NaN         NaN          NaN          NaN   \n",
       "22             NaN           NaN         NaN          NaN          NaN   \n",
       "23             NaN           NaN         NaN          NaN          NaN   \n",
       "24             NaN           NaN         NaN          NaN          NaN   \n",
       "25             NaN           NaN         NaN          NaN          NaN   \n",
       "26             NaN           NaN         NaN          NaN          NaN   \n",
       "27             NaN           NaN         NaN          NaN          NaN   \n",
       "28               0             0           0          0.0          0.0   \n",
       "29             NaN           NaN         NaN          NaN          NaN   \n",
       "30             NaN           NaN         NaN          NaN          NaN   \n",
       "31               0             0           0          0.0          0.0   \n",
       "32             NaN           NaN         NaN          NaN          NaN   \n",
       "33             NaN           NaN         NaN          NaN          NaN   \n",
       "34               0             0           0          0.0          0.0   \n",
       "35             NaN           NaN         NaN          NaN          NaN   \n",
       "36             NaN           NaN         NaN          NaN          NaN   \n",
       "37               0             0           0          0.0          0.0   \n",
       "38               0             0           0          2.0          1.0   \n",
       "39             NaN           NaN         NaN          NaN          NaN   \n",
       "40             NaN           NaN         NaN          NaN          NaN   \n",
       "41               0             0           0          1.0          0.0   \n",
       "42             NaN           NaN         NaN          NaN          NaN   \n",
       "43             NaN           NaN         NaN          NaN          NaN   \n",
       "44             NaN           NaN         NaN          NaN          NaN   \n",
       "45             NaN           NaN         NaN          NaN          NaN   \n",
       "46               0             0           0          0.0          1.0   \n",
       "47             NaN           NaN         NaN          NaN          NaN   \n",
       "48             NaN           NaN         NaN          NaN          NaN   \n",
       "49               0             0           0          1.0          0.0   \n",
       "50               0             0           0          1.0          1.0   \n",
       "51             NaN           NaN         NaN          NaN          NaN   \n",
       "52               0             0           0          0.0          1.0   \n",
       "53               0             0           0          0.0          0.0   \n",
       "54             NaN           NaN         NaN          NaN          NaN   \n",
       "55               0             0           0          0.0          0.0   \n",
       "56               0             0           0          0.0          0.0   \n",
       "57             NaN           NaN         NaN          NaN          NaN   \n",
       "58               0             0           0          0.0          2.0   \n",
       "59             NaN           NaN         NaN          NaN          NaN   \n",
       "60             NaN           NaN         NaN          NaN          NaN   \n",
       "61               0             0           0          0.0          2.0   \n",
       "62             NaN           NaN         NaN          NaN          NaN   \n",
       "63             NaN           NaN         NaN          NaN          NaN   \n",
       "64               0             0           0          1.0          0.0   \n",
       "65               0             0           1          0.0          0.0   \n",
       "66             NaN           NaN         NaN          NaN          NaN   \n",
       "67             NaN           NaN         NaN          NaN          NaN   \n",
       "68             NaN           NaN         NaN          NaN          NaN   \n",
       "69             NaN           NaN         NaN          NaN          NaN   \n",
       "70               0             0           0          0.0          0.0   \n",
       "71             NaN           NaN         NaN          NaN          NaN   \n",
       "72             NaN           NaN         NaN          NaN          NaN   \n",
       "73               0             0           0          2.0          1.0   \n",
       "74             NaN           NaN         NaN          NaN          NaN   \n",
       "75             NaN           NaN         NaN          NaN          NaN   \n",
       "76               0             0           0          0.0          0.0   \n",
       "77               0             0           0          0.0          0.0   \n",
       "78             NaN           NaN         NaN          NaN          NaN   \n",
       "79               0             0           0          0.0          1.0   \n",
       "80               0             0           0          1.0          0.0   \n",
       "81             NaN           NaN         NaN          NaN          NaN   \n",
       "82               0             0           0          1.0          0.0   \n",
       "83             NaN           NaN         NaN          NaN          NaN   \n",
       "84             NaN           NaN         NaN          NaN          NaN   \n",
       "85             NaN           NaN         NaN          NaN          NaN   \n",
       "86               0             0           0          0.0          5.0   \n",
       "87             NaN           NaN         NaN          NaN          NaN   \n",
       "88             NaN           NaN           1          NaN          NaN   \n",
       "89               0             0           0          0.0          0.0   \n",
       "90             NaN           NaN         NaN          NaN          NaN   \n",
       "91               0             0           0          0.0          0.0   \n",
       "92             NaN           NaN         NaN          NaN          NaN   \n",
       "93             NaN           NaN         NaN          NaN          NaN   \n",
       "1              NaN           NaN         NaN          NaN          NaN   \n",
       "2              NaN           NaN         NaN          NaN          NaN   \n",
       "3              NaN           NaN         NaN          NaN          NaN   \n",
       "4              NaN           NaN         NaN          NaN          NaN   \n",
       "5              NaN           NaN         NaN          NaN          NaN   \n",
       "6              NaN           NaN         NaN          NaN          NaN   \n",
       "7              NaN           NaN         NaN          NaN          NaN   \n",
       "\n",
       "    Interval: 3  Interval: 4  \n",
       "1           NaN          NaN  \n",
       "2           NaN          NaN  \n",
       "3           NaN          NaN  \n",
       "4           NaN          NaN  \n",
       "5           NaN          NaN  \n",
       "6           NaN          NaN  \n",
       "7           NaN          NaN  \n",
       "8           0.0          0.0  \n",
       "9           NaN          NaN  \n",
       "10          NaN          NaN  \n",
       "11          0.0          0.0  \n",
       "12          NaN          NaN  \n",
       "13          0.0          0.0  \n",
       "14          0.0          0.0  \n",
       "15          NaN          NaN  \n",
       "16          0.0          0.0  \n",
       "17          NaN          NaN  \n",
       "18          0.0          0.0  \n",
       "19          0.0          1.0  \n",
       "20          0.0          0.0  \n",
       "21          NaN          NaN  \n",
       "22          NaN          NaN  \n",
       "23          NaN          NaN  \n",
       "24          NaN          NaN  \n",
       "25          NaN          NaN  \n",
       "26          NaN          NaN  \n",
       "27          NaN          NaN  \n",
       "28          0.0          0.0  \n",
       "29          NaN          NaN  \n",
       "30          NaN          NaN  \n",
       "31          0.0          0.0  \n",
       "32          NaN          NaN  \n",
       "33          NaN          NaN  \n",
       "34          0.0          0.0  \n",
       "35          NaN          NaN  \n",
       "36          NaN          NaN  \n",
       "37          0.0          0.0  \n",
       "38          0.0          0.0  \n",
       "39          NaN          NaN  \n",
       "40          NaN          NaN  \n",
       "41          0.0          0.0  \n",
       "42          NaN          NaN  \n",
       "43          NaN          NaN  \n",
       "44          NaN          NaN  \n",
       "45          NaN          NaN  \n",
       "46          0.0          0.0  \n",
       "47          NaN          NaN  \n",
       "48          NaN          NaN  \n",
       "49          0.0          0.0  \n",
       "50          0.0          0.0  \n",
       "51          NaN          NaN  \n",
       "52          0.0          0.0  \n",
       "53          0.0          0.0  \n",
       "54          NaN          NaN  \n",
       "55          0.0          0.0  \n",
       "56          0.0          0.0  \n",
       "57          NaN          NaN  \n",
       "58          0.0          0.0  \n",
       "59          NaN          NaN  \n",
       "60          NaN          NaN  \n",
       "61          0.0          0.0  \n",
       "62          NaN          NaN  \n",
       "63          NaN          NaN  \n",
       "64          0.0          0.0  \n",
       "65          0.0          0.0  \n",
       "66          NaN          NaN  \n",
       "67          NaN          NaN  \n",
       "68          NaN          NaN  \n",
       "69          NaN          NaN  \n",
       "70          0.0          0.0  \n",
       "71          NaN          NaN  \n",
       "72          NaN          NaN  \n",
       "73          0.0          0.0  \n",
       "74          NaN          NaN  \n",
       "75          NaN          NaN  \n",
       "76          0.0          0.0  \n",
       "77          0.0          0.0  \n",
       "78          NaN          NaN  \n",
       "79          1.0          0.0  \n",
       "80          0.0          0.0  \n",
       "81          NaN          NaN  \n",
       "82          0.0          0.0  \n",
       "83          NaN          NaN  \n",
       "84          NaN          NaN  \n",
       "85          NaN          NaN  \n",
       "86          0.0          5.0  \n",
       "87          NaN          NaN  \n",
       "88          NaN          NaN  \n",
       "89          0.0          0.0  \n",
       "90          NaN          NaN  \n",
       "91          0.0          0.0  \n",
       "92          NaN          NaN  \n",
       "93          NaN          NaN  \n",
       "1           NaN          NaN  \n",
       "2           NaN          NaN  \n",
       "3           NaN          NaN  \n",
       "4           NaN          NaN  \n",
       "5           NaN          NaN  \n",
       "6           NaN          NaN  \n",
       "7           NaN          NaN  "
      ]
     },
     "execution_count": 17,
     "metadata": {},
     "output_type": "execute_result"
    }
   ],
   "source": [
    "#clean up column names \n",
    "df.columns = df.columns.str.replace('.1','')\n",
    "df.columns = df.columns.str.replace('.2','') \n",
    "df.columns = df.columns.str.replace('.3','') \n",
    "df.columns = df.columns.str.replace('.4','') \n",
    "df.columns = df.columns.str.replace('.5','')\n",
    "\n",
    "#create 'month number' variable \n",
    "month_name = dfcolnmes.columns[0]\n",
    "datetime_object = datetime.datetime.strptime(month_name, \"%B\")\n",
    "month_num = datetime_object.month\n",
    "\n",
    "#if month number is between 7 and 12 year1 is selected, else year2 \n",
    "if 7 <= month_num <= 12:\n",
    "    year_num = year1\n",
    "else:\n",
    "    year_num = year2\n",
    "\n",
    "#create date string \n",
    "date = str(year_num) + '-' + str(month_num)\n",
    "print(date)\n",
    "\n",
    "#create indexes and list variable \n",
    "idx1 = [8,26,44,62,80]\n",
    "idx2 = [21,39,57,75,93]\n",
    "tgt = [4,22,40,58,76]\n",
    "\n",
    "dfdurinlist=[]\n",
    "for i, enum in enumerate(idx1):\n",
    "    \n",
    "    dfiter = df.iloc[:,[0,1,2] + list(range(enum,idx2[i]))]\n",
    "    dfiter.insert(3,'Target', str(dfcolnmes.columns[tgt[i]]))\n",
    "    dfiter.drop(0, inplace=True)\n",
    "\n",
    "    #print(pd.DataFrame(dfiter.head()))\n",
    "    dfiter.columns.values[6] = 'Duration: 0'\n",
    "    dfiter.columns.values[7] = 'Duration: <5'\n",
    "    dfiter.columns.values[8] = 'Duration: 6-10'\n",
    "    dfiter.columns.values[9] = 'Duration: 11-15'\n",
    "    dfiter.columns.values[10] = 'Duration: 16-20'\n",
    "    dfiter.columns.values[11] = 'Duration: 20+'\n",
    "    dfiter.columns.values[12] = 'Interval: 0'\n",
    "    dfiter.columns.values[13] = 'Interval: 1'\n",
    "    dfiter.columns.values[14] = 'Interval: 2'\n",
    "    dfiter.columns.values[15] = 'Interval: 3'\n",
    "    dfiter.columns.values[16] = 'Interval: 4'\n",
    "\n",
    "    dfiter = dfiter.drop(dfiter.index[np.where(dfiter.index >= 94)])\n",
    "    dfiter.iloc[:,0] = dfiter.iloc[:,0].fillna(method='ffill')\n",
    "\n",
    "    #cut off dataframe rows based on number of days in month\n",
    "    if month_num == 4 or month_num == 6 or month_num == 9 or month_num == 11:\n",
    "        dfiter = dfiter.drop(dfiter.index[np.where(dfiter.index >= 90)])\n",
    "    elif month_num == 2:\n",
    "        dfiter = dfiter.drop(dfiter.index[np.where(dfiter.index >= 84)])\n",
    "    else:\n",
    "        dfiter = dfiter\n",
    "    \n",
    "    dfdurinlist.append(dfiter)\n",
    "\n",
    "dfdurin = pd.concat(dfdurinlist)\n",
    "print(dfdurin.shape)\n",
    "pd.DataFrame(dfdurinlist[0].head())\n",
    "dfdurin.head(100)"
   ]
  },
  {
   "cell_type": "code",
   "execution_count": 18,
   "metadata": {},
   "outputs": [
    {
     "data": {
      "text/html": [
       "<div>\n",
       "<style scoped>\n",
       "    .dataframe tbody tr th:only-of-type {\n",
       "        vertical-align: middle;\n",
       "    }\n",
       "\n",
       "    .dataframe tbody tr th {\n",
       "        vertical-align: top;\n",
       "    }\n",
       "\n",
       "    .dataframe thead th {\n",
       "        text-align: right;\n",
       "    }\n",
       "</style>\n",
       "<table border=\"1\" class=\"dataframe\">\n",
       "  <thead>\n",
       "    <tr style=\"text-align: right;\">\n",
       "      <th></th>\n",
       "      <th>Target</th>\n",
       "      <th>variable</th>\n",
       "      <th>value</th>\n",
       "    </tr>\n",
       "  </thead>\n",
       "  <tbody>\n",
       "    <tr>\n",
       "      <th>0</th>\n",
       "      <td>Aggression</td>\n",
       "      <td>Duration: 0</td>\n",
       "      <td>1</td>\n",
       "    </tr>\n",
       "    <tr>\n",
       "      <th>1</th>\n",
       "      <td>Aggression</td>\n",
       "      <td>Duration: 11-15</td>\n",
       "      <td>0</td>\n",
       "    </tr>\n",
       "    <tr>\n",
       "      <th>2</th>\n",
       "      <td>Aggression</td>\n",
       "      <td>Duration: 16-20</td>\n",
       "      <td>0</td>\n",
       "    </tr>\n",
       "    <tr>\n",
       "      <th>3</th>\n",
       "      <td>Aggression</td>\n",
       "      <td>Duration: 20+</td>\n",
       "      <td>1</td>\n",
       "    </tr>\n",
       "    <tr>\n",
       "      <th>4</th>\n",
       "      <td>Aggression</td>\n",
       "      <td>Duration: 6-10</td>\n",
       "      <td>16</td>\n",
       "    </tr>\n",
       "    <tr>\n",
       "      <th>5</th>\n",
       "      <td>Aggression</td>\n",
       "      <td>Duration: &lt;5</td>\n",
       "      <td>25</td>\n",
       "    </tr>\n",
       "    <tr>\n",
       "      <th>6</th>\n",
       "      <td>Aggression</td>\n",
       "      <td>Interval: 0</td>\n",
       "      <td>3</td>\n",
       "    </tr>\n",
       "    <tr>\n",
       "      <th>7</th>\n",
       "      <td>Aggression</td>\n",
       "      <td>Interval: 1</td>\n",
       "      <td>13.0</td>\n",
       "    </tr>\n",
       "    <tr>\n",
       "      <th>8</th>\n",
       "      <td>Aggression</td>\n",
       "      <td>Interval: 2</td>\n",
       "      <td>19.0</td>\n",
       "    </tr>\n",
       "    <tr>\n",
       "      <th>9</th>\n",
       "      <td>Aggression</td>\n",
       "      <td>Interval: 3</td>\n",
       "      <td>1.0</td>\n",
       "    </tr>\n",
       "    <tr>\n",
       "      <th>10</th>\n",
       "      <td>Aggression</td>\n",
       "      <td>Interval: 4</td>\n",
       "      <td>6.0</td>\n",
       "    </tr>\n",
       "    <tr>\n",
       "      <th>11</th>\n",
       "      <td>Disruptive</td>\n",
       "      <td>Duration: 0</td>\n",
       "      <td>0</td>\n",
       "    </tr>\n",
       "    <tr>\n",
       "      <th>12</th>\n",
       "      <td>Disruptive</td>\n",
       "      <td>Duration: 11-15</td>\n",
       "      <td>0</td>\n",
       "    </tr>\n",
       "    <tr>\n",
       "      <th>13</th>\n",
       "      <td>Disruptive</td>\n",
       "      <td>Duration: 16-20</td>\n",
       "      <td>0</td>\n",
       "    </tr>\n",
       "    <tr>\n",
       "      <th>14</th>\n",
       "      <td>Disruptive</td>\n",
       "      <td>Duration: 20+</td>\n",
       "      <td>1</td>\n",
       "    </tr>\n",
       "    <tr>\n",
       "      <th>15</th>\n",
       "      <td>Disruptive</td>\n",
       "      <td>Duration: 6-10</td>\n",
       "      <td>1</td>\n",
       "    </tr>\n",
       "    <tr>\n",
       "      <th>16</th>\n",
       "      <td>Disruptive</td>\n",
       "      <td>Duration: &lt;5</td>\n",
       "      <td>2</td>\n",
       "    </tr>\n",
       "    <tr>\n",
       "      <th>17</th>\n",
       "      <td>Disruptive</td>\n",
       "      <td>Interval: 0</td>\n",
       "      <td>0</td>\n",
       "    </tr>\n",
       "    <tr>\n",
       "      <th>18</th>\n",
       "      <td>Disruptive</td>\n",
       "      <td>Interval: 1</td>\n",
       "      <td>0.0</td>\n",
       "    </tr>\n",
       "    <tr>\n",
       "      <th>19</th>\n",
       "      <td>Disruptive</td>\n",
       "      <td>Interval: 2</td>\n",
       "      <td>0.0</td>\n",
       "    </tr>\n",
       "    <tr>\n",
       "      <th>20</th>\n",
       "      <td>Disruptive</td>\n",
       "      <td>Interval: 3</td>\n",
       "      <td>0.0</td>\n",
       "    </tr>\n",
       "    <tr>\n",
       "      <th>21</th>\n",
       "      <td>Disruptive</td>\n",
       "      <td>Interval: 4</td>\n",
       "      <td>0.0</td>\n",
       "    </tr>\n",
       "    <tr>\n",
       "      <th>33</th>\n",
       "      <td>SIB</td>\n",
       "      <td>Duration: 0</td>\n",
       "      <td>0</td>\n",
       "    </tr>\n",
       "    <tr>\n",
       "      <th>34</th>\n",
       "      <td>SIB</td>\n",
       "      <td>Duration: 11-15</td>\n",
       "      <td>0</td>\n",
       "    </tr>\n",
       "    <tr>\n",
       "      <th>35</th>\n",
       "      <td>SIB</td>\n",
       "      <td>Duration: 16-20</td>\n",
       "      <td>0</td>\n",
       "    </tr>\n",
       "    <tr>\n",
       "      <th>36</th>\n",
       "      <td>SIB</td>\n",
       "      <td>Duration: 20+</td>\n",
       "      <td>1</td>\n",
       "    </tr>\n",
       "    <tr>\n",
       "      <th>37</th>\n",
       "      <td>SIB</td>\n",
       "      <td>Duration: 6-10</td>\n",
       "      <td>6</td>\n",
       "    </tr>\n",
       "    <tr>\n",
       "      <th>38</th>\n",
       "      <td>SIB</td>\n",
       "      <td>Duration: &lt;5</td>\n",
       "      <td>0</td>\n",
       "    </tr>\n",
       "    <tr>\n",
       "      <th>39</th>\n",
       "      <td>SIB</td>\n",
       "      <td>Interval: 0</td>\n",
       "      <td>0</td>\n",
       "    </tr>\n",
       "    <tr>\n",
       "      <th>40</th>\n",
       "      <td>SIB</td>\n",
       "      <td>Interval: 1</td>\n",
       "      <td>0.0</td>\n",
       "    </tr>\n",
       "    <tr>\n",
       "      <th>41</th>\n",
       "      <td>SIB</td>\n",
       "      <td>Interval: 2</td>\n",
       "      <td>3.0</td>\n",
       "    </tr>\n",
       "    <tr>\n",
       "      <th>42</th>\n",
       "      <td>SIB</td>\n",
       "      <td>Interval: 3</td>\n",
       "      <td>3.0</td>\n",
       "    </tr>\n",
       "    <tr>\n",
       "      <th>43</th>\n",
       "      <td>SIB</td>\n",
       "      <td>Interval: 4</td>\n",
       "      <td>1.0</td>\n",
       "    </tr>\n",
       "    <tr>\n",
       "      <th>44</th>\n",
       "      <td>Self Mutilation</td>\n",
       "      <td>Duration: 0</td>\n",
       "      <td>0</td>\n",
       "    </tr>\n",
       "    <tr>\n",
       "      <th>45</th>\n",
       "      <td>Self Mutilation</td>\n",
       "      <td>Duration: 11-15</td>\n",
       "      <td>0.0</td>\n",
       "    </tr>\n",
       "    <tr>\n",
       "      <th>46</th>\n",
       "      <td>Self Mutilation</td>\n",
       "      <td>Duration: 16-20</td>\n",
       "      <td>0.0</td>\n",
       "    </tr>\n",
       "    <tr>\n",
       "      <th>47</th>\n",
       "      <td>Self Mutilation</td>\n",
       "      <td>Duration: 20+</td>\n",
       "      <td>0.0</td>\n",
       "    </tr>\n",
       "    <tr>\n",
       "      <th>48</th>\n",
       "      <td>Self Mutilation</td>\n",
       "      <td>Duration: 6-10</td>\n",
       "      <td>0.0</td>\n",
       "    </tr>\n",
       "    <tr>\n",
       "      <th>49</th>\n",
       "      <td>Self Mutilation</td>\n",
       "      <td>Duration: &lt;5</td>\n",
       "      <td>0.0</td>\n",
       "    </tr>\n",
       "    <tr>\n",
       "      <th>50</th>\n",
       "      <td>Self Mutilation</td>\n",
       "      <td>Interval: 0</td>\n",
       "      <td>0</td>\n",
       "    </tr>\n",
       "    <tr>\n",
       "      <th>51</th>\n",
       "      <td>Self Mutilation</td>\n",
       "      <td>Interval: 1</td>\n",
       "      <td>0.0</td>\n",
       "    </tr>\n",
       "    <tr>\n",
       "      <th>52</th>\n",
       "      <td>Self Mutilation</td>\n",
       "      <td>Interval: 2</td>\n",
       "      <td>0.0</td>\n",
       "    </tr>\n",
       "    <tr>\n",
       "      <th>53</th>\n",
       "      <td>Self Mutilation</td>\n",
       "      <td>Interval: 3</td>\n",
       "      <td>0.0</td>\n",
       "    </tr>\n",
       "    <tr>\n",
       "      <th>54</th>\n",
       "      <td>Self Mutilation</td>\n",
       "      <td>Interval: 4</td>\n",
       "      <td>0.0</td>\n",
       "    </tr>\n",
       "  </tbody>\n",
       "</table>\n",
       "</div>"
      ],
      "text/plain": [
       "             Target         variable value\n",
       "0        Aggression      Duration: 0     1\n",
       "1        Aggression  Duration: 11-15     0\n",
       "2        Aggression  Duration: 16-20     0\n",
       "3        Aggression    Duration: 20+     1\n",
       "4        Aggression   Duration: 6-10    16\n",
       "5        Aggression     Duration: <5    25\n",
       "6        Aggression      Interval: 0     3\n",
       "7        Aggression      Interval: 1  13.0\n",
       "8        Aggression      Interval: 2  19.0\n",
       "9        Aggression      Interval: 3   1.0\n",
       "10       Aggression      Interval: 4   6.0\n",
       "11       Disruptive      Duration: 0     0\n",
       "12       Disruptive  Duration: 11-15     0\n",
       "13       Disruptive  Duration: 16-20     0\n",
       "14       Disruptive    Duration: 20+     1\n",
       "15       Disruptive   Duration: 6-10     1\n",
       "16       Disruptive     Duration: <5     2\n",
       "17       Disruptive      Interval: 0     0\n",
       "18       Disruptive      Interval: 1   0.0\n",
       "19       Disruptive      Interval: 2   0.0\n",
       "20       Disruptive      Interval: 3   0.0\n",
       "21       Disruptive      Interval: 4   0.0\n",
       "33              SIB      Duration: 0     0\n",
       "34              SIB  Duration: 11-15     0\n",
       "35              SIB  Duration: 16-20     0\n",
       "36              SIB    Duration: 20+     1\n",
       "37              SIB   Duration: 6-10     6\n",
       "38              SIB     Duration: <5     0\n",
       "39              SIB      Interval: 0     0\n",
       "40              SIB      Interval: 1   0.0\n",
       "41              SIB      Interval: 2   3.0\n",
       "42              SIB      Interval: 3   3.0\n",
       "43              SIB      Interval: 4   1.0\n",
       "44  Self Mutilation      Duration: 0     0\n",
       "45  Self Mutilation  Duration: 11-15   0.0\n",
       "46  Self Mutilation  Duration: 16-20   0.0\n",
       "47  Self Mutilation    Duration: 20+   0.0\n",
       "48  Self Mutilation   Duration: 6-10   0.0\n",
       "49  Self Mutilation     Duration: <5   0.0\n",
       "50  Self Mutilation      Interval: 0     0\n",
       "51  Self Mutilation      Interval: 1   0.0\n",
       "52  Self Mutilation      Interval: 2   0.0\n",
       "53  Self Mutilation      Interval: 3   0.0\n",
       "54  Self Mutilation      Interval: 4   0.0"
      ]
     },
     "execution_count": 18,
     "metadata": {},
     "output_type": "execute_result"
    }
   ],
   "source": [
    "dfdurin.drop(columns=[dfdurin.columns[4],dfdurin.columns[5]], inplace=True)\n",
    "durin_m = pd.melt(dfdurin, id_vars = [dfdurin.columns[0],dfdurin.columns[1],dfdurin.columns[2],dfdurin.columns[3]])\n",
    "durin_m = durin_m.groupby(['Target','variable'])['value'].sum().reset_index()\n",
    "durin_m = durin_m[~durin_m['Target'].str.contains('Insert')]\n",
    "durin_m.head(50) "
   ]
  },
  {
   "cell_type": "code",
   "execution_count": 19,
   "metadata": {},
   "outputs": [
    {
     "data": {
      "application/vnd.plotly.v1+json": {
       "config": {
        "plotlyServerURL": "https://plot.ly"
       },
       "data": [
        {
         "alignmentgroup": "True",
         "hovertemplate": "variable=Duration: 0<br>Target=%{x}<br>value=%{y}<extra></extra>",
         "legendgroup": "Duration: 0",
         "marker": {
          "color": "rgb(255,245,240)",
          "pattern": {
           "shape": ""
          }
         },
         "name": "Duration: 0",
         "offsetgroup": "Duration: 0",
         "orientation": "v",
         "showlegend": true,
         "textposition": "auto",
         "type": "bar",
         "width": 0.4,
         "x": [
          "Aggression",
          "Disruptive",
          "SIB",
          "Self Mutilation"
         ],
         "xaxis": "x",
         "y": [
          1,
          0,
          0,
          0
         ],
         "yaxis": "y"
        },
        {
         "alignmentgroup": "True",
         "hovertemplate": "variable=Duration: <5<br>Target=%{x}<br>value=%{y}<extra></extra>",
         "legendgroup": "Duration: <5",
         "marker": {
          "color": "rgb(254,224,210)",
          "pattern": {
           "shape": ""
          }
         },
         "name": "Duration: <5",
         "offsetgroup": "Duration: <5",
         "orientation": "v",
         "showlegend": true,
         "textposition": "auto",
         "type": "bar",
         "width": 0.4,
         "x": [
          "Aggression",
          "Disruptive",
          "SIB",
          "Self Mutilation"
         ],
         "xaxis": "x",
         "y": [
          25,
          2,
          0,
          0
         ],
         "yaxis": "y"
        },
        {
         "alignmentgroup": "True",
         "hovertemplate": "variable=Duration: 6-10<br>Target=%{x}<br>value=%{y}<extra></extra>",
         "legendgroup": "Duration: 6-10",
         "marker": {
          "color": "rgb(252,146,114)",
          "pattern": {
           "shape": ""
          }
         },
         "name": "Duration: 6-10",
         "offsetgroup": "Duration: 6-10",
         "orientation": "v",
         "showlegend": true,
         "textposition": "auto",
         "type": "bar",
         "width": 0.4,
         "x": [
          "Aggression",
          "Disruptive",
          "SIB",
          "Self Mutilation"
         ],
         "xaxis": "x",
         "y": [
          16,
          1,
          6,
          0
         ],
         "yaxis": "y"
        },
        {
         "alignmentgroup": "True",
         "hovertemplate": "variable=Duration: 11-15<br>Target=%{x}<br>value=%{y}<extra></extra>",
         "legendgroup": "Duration: 11-15",
         "marker": {
          "color": "rgb(251,106,74)",
          "pattern": {
           "shape": ""
          }
         },
         "name": "Duration: 11-15",
         "offsetgroup": "Duration: 11-15",
         "orientation": "v",
         "showlegend": true,
         "textposition": "auto",
         "type": "bar",
         "width": 0.4,
         "x": [
          "Aggression",
          "Disruptive",
          "SIB",
          "Self Mutilation"
         ],
         "xaxis": "x",
         "y": [
          0,
          0,
          0,
          0
         ],
         "yaxis": "y"
        },
        {
         "alignmentgroup": "True",
         "hovertemplate": "variable=Duration: 16-20<br>Target=%{x}<br>value=%{y}<extra></extra>",
         "legendgroup": "Duration: 16-20",
         "marker": {
          "color": "rgb(239,59,44)",
          "pattern": {
           "shape": ""
          }
         },
         "name": "Duration: 16-20",
         "offsetgroup": "Duration: 16-20",
         "orientation": "v",
         "showlegend": true,
         "textposition": "auto",
         "type": "bar",
         "width": 0.4,
         "x": [
          "Aggression",
          "Disruptive",
          "SIB",
          "Self Mutilation"
         ],
         "xaxis": "x",
         "y": [
          0,
          0,
          0,
          0
         ],
         "yaxis": "y"
        },
        {
         "alignmentgroup": "True",
         "hovertemplate": "variable=Duration: 20+<br>Target=%{x}<br>value=%{y}<extra></extra>",
         "legendgroup": "Duration: 20+",
         "marker": {
          "color": "rgb(203,24,29)",
          "pattern": {
           "shape": ""
          }
         },
         "name": "Duration: 20+",
         "offsetgroup": "Duration: 20+",
         "orientation": "v",
         "showlegend": true,
         "textposition": "auto",
         "type": "bar",
         "width": 0.4,
         "x": [
          "Aggression",
          "Disruptive",
          "SIB",
          "Self Mutilation"
         ],
         "xaxis": "x",
         "y": [
          1,
          1,
          1,
          0
         ],
         "yaxis": "y"
        }
       ],
       "layout": {
        "barmode": "relative",
        "legend": {
         "title": {
          "text": "variable"
         },
         "tracegroupgap": 0
        },
        "margin": {
         "t": 60
        },
        "template": {
         "data": {
          "bar": [
           {
            "error_x": {
             "color": "#2a3f5f"
            },
            "error_y": {
             "color": "#2a3f5f"
            },
            "marker": {
             "line": {
              "color": "#E5ECF6",
              "width": 0.5
             },
             "pattern": {
              "fillmode": "overlay",
              "size": 10,
              "solidity": 0.2
             }
            },
            "type": "bar"
           }
          ],
          "barpolar": [
           {
            "marker": {
             "line": {
              "color": "#E5ECF6",
              "width": 0.5
             },
             "pattern": {
              "fillmode": "overlay",
              "size": 10,
              "solidity": 0.2
             }
            },
            "type": "barpolar"
           }
          ],
          "carpet": [
           {
            "aaxis": {
             "endlinecolor": "#2a3f5f",
             "gridcolor": "white",
             "linecolor": "white",
             "minorgridcolor": "white",
             "startlinecolor": "#2a3f5f"
            },
            "baxis": {
             "endlinecolor": "#2a3f5f",
             "gridcolor": "white",
             "linecolor": "white",
             "minorgridcolor": "white",
             "startlinecolor": "#2a3f5f"
            },
            "type": "carpet"
           }
          ],
          "choropleth": [
           {
            "colorbar": {
             "outlinewidth": 0,
             "ticks": ""
            },
            "type": "choropleth"
           }
          ],
          "contour": [
           {
            "colorbar": {
             "outlinewidth": 0,
             "ticks": ""
            },
            "colorscale": [
             [
              0,
              "#0d0887"
             ],
             [
              0.1111111111111111,
              "#46039f"
             ],
             [
              0.2222222222222222,
              "#7201a8"
             ],
             [
              0.3333333333333333,
              "#9c179e"
             ],
             [
              0.4444444444444444,
              "#bd3786"
             ],
             [
              0.5555555555555556,
              "#d8576b"
             ],
             [
              0.6666666666666666,
              "#ed7953"
             ],
             [
              0.7777777777777778,
              "#fb9f3a"
             ],
             [
              0.8888888888888888,
              "#fdca26"
             ],
             [
              1,
              "#f0f921"
             ]
            ],
            "type": "contour"
           }
          ],
          "contourcarpet": [
           {
            "colorbar": {
             "outlinewidth": 0,
             "ticks": ""
            },
            "type": "contourcarpet"
           }
          ],
          "heatmap": [
           {
            "colorbar": {
             "outlinewidth": 0,
             "ticks": ""
            },
            "colorscale": [
             [
              0,
              "#0d0887"
             ],
             [
              0.1111111111111111,
              "#46039f"
             ],
             [
              0.2222222222222222,
              "#7201a8"
             ],
             [
              0.3333333333333333,
              "#9c179e"
             ],
             [
              0.4444444444444444,
              "#bd3786"
             ],
             [
              0.5555555555555556,
              "#d8576b"
             ],
             [
              0.6666666666666666,
              "#ed7953"
             ],
             [
              0.7777777777777778,
              "#fb9f3a"
             ],
             [
              0.8888888888888888,
              "#fdca26"
             ],
             [
              1,
              "#f0f921"
             ]
            ],
            "type": "heatmap"
           }
          ],
          "heatmapgl": [
           {
            "colorbar": {
             "outlinewidth": 0,
             "ticks": ""
            },
            "colorscale": [
             [
              0,
              "#0d0887"
             ],
             [
              0.1111111111111111,
              "#46039f"
             ],
             [
              0.2222222222222222,
              "#7201a8"
             ],
             [
              0.3333333333333333,
              "#9c179e"
             ],
             [
              0.4444444444444444,
              "#bd3786"
             ],
             [
              0.5555555555555556,
              "#d8576b"
             ],
             [
              0.6666666666666666,
              "#ed7953"
             ],
             [
              0.7777777777777778,
              "#fb9f3a"
             ],
             [
              0.8888888888888888,
              "#fdca26"
             ],
             [
              1,
              "#f0f921"
             ]
            ],
            "type": "heatmapgl"
           }
          ],
          "histogram": [
           {
            "marker": {
             "pattern": {
              "fillmode": "overlay",
              "size": 10,
              "solidity": 0.2
             }
            },
            "type": "histogram"
           }
          ],
          "histogram2d": [
           {
            "colorbar": {
             "outlinewidth": 0,
             "ticks": ""
            },
            "colorscale": [
             [
              0,
              "#0d0887"
             ],
             [
              0.1111111111111111,
              "#46039f"
             ],
             [
              0.2222222222222222,
              "#7201a8"
             ],
             [
              0.3333333333333333,
              "#9c179e"
             ],
             [
              0.4444444444444444,
              "#bd3786"
             ],
             [
              0.5555555555555556,
              "#d8576b"
             ],
             [
              0.6666666666666666,
              "#ed7953"
             ],
             [
              0.7777777777777778,
              "#fb9f3a"
             ],
             [
              0.8888888888888888,
              "#fdca26"
             ],
             [
              1,
              "#f0f921"
             ]
            ],
            "type": "histogram2d"
           }
          ],
          "histogram2dcontour": [
           {
            "colorbar": {
             "outlinewidth": 0,
             "ticks": ""
            },
            "colorscale": [
             [
              0,
              "#0d0887"
             ],
             [
              0.1111111111111111,
              "#46039f"
             ],
             [
              0.2222222222222222,
              "#7201a8"
             ],
             [
              0.3333333333333333,
              "#9c179e"
             ],
             [
              0.4444444444444444,
              "#bd3786"
             ],
             [
              0.5555555555555556,
              "#d8576b"
             ],
             [
              0.6666666666666666,
              "#ed7953"
             ],
             [
              0.7777777777777778,
              "#fb9f3a"
             ],
             [
              0.8888888888888888,
              "#fdca26"
             ],
             [
              1,
              "#f0f921"
             ]
            ],
            "type": "histogram2dcontour"
           }
          ],
          "mesh3d": [
           {
            "colorbar": {
             "outlinewidth": 0,
             "ticks": ""
            },
            "type": "mesh3d"
           }
          ],
          "parcoords": [
           {
            "line": {
             "colorbar": {
              "outlinewidth": 0,
              "ticks": ""
             }
            },
            "type": "parcoords"
           }
          ],
          "pie": [
           {
            "automargin": true,
            "type": "pie"
           }
          ],
          "scatter": [
           {
            "fillpattern": {
             "fillmode": "overlay",
             "size": 10,
             "solidity": 0.2
            },
            "type": "scatter"
           }
          ],
          "scatter3d": [
           {
            "line": {
             "colorbar": {
              "outlinewidth": 0,
              "ticks": ""
             }
            },
            "marker": {
             "colorbar": {
              "outlinewidth": 0,
              "ticks": ""
             }
            },
            "type": "scatter3d"
           }
          ],
          "scattercarpet": [
           {
            "marker": {
             "colorbar": {
              "outlinewidth": 0,
              "ticks": ""
             }
            },
            "type": "scattercarpet"
           }
          ],
          "scattergeo": [
           {
            "marker": {
             "colorbar": {
              "outlinewidth": 0,
              "ticks": ""
             }
            },
            "type": "scattergeo"
           }
          ],
          "scattergl": [
           {
            "marker": {
             "colorbar": {
              "outlinewidth": 0,
              "ticks": ""
             }
            },
            "type": "scattergl"
           }
          ],
          "scattermapbox": [
           {
            "marker": {
             "colorbar": {
              "outlinewidth": 0,
              "ticks": ""
             }
            },
            "type": "scattermapbox"
           }
          ],
          "scatterpolar": [
           {
            "marker": {
             "colorbar": {
              "outlinewidth": 0,
              "ticks": ""
             }
            },
            "type": "scatterpolar"
           }
          ],
          "scatterpolargl": [
           {
            "marker": {
             "colorbar": {
              "outlinewidth": 0,
              "ticks": ""
             }
            },
            "type": "scatterpolargl"
           }
          ],
          "scatterternary": [
           {
            "marker": {
             "colorbar": {
              "outlinewidth": 0,
              "ticks": ""
             }
            },
            "type": "scatterternary"
           }
          ],
          "surface": [
           {
            "colorbar": {
             "outlinewidth": 0,
             "ticks": ""
            },
            "colorscale": [
             [
              0,
              "#0d0887"
             ],
             [
              0.1111111111111111,
              "#46039f"
             ],
             [
              0.2222222222222222,
              "#7201a8"
             ],
             [
              0.3333333333333333,
              "#9c179e"
             ],
             [
              0.4444444444444444,
              "#bd3786"
             ],
             [
              0.5555555555555556,
              "#d8576b"
             ],
             [
              0.6666666666666666,
              "#ed7953"
             ],
             [
              0.7777777777777778,
              "#fb9f3a"
             ],
             [
              0.8888888888888888,
              "#fdca26"
             ],
             [
              1,
              "#f0f921"
             ]
            ],
            "type": "surface"
           }
          ],
          "table": [
           {
            "cells": {
             "fill": {
              "color": "#EBF0F8"
             },
             "line": {
              "color": "white"
             }
            },
            "header": {
             "fill": {
              "color": "#C8D4E3"
             },
             "line": {
              "color": "white"
             }
            },
            "type": "table"
           }
          ]
         },
         "layout": {
          "annotationdefaults": {
           "arrowcolor": "#2a3f5f",
           "arrowhead": 0,
           "arrowwidth": 1
          },
          "autotypenumbers": "strict",
          "coloraxis": {
           "colorbar": {
            "outlinewidth": 0,
            "ticks": ""
           }
          },
          "colorscale": {
           "diverging": [
            [
             0,
             "#8e0152"
            ],
            [
             0.1,
             "#c51b7d"
            ],
            [
             0.2,
             "#de77ae"
            ],
            [
             0.3,
             "#f1b6da"
            ],
            [
             0.4,
             "#fde0ef"
            ],
            [
             0.5,
             "#f7f7f7"
            ],
            [
             0.6,
             "#e6f5d0"
            ],
            [
             0.7,
             "#b8e186"
            ],
            [
             0.8,
             "#7fbc41"
            ],
            [
             0.9,
             "#4d9221"
            ],
            [
             1,
             "#276419"
            ]
           ],
           "sequential": [
            [
             0,
             "#0d0887"
            ],
            [
             0.1111111111111111,
             "#46039f"
            ],
            [
             0.2222222222222222,
             "#7201a8"
            ],
            [
             0.3333333333333333,
             "#9c179e"
            ],
            [
             0.4444444444444444,
             "#bd3786"
            ],
            [
             0.5555555555555556,
             "#d8576b"
            ],
            [
             0.6666666666666666,
             "#ed7953"
            ],
            [
             0.7777777777777778,
             "#fb9f3a"
            ],
            [
             0.8888888888888888,
             "#fdca26"
            ],
            [
             1,
             "#f0f921"
            ]
           ],
           "sequentialminus": [
            [
             0,
             "#0d0887"
            ],
            [
             0.1111111111111111,
             "#46039f"
            ],
            [
             0.2222222222222222,
             "#7201a8"
            ],
            [
             0.3333333333333333,
             "#9c179e"
            ],
            [
             0.4444444444444444,
             "#bd3786"
            ],
            [
             0.5555555555555556,
             "#d8576b"
            ],
            [
             0.6666666666666666,
             "#ed7953"
            ],
            [
             0.7777777777777778,
             "#fb9f3a"
            ],
            [
             0.8888888888888888,
             "#fdca26"
            ],
            [
             1,
             "#f0f921"
            ]
           ]
          },
          "colorway": [
           "#636efa",
           "#EF553B",
           "#00cc96",
           "#ab63fa",
           "#FFA15A",
           "#19d3f3",
           "#FF6692",
           "#B6E880",
           "#FF97FF",
           "#FECB52"
          ],
          "font": {
           "color": "#2a3f5f"
          },
          "geo": {
           "bgcolor": "white",
           "lakecolor": "white",
           "landcolor": "#E5ECF6",
           "showlakes": true,
           "showland": true,
           "subunitcolor": "white"
          },
          "hoverlabel": {
           "align": "left"
          },
          "hovermode": "closest",
          "mapbox": {
           "style": "light"
          },
          "paper_bgcolor": "white",
          "plot_bgcolor": "#E5ECF6",
          "polar": {
           "angularaxis": {
            "gridcolor": "white",
            "linecolor": "white",
            "ticks": ""
           },
           "bgcolor": "#E5ECF6",
           "radialaxis": {
            "gridcolor": "white",
            "linecolor": "white",
            "ticks": ""
           }
          },
          "scene": {
           "xaxis": {
            "backgroundcolor": "#E5ECF6",
            "gridcolor": "white",
            "gridwidth": 2,
            "linecolor": "white",
            "showbackground": true,
            "ticks": "",
            "zerolinecolor": "white"
           },
           "yaxis": {
            "backgroundcolor": "#E5ECF6",
            "gridcolor": "white",
            "gridwidth": 2,
            "linecolor": "white",
            "showbackground": true,
            "ticks": "",
            "zerolinecolor": "white"
           },
           "zaxis": {
            "backgroundcolor": "#E5ECF6",
            "gridcolor": "white",
            "gridwidth": 2,
            "linecolor": "white",
            "showbackground": true,
            "ticks": "",
            "zerolinecolor": "white"
           }
          },
          "shapedefaults": {
           "line": {
            "color": "#2a3f5f"
           }
          },
          "ternary": {
           "aaxis": {
            "gridcolor": "white",
            "linecolor": "white",
            "ticks": ""
           },
           "baxis": {
            "gridcolor": "white",
            "linecolor": "white",
            "ticks": ""
           },
           "bgcolor": "#E5ECF6",
           "caxis": {
            "gridcolor": "white",
            "linecolor": "white",
            "ticks": ""
           }
          },
          "title": {
           "x": 0.05
          },
          "xaxis": {
           "automargin": true,
           "gridcolor": "white",
           "linecolor": "white",
           "ticks": "",
           "title": {
            "standoff": 15
           },
           "zerolinecolor": "white",
           "zerolinewidth": 2
          },
          "yaxis": {
           "automargin": true,
           "gridcolor": "white",
           "linecolor": "white",
           "ticks": "",
           "title": {
            "standoff": 15
           },
           "zerolinecolor": "white",
           "zerolinewidth": 2
          }
         }
        },
        "xaxis": {
         "anchor": "y",
         "domain": [
          0,
          1
         ],
         "title": {
          "text": "Target"
         }
        },
        "yaxis": {
         "anchor": "x",
         "domain": [
          0,
          1
         ],
         "title": {
          "text": "value"
         }
        }
       }
      }
     },
     "metadata": {},
     "output_type": "display_data"
    }
   ],
   "source": [
    "fig = px.bar(durin_m[~durin_m['variable'].str.contains('Interval')],x = 'Target', y='value', color = 'variable',\n",
    "             color_discrete_sequence= px.colors.sequential.Reds, category_orders={\"variable\": [\"Duration: 0\", \"Duration: <5\", \"Sat\", \"Duration: 6-10\",\n",
    "                                                                                               \"Duration: 11-15\",\"Duration: 16-20\", \"Duration: 20+\"]})\n",
    "fig.update_traces(width=0.4)\n",
    "\n",
    "fig"
   ]
  },
  {
   "cell_type": "code",
   "execution_count": 20,
   "metadata": {},
   "outputs": [
    {
     "data": {
      "application/vnd.plotly.v1+json": {
       "config": {
        "plotlyServerURL": "https://plot.ly"
       },
       "data": [
        {
         "alignmentgroup": "True",
         "hovertemplate": "variable=Interval: 0<br>Target=%{x}<br>value=%{y}<extra></extra>",
         "legendgroup": "Interval: 0",
         "marker": {
          "color": "rgb(247,252,245)",
          "pattern": {
           "shape": ""
          }
         },
         "name": "Interval: 0",
         "offsetgroup": "Interval: 0",
         "orientation": "v",
         "showlegend": true,
         "textposition": "auto",
         "type": "bar",
         "width": 0.4,
         "x": [
          "Aggression",
          "Disruptive",
          "SIB",
          "Self Mutilation"
         ],
         "xaxis": "x",
         "y": [
          3,
          0,
          0,
          0
         ],
         "yaxis": "y"
        },
        {
         "alignmentgroup": "True",
         "hovertemplate": "variable=Interval: 1<br>Target=%{x}<br>value=%{y}<extra></extra>",
         "legendgroup": "Interval: 1",
         "marker": {
          "color": "rgb(229,245,224)",
          "pattern": {
           "shape": ""
          }
         },
         "name": "Interval: 1",
         "offsetgroup": "Interval: 1",
         "orientation": "v",
         "showlegend": true,
         "textposition": "auto",
         "type": "bar",
         "width": 0.4,
         "x": [
          "Aggression",
          "Disruptive",
          "SIB",
          "Self Mutilation"
         ],
         "xaxis": "x",
         "y": [
          13,
          0,
          0,
          0
         ],
         "yaxis": "y"
        },
        {
         "alignmentgroup": "True",
         "hovertemplate": "variable=Interval: 2<br>Target=%{x}<br>value=%{y}<extra></extra>",
         "legendgroup": "Interval: 2",
         "marker": {
          "color": "rgb(199,233,192)",
          "pattern": {
           "shape": ""
          }
         },
         "name": "Interval: 2",
         "offsetgroup": "Interval: 2",
         "orientation": "v",
         "showlegend": true,
         "textposition": "auto",
         "type": "bar",
         "width": 0.4,
         "x": [
          "Aggression",
          "Disruptive",
          "SIB",
          "Self Mutilation"
         ],
         "xaxis": "x",
         "y": [
          19,
          0,
          3,
          0
         ],
         "yaxis": "y"
        },
        {
         "alignmentgroup": "True",
         "hovertemplate": "variable=Interval: 3<br>Target=%{x}<br>value=%{y}<extra></extra>",
         "legendgroup": "Interval: 3",
         "marker": {
          "color": "rgb(161,217,155)",
          "pattern": {
           "shape": ""
          }
         },
         "name": "Interval: 3",
         "offsetgroup": "Interval: 3",
         "orientation": "v",
         "showlegend": true,
         "textposition": "auto",
         "type": "bar",
         "width": 0.4,
         "x": [
          "Aggression",
          "Disruptive",
          "SIB",
          "Self Mutilation"
         ],
         "xaxis": "x",
         "y": [
          1,
          0,
          3,
          0
         ],
         "yaxis": "y"
        },
        {
         "alignmentgroup": "True",
         "hovertemplate": "variable=Interval: 4<br>Target=%{x}<br>value=%{y}<extra></extra>",
         "legendgroup": "Interval: 4",
         "marker": {
          "color": "rgb(65,171,93)",
          "pattern": {
           "shape": ""
          }
         },
         "name": "Interval: 4",
         "offsetgroup": "Interval: 4",
         "orientation": "v",
         "showlegend": true,
         "textposition": "auto",
         "type": "bar",
         "width": 0.4,
         "x": [
          "Aggression",
          "Disruptive",
          "SIB",
          "Self Mutilation"
         ],
         "xaxis": "x",
         "y": [
          6,
          0,
          1,
          0
         ],
         "yaxis": "y"
        }
       ],
       "layout": {
        "barmode": "relative",
        "legend": {
         "title": {
          "text": "variable"
         },
         "tracegroupgap": 0
        },
        "margin": {
         "t": 60
        },
        "template": {
         "data": {
          "bar": [
           {
            "error_x": {
             "color": "#2a3f5f"
            },
            "error_y": {
             "color": "#2a3f5f"
            },
            "marker": {
             "line": {
              "color": "#E5ECF6",
              "width": 0.5
             },
             "pattern": {
              "fillmode": "overlay",
              "size": 10,
              "solidity": 0.2
             }
            },
            "type": "bar"
           }
          ],
          "barpolar": [
           {
            "marker": {
             "line": {
              "color": "#E5ECF6",
              "width": 0.5
             },
             "pattern": {
              "fillmode": "overlay",
              "size": 10,
              "solidity": 0.2
             }
            },
            "type": "barpolar"
           }
          ],
          "carpet": [
           {
            "aaxis": {
             "endlinecolor": "#2a3f5f",
             "gridcolor": "white",
             "linecolor": "white",
             "minorgridcolor": "white",
             "startlinecolor": "#2a3f5f"
            },
            "baxis": {
             "endlinecolor": "#2a3f5f",
             "gridcolor": "white",
             "linecolor": "white",
             "minorgridcolor": "white",
             "startlinecolor": "#2a3f5f"
            },
            "type": "carpet"
           }
          ],
          "choropleth": [
           {
            "colorbar": {
             "outlinewidth": 0,
             "ticks": ""
            },
            "type": "choropleth"
           }
          ],
          "contour": [
           {
            "colorbar": {
             "outlinewidth": 0,
             "ticks": ""
            },
            "colorscale": [
             [
              0,
              "#0d0887"
             ],
             [
              0.1111111111111111,
              "#46039f"
             ],
             [
              0.2222222222222222,
              "#7201a8"
             ],
             [
              0.3333333333333333,
              "#9c179e"
             ],
             [
              0.4444444444444444,
              "#bd3786"
             ],
             [
              0.5555555555555556,
              "#d8576b"
             ],
             [
              0.6666666666666666,
              "#ed7953"
             ],
             [
              0.7777777777777778,
              "#fb9f3a"
             ],
             [
              0.8888888888888888,
              "#fdca26"
             ],
             [
              1,
              "#f0f921"
             ]
            ],
            "type": "contour"
           }
          ],
          "contourcarpet": [
           {
            "colorbar": {
             "outlinewidth": 0,
             "ticks": ""
            },
            "type": "contourcarpet"
           }
          ],
          "heatmap": [
           {
            "colorbar": {
             "outlinewidth": 0,
             "ticks": ""
            },
            "colorscale": [
             [
              0,
              "#0d0887"
             ],
             [
              0.1111111111111111,
              "#46039f"
             ],
             [
              0.2222222222222222,
              "#7201a8"
             ],
             [
              0.3333333333333333,
              "#9c179e"
             ],
             [
              0.4444444444444444,
              "#bd3786"
             ],
             [
              0.5555555555555556,
              "#d8576b"
             ],
             [
              0.6666666666666666,
              "#ed7953"
             ],
             [
              0.7777777777777778,
              "#fb9f3a"
             ],
             [
              0.8888888888888888,
              "#fdca26"
             ],
             [
              1,
              "#f0f921"
             ]
            ],
            "type": "heatmap"
           }
          ],
          "heatmapgl": [
           {
            "colorbar": {
             "outlinewidth": 0,
             "ticks": ""
            },
            "colorscale": [
             [
              0,
              "#0d0887"
             ],
             [
              0.1111111111111111,
              "#46039f"
             ],
             [
              0.2222222222222222,
              "#7201a8"
             ],
             [
              0.3333333333333333,
              "#9c179e"
             ],
             [
              0.4444444444444444,
              "#bd3786"
             ],
             [
              0.5555555555555556,
              "#d8576b"
             ],
             [
              0.6666666666666666,
              "#ed7953"
             ],
             [
              0.7777777777777778,
              "#fb9f3a"
             ],
             [
              0.8888888888888888,
              "#fdca26"
             ],
             [
              1,
              "#f0f921"
             ]
            ],
            "type": "heatmapgl"
           }
          ],
          "histogram": [
           {
            "marker": {
             "pattern": {
              "fillmode": "overlay",
              "size": 10,
              "solidity": 0.2
             }
            },
            "type": "histogram"
           }
          ],
          "histogram2d": [
           {
            "colorbar": {
             "outlinewidth": 0,
             "ticks": ""
            },
            "colorscale": [
             [
              0,
              "#0d0887"
             ],
             [
              0.1111111111111111,
              "#46039f"
             ],
             [
              0.2222222222222222,
              "#7201a8"
             ],
             [
              0.3333333333333333,
              "#9c179e"
             ],
             [
              0.4444444444444444,
              "#bd3786"
             ],
             [
              0.5555555555555556,
              "#d8576b"
             ],
             [
              0.6666666666666666,
              "#ed7953"
             ],
             [
              0.7777777777777778,
              "#fb9f3a"
             ],
             [
              0.8888888888888888,
              "#fdca26"
             ],
             [
              1,
              "#f0f921"
             ]
            ],
            "type": "histogram2d"
           }
          ],
          "histogram2dcontour": [
           {
            "colorbar": {
             "outlinewidth": 0,
             "ticks": ""
            },
            "colorscale": [
             [
              0,
              "#0d0887"
             ],
             [
              0.1111111111111111,
              "#46039f"
             ],
             [
              0.2222222222222222,
              "#7201a8"
             ],
             [
              0.3333333333333333,
              "#9c179e"
             ],
             [
              0.4444444444444444,
              "#bd3786"
             ],
             [
              0.5555555555555556,
              "#d8576b"
             ],
             [
              0.6666666666666666,
              "#ed7953"
             ],
             [
              0.7777777777777778,
              "#fb9f3a"
             ],
             [
              0.8888888888888888,
              "#fdca26"
             ],
             [
              1,
              "#f0f921"
             ]
            ],
            "type": "histogram2dcontour"
           }
          ],
          "mesh3d": [
           {
            "colorbar": {
             "outlinewidth": 0,
             "ticks": ""
            },
            "type": "mesh3d"
           }
          ],
          "parcoords": [
           {
            "line": {
             "colorbar": {
              "outlinewidth": 0,
              "ticks": ""
             }
            },
            "type": "parcoords"
           }
          ],
          "pie": [
           {
            "automargin": true,
            "type": "pie"
           }
          ],
          "scatter": [
           {
            "fillpattern": {
             "fillmode": "overlay",
             "size": 10,
             "solidity": 0.2
            },
            "type": "scatter"
           }
          ],
          "scatter3d": [
           {
            "line": {
             "colorbar": {
              "outlinewidth": 0,
              "ticks": ""
             }
            },
            "marker": {
             "colorbar": {
              "outlinewidth": 0,
              "ticks": ""
             }
            },
            "type": "scatter3d"
           }
          ],
          "scattercarpet": [
           {
            "marker": {
             "colorbar": {
              "outlinewidth": 0,
              "ticks": ""
             }
            },
            "type": "scattercarpet"
           }
          ],
          "scattergeo": [
           {
            "marker": {
             "colorbar": {
              "outlinewidth": 0,
              "ticks": ""
             }
            },
            "type": "scattergeo"
           }
          ],
          "scattergl": [
           {
            "marker": {
             "colorbar": {
              "outlinewidth": 0,
              "ticks": ""
             }
            },
            "type": "scattergl"
           }
          ],
          "scattermapbox": [
           {
            "marker": {
             "colorbar": {
              "outlinewidth": 0,
              "ticks": ""
             }
            },
            "type": "scattermapbox"
           }
          ],
          "scatterpolar": [
           {
            "marker": {
             "colorbar": {
              "outlinewidth": 0,
              "ticks": ""
             }
            },
            "type": "scatterpolar"
           }
          ],
          "scatterpolargl": [
           {
            "marker": {
             "colorbar": {
              "outlinewidth": 0,
              "ticks": ""
             }
            },
            "type": "scatterpolargl"
           }
          ],
          "scatterternary": [
           {
            "marker": {
             "colorbar": {
              "outlinewidth": 0,
              "ticks": ""
             }
            },
            "type": "scatterternary"
           }
          ],
          "surface": [
           {
            "colorbar": {
             "outlinewidth": 0,
             "ticks": ""
            },
            "colorscale": [
             [
              0,
              "#0d0887"
             ],
             [
              0.1111111111111111,
              "#46039f"
             ],
             [
              0.2222222222222222,
              "#7201a8"
             ],
             [
              0.3333333333333333,
              "#9c179e"
             ],
             [
              0.4444444444444444,
              "#bd3786"
             ],
             [
              0.5555555555555556,
              "#d8576b"
             ],
             [
              0.6666666666666666,
              "#ed7953"
             ],
             [
              0.7777777777777778,
              "#fb9f3a"
             ],
             [
              0.8888888888888888,
              "#fdca26"
             ],
             [
              1,
              "#f0f921"
             ]
            ],
            "type": "surface"
           }
          ],
          "table": [
           {
            "cells": {
             "fill": {
              "color": "#EBF0F8"
             },
             "line": {
              "color": "white"
             }
            },
            "header": {
             "fill": {
              "color": "#C8D4E3"
             },
             "line": {
              "color": "white"
             }
            },
            "type": "table"
           }
          ]
         },
         "layout": {
          "annotationdefaults": {
           "arrowcolor": "#2a3f5f",
           "arrowhead": 0,
           "arrowwidth": 1
          },
          "autotypenumbers": "strict",
          "coloraxis": {
           "colorbar": {
            "outlinewidth": 0,
            "ticks": ""
           }
          },
          "colorscale": {
           "diverging": [
            [
             0,
             "#8e0152"
            ],
            [
             0.1,
             "#c51b7d"
            ],
            [
             0.2,
             "#de77ae"
            ],
            [
             0.3,
             "#f1b6da"
            ],
            [
             0.4,
             "#fde0ef"
            ],
            [
             0.5,
             "#f7f7f7"
            ],
            [
             0.6,
             "#e6f5d0"
            ],
            [
             0.7,
             "#b8e186"
            ],
            [
             0.8,
             "#7fbc41"
            ],
            [
             0.9,
             "#4d9221"
            ],
            [
             1,
             "#276419"
            ]
           ],
           "sequential": [
            [
             0,
             "#0d0887"
            ],
            [
             0.1111111111111111,
             "#46039f"
            ],
            [
             0.2222222222222222,
             "#7201a8"
            ],
            [
             0.3333333333333333,
             "#9c179e"
            ],
            [
             0.4444444444444444,
             "#bd3786"
            ],
            [
             0.5555555555555556,
             "#d8576b"
            ],
            [
             0.6666666666666666,
             "#ed7953"
            ],
            [
             0.7777777777777778,
             "#fb9f3a"
            ],
            [
             0.8888888888888888,
             "#fdca26"
            ],
            [
             1,
             "#f0f921"
            ]
           ],
           "sequentialminus": [
            [
             0,
             "#0d0887"
            ],
            [
             0.1111111111111111,
             "#46039f"
            ],
            [
             0.2222222222222222,
             "#7201a8"
            ],
            [
             0.3333333333333333,
             "#9c179e"
            ],
            [
             0.4444444444444444,
             "#bd3786"
            ],
            [
             0.5555555555555556,
             "#d8576b"
            ],
            [
             0.6666666666666666,
             "#ed7953"
            ],
            [
             0.7777777777777778,
             "#fb9f3a"
            ],
            [
             0.8888888888888888,
             "#fdca26"
            ],
            [
             1,
             "#f0f921"
            ]
           ]
          },
          "colorway": [
           "#636efa",
           "#EF553B",
           "#00cc96",
           "#ab63fa",
           "#FFA15A",
           "#19d3f3",
           "#FF6692",
           "#B6E880",
           "#FF97FF",
           "#FECB52"
          ],
          "font": {
           "color": "#2a3f5f"
          },
          "geo": {
           "bgcolor": "white",
           "lakecolor": "white",
           "landcolor": "#E5ECF6",
           "showlakes": true,
           "showland": true,
           "subunitcolor": "white"
          },
          "hoverlabel": {
           "align": "left"
          },
          "hovermode": "closest",
          "mapbox": {
           "style": "light"
          },
          "paper_bgcolor": "white",
          "plot_bgcolor": "#E5ECF6",
          "polar": {
           "angularaxis": {
            "gridcolor": "white",
            "linecolor": "white",
            "ticks": ""
           },
           "bgcolor": "#E5ECF6",
           "radialaxis": {
            "gridcolor": "white",
            "linecolor": "white",
            "ticks": ""
           }
          },
          "scene": {
           "xaxis": {
            "backgroundcolor": "#E5ECF6",
            "gridcolor": "white",
            "gridwidth": 2,
            "linecolor": "white",
            "showbackground": true,
            "ticks": "",
            "zerolinecolor": "white"
           },
           "yaxis": {
            "backgroundcolor": "#E5ECF6",
            "gridcolor": "white",
            "gridwidth": 2,
            "linecolor": "white",
            "showbackground": true,
            "ticks": "",
            "zerolinecolor": "white"
           },
           "zaxis": {
            "backgroundcolor": "#E5ECF6",
            "gridcolor": "white",
            "gridwidth": 2,
            "linecolor": "white",
            "showbackground": true,
            "ticks": "",
            "zerolinecolor": "white"
           }
          },
          "shapedefaults": {
           "line": {
            "color": "#2a3f5f"
           }
          },
          "ternary": {
           "aaxis": {
            "gridcolor": "white",
            "linecolor": "white",
            "ticks": ""
           },
           "baxis": {
            "gridcolor": "white",
            "linecolor": "white",
            "ticks": ""
           },
           "bgcolor": "#E5ECF6",
           "caxis": {
            "gridcolor": "white",
            "linecolor": "white",
            "ticks": ""
           }
          },
          "title": {
           "x": 0.05
          },
          "xaxis": {
           "automargin": true,
           "gridcolor": "white",
           "linecolor": "white",
           "ticks": "",
           "title": {
            "standoff": 15
           },
           "zerolinecolor": "white",
           "zerolinewidth": 2
          },
          "yaxis": {
           "automargin": true,
           "gridcolor": "white",
           "linecolor": "white",
           "ticks": "",
           "title": {
            "standoff": 15
           },
           "zerolinecolor": "white",
           "zerolinewidth": 2
          }
         }
        },
        "xaxis": {
         "anchor": "y",
         "domain": [
          0,
          1
         ],
         "title": {
          "text": "Target"
         }
        },
        "yaxis": {
         "anchor": "x",
         "domain": [
          0,
          1
         ],
         "title": {
          "text": "value"
         }
        }
       }
      }
     },
     "metadata": {},
     "output_type": "display_data"
    }
   ],
   "source": [
    "fig = px.bar(durin_m[~durin_m['variable'].str.contains('Duration')],x = 'Target', y='value', color = 'variable',\n",
    "             color_discrete_sequence= px.colors.sequential.Greens, category_orders={\"variable\": [\"Interval: 0\", \"Interval: 1\", \"Interval: 2\",\n",
    "                                                                                               \"Interval: 3\",\"Duration: 4\"]})\n",
    "fig.update_traces(width=0.4)\n",
    "\n",
    "fig"
   ]
  },
  {
   "cell_type": "code",
   "execution_count": 21,
   "metadata": {},
   "outputs": [
    {
     "data": {
      "application/vnd.plotly.v1+json": {
       "config": {
        "plotlyServerURL": "https://plot.ly"
       },
       "data": [
        {
         "alignmentgroup": "True",
         "hovertemplate": "variable=Duration: 0<br>Target=%{x}<br>value=%{y}<extra></extra>",
         "legendgroup": "Duration: 0",
         "marker": {
          "color": "rgb(255,245,240)",
          "pattern": {
           "shape": ""
          }
         },
         "name": "Duration: 0",
         "offsetgroup": "Duration: 0",
         "orientation": "v",
         "showlegend": true,
         "textposition": "auto",
         "type": "bar",
         "width": 0.4,
         "x": [
          "Aggression",
          "Disruptive",
          "SIB",
          "Self Mutilation"
         ],
         "xaxis": "x",
         "y": [
          1,
          0,
          0,
          0
         ],
         "yaxis": "y"
        },
        {
         "alignmentgroup": "True",
         "hovertemplate": "variable=Duration: <5<br>Target=%{x}<br>value=%{y}<extra></extra>",
         "legendgroup": "Duration: <5",
         "marker": {
          "color": "rgb(254,224,210)",
          "pattern": {
           "shape": ""
          }
         },
         "name": "Duration: <5",
         "offsetgroup": "Duration: <5",
         "orientation": "v",
         "showlegend": true,
         "textposition": "auto",
         "type": "bar",
         "width": 0.4,
         "x": [
          "Aggression",
          "Disruptive",
          "SIB",
          "Self Mutilation"
         ],
         "xaxis": "x",
         "y": [
          25,
          2,
          0,
          0
         ],
         "yaxis": "y"
        },
        {
         "alignmentgroup": "True",
         "hovertemplate": "variable=Duration: 6-10<br>Target=%{x}<br>value=%{y}<extra></extra>",
         "legendgroup": "Duration: 6-10",
         "marker": {
          "color": "rgb(252,146,114)",
          "pattern": {
           "shape": ""
          }
         },
         "name": "Duration: 6-10",
         "offsetgroup": "Duration: 6-10",
         "orientation": "v",
         "showlegend": true,
         "textposition": "auto",
         "type": "bar",
         "width": 0.4,
         "x": [
          "Aggression",
          "Disruptive",
          "SIB",
          "Self Mutilation"
         ],
         "xaxis": "x",
         "y": [
          16,
          1,
          6,
          0
         ],
         "yaxis": "y"
        },
        {
         "alignmentgroup": "True",
         "hovertemplate": "variable=Duration: 11-15<br>Target=%{x}<br>value=%{y}<extra></extra>",
         "legendgroup": "Duration: 11-15",
         "marker": {
          "color": "rgb(251,106,74)",
          "pattern": {
           "shape": ""
          }
         },
         "name": "Duration: 11-15",
         "offsetgroup": "Duration: 11-15",
         "orientation": "v",
         "showlegend": true,
         "textposition": "auto",
         "type": "bar",
         "width": 0.4,
         "x": [
          "Aggression",
          "Disruptive",
          "SIB",
          "Self Mutilation"
         ],
         "xaxis": "x",
         "y": [
          0,
          0,
          0,
          0
         ],
         "yaxis": "y"
        },
        {
         "alignmentgroup": "True",
         "hovertemplate": "variable=Duration: 16-20<br>Target=%{x}<br>value=%{y}<extra></extra>",
         "legendgroup": "Duration: 16-20",
         "marker": {
          "color": "rgb(239,59,44)",
          "pattern": {
           "shape": ""
          }
         },
         "name": "Duration: 16-20",
         "offsetgroup": "Duration: 16-20",
         "orientation": "v",
         "showlegend": true,
         "textposition": "auto",
         "type": "bar",
         "width": 0.4,
         "x": [
          "Aggression",
          "Disruptive",
          "SIB",
          "Self Mutilation"
         ],
         "xaxis": "x",
         "y": [
          0,
          0,
          0,
          0
         ],
         "yaxis": "y"
        },
        {
         "alignmentgroup": "True",
         "hovertemplate": "variable=Duration: 20+<br>Target=%{x}<br>value=%{y}<extra></extra>",
         "legendgroup": "Duration: 20+",
         "marker": {
          "color": "rgb(203,24,29)",
          "pattern": {
           "shape": ""
          }
         },
         "name": "Duration: 20+",
         "offsetgroup": "Duration: 20+",
         "orientation": "v",
         "showlegend": true,
         "textposition": "auto",
         "type": "bar",
         "width": 0.4,
         "x": [
          "Aggression",
          "Disruptive",
          "SIB",
          "Self Mutilation"
         ],
         "xaxis": "x",
         "y": [
          1,
          1,
          1,
          0
         ],
         "yaxis": "y"
        }
       ],
       "layout": {
        "barmode": "relative",
        "legend": {
         "title": {
          "text": "variable"
         },
         "tracegroupgap": 0
        },
        "margin": {
         "t": 60
        },
        "template": {
         "data": {
          "bar": [
           {
            "error_x": {
             "color": "#2a3f5f"
            },
            "error_y": {
             "color": "#2a3f5f"
            },
            "marker": {
             "line": {
              "color": "#E5ECF6",
              "width": 0.5
             },
             "pattern": {
              "fillmode": "overlay",
              "size": 10,
              "solidity": 0.2
             }
            },
            "type": "bar"
           }
          ],
          "barpolar": [
           {
            "marker": {
             "line": {
              "color": "#E5ECF6",
              "width": 0.5
             },
             "pattern": {
              "fillmode": "overlay",
              "size": 10,
              "solidity": 0.2
             }
            },
            "type": "barpolar"
           }
          ],
          "carpet": [
           {
            "aaxis": {
             "endlinecolor": "#2a3f5f",
             "gridcolor": "white",
             "linecolor": "white",
             "minorgridcolor": "white",
             "startlinecolor": "#2a3f5f"
            },
            "baxis": {
             "endlinecolor": "#2a3f5f",
             "gridcolor": "white",
             "linecolor": "white",
             "minorgridcolor": "white",
             "startlinecolor": "#2a3f5f"
            },
            "type": "carpet"
           }
          ],
          "choropleth": [
           {
            "colorbar": {
             "outlinewidth": 0,
             "ticks": ""
            },
            "type": "choropleth"
           }
          ],
          "contour": [
           {
            "colorbar": {
             "outlinewidth": 0,
             "ticks": ""
            },
            "colorscale": [
             [
              0,
              "#0d0887"
             ],
             [
              0.1111111111111111,
              "#46039f"
             ],
             [
              0.2222222222222222,
              "#7201a8"
             ],
             [
              0.3333333333333333,
              "#9c179e"
             ],
             [
              0.4444444444444444,
              "#bd3786"
             ],
             [
              0.5555555555555556,
              "#d8576b"
             ],
             [
              0.6666666666666666,
              "#ed7953"
             ],
             [
              0.7777777777777778,
              "#fb9f3a"
             ],
             [
              0.8888888888888888,
              "#fdca26"
             ],
             [
              1,
              "#f0f921"
             ]
            ],
            "type": "contour"
           }
          ],
          "contourcarpet": [
           {
            "colorbar": {
             "outlinewidth": 0,
             "ticks": ""
            },
            "type": "contourcarpet"
           }
          ],
          "heatmap": [
           {
            "colorbar": {
             "outlinewidth": 0,
             "ticks": ""
            },
            "colorscale": [
             [
              0,
              "#0d0887"
             ],
             [
              0.1111111111111111,
              "#46039f"
             ],
             [
              0.2222222222222222,
              "#7201a8"
             ],
             [
              0.3333333333333333,
              "#9c179e"
             ],
             [
              0.4444444444444444,
              "#bd3786"
             ],
             [
              0.5555555555555556,
              "#d8576b"
             ],
             [
              0.6666666666666666,
              "#ed7953"
             ],
             [
              0.7777777777777778,
              "#fb9f3a"
             ],
             [
              0.8888888888888888,
              "#fdca26"
             ],
             [
              1,
              "#f0f921"
             ]
            ],
            "type": "heatmap"
           }
          ],
          "heatmapgl": [
           {
            "colorbar": {
             "outlinewidth": 0,
             "ticks": ""
            },
            "colorscale": [
             [
              0,
              "#0d0887"
             ],
             [
              0.1111111111111111,
              "#46039f"
             ],
             [
              0.2222222222222222,
              "#7201a8"
             ],
             [
              0.3333333333333333,
              "#9c179e"
             ],
             [
              0.4444444444444444,
              "#bd3786"
             ],
             [
              0.5555555555555556,
              "#d8576b"
             ],
             [
              0.6666666666666666,
              "#ed7953"
             ],
             [
              0.7777777777777778,
              "#fb9f3a"
             ],
             [
              0.8888888888888888,
              "#fdca26"
             ],
             [
              1,
              "#f0f921"
             ]
            ],
            "type": "heatmapgl"
           }
          ],
          "histogram": [
           {
            "marker": {
             "pattern": {
              "fillmode": "overlay",
              "size": 10,
              "solidity": 0.2
             }
            },
            "type": "histogram"
           }
          ],
          "histogram2d": [
           {
            "colorbar": {
             "outlinewidth": 0,
             "ticks": ""
            },
            "colorscale": [
             [
              0,
              "#0d0887"
             ],
             [
              0.1111111111111111,
              "#46039f"
             ],
             [
              0.2222222222222222,
              "#7201a8"
             ],
             [
              0.3333333333333333,
              "#9c179e"
             ],
             [
              0.4444444444444444,
              "#bd3786"
             ],
             [
              0.5555555555555556,
              "#d8576b"
             ],
             [
              0.6666666666666666,
              "#ed7953"
             ],
             [
              0.7777777777777778,
              "#fb9f3a"
             ],
             [
              0.8888888888888888,
              "#fdca26"
             ],
             [
              1,
              "#f0f921"
             ]
            ],
            "type": "histogram2d"
           }
          ],
          "histogram2dcontour": [
           {
            "colorbar": {
             "outlinewidth": 0,
             "ticks": ""
            },
            "colorscale": [
             [
              0,
              "#0d0887"
             ],
             [
              0.1111111111111111,
              "#46039f"
             ],
             [
              0.2222222222222222,
              "#7201a8"
             ],
             [
              0.3333333333333333,
              "#9c179e"
             ],
             [
              0.4444444444444444,
              "#bd3786"
             ],
             [
              0.5555555555555556,
              "#d8576b"
             ],
             [
              0.6666666666666666,
              "#ed7953"
             ],
             [
              0.7777777777777778,
              "#fb9f3a"
             ],
             [
              0.8888888888888888,
              "#fdca26"
             ],
             [
              1,
              "#f0f921"
             ]
            ],
            "type": "histogram2dcontour"
           }
          ],
          "mesh3d": [
           {
            "colorbar": {
             "outlinewidth": 0,
             "ticks": ""
            },
            "type": "mesh3d"
           }
          ],
          "parcoords": [
           {
            "line": {
             "colorbar": {
              "outlinewidth": 0,
              "ticks": ""
             }
            },
            "type": "parcoords"
           }
          ],
          "pie": [
           {
            "automargin": true,
            "type": "pie"
           }
          ],
          "scatter": [
           {
            "fillpattern": {
             "fillmode": "overlay",
             "size": 10,
             "solidity": 0.2
            },
            "type": "scatter"
           }
          ],
          "scatter3d": [
           {
            "line": {
             "colorbar": {
              "outlinewidth": 0,
              "ticks": ""
             }
            },
            "marker": {
             "colorbar": {
              "outlinewidth": 0,
              "ticks": ""
             }
            },
            "type": "scatter3d"
           }
          ],
          "scattercarpet": [
           {
            "marker": {
             "colorbar": {
              "outlinewidth": 0,
              "ticks": ""
             }
            },
            "type": "scattercarpet"
           }
          ],
          "scattergeo": [
           {
            "marker": {
             "colorbar": {
              "outlinewidth": 0,
              "ticks": ""
             }
            },
            "type": "scattergeo"
           }
          ],
          "scattergl": [
           {
            "marker": {
             "colorbar": {
              "outlinewidth": 0,
              "ticks": ""
             }
            },
            "type": "scattergl"
           }
          ],
          "scattermapbox": [
           {
            "marker": {
             "colorbar": {
              "outlinewidth": 0,
              "ticks": ""
             }
            },
            "type": "scattermapbox"
           }
          ],
          "scatterpolar": [
           {
            "marker": {
             "colorbar": {
              "outlinewidth": 0,
              "ticks": ""
             }
            },
            "type": "scatterpolar"
           }
          ],
          "scatterpolargl": [
           {
            "marker": {
             "colorbar": {
              "outlinewidth": 0,
              "ticks": ""
             }
            },
            "type": "scatterpolargl"
           }
          ],
          "scatterternary": [
           {
            "marker": {
             "colorbar": {
              "outlinewidth": 0,
              "ticks": ""
             }
            },
            "type": "scatterternary"
           }
          ],
          "surface": [
           {
            "colorbar": {
             "outlinewidth": 0,
             "ticks": ""
            },
            "colorscale": [
             [
              0,
              "#0d0887"
             ],
             [
              0.1111111111111111,
              "#46039f"
             ],
             [
              0.2222222222222222,
              "#7201a8"
             ],
             [
              0.3333333333333333,
              "#9c179e"
             ],
             [
              0.4444444444444444,
              "#bd3786"
             ],
             [
              0.5555555555555556,
              "#d8576b"
             ],
             [
              0.6666666666666666,
              "#ed7953"
             ],
             [
              0.7777777777777778,
              "#fb9f3a"
             ],
             [
              0.8888888888888888,
              "#fdca26"
             ],
             [
              1,
              "#f0f921"
             ]
            ],
            "type": "surface"
           }
          ],
          "table": [
           {
            "cells": {
             "fill": {
              "color": "#EBF0F8"
             },
             "line": {
              "color": "white"
             }
            },
            "header": {
             "fill": {
              "color": "#C8D4E3"
             },
             "line": {
              "color": "white"
             }
            },
            "type": "table"
           }
          ]
         },
         "layout": {
          "annotationdefaults": {
           "arrowcolor": "#2a3f5f",
           "arrowhead": 0,
           "arrowwidth": 1
          },
          "autotypenumbers": "strict",
          "coloraxis": {
           "colorbar": {
            "outlinewidth": 0,
            "ticks": ""
           }
          },
          "colorscale": {
           "diverging": [
            [
             0,
             "#8e0152"
            ],
            [
             0.1,
             "#c51b7d"
            ],
            [
             0.2,
             "#de77ae"
            ],
            [
             0.3,
             "#f1b6da"
            ],
            [
             0.4,
             "#fde0ef"
            ],
            [
             0.5,
             "#f7f7f7"
            ],
            [
             0.6,
             "#e6f5d0"
            ],
            [
             0.7,
             "#b8e186"
            ],
            [
             0.8,
             "#7fbc41"
            ],
            [
             0.9,
             "#4d9221"
            ],
            [
             1,
             "#276419"
            ]
           ],
           "sequential": [
            [
             0,
             "#0d0887"
            ],
            [
             0.1111111111111111,
             "#46039f"
            ],
            [
             0.2222222222222222,
             "#7201a8"
            ],
            [
             0.3333333333333333,
             "#9c179e"
            ],
            [
             0.4444444444444444,
             "#bd3786"
            ],
            [
             0.5555555555555556,
             "#d8576b"
            ],
            [
             0.6666666666666666,
             "#ed7953"
            ],
            [
             0.7777777777777778,
             "#fb9f3a"
            ],
            [
             0.8888888888888888,
             "#fdca26"
            ],
            [
             1,
             "#f0f921"
            ]
           ],
           "sequentialminus": [
            [
             0,
             "#0d0887"
            ],
            [
             0.1111111111111111,
             "#46039f"
            ],
            [
             0.2222222222222222,
             "#7201a8"
            ],
            [
             0.3333333333333333,
             "#9c179e"
            ],
            [
             0.4444444444444444,
             "#bd3786"
            ],
            [
             0.5555555555555556,
             "#d8576b"
            ],
            [
             0.6666666666666666,
             "#ed7953"
            ],
            [
             0.7777777777777778,
             "#fb9f3a"
            ],
            [
             0.8888888888888888,
             "#fdca26"
            ],
            [
             1,
             "#f0f921"
            ]
           ]
          },
          "colorway": [
           "#636efa",
           "#EF553B",
           "#00cc96",
           "#ab63fa",
           "#FFA15A",
           "#19d3f3",
           "#FF6692",
           "#B6E880",
           "#FF97FF",
           "#FECB52"
          ],
          "font": {
           "color": "#2a3f5f"
          },
          "geo": {
           "bgcolor": "white",
           "lakecolor": "white",
           "landcolor": "#E5ECF6",
           "showlakes": true,
           "showland": true,
           "subunitcolor": "white"
          },
          "hoverlabel": {
           "align": "left"
          },
          "hovermode": "closest",
          "mapbox": {
           "style": "light"
          },
          "paper_bgcolor": "white",
          "plot_bgcolor": "#E5ECF6",
          "polar": {
           "angularaxis": {
            "gridcolor": "white",
            "linecolor": "white",
            "ticks": ""
           },
           "bgcolor": "#E5ECF6",
           "radialaxis": {
            "gridcolor": "white",
            "linecolor": "white",
            "ticks": ""
           }
          },
          "scene": {
           "xaxis": {
            "backgroundcolor": "#E5ECF6",
            "gridcolor": "white",
            "gridwidth": 2,
            "linecolor": "white",
            "showbackground": true,
            "ticks": "",
            "zerolinecolor": "white"
           },
           "yaxis": {
            "backgroundcolor": "#E5ECF6",
            "gridcolor": "white",
            "gridwidth": 2,
            "linecolor": "white",
            "showbackground": true,
            "ticks": "",
            "zerolinecolor": "white"
           },
           "zaxis": {
            "backgroundcolor": "#E5ECF6",
            "gridcolor": "white",
            "gridwidth": 2,
            "linecolor": "white",
            "showbackground": true,
            "ticks": "",
            "zerolinecolor": "white"
           }
          },
          "shapedefaults": {
           "line": {
            "color": "#2a3f5f"
           }
          },
          "ternary": {
           "aaxis": {
            "gridcolor": "white",
            "linecolor": "white",
            "ticks": ""
           },
           "baxis": {
            "gridcolor": "white",
            "linecolor": "white",
            "ticks": ""
           },
           "bgcolor": "#E5ECF6",
           "caxis": {
            "gridcolor": "white",
            "linecolor": "white",
            "ticks": ""
           }
          },
          "title": {
           "x": 0.05
          },
          "xaxis": {
           "automargin": true,
           "gridcolor": "white",
           "linecolor": "white",
           "ticks": "",
           "title": {
            "standoff": 15
           },
           "zerolinecolor": "white",
           "zerolinewidth": 2
          },
          "yaxis": {
           "automargin": true,
           "gridcolor": "white",
           "linecolor": "white",
           "ticks": "",
           "title": {
            "standoff": 15
           },
           "zerolinecolor": "white",
           "zerolinewidth": 2
          }
         }
        },
        "xaxis": {
         "anchor": "y",
         "domain": [
          0,
          1
         ],
         "title": {
          "text": "Target"
         }
        },
        "yaxis": {
         "anchor": "x",
         "domain": [
          0,
          1
         ],
         "title": {
          "text": "value"
         }
        }
       }
      }
     },
     "metadata": {},
     "output_type": "display_data"
    }
   ],
   "source": [
    "fig = px.bar(durin_m[~durin_m['variable'].str.contains('Interval')],x = 'Target', y='value', color = 'variable',\n",
    "             color_discrete_sequence= px.colors.sequential.Reds, category_orders={\"variable\": [\"Duration: 0\", \"Duration: <5\", \"Sat\", \"Duration: 6-10\",\n",
    "                                                                                               \"Duration: 11-15\",\"Duration: 16-20\", \"Duration: 20+\"]})\n",
    "fig.update_traces(width=0.4)\n",
    "fig"
   ]
  },
  {
   "cell_type": "code",
   "execution_count": 22,
   "metadata": {},
   "outputs": [],
   "source": [
    "# dfdurin1 = df.iloc[:,[0,1,2] + list(range(8,21))]\n",
    "# dfdurin1.insert(3,'Target', str(dfcolnmes.columns[4]))\n",
    "# dfdurin2 = df.iloc[:,[0,1,2] + list(range(26,39))]\n",
    "# dfdurin2.insert(3, 'Target', str(dfcolnmes.columns[22]))\n",
    "# dfdurin3 = df.iloc[:,[0,1,2] + list(range(44,57))]\n",
    "# dfdurin3.insert(3, 'Target', str(dfcolnmes.columns[40]))\n",
    "# dfdurin4 = df.iloc[:,[0,1,2] + list(range(62,75))]\n",
    "# dfdurin4.insert(3, 'Target', str(dfcolnmes.columns[58]))\n",
    "# dfdurin5 = df.iloc[:,[0,1,2] + list(range(80,93))]\n",
    "# dfdurin5.insert(3, 'Target', str(dfcolnmes.columns[76]))\n",
    "\n",
    "# dfdurin = pd.concat([dfdurin1,dfdurin2,dfdurin3,dfdurin4,dfdurin5])              \n",
    "# print(dfdurin.shape)\n",
    "# dfdurin2.head()"
   ]
  },
  {
   "cell_type": "code",
   "execution_count": 23,
   "metadata": {},
   "outputs": [],
   "source": [
    "#NOTE; rename 'Duration Intervals' columns with the behavior name, same as - `'Unnamed: 7':str(dfbeh.columns[3])+'_beh'`\n",
    "\n",
    "# dfdurin = dfdurin.rename(columns = {'Unnamed: 1':'Shift','Unnamed: 2':'No Data',\n",
    "#                                 'Unnamed: 11':str(dfdurin.iloc[0,7]),'Unnamed: 46':str(dfcolnmes.columns[7]),\n",
    "#                                 'Unnamed: 64':str(dfcolnmes.columns[9]),'Unnamed: 79':str(dfcolnmes.columns[11])})"
   ]
  },
  {
   "cell_type": "code",
   "execution_count": 24,
   "metadata": {},
   "outputs": [
    {
     "data": {
      "text/html": [
       "<div>\n",
       "<style scoped>\n",
       "    .dataframe tbody tr th:only-of-type {\n",
       "        vertical-align: middle;\n",
       "    }\n",
       "\n",
       "    .dataframe tbody tr th {\n",
       "        vertical-align: top;\n",
       "    }\n",
       "\n",
       "    .dataframe thead th {\n",
       "        text-align: right;\n",
       "    }\n",
       "</style>\n",
       "<table border=\"1\" class=\"dataframe\">\n",
       "  <thead>\n",
       "    <tr style=\"text-align: right;\">\n",
       "      <th></th>\n",
       "      <th>July</th>\n",
       "      <th>Shift</th>\n",
       "      <th>No Data</th>\n",
       "      <th>Aggression</th>\n",
       "      <th>Aggression_beh</th>\n",
       "      <th>Self Mutilation</th>\n",
       "      <th>Self Mutilation_beh</th>\n",
       "      <th>SIB</th>\n",
       "      <th>SIB_beh</th>\n",
       "      <th>Disruptive</th>\n",
       "      <th>Disruptive_beh</th>\n",
       "      <th>Insert</th>\n",
       "      <th>Insert_beh</th>\n",
       "    </tr>\n",
       "  </thead>\n",
       "  <tbody>\n",
       "    <tr>\n",
       "      <th>0</th>\n",
       "      <td>1</td>\n",
       "      <td>7-3</td>\n",
       "      <td>NaN</td>\n",
       "      <td>hitting, grabbing</td>\n",
       "      <td>2.0</td>\n",
       "      <td>NaN</td>\n",
       "      <td>0.0</td>\n",
       "      <td>NaN</td>\n",
       "      <td>0.0</td>\n",
       "      <td>NaN</td>\n",
       "      <td>0.0</td>\n",
       "      <td>NaN</td>\n",
       "      <td>NaN</td>\n",
       "    </tr>\n",
       "    <tr>\n",
       "      <th>1</th>\n",
       "      <td>NaN</td>\n",
       "      <td>3-11</td>\n",
       "      <td>No Behaviors</td>\n",
       "      <td>NaN</td>\n",
       "      <td>0.0</td>\n",
       "      <td>NaN</td>\n",
       "      <td>0.0</td>\n",
       "      <td>NaN</td>\n",
       "      <td>0.0</td>\n",
       "      <td>NaN</td>\n",
       "      <td>0.0</td>\n",
       "      <td>NaN</td>\n",
       "      <td>0.0</td>\n",
       "    </tr>\n",
       "    <tr>\n",
       "      <th>2</th>\n",
       "      <td>NaN</td>\n",
       "      <td>11-7</td>\n",
       "      <td>No Behaviors</td>\n",
       "      <td>NaN</td>\n",
       "      <td>0.0</td>\n",
       "      <td>NaN</td>\n",
       "      <td>0.0</td>\n",
       "      <td>NaN</td>\n",
       "      <td>0.0</td>\n",
       "      <td>NaN</td>\n",
       "      <td>0.0</td>\n",
       "      <td>NaN</td>\n",
       "      <td>0.0</td>\n",
       "    </tr>\n",
       "    <tr>\n",
       "      <th>3</th>\n",
       "      <td>2</td>\n",
       "      <td>7-3</td>\n",
       "      <td>No Behaviors</td>\n",
       "      <td>NaN</td>\n",
       "      <td>0.0</td>\n",
       "      <td>NaN</td>\n",
       "      <td>0.0</td>\n",
       "      <td>NaN</td>\n",
       "      <td>0.0</td>\n",
       "      <td>NaN</td>\n",
       "      <td>0.0</td>\n",
       "      <td>NaN</td>\n",
       "      <td>0.0</td>\n",
       "    </tr>\n",
       "    <tr>\n",
       "      <th>4</th>\n",
       "      <td>NaN</td>\n",
       "      <td>3-11</td>\n",
       "      <td>No Behaviors</td>\n",
       "      <td>NaN</td>\n",
       "      <td>0.0</td>\n",
       "      <td>NaN</td>\n",
       "      <td>0.0</td>\n",
       "      <td>NaN</td>\n",
       "      <td>0.0</td>\n",
       "      <td>NaN</td>\n",
       "      <td>0.0</td>\n",
       "      <td>NaN</td>\n",
       "      <td>0.0</td>\n",
       "    </tr>\n",
       "  </tbody>\n",
       "</table>\n",
       "</div>"
      ],
      "text/plain": [
       "  July Shift       No Data         Aggression  Aggression_beh Self Mutilation  \\\n",
       "0    1   7-3           NaN  hitting, grabbing             2.0             NaN   \n",
       "1  NaN  3-11  No Behaviors                NaN             0.0             NaN   \n",
       "2  NaN  11-7  No Behaviors                NaN             0.0             NaN   \n",
       "3    2   7-3  No Behaviors                NaN             0.0             NaN   \n",
       "4  NaN  3-11  No Behaviors                NaN             0.0             NaN   \n",
       "\n",
       "   Self Mutilation_beh  SIB  SIB_beh Disruptive  Disruptive_beh Insert  \\\n",
       "0                  0.0  NaN      0.0        NaN             0.0    NaN   \n",
       "1                  0.0  NaN      0.0        NaN             0.0    NaN   \n",
       "2                  0.0  NaN      0.0        NaN             0.0    NaN   \n",
       "3                  0.0  NaN      0.0        NaN             0.0    NaN   \n",
       "4                  0.0  NaN      0.0        NaN             0.0    NaN   \n",
       "\n",
       "   Insert_beh  \n",
       "0         NaN  \n",
       "1         0.0  \n",
       "2         0.0  \n",
       "3         0.0  \n",
       "4         0.0  "
      ]
     },
     "execution_count": 24,
     "metadata": {},
     "output_type": "execute_result"
    }
   ],
   "source": [
    "df = pd.read_excel(wbpath, sheet_name='July', skiprows=[1,2])\n",
    "dfinfo = pd.read_excel(wbpath, sheet_name=0)\n",
    "dfstudet = pd.read_excel(wbpath, sheet_name=2, header=None)\n",
    "\n",
    "#get years variable \n",
    "year = dfinfo.iloc[3,1]\n",
    "year1, year2 = str.split(year, '-')\n",
    "\n",
    "#get name\n",
    "# name = dfstudet.iloc[0,0]\n",
    "# print(f\"name is {name}\")\n",
    "\n",
    "# pdb.set_trace()\n",
    "#select necessary columns and front fill NaNs in month column \n",
    "dfbeh = df.iloc[:, [0,1,2,4,7,22,25,40,43,58,61,76,79]]\n",
    "#print(dfbeh.head())\n",
    "dfbeh = dfbeh.rename(columns = {'Unnamed: 1':'Shift','Unnamed: 2':'No Data','Unnamed: 7':str(dfbeh.columns[3])+'_beh','Unnamed: 25':str(dfbeh.columns[5])+'_beh',\n",
    "                                'Unnamed: 43':str(dfbeh.columns[7])+'_beh','Unnamed: 61':str(dfbeh.columns[9])+'_beh','Unnamed: 79':str(dfbeh.columns[11])+'_beh'})\n",
    "\n",
    "dfbeh.head()"
   ]
  },
  {
   "cell_type": "code",
   "execution_count": 22,
   "metadata": {},
   "outputs": [
    {
     "name": "stdout",
     "output_type": "stream",
     "text": [
      "        Date      Target         variable value\n",
      "0 2019-07-01  Aggression      Duration: 0   0.0\n",
      "1 2019-07-01  Aggression  Duration: 11-15   0.0\n",
      "2 2019-07-01  Aggression  Duration: 16-20   0.0\n",
      "3 2019-07-01  Aggression    Duration: 20+   0.0\n",
      "4 2019-07-01  Aggression   Duration: 6-10   0.0\n",
      "            Product1                      Product2                    \n",
      "            Revenue1  Revenue2  Revenue3  Revenue1  Revenue2  Revenue3\n",
      "2020-01-01  0.790459  0.422010  1.431004  0.979286  1.273044  1.224047\n",
      "2020-02-01  0.655337  0.606272  1.061791  0.615775  1.458648  0.971674\n",
      "2020-03-01  1.062235  0.296821  1.067996  1.316929  1.153579  0.768930\n",
      "2020-04-01  0.993365  1.087196  1.111705  0.762684  1.352790  1.231479\n",
      "2020-05-01  1.224278  0.554171  0.266870  0.774203  1.499196  1.209566\n"
     ]
    },
    {
     "data": {
      "application/vnd.plotly.v1+json": {
       "config": {
        "plotlyServerURL": "https://plot.ly"
       },
       "data": [
        {
         "hovertemplate": "%{y}<extra></extra>",
         "legendgroup": "Product1",
         "legendgrouptitle": {
          "text": "Product1"
         },
         "marker": {
          "color": "#F28F1D",
          "line": {
           "color": "#333",
           "width": 2
          }
         },
         "name": "Revenue1",
         "offset": -1000000000,
         "offsetgroup": "0",
         "type": "bar",
         "width": 1000000000,
         "x": [
          "2020-01-01T00:00:00",
          "2020-02-01T00:00:00",
          "2020-03-01T00:00:00",
          "2020-04-01T00:00:00",
          "2020-05-01T00:00:00",
          "2020-06-01T00:00:00",
          "2020-07-01T00:00:00",
          "2020-08-01T00:00:00",
          "2020-09-01T00:00:00",
          "2020-10-01T00:00:00",
          "2020-11-01T00:00:00",
          "2020-12-01T00:00:00"
         ],
         "y": [
          0.7904591641053641,
          0.6553371875752341,
          1.0622349173794357,
          0.9933654507353467,
          1.2242777697938099,
          1.280231281151703,
          0.5596909503607365,
          0.3582218462401843,
          0.8155258551666641,
          1.4052092811273702,
          0.8374494118605189,
          0.43548776049913906
         ],
         "yaxis": "y"
        },
        {
         "hovertemplate": "%{y}<extra></extra>",
         "legendgroup": "Product1",
         "legendgrouptitle": {
          "text": "Product1"
         },
         "marker": {
          "color": "#F6C619",
          "line": {
           "color": "#333",
           "width": 2
          }
         },
         "name": "Revenue2",
         "offset": -1000000000,
         "offsetgroup": "0",
         "type": "bar",
         "width": 1000000000,
         "x": [
          "2020-01-01T00:00:00",
          "2020-02-01T00:00:00",
          "2020-03-01T00:00:00",
          "2020-04-01T00:00:00",
          "2020-05-01T00:00:00",
          "2020-06-01T00:00:00",
          "2020-07-01T00:00:00",
          "2020-08-01T00:00:00",
          "2020-09-01T00:00:00",
          "2020-10-01T00:00:00",
          "2020-11-01T00:00:00",
          "2020-12-01T00:00:00"
         ],
         "y": [
          0.4220104006183215,
          0.6062715224906496,
          0.29682130644336313,
          1.0871959296669726,
          0.554171140004119,
          0.7895378145110681,
          1.1142180209140256,
          1.164271360201691,
          0.6427837695717085,
          1.3304336477160312,
          0.9656628057860561,
          0.8867246209833719
         ],
         "yaxis": "y"
        },
        {
         "hovertemplate": "%{y}<extra></extra>",
         "legendgroup": "Product1",
         "legendgrouptitle": {
          "text": "Product1"
         },
         "marker": {
          "color": "#FADD75",
          "line": {
           "color": "#333",
           "width": 2
          }
         },
         "name": "Revenue3",
         "offset": -1000000000,
         "offsetgroup": "0",
         "type": "bar",
         "width": 1000000000,
         "x": [
          "2020-01-01T00:00:00",
          "2020-02-01T00:00:00",
          "2020-03-01T00:00:00",
          "2020-04-01T00:00:00",
          "2020-05-01T00:00:00",
          "2020-06-01T00:00:00",
          "2020-07-01T00:00:00",
          "2020-08-01T00:00:00",
          "2020-09-01T00:00:00",
          "2020-10-01T00:00:00",
          "2020-11-01T00:00:00",
          "2020-12-01T00:00:00"
         ],
         "y": [
          1.4310035378263182,
          1.0617914422931627,
          1.0679964586706756,
          1.111704746845553,
          0.2668701214355842,
          0.3891956396791641,
          0.6344176045767724,
          0.8953636480299313,
          1.4424911457601834,
          1.225763553105499,
          0.9360238933269701,
          1.2340873162345656
         ],
         "yaxis": "y"
        },
        {
         "hovertemplate": "%{y}<extra></extra>",
         "legendgroup": "Product2",
         "legendgrouptitle": {
          "text": "Product2"
         },
         "marker": {
          "color": "#2B6045",
          "line": {
           "color": "#333",
           "width": 2
          }
         },
         "name": "Revenue1",
         "offset": 0,
         "offsetgroup": "1",
         "type": "bar",
         "width": 1000000000,
         "x": [
          "2020-01-01T00:00:00",
          "2020-02-01T00:00:00",
          "2020-03-01T00:00:00",
          "2020-04-01T00:00:00",
          "2020-05-01T00:00:00",
          "2020-06-01T00:00:00",
          "2020-07-01T00:00:00",
          "2020-08-01T00:00:00",
          "2020-09-01T00:00:00",
          "2020-10-01T00:00:00",
          "2020-11-01T00:00:00",
          "2020-12-01T00:00:00"
         ],
         "y": [
          0.9792861774785735,
          0.6157752892583732,
          1.316929288197,
          0.7626841139810004,
          0.7742025138355418,
          1.0653081699302418,
          0.5448523787636165,
          1.171480937580387,
          1.4413668120037424,
          0.6984056093721339,
          0.7301321734327936,
          0.7836911566581098
         ],
         "yaxis": "y2"
        },
        {
         "hovertemplate": "%{y}<extra></extra>",
         "legendgroup": "Product2",
         "legendgrouptitle": {
          "text": "Product2"
         },
         "marker": {
          "color": "#5EB88A",
          "line": {
           "color": "#333",
           "width": 2
          }
         },
         "name": "Revenue2",
         "offset": 0,
         "offsetgroup": "1",
         "type": "bar",
         "width": 1000000000,
         "x": [
          "2020-01-01T00:00:00",
          "2020-02-01T00:00:00",
          "2020-03-01T00:00:00",
          "2020-04-01T00:00:00",
          "2020-05-01T00:00:00",
          "2020-06-01T00:00:00",
          "2020-07-01T00:00:00",
          "2020-08-01T00:00:00",
          "2020-09-01T00:00:00",
          "2020-10-01T00:00:00",
          "2020-11-01T00:00:00",
          "2020-12-01T00:00:00"
         ],
         "y": [
          1.2730443713642488,
          1.4586479811631183,
          1.153578652671158,
          1.3527902049375382,
          1.4991961118447517,
          1.4281819960446356,
          0.5724265473995408,
          0.5547957930265467,
          0.8918765748880133,
          1.0631454384273984,
          0.7563176010564606,
          0.9304749048162901
         ],
         "yaxis": "y2"
        },
        {
         "hovertemplate": "%{y}<extra></extra>",
         "legendgroup": "Product2",
         "legendgrouptitle": {
          "text": "Product2"
         },
         "marker": {
          "color": "#9ED4B9",
          "line": {
           "color": "#333",
           "width": 2
          }
         },
         "name": "Revenue3",
         "offset": 0,
         "offsetgroup": "1",
         "type": "bar",
         "width": 1000000000,
         "x": [
          "2020-01-01T00:00:00",
          "2020-02-01T00:00:00",
          "2020-03-01T00:00:00",
          "2020-04-01T00:00:00",
          "2020-05-01T00:00:00",
          "2020-06-01T00:00:00",
          "2020-07-01T00:00:00",
          "2020-08-01T00:00:00",
          "2020-09-01T00:00:00",
          "2020-10-01T00:00:00",
          "2020-11-01T00:00:00",
          "2020-12-01T00:00:00"
         ],
         "y": [
          1.2240474295731838,
          0.9716738924934796,
          0.7689296971334882,
          1.2314794013746915,
          1.209565695843681,
          0.7316146051699023,
          1.1104677648992325,
          1.0220347064782547,
          0.8961627104198305,
          1.1015678176851122,
          1.2437939895014372,
          0.9156581365779093
         ],
         "yaxis": "y2"
        }
       ],
       "layout": {
        "barmode": "relative",
        "font": {
         "size": 24
        },
        "height": 600,
        "hovermode": "x",
        "legend": {
         "orientation": "h",
         "x": 0,
         "y": 1
        },
        "margin": {
         "b": 0,
         "l": 0,
         "r": 10,
         "t": 10
        },
        "template": {
         "data": {
          "bar": [
           {
            "error_x": {
             "color": "#2a3f5f"
            },
            "error_y": {
             "color": "#2a3f5f"
            },
            "marker": {
             "line": {
              "color": "#E5ECF6",
              "width": 0.5
             },
             "pattern": {
              "fillmode": "overlay",
              "size": 10,
              "solidity": 0.2
             }
            },
            "type": "bar"
           }
          ],
          "barpolar": [
           {
            "marker": {
             "line": {
              "color": "#E5ECF6",
              "width": 0.5
             },
             "pattern": {
              "fillmode": "overlay",
              "size": 10,
              "solidity": 0.2
             }
            },
            "type": "barpolar"
           }
          ],
          "carpet": [
           {
            "aaxis": {
             "endlinecolor": "#2a3f5f",
             "gridcolor": "white",
             "linecolor": "white",
             "minorgridcolor": "white",
             "startlinecolor": "#2a3f5f"
            },
            "baxis": {
             "endlinecolor": "#2a3f5f",
             "gridcolor": "white",
             "linecolor": "white",
             "minorgridcolor": "white",
             "startlinecolor": "#2a3f5f"
            },
            "type": "carpet"
           }
          ],
          "choropleth": [
           {
            "colorbar": {
             "outlinewidth": 0,
             "ticks": ""
            },
            "type": "choropleth"
           }
          ],
          "contour": [
           {
            "colorbar": {
             "outlinewidth": 0,
             "ticks": ""
            },
            "colorscale": [
             [
              0,
              "#0d0887"
             ],
             [
              0.1111111111111111,
              "#46039f"
             ],
             [
              0.2222222222222222,
              "#7201a8"
             ],
             [
              0.3333333333333333,
              "#9c179e"
             ],
             [
              0.4444444444444444,
              "#bd3786"
             ],
             [
              0.5555555555555556,
              "#d8576b"
             ],
             [
              0.6666666666666666,
              "#ed7953"
             ],
             [
              0.7777777777777778,
              "#fb9f3a"
             ],
             [
              0.8888888888888888,
              "#fdca26"
             ],
             [
              1,
              "#f0f921"
             ]
            ],
            "type": "contour"
           }
          ],
          "contourcarpet": [
           {
            "colorbar": {
             "outlinewidth": 0,
             "ticks": ""
            },
            "type": "contourcarpet"
           }
          ],
          "heatmap": [
           {
            "colorbar": {
             "outlinewidth": 0,
             "ticks": ""
            },
            "colorscale": [
             [
              0,
              "#0d0887"
             ],
             [
              0.1111111111111111,
              "#46039f"
             ],
             [
              0.2222222222222222,
              "#7201a8"
             ],
             [
              0.3333333333333333,
              "#9c179e"
             ],
             [
              0.4444444444444444,
              "#bd3786"
             ],
             [
              0.5555555555555556,
              "#d8576b"
             ],
             [
              0.6666666666666666,
              "#ed7953"
             ],
             [
              0.7777777777777778,
              "#fb9f3a"
             ],
             [
              0.8888888888888888,
              "#fdca26"
             ],
             [
              1,
              "#f0f921"
             ]
            ],
            "type": "heatmap"
           }
          ],
          "heatmapgl": [
           {
            "colorbar": {
             "outlinewidth": 0,
             "ticks": ""
            },
            "colorscale": [
             [
              0,
              "#0d0887"
             ],
             [
              0.1111111111111111,
              "#46039f"
             ],
             [
              0.2222222222222222,
              "#7201a8"
             ],
             [
              0.3333333333333333,
              "#9c179e"
             ],
             [
              0.4444444444444444,
              "#bd3786"
             ],
             [
              0.5555555555555556,
              "#d8576b"
             ],
             [
              0.6666666666666666,
              "#ed7953"
             ],
             [
              0.7777777777777778,
              "#fb9f3a"
             ],
             [
              0.8888888888888888,
              "#fdca26"
             ],
             [
              1,
              "#f0f921"
             ]
            ],
            "type": "heatmapgl"
           }
          ],
          "histogram": [
           {
            "marker": {
             "pattern": {
              "fillmode": "overlay",
              "size": 10,
              "solidity": 0.2
             }
            },
            "type": "histogram"
           }
          ],
          "histogram2d": [
           {
            "colorbar": {
             "outlinewidth": 0,
             "ticks": ""
            },
            "colorscale": [
             [
              0,
              "#0d0887"
             ],
             [
              0.1111111111111111,
              "#46039f"
             ],
             [
              0.2222222222222222,
              "#7201a8"
             ],
             [
              0.3333333333333333,
              "#9c179e"
             ],
             [
              0.4444444444444444,
              "#bd3786"
             ],
             [
              0.5555555555555556,
              "#d8576b"
             ],
             [
              0.6666666666666666,
              "#ed7953"
             ],
             [
              0.7777777777777778,
              "#fb9f3a"
             ],
             [
              0.8888888888888888,
              "#fdca26"
             ],
             [
              1,
              "#f0f921"
             ]
            ],
            "type": "histogram2d"
           }
          ],
          "histogram2dcontour": [
           {
            "colorbar": {
             "outlinewidth": 0,
             "ticks": ""
            },
            "colorscale": [
             [
              0,
              "#0d0887"
             ],
             [
              0.1111111111111111,
              "#46039f"
             ],
             [
              0.2222222222222222,
              "#7201a8"
             ],
             [
              0.3333333333333333,
              "#9c179e"
             ],
             [
              0.4444444444444444,
              "#bd3786"
             ],
             [
              0.5555555555555556,
              "#d8576b"
             ],
             [
              0.6666666666666666,
              "#ed7953"
             ],
             [
              0.7777777777777778,
              "#fb9f3a"
             ],
             [
              0.8888888888888888,
              "#fdca26"
             ],
             [
              1,
              "#f0f921"
             ]
            ],
            "type": "histogram2dcontour"
           }
          ],
          "mesh3d": [
           {
            "colorbar": {
             "outlinewidth": 0,
             "ticks": ""
            },
            "type": "mesh3d"
           }
          ],
          "parcoords": [
           {
            "line": {
             "colorbar": {
              "outlinewidth": 0,
              "ticks": ""
             }
            },
            "type": "parcoords"
           }
          ],
          "pie": [
           {
            "automargin": true,
            "type": "pie"
           }
          ],
          "scatter": [
           {
            "fillpattern": {
             "fillmode": "overlay",
             "size": 10,
             "solidity": 0.2
            },
            "type": "scatter"
           }
          ],
          "scatter3d": [
           {
            "line": {
             "colorbar": {
              "outlinewidth": 0,
              "ticks": ""
             }
            },
            "marker": {
             "colorbar": {
              "outlinewidth": 0,
              "ticks": ""
             }
            },
            "type": "scatter3d"
           }
          ],
          "scattercarpet": [
           {
            "marker": {
             "colorbar": {
              "outlinewidth": 0,
              "ticks": ""
             }
            },
            "type": "scattercarpet"
           }
          ],
          "scattergeo": [
           {
            "marker": {
             "colorbar": {
              "outlinewidth": 0,
              "ticks": ""
             }
            },
            "type": "scattergeo"
           }
          ],
          "scattergl": [
           {
            "marker": {
             "colorbar": {
              "outlinewidth": 0,
              "ticks": ""
             }
            },
            "type": "scattergl"
           }
          ],
          "scattermapbox": [
           {
            "marker": {
             "colorbar": {
              "outlinewidth": 0,
              "ticks": ""
             }
            },
            "type": "scattermapbox"
           }
          ],
          "scatterpolar": [
           {
            "marker": {
             "colorbar": {
              "outlinewidth": 0,
              "ticks": ""
             }
            },
            "type": "scatterpolar"
           }
          ],
          "scatterpolargl": [
           {
            "marker": {
             "colorbar": {
              "outlinewidth": 0,
              "ticks": ""
             }
            },
            "type": "scatterpolargl"
           }
          ],
          "scatterternary": [
           {
            "marker": {
             "colorbar": {
              "outlinewidth": 0,
              "ticks": ""
             }
            },
            "type": "scatterternary"
           }
          ],
          "surface": [
           {
            "colorbar": {
             "outlinewidth": 0,
             "ticks": ""
            },
            "colorscale": [
             [
              0,
              "#0d0887"
             ],
             [
              0.1111111111111111,
              "#46039f"
             ],
             [
              0.2222222222222222,
              "#7201a8"
             ],
             [
              0.3333333333333333,
              "#9c179e"
             ],
             [
              0.4444444444444444,
              "#bd3786"
             ],
             [
              0.5555555555555556,
              "#d8576b"
             ],
             [
              0.6666666666666666,
              "#ed7953"
             ],
             [
              0.7777777777777778,
              "#fb9f3a"
             ],
             [
              0.8888888888888888,
              "#fdca26"
             ],
             [
              1,
              "#f0f921"
             ]
            ],
            "type": "surface"
           }
          ],
          "table": [
           {
            "cells": {
             "fill": {
              "color": "#EBF0F8"
             },
             "line": {
              "color": "white"
             }
            },
            "header": {
             "fill": {
              "color": "#C8D4E3"
             },
             "line": {
              "color": "white"
             }
            },
            "type": "table"
           }
          ]
         },
         "layout": {
          "annotationdefaults": {
           "arrowcolor": "#2a3f5f",
           "arrowhead": 0,
           "arrowwidth": 1
          },
          "autotypenumbers": "strict",
          "coloraxis": {
           "colorbar": {
            "outlinewidth": 0,
            "ticks": ""
           }
          },
          "colorscale": {
           "diverging": [
            [
             0,
             "#8e0152"
            ],
            [
             0.1,
             "#c51b7d"
            ],
            [
             0.2,
             "#de77ae"
            ],
            [
             0.3,
             "#f1b6da"
            ],
            [
             0.4,
             "#fde0ef"
            ],
            [
             0.5,
             "#f7f7f7"
            ],
            [
             0.6,
             "#e6f5d0"
            ],
            [
             0.7,
             "#b8e186"
            ],
            [
             0.8,
             "#7fbc41"
            ],
            [
             0.9,
             "#4d9221"
            ],
            [
             1,
             "#276419"
            ]
           ],
           "sequential": [
            [
             0,
             "#0d0887"
            ],
            [
             0.1111111111111111,
             "#46039f"
            ],
            [
             0.2222222222222222,
             "#7201a8"
            ],
            [
             0.3333333333333333,
             "#9c179e"
            ],
            [
             0.4444444444444444,
             "#bd3786"
            ],
            [
             0.5555555555555556,
             "#d8576b"
            ],
            [
             0.6666666666666666,
             "#ed7953"
            ],
            [
             0.7777777777777778,
             "#fb9f3a"
            ],
            [
             0.8888888888888888,
             "#fdca26"
            ],
            [
             1,
             "#f0f921"
            ]
           ],
           "sequentialminus": [
            [
             0,
             "#0d0887"
            ],
            [
             0.1111111111111111,
             "#46039f"
            ],
            [
             0.2222222222222222,
             "#7201a8"
            ],
            [
             0.3333333333333333,
             "#9c179e"
            ],
            [
             0.4444444444444444,
             "#bd3786"
            ],
            [
             0.5555555555555556,
             "#d8576b"
            ],
            [
             0.6666666666666666,
             "#ed7953"
            ],
            [
             0.7777777777777778,
             "#fb9f3a"
            ],
            [
             0.8888888888888888,
             "#fdca26"
            ],
            [
             1,
             "#f0f921"
            ]
           ]
          },
          "colorway": [
           "#636efa",
           "#EF553B",
           "#00cc96",
           "#ab63fa",
           "#FFA15A",
           "#19d3f3",
           "#FF6692",
           "#B6E880",
           "#FF97FF",
           "#FECB52"
          ],
          "font": {
           "color": "#2a3f5f"
          },
          "geo": {
           "bgcolor": "white",
           "lakecolor": "white",
           "landcolor": "#E5ECF6",
           "showlakes": true,
           "showland": true,
           "subunitcolor": "white"
          },
          "hoverlabel": {
           "align": "left"
          },
          "hovermode": "closest",
          "mapbox": {
           "style": "light"
          },
          "paper_bgcolor": "white",
          "plot_bgcolor": "#E5ECF6",
          "polar": {
           "angularaxis": {
            "gridcolor": "white",
            "linecolor": "white",
            "ticks": ""
           },
           "bgcolor": "#E5ECF6",
           "radialaxis": {
            "gridcolor": "white",
            "linecolor": "white",
            "ticks": ""
           }
          },
          "scene": {
           "xaxis": {
            "backgroundcolor": "#E5ECF6",
            "gridcolor": "white",
            "gridwidth": 2,
            "linecolor": "white",
            "showbackground": true,
            "ticks": "",
            "zerolinecolor": "white"
           },
           "yaxis": {
            "backgroundcolor": "#E5ECF6",
            "gridcolor": "white",
            "gridwidth": 2,
            "linecolor": "white",
            "showbackground": true,
            "ticks": "",
            "zerolinecolor": "white"
           },
           "zaxis": {
            "backgroundcolor": "#E5ECF6",
            "gridcolor": "white",
            "gridwidth": 2,
            "linecolor": "white",
            "showbackground": true,
            "ticks": "",
            "zerolinecolor": "white"
           }
          },
          "shapedefaults": {
           "line": {
            "color": "#2a3f5f"
           }
          },
          "ternary": {
           "aaxis": {
            "gridcolor": "white",
            "linecolor": "white",
            "ticks": ""
           },
           "baxis": {
            "gridcolor": "white",
            "linecolor": "white",
            "ticks": ""
           },
           "bgcolor": "#E5ECF6",
           "caxis": {
            "gridcolor": "white",
            "linecolor": "white",
            "ticks": ""
           }
          },
          "title": {
           "x": 0.05
          },
          "xaxis": {
           "automargin": true,
           "gridcolor": "white",
           "linecolor": "white",
           "ticks": "",
           "title": {
            "standoff": 15
           },
           "zerolinecolor": "white",
           "zerolinewidth": 2
          },
          "yaxis": {
           "automargin": true,
           "gridcolor": "white",
           "linecolor": "white",
           "ticks": "",
           "title": {
            "standoff": 15
           },
           "zerolinecolor": "white",
           "zerolinewidth": 2
          }
         }
        },
        "width": 1000,
        "yaxis": {
         "range": [
          0,
          5.942109722923351
         ],
         "showgrid": false,
         "showticklabels": false
        },
        "yaxis2": {
         "anchor": "x",
         "matches": "y",
         "overlaying": "y",
         "visible": false
        }
       }
      }
     },
     "metadata": {},
     "output_type": "display_data"
    }
   ],
   "source": [
    "import numpy as np\n",
    "import pandas as pd\n",
    "import plotly.graph_objects as go\n",
    "from read_workbook import *\n",
    "\n",
    "\n",
    "# Create dummy data indexed by month and with multi-columns [product, revenue]\n",
    "index = pd.date_range(\"2020\", \"2021\", freq=\"MS\", closed=\"left\")\n",
    "dfdur, dfin = get_all_months_int_dur(\"data/DP Beh Data 2019-20.xlsm\")\n",
    "\n",
    "# dfdur_wide = pd.pivot(dfdur, columns=\"variable\", values=\"value\")\n",
    "\n",
    "print(dfdur.head())\n",
    "\n",
    "df = pd.concat(\n",
    "    [\n",
    "        pd.DataFrame(\n",
    "            np.random.rand(12, 3) * 1.25 + 0.25,\n",
    "            index=index,\n",
    "            columns=[\"Revenue1\", \"Revenue2\", \"Revenue3\"]\n",
    "        ),\n",
    "        pd.DataFrame(\n",
    "            np.random.rand(12, 3) + 0.5,\n",
    "            index=index,\n",
    "            columns=[\"Revenue1\", \"Revenue2\", \"Revenue3\"]\n",
    "        ),\n",
    "    ],\n",
    "    axis=1,\n",
    "    keys=[\"Product1\", \"Product2\"]\n",
    ")\n",
    "\n",
    "print(df.head())\n",
    "\n",
    "# Create a figure with the right layout\n",
    "fig = go.Figure(\n",
    "    layout=go.Layout(\n",
    "        height=600,\n",
    "        width=1000,\n",
    "        barmode=\"relative\",\n",
    "        yaxis_showticklabels=False,\n",
    "        yaxis_showgrid=False,\n",
    "        yaxis_range=[0, df.groupby(axis=1, level=0).sum().max().max() * 1.5],\n",
    "       # Secondary y-axis overlayed on the primary one and not visible\n",
    "        yaxis2=go.layout.YAxis(\n",
    "            visible=False,\n",
    "            matches=\"y\",\n",
    "            overlaying=\"y\",\n",
    "            anchor=\"x\",\n",
    "        ),\n",
    "        font=dict(size=24),\n",
    "        legend_x=0,\n",
    "        legend_y=1,\n",
    "        legend_orientation=\"h\",\n",
    "        hovermode=\"x\",\n",
    "        margin=dict(b=0,t=10,l=0,r=10)\n",
    "    )\n",
    ")\n",
    "\n",
    "# Define some colors for the product, revenue pairs\n",
    "colors = {\n",
    "    \"Product1\": {\n",
    "        \"Revenue1\": \"#F28F1D\",\n",
    "        \"Revenue2\": \"#F6C619\",\n",
    "        \"Revenue3\": \"#FADD75\",\n",
    "    },\n",
    "    \"Product2\": {\n",
    "        \"Revenue1\": \"#2B6045\",\n",
    "        \"Revenue2\": \"#5EB88A\",\n",
    "        \"Revenue3\": \"#9ED4B9\",\n",
    "    }\n",
    "}\n",
    "\n",
    "# Add the traces\n",
    "for i, t in enumerate(colors):\n",
    "    for j, col in enumerate(df[t].columns):\n",
    "        if (df[t][col] == 0).all():\n",
    "            continue\n",
    "        fig.add_bar(\n",
    "            x=df.index,\n",
    "            y=df[t][col],\n",
    "            # Set the right yaxis depending on the selected product (from enumerate)\n",
    "            yaxis=f\"y{i + 1}\",\n",
    "            # Offset the bar trace, offset needs to match the width\n",
    "            # The values here are in milliseconds, 1billion ms is ~1/3 month\n",
    "            offsetgroup=str(i),\n",
    "            offset=(i - 1) * 1000000000,\n",
    "            width=1000000000,\n",
    "            legendgroup=t,\n",
    "            legendgrouptitle_text=t,\n",
    "            name=col,\n",
    "            marker_color=colors[t][col],\n",
    "            marker_line=dict(width=2, color=\"#333\"),\n",
    "            hovertemplate=\"%{y}<extra></extra>\"\n",
    "        )\n",
    "\n",
    "fig.show()"
   ]
  },
  {
   "cell_type": "code",
   "execution_count": null,
   "metadata": {},
   "outputs": [],
   "source": []
  }
 ],
 "metadata": {
  "interpreter": {
   "hash": "e188947629b0524f73a85c49c67ddb7540fac48e30b4974dd00b7c68849163ff"
  },
  "kernelspec": {
   "display_name": "Python 3.8.8 64-bit ('base': conda)",
   "name": "python3"
  },
  "language_info": {
   "codemirror_mode": {
    "name": "ipython",
    "version": 3
   },
   "file_extension": ".py",
   "mimetype": "text/x-python",
   "name": "python",
   "nbconvert_exporter": "python",
   "pygments_lexer": "ipython3",
   "version": "3.9.13"
  },
  "orig_nbformat": 4
 },
 "nbformat": 4,
 "nbformat_minor": 2
}
