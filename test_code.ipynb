{
 "cells": [
  {
   "cell_type": "code",
   "execution_count": null,
   "metadata": {},
   "outputs": [],
   "source": [
    "import datetime\n",
    "import numpy as np\n",
    "import pandas as pd\n",
    "import plotly.express as px\n",
    "import warnings\n",
    "\n",
    "import pdb\n",
    "\n",
    "pd.options.display.max_columns = 200\n",
    "pd.options.display.max_rows = 200\n",
    "warnings.filterwarnings('ignore')\n",
    "\n",
    "wbpath = 'data/DP Beh Data 2022-23.xlsm'\n",
    "#read in necessary sheets \n",
    "dfcolnmes = pd.read_excel(wbpath, sheet_name='Oct', skiprows=0)\n",
    "df = pd.read_excel(wbpath, sheet_name='Oct', skiprows=1)\n",
    "\n",
    "dfinfo = pd.read_excel(wbpath, sheet_name=0)\n",
    "dfstudet = pd.read_excel(wbpath, sheet_name=2, header=None)\n",
    "\n",
    "#get years variable \n",
    "year = dfinfo.iloc[3,1]\n",
    "year1, year2 = str.split(year, '-')\n",
    "\n",
    "df.head()"
   ]
  },
  {
   "cell_type": "code",
   "execution_count": null,
   "metadata": {},
   "outputs": [],
   "source": [
    "dfcolnmes.head()"
   ]
  },
  {
   "cell_type": "code",
   "execution_count": null,
   "metadata": {},
   "outputs": [],
   "source": [
    "#clean up column names \n",
    "df.columns = df.columns.str.replace('.1','')\n",
    "df.columns = df.columns.str.replace('.2','') \n",
    "df.columns = df.columns.str.replace('.3','') \n",
    "df.columns = df.columns.str.replace('.4','') \n",
    "df.columns = df.columns.str.replace('.5','')\n",
    "\n",
    "#create 'month number' variable \n",
    "month_name = dfcolnmes.columns[0]\n",
    "datetime_object = datetime.datetime.strptime(month_name, \"%B\")\n",
    "month_num = datetime_object.month\n",
    "\n",
    "#if month number is between 7 and 12 year1 is selected, else year2 \n",
    "if 7 <= month_num <= 12:\n",
    "    year_num = year1\n",
    "else:\n",
    "    year_num = year2\n",
    "\n",
    "#create date string \n",
    "date = str(year_num) + '-' + str(month_num)\n",
    "print(date)\n",
    "\n",
    "#create indexes and list variable \n",
    "idx1 = [8,26,44,62,80]\n",
    "idx2 = [21,39,57,75,93]\n",
    "tgt = [4,22,40,58,76]\n",
    "\n",
    "dfdurinlist=[]\n",
    "for i, enum in enumerate(idx1):\n",
    "    \n",
    "    dfiter = df.iloc[:,[0,1,2] + list(range(enum,idx2[i]))]\n",
    "    dfiter.insert(3,'Target', str(dfcolnmes.columns[tgt[i]]))\n",
    "    dfiter.drop(0, inplace=True)\n",
    "\n",
    "    #print(pd.DataFrame(dfiter.head()))\n",
    "    dfiter.columns.values[6] = 'Duration: 0'\n",
    "    dfiter.columns.values[7] = 'Duration: <5'\n",
    "    dfiter.columns.values[8] = 'Duration: 6-10'\n",
    "    dfiter.columns.values[9] = 'Duration: 11-15'\n",
    "    dfiter.columns.values[10] = 'Duration: 16-20'\n",
    "    dfiter.columns.values[11] = 'Duration: 20+'\n",
    "    dfiter.columns.values[12] = 'Interval: 0'\n",
    "    dfiter.columns.values[13] = 'Interval: 1'\n",
    "    dfiter.columns.values[14] = 'Interval: 2'\n",
    "    dfiter.columns.values[15] = 'Interval: 3'\n",
    "    dfiter.columns.values[16] = 'Interval: 4'\n",
    "\n",
    "    dfiter = dfiter.drop(dfiter.index[np.where(dfiter.index >= 94)])\n",
    "    dfiter.iloc[:,0] = dfiter.iloc[:,0].fillna(method='ffill')\n",
    "\n",
    "    #cut off dataframe rows based on number of days in month\n",
    "    if month_num == 4 or month_num == 6 or month_num == 9 or month_num == 11:\n",
    "        dfiter = dfiter.drop(dfiter.index[np.where(dfiter.index >= 90)])\n",
    "    elif month_num == 2:\n",
    "        dfiter = dfiter.drop(dfiter.index[np.where(dfiter.index >= 84)])\n",
    "    else:\n",
    "        dfiter = dfiter\n",
    "    \n",
    "    dfdurinlist.append(dfiter)\n",
    "\n",
    "dfdurin = pd.concat(dfdurinlist)\n",
    "print(dfdurin.shape)\n",
    "pd.DataFrame(dfdurinlist[0].head())\n",
    "dfdurin.head(100)"
   ]
  },
  {
   "cell_type": "code",
   "execution_count": null,
   "metadata": {},
   "outputs": [],
   "source": [
    "dfdurin.drop(columns=[dfdurin.columns[4],dfdurin.columns[5]], inplace=True)\n",
    "durin_m = pd.melt(dfdurin, id_vars = [dfdurin.columns[0],dfdurin.columns[1],dfdurin.columns[2],dfdurin.columns[3]])\n",
    "durin_m = durin_m.groupby(['Target','variable'])['value'].sum().reset_index()\n",
    "durin_m = durin_m[~durin_m['Target'].str.contains('Insert')]\n",
    "durin_m.head(50) "
   ]
  },
  {
   "cell_type": "code",
   "execution_count": null,
   "metadata": {},
   "outputs": [],
   "source": [
    "fig = px.bar(durin_m[~durin_m['variable'].str.contains('Interval')],x = 'Target', y='value', color = 'variable',\n",
    "             color_discrete_sequence= px.colors.sequential.Reds, category_orders={\"variable\": [\"Duration: 0\", \"Duration: <5\", \"Sat\", \"Duration: 6-10\",\n",
    "                                                                                               \"Duration: 11-15\",\"Duration: 16-20\", \"Duration: 20+\"]})\n",
    "fig.update_traces(width=0.4)\n",
    "\n",
    "fig"
   ]
  },
  {
   "cell_type": "code",
   "execution_count": null,
   "metadata": {},
   "outputs": [],
   "source": [
    "fig = px.bar(durin_m[~durin_m['variable'].str.contains('Duration')],x = 'Target', y='value', color = 'variable',\n",
    "             color_discrete_sequence= px.colors.sequential.Greens, category_orders={\"variable\": [\"Interval: 0\", \"Interval: 1\", \"Interval: 2\",\n",
    "                                                                                               \"Interval: 3\",\"Duration: 4\"]})\n",
    "fig.update_traces(width=0.4)\n",
    "\n",
    "fig"
   ]
  },
  {
   "cell_type": "code",
   "execution_count": null,
   "metadata": {},
   "outputs": [],
   "source": [
    "fig = px.bar(durin_m[~durin_m['variable'].str.contains('Interval')],x = 'Target', y='value', color = 'variable',\n",
    "             color_discrete_sequence= px.colors.sequential.Reds, category_orders={\"variable\": [\"Duration: 0\", \"Duration: <5\", \"Sat\", \"Duration: 6-10\",\n",
    "                                                                                               \"Duration: 11-15\",\"Duration: 16-20\", \"Duration: 20+\"]})\n",
    "fig.update_traces(width=0.4)\n",
    "fig"
   ]
  },
  {
   "cell_type": "code",
   "execution_count": null,
   "metadata": {},
   "outputs": [],
   "source": [
    "# dfdurin1 = df.iloc[:,[0,1,2] + list(range(8,21))]\n",
    "# dfdurin1.insert(3,'Target', str(dfcolnmes.columns[4]))\n",
    "# dfdurin2 = df.iloc[:,[0,1,2] + list(range(26,39))]\n",
    "# dfdurin2.insert(3, 'Target', str(dfcolnmes.columns[22]))\n",
    "# dfdurin3 = df.iloc[:,[0,1,2] + list(range(44,57))]\n",
    "# dfdurin3.insert(3, 'Target', str(dfcolnmes.columns[40]))\n",
    "# dfdurin4 = df.iloc[:,[0,1,2] + list(range(62,75))]\n",
    "# dfdurin4.insert(3, 'Target', str(dfcolnmes.columns[58]))\n",
    "# dfdurin5 = df.iloc[:,[0,1,2] + list(range(80,93))]\n",
    "# dfdurin5.insert(3, 'Target', str(dfcolnmes.columns[76]))\n",
    "\n",
    "# dfdurin = pd.concat([dfdurin1,dfdurin2,dfdurin3,dfdurin4,dfdurin5])              \n",
    "# print(dfdurin.shape)\n",
    "# dfdurin2.head()"
   ]
  },
  {
   "cell_type": "code",
   "execution_count": null,
   "metadata": {},
   "outputs": [],
   "source": [
    "#NOTE; rename 'Duration Intervals' columns with the behavior name, same as - `'Unnamed: 7':str(dfbeh.columns[3])+'_beh'`\n",
    "\n",
    "# dfdurin = dfdurin.rename(columns = {'Unnamed: 1':'Shift','Unnamed: 2':'No Data',\n",
    "#                                 'Unnamed: 11':str(dfdurin.iloc[0,7]),'Unnamed: 46':str(dfcolnmes.columns[7]),\n",
    "#                                 'Unnamed: 64':str(dfcolnmes.columns[9]),'Unnamed: 79':str(dfcolnmes.columns[11])})"
   ]
  },
  {
   "cell_type": "code",
   "execution_count": null,
   "metadata": {},
   "outputs": [],
   "source": [
    "df = pd.read_excel(wbpath, sheet_name='July', skiprows=[1,2])\n",
    "dfinfo = pd.read_excel(wbpath, sheet_name=0)\n",
    "dfstudet = pd.read_excel(wbpath, sheet_name=2, header=None)\n",
    "\n",
    "#get years variable \n",
    "year = dfinfo.iloc[3,1]\n",
    "year1, year2 = str.split(year, '-')\n",
    "\n",
    "#get name\n",
    "# name = dfstudet.iloc[0,0]\n",
    "# print(f\"name is {name}\")\n",
    "\n",
    "# pdb.set_trace()\n",
    "#select necessary columns and front fill NaNs in month column \n",
    "dfbeh = df.iloc[:, [0,1,2,4,7,22,25,40,43,58,61,76,79]]\n",
    "#print(dfbeh.head())\n",
    "dfbeh = dfbeh.rename(columns = {'Unnamed: 1':'Shift','Unnamed: 2':'No Data','Unnamed: 7':str(dfbeh.columns[3])+'_beh','Unnamed: 25':str(dfbeh.columns[5])+'_beh',\n",
    "                                'Unnamed: 43':str(dfbeh.columns[7])+'_beh','Unnamed: 61':str(dfbeh.columns[9])+'_beh','Unnamed: 79':str(dfbeh.columns[11])+'_beh'})\n",
    "\n",
    "dfbeh.head()"
   ]
  },
  {
   "cell_type": "code",
   "execution_count": 1,
   "metadata": {},
   "outputs": [
    {
     "name": "stderr",
     "output_type": "stream",
     "text": [
      "/var/folders/bf/5_wbvc1n7tb3fqhf188cf6x00000gn/T/ipykernel_13480/2638987717.py:8: FutureWarning: Argument `closed` is deprecated in favor of `inclusive`.\n",
      "  index = pd.date_range(\"2020\", \"2021\", freq=\"MS\", closed=\"left\")\n"
     ]
    }
   ],
   "source": [
    "import numpy as np\n",
    "import pandas as pd\n",
    "import plotly.graph_objects as go\n",
    "from read_workbook import *\n",
    "\n",
    "\n",
    "# Create dummy data indexed by month and with multi-columns [product, revenue]\n",
    "index = pd.date_range(\"2020\", \"2021\", freq=\"MS\", closed=\"left\")\n",
    "dfdur, dfin = get_all_months_int_dur(\"data/DP Beh Data 2022-23.xlsm\")\n",
    "\n",
    "# dfdur_wide = pd.pivot(dfdur, columns=\"variable\", values=\"value\")\n",
    "\n",
    "dfdur_wide = pd.pivot_table(dfdur, values='value', index=['Date', 'variable'], columns='Target',aggfunc=np.max)\n",
    "dfdur_wide_grp = pd.pivot_table(dfdur_wide, index=\"Date\", columns=\"variable\", values=[\"Aggression\", \"Disruptive\", \"SIB\", \"Self Mutilation\"])\n",
    "dfdur_wide_grp.index.name = None\n",
    "\n",
    "df = dfdur_wide_grp"
   ]
  },
  {
   "cell_type": "code",
   "execution_count": 2,
   "metadata": {},
   "outputs": [],
   "source": [
    "# print(df.columns)\n",
    "#group data by month\n",
    "df['Yr_Mnth'] = pd.to_datetime(df.index).strftime('%Y-%m')\n",
    "dfm = df.groupby(['Yr_Mnth'],sort=False,)[df.columns].sum().reset_index()\n",
    "df_month_data = df.groupby(['Yr_Mnth'],sort=False,)[df.columns].sum()\n",
    "df = dfm.drop('Yr_Mnth', axis='columns')"
   ]
  },
  {
   "cell_type": "code",
   "execution_count": 3,
   "metadata": {},
   "outputs": [
    {
     "data": {
      "application/vnd.plotly.v1+json": {
       "config": {
        "plotlyServerURL": "https://plot.ly"
       },
       "data": [
        {
         "base": 0,
         "hovertemplate": "%{y}<extra></extra>",
         "legendgroup": "SIB",
         "legendgrouptitle": {
          "text": "SIB"
         },
         "marker": {
          "color": "#00D8FF",
          "line": {
           "color": "#333",
           "width": 2
          }
         },
         "name": "Duration: 20+",
         "offsetgroup": "0",
         "type": "bar",
         "x": [
          "2022-07",
          "2022-08",
          "2022-09",
          "2022-10",
          "2022-11",
          "2022-12",
          "2023-01",
          "2023-02",
          "2023-03",
          "2023-04",
          "2023-05",
          "2023-06"
         ],
         "y": [
          1,
          3,
          0,
          1,
          0,
          0,
          0,
          0,
          0,
          0,
          0,
          0
         ]
        },
        {
         "base": [
          1,
          3,
          0,
          1,
          0,
          0,
          0,
          0,
          0,
          0,
          0,
          0
         ],
         "hovertemplate": "%{y}<extra></extra>",
         "legendgroup": "SIB",
         "legendgrouptitle": {
          "text": "SIB"
         },
         "marker": {
          "color": "#00BCDE",
          "line": {
           "color": "#333",
           "width": 2
          }
         },
         "name": "Duration: 16-20",
         "offsetgroup": "0",
         "type": "bar",
         "x": [
          "2022-07",
          "2022-08",
          "2022-09",
          "2022-10",
          "2022-11",
          "2022-12",
          "2023-01",
          "2023-02",
          "2023-03",
          "2023-04",
          "2023-05",
          "2023-06"
         ],
         "y": [
          0,
          2,
          0,
          0,
          0,
          0,
          0,
          0,
          0,
          0,
          0,
          0
         ]
        },
        {
         "base": [
          1,
          5,
          0,
          1,
          0,
          0,
          0,
          0,
          0,
          0,
          0,
          0
         ],
         "hovertemplate": "%{y}<extra></extra>",
         "legendgroup": "SIB",
         "legendgrouptitle": {
          "text": "SIB"
         },
         "marker": {
          "color": "#0089A3",
          "line": {
           "color": "#333",
           "width": 2
          }
         },
         "name": "Duration: 6-10",
         "offsetgroup": "0",
         "type": "bar",
         "x": [
          "2022-07",
          "2022-08",
          "2022-09",
          "2022-10",
          "2022-11",
          "2022-12",
          "2023-01",
          "2023-02",
          "2023-03",
          "2023-04",
          "2023-05",
          "2023-06"
         ],
         "y": [
          3,
          3,
          2,
          6,
          0,
          0,
          0,
          0,
          0,
          0,
          0,
          0
         ]
        },
        {
         "base": [
          4,
          8,
          2,
          7,
          0,
          0,
          0,
          0,
          0,
          0,
          0,
          0
         ],
         "hovertemplate": "%{y}<extra></extra>",
         "legendgroup": "SIB",
         "legendgrouptitle": {
          "text": "SIB"
         },
         "marker": {
          "color": "#006D82",
          "line": {
           "color": "#333",
           "width": 2
          }
         },
         "name": "Duration: <5",
         "offsetgroup": "0",
         "type": "bar",
         "x": [
          "2022-07",
          "2022-08",
          "2022-09",
          "2022-10",
          "2022-11",
          "2022-12",
          "2023-01",
          "2023-02",
          "2023-03",
          "2023-04",
          "2023-05",
          "2023-06"
         ],
         "y": [
          4,
          9,
          5,
          0,
          6,
          2,
          0,
          0,
          0,
          0,
          0,
          0
         ]
        },
        {
         "base": [
          8,
          17,
          7,
          7,
          6,
          2,
          0,
          0,
          0,
          0,
          0,
          0
         ],
         "hovertemplate": "%{y}<extra></extra>",
         "legendgroup": "SIB",
         "legendgrouptitle": {
          "text": "SIB"
         },
         "marker": {
          "color": "#005262",
          "line": {
           "color": "#333",
           "width": 2
          }
         },
         "name": "Duration: 0",
         "offsetgroup": "0",
         "type": "bar",
         "x": [
          "2022-07",
          "2022-08",
          "2022-09",
          "2022-10",
          "2022-11",
          "2022-12",
          "2023-01",
          "2023-02",
          "2023-03",
          "2023-04",
          "2023-05",
          "2023-06"
         ],
         "y": [
          2,
          0,
          0,
          0,
          0,
          0,
          0,
          0,
          0,
          0,
          0,
          0
         ]
        },
        {
         "base": 0,
         "hovertemplate": "%{y}<extra></extra>",
         "legendgroup": "Aggression",
         "legendgrouptitle": {
          "text": "Aggression"
         },
         "marker": {
          "color": "#F7FF00",
          "line": {
           "color": "#333",
           "width": 2
          }
         },
         "name": "Duration: 20+",
         "offsetgroup": "1",
         "type": "bar",
         "x": [
          "2022-07",
          "2022-08",
          "2022-09",
          "2022-10",
          "2022-11",
          "2022-12",
          "2023-01",
          "2023-02",
          "2023-03",
          "2023-04",
          "2023-05",
          "2023-06"
         ],
         "y": [
          3,
          1,
          0,
          1,
          0,
          0,
          0,
          0,
          0,
          0,
          0,
          0
         ]
        },
        {
         "base": [
          3,
          1,
          0,
          1,
          0,
          0,
          0,
          0,
          0,
          0,
          0,
          0
         ],
         "hovertemplate": "%{y}<extra></extra>",
         "legendgroup": "Aggression",
         "legendgrouptitle": {
          "text": "Aggression"
         },
         "marker": {
          "color": "#D6DD00",
          "line": {
           "color": "#333",
           "width": 2
          }
         },
         "name": "Duration: 16-20",
         "offsetgroup": "1",
         "type": "bar",
         "x": [
          "2022-07",
          "2022-08",
          "2022-09",
          "2022-10",
          "2022-11",
          "2022-12",
          "2023-01",
          "2023-02",
          "2023-03",
          "2023-04",
          "2023-05",
          "2023-06"
         ],
         "y": [
          2,
          12,
          1,
          0,
          0,
          1,
          0,
          0,
          0,
          0,
          0,
          0
         ]
        },
        {
         "base": [
          5,
          13,
          1,
          1,
          0,
          1,
          0,
          0,
          0,
          0,
          0,
          0
         ],
         "hovertemplate": "%{y}<extra></extra>",
         "legendgroup": "Aggression",
         "legendgrouptitle": {
          "text": "Aggression"
         },
         "marker": {
          "color": "#BAC100",
          "line": {
           "color": "#333",
           "width": 2
          }
         },
         "name": "Duration: 11-15",
         "offsetgroup": "1",
         "type": "bar",
         "x": [
          "2022-07",
          "2022-08",
          "2022-09",
          "2022-10",
          "2022-11",
          "2022-12",
          "2023-01",
          "2023-02",
          "2023-03",
          "2023-04",
          "2023-05",
          "2023-06"
         ],
         "y": [
          7,
          0,
          0,
          0,
          1,
          0,
          0,
          0,
          0,
          0,
          0,
          0
         ]
        },
        {
         "base": [
          12,
          13,
          1,
          1,
          1,
          1,
          0,
          0,
          0,
          0,
          0,
          0
         ],
         "hovertemplate": "%{y}<extra></extra>",
         "legendgroup": "Aggression",
         "legendgrouptitle": {
          "text": "Aggression"
         },
         "marker": {
          "color": "#9CA200",
          "line": {
           "color": "#333",
           "width": 2
          }
         },
         "name": "Duration: 6-10",
         "offsetgroup": "1",
         "type": "bar",
         "x": [
          "2022-07",
          "2022-08",
          "2022-09",
          "2022-10",
          "2022-11",
          "2022-12",
          "2023-01",
          "2023-02",
          "2023-03",
          "2023-04",
          "2023-05",
          "2023-06"
         ],
         "y": [
          7,
          3,
          2,
          16,
          4,
          4,
          0,
          0,
          0,
          0,
          0,
          0
         ]
        },
        {
         "base": [
          19,
          16,
          3,
          17,
          5,
          5,
          0,
          0,
          0,
          0,
          0,
          0
         ],
         "hovertemplate": "%{y}<extra></extra>",
         "legendgroup": "Aggression",
         "legendgrouptitle": {
          "text": "Aggression"
         },
         "marker": {
          "color": "#838800",
          "line": {
           "color": "#333",
           "width": 2
          }
         },
         "name": "Duration: <5",
         "offsetgroup": "1",
         "type": "bar",
         "x": [
          "2022-07",
          "2022-08",
          "2022-09",
          "2022-10",
          "2022-11",
          "2022-12",
          "2023-01",
          "2023-02",
          "2023-03",
          "2023-04",
          "2023-05",
          "2023-06"
         ],
         "y": [
          16,
          18,
          18,
          25,
          12,
          9,
          0,
          0,
          0,
          0,
          0,
          0
         ]
        },
        {
         "base": [
          35,
          34,
          21,
          42,
          17,
          14,
          0,
          0,
          0,
          0,
          0,
          0
         ],
         "hovertemplate": "%{y}<extra></extra>",
         "legendgroup": "Aggression",
         "legendgrouptitle": {
          "text": "Aggression"
         },
         "marker": {
          "color": "#6A6E00",
          "line": {
           "color": "#333",
           "width": 2
          }
         },
         "name": "Duration: 0",
         "offsetgroup": "1",
         "type": "bar",
         "x": [
          "2022-07",
          "2022-08",
          "2022-09",
          "2022-10",
          "2022-11",
          "2022-12",
          "2023-01",
          "2023-02",
          "2023-03",
          "2023-04",
          "2023-05",
          "2023-06"
         ],
         "y": [
          0,
          0,
          0,
          1,
          0,
          0,
          0,
          0,
          0,
          0,
          0,
          0
         ]
        },
        {
         "base": 0,
         "hovertemplate": "%{y}<extra></extra>",
         "legendgroup": "Disruptive",
         "legendgrouptitle": {
          "text": "Disruptive"
         },
         "marker": {
          "color": "#00FF08",
          "line": {
           "color": "#333",
           "width": 2
          }
         },
         "name": "Duration: 20+",
         "offsetgroup": "2",
         "type": "bar",
         "x": [
          "2022-07",
          "2022-08",
          "2022-09",
          "2022-10",
          "2022-11",
          "2022-12",
          "2023-01",
          "2023-02",
          "2023-03",
          "2023-04",
          "2023-05",
          "2023-06"
         ],
         "y": [
          1,
          0,
          0,
          1,
          0,
          0,
          0,
          0,
          0,
          0,
          0,
          0
         ]
        },
        {
         "base": [
          1,
          0,
          0,
          1,
          0,
          0,
          0,
          0,
          0,
          0,
          0,
          0
         ],
         "hovertemplate": "%{y}<extra></extra>",
         "legendgroup": "Disruptive",
         "legendgrouptitle": {
          "text": "Disruptive"
         },
         "marker": {
          "color": "#00ED07",
          "line": {
           "color": "#333",
           "width": 2
          }
         },
         "name": "Duration: 16-20",
         "offsetgroup": "2",
         "type": "bar",
         "x": [
          "2022-07",
          "2022-08",
          "2022-09",
          "2022-10",
          "2022-11",
          "2022-12",
          "2023-01",
          "2023-02",
          "2023-03",
          "2023-04",
          "2023-05",
          "2023-06"
         ],
         "y": [
          0,
          0,
          1,
          0,
          0,
          1,
          0,
          0,
          0,
          0,
          0,
          0
         ]
        },
        {
         "base": [
          1,
          0,
          1,
          1,
          0,
          1,
          0,
          0,
          0,
          0,
          0,
          0
         ],
         "hovertemplate": "%{y}<extra></extra>",
         "legendgroup": "Disruptive",
         "legendgrouptitle": {
          "text": "Disruptive"
         },
         "marker": {
          "color": "#00D006",
          "line": {
           "color": "#333",
           "width": 2
          }
         },
         "name": "Duration: 11-15",
         "offsetgroup": "2",
         "type": "bar",
         "x": [
          "2022-07",
          "2022-08",
          "2022-09",
          "2022-10",
          "2022-11",
          "2022-12",
          "2023-01",
          "2023-02",
          "2023-03",
          "2023-04",
          "2023-05",
          "2023-06"
         ],
         "y": [
          1,
          0,
          0,
          0,
          0,
          0,
          0,
          0,
          0,
          0,
          0,
          0
         ]
        },
        {
         "base": [
          2,
          0,
          1,
          1,
          0,
          1,
          0,
          0,
          0,
          0,
          0,
          0
         ],
         "hovertemplate": "%{y}<extra></extra>",
         "legendgroup": "Disruptive",
         "legendgrouptitle": {
          "text": "Disruptive"
         },
         "marker": {
          "color": "#00AD05",
          "line": {
           "color": "#333",
           "width": 2
          }
         },
         "name": "Duration: 6-10",
         "offsetgroup": "2",
         "type": "bar",
         "x": [
          "2022-07",
          "2022-08",
          "2022-09",
          "2022-10",
          "2022-11",
          "2022-12",
          "2023-01",
          "2023-02",
          "2023-03",
          "2023-04",
          "2023-05",
          "2023-06"
         ],
         "y": [
          0,
          0,
          0,
          1,
          4,
          1,
          0,
          0,
          0,
          0,
          0,
          0
         ]
        },
        {
         "base": [
          2,
          0,
          1,
          2,
          4,
          2,
          0,
          0,
          0,
          0,
          0,
          0
         ],
         "hovertemplate": "%{y}<extra></extra>",
         "legendgroup": "Disruptive",
         "legendgrouptitle": {
          "text": "Disruptive"
         },
         "marker": {
          "color": "#008C04",
          "line": {
           "color": "#333",
           "width": 2
          }
         },
         "name": "Duration: <5",
         "offsetgroup": "2",
         "type": "bar",
         "x": [
          "2022-07",
          "2022-08",
          "2022-09",
          "2022-10",
          "2022-11",
          "2022-12",
          "2023-01",
          "2023-02",
          "2023-03",
          "2023-04",
          "2023-05",
          "2023-06"
         ],
         "y": [
          1,
          7,
          4,
          2,
          4,
          8,
          0,
          0,
          0,
          0,
          0,
          0
         ]
        },
        {
         "base": [
          3,
          7,
          5,
          4,
          8,
          10,
          0,
          0,
          0,
          0,
          0,
          0
         ],
         "hovertemplate": "%{y}<extra></extra>",
         "legendgroup": "Disruptive",
         "legendgrouptitle": {
          "text": "Disruptive"
         },
         "marker": {
          "color": "#006A03",
          "line": {
           "color": "#333",
           "width": 2
          }
         },
         "name": "Duration: 0",
         "offsetgroup": "2",
         "type": "bar",
         "x": [
          "2022-07",
          "2022-08",
          "2022-09",
          "2022-10",
          "2022-11",
          "2022-12",
          "2023-01",
          "2023-02",
          "2023-03",
          "2023-04",
          "2023-05",
          "2023-06"
         ],
         "y": [
          1,
          1,
          0,
          0,
          0,
          0,
          0,
          0,
          0,
          0,
          0,
          0
         ]
        }
       ],
       "layout": {
        "barmode": "group",
        "font": {
         "size": 24
        },
        "height": 600,
        "hovermode": "x",
        "legend": {
         "orientation": "h",
         "x": 0,
         "y": 1
        },
        "margin": {
         "b": 0,
         "l": 0,
         "r": 10,
         "t": 10
        },
        "template": {
         "data": {
          "bar": [
           {
            "error_x": {
             "color": "#2a3f5f"
            },
            "error_y": {
             "color": "#2a3f5f"
            },
            "marker": {
             "line": {
              "color": "#E5ECF6",
              "width": 0.5
             },
             "pattern": {
              "fillmode": "overlay",
              "size": 10,
              "solidity": 0.2
             }
            },
            "type": "bar"
           }
          ],
          "barpolar": [
           {
            "marker": {
             "line": {
              "color": "#E5ECF6",
              "width": 0.5
             },
             "pattern": {
              "fillmode": "overlay",
              "size": 10,
              "solidity": 0.2
             }
            },
            "type": "barpolar"
           }
          ],
          "carpet": [
           {
            "aaxis": {
             "endlinecolor": "#2a3f5f",
             "gridcolor": "white",
             "linecolor": "white",
             "minorgridcolor": "white",
             "startlinecolor": "#2a3f5f"
            },
            "baxis": {
             "endlinecolor": "#2a3f5f",
             "gridcolor": "white",
             "linecolor": "white",
             "minorgridcolor": "white",
             "startlinecolor": "#2a3f5f"
            },
            "type": "carpet"
           }
          ],
          "choropleth": [
           {
            "colorbar": {
             "outlinewidth": 0,
             "ticks": ""
            },
            "type": "choropleth"
           }
          ],
          "contour": [
           {
            "colorbar": {
             "outlinewidth": 0,
             "ticks": ""
            },
            "colorscale": [
             [
              0,
              "#0d0887"
             ],
             [
              0.1111111111111111,
              "#46039f"
             ],
             [
              0.2222222222222222,
              "#7201a8"
             ],
             [
              0.3333333333333333,
              "#9c179e"
             ],
             [
              0.4444444444444444,
              "#bd3786"
             ],
             [
              0.5555555555555556,
              "#d8576b"
             ],
             [
              0.6666666666666666,
              "#ed7953"
             ],
             [
              0.7777777777777778,
              "#fb9f3a"
             ],
             [
              0.8888888888888888,
              "#fdca26"
             ],
             [
              1,
              "#f0f921"
             ]
            ],
            "type": "contour"
           }
          ],
          "contourcarpet": [
           {
            "colorbar": {
             "outlinewidth": 0,
             "ticks": ""
            },
            "type": "contourcarpet"
           }
          ],
          "heatmap": [
           {
            "colorbar": {
             "outlinewidth": 0,
             "ticks": ""
            },
            "colorscale": [
             [
              0,
              "#0d0887"
             ],
             [
              0.1111111111111111,
              "#46039f"
             ],
             [
              0.2222222222222222,
              "#7201a8"
             ],
             [
              0.3333333333333333,
              "#9c179e"
             ],
             [
              0.4444444444444444,
              "#bd3786"
             ],
             [
              0.5555555555555556,
              "#d8576b"
             ],
             [
              0.6666666666666666,
              "#ed7953"
             ],
             [
              0.7777777777777778,
              "#fb9f3a"
             ],
             [
              0.8888888888888888,
              "#fdca26"
             ],
             [
              1,
              "#f0f921"
             ]
            ],
            "type": "heatmap"
           }
          ],
          "heatmapgl": [
           {
            "colorbar": {
             "outlinewidth": 0,
             "ticks": ""
            },
            "colorscale": [
             [
              0,
              "#0d0887"
             ],
             [
              0.1111111111111111,
              "#46039f"
             ],
             [
              0.2222222222222222,
              "#7201a8"
             ],
             [
              0.3333333333333333,
              "#9c179e"
             ],
             [
              0.4444444444444444,
              "#bd3786"
             ],
             [
              0.5555555555555556,
              "#d8576b"
             ],
             [
              0.6666666666666666,
              "#ed7953"
             ],
             [
              0.7777777777777778,
              "#fb9f3a"
             ],
             [
              0.8888888888888888,
              "#fdca26"
             ],
             [
              1,
              "#f0f921"
             ]
            ],
            "type": "heatmapgl"
           }
          ],
          "histogram": [
           {
            "marker": {
             "pattern": {
              "fillmode": "overlay",
              "size": 10,
              "solidity": 0.2
             }
            },
            "type": "histogram"
           }
          ],
          "histogram2d": [
           {
            "colorbar": {
             "outlinewidth": 0,
             "ticks": ""
            },
            "colorscale": [
             [
              0,
              "#0d0887"
             ],
             [
              0.1111111111111111,
              "#46039f"
             ],
             [
              0.2222222222222222,
              "#7201a8"
             ],
             [
              0.3333333333333333,
              "#9c179e"
             ],
             [
              0.4444444444444444,
              "#bd3786"
             ],
             [
              0.5555555555555556,
              "#d8576b"
             ],
             [
              0.6666666666666666,
              "#ed7953"
             ],
             [
              0.7777777777777778,
              "#fb9f3a"
             ],
             [
              0.8888888888888888,
              "#fdca26"
             ],
             [
              1,
              "#f0f921"
             ]
            ],
            "type": "histogram2d"
           }
          ],
          "histogram2dcontour": [
           {
            "colorbar": {
             "outlinewidth": 0,
             "ticks": ""
            },
            "colorscale": [
             [
              0,
              "#0d0887"
             ],
             [
              0.1111111111111111,
              "#46039f"
             ],
             [
              0.2222222222222222,
              "#7201a8"
             ],
             [
              0.3333333333333333,
              "#9c179e"
             ],
             [
              0.4444444444444444,
              "#bd3786"
             ],
             [
              0.5555555555555556,
              "#d8576b"
             ],
             [
              0.6666666666666666,
              "#ed7953"
             ],
             [
              0.7777777777777778,
              "#fb9f3a"
             ],
             [
              0.8888888888888888,
              "#fdca26"
             ],
             [
              1,
              "#f0f921"
             ]
            ],
            "type": "histogram2dcontour"
           }
          ],
          "mesh3d": [
           {
            "colorbar": {
             "outlinewidth": 0,
             "ticks": ""
            },
            "type": "mesh3d"
           }
          ],
          "parcoords": [
           {
            "line": {
             "colorbar": {
              "outlinewidth": 0,
              "ticks": ""
             }
            },
            "type": "parcoords"
           }
          ],
          "pie": [
           {
            "automargin": true,
            "type": "pie"
           }
          ],
          "scatter": [
           {
            "fillpattern": {
             "fillmode": "overlay",
             "size": 10,
             "solidity": 0.2
            },
            "type": "scatter"
           }
          ],
          "scatter3d": [
           {
            "line": {
             "colorbar": {
              "outlinewidth": 0,
              "ticks": ""
             }
            },
            "marker": {
             "colorbar": {
              "outlinewidth": 0,
              "ticks": ""
             }
            },
            "type": "scatter3d"
           }
          ],
          "scattercarpet": [
           {
            "marker": {
             "colorbar": {
              "outlinewidth": 0,
              "ticks": ""
             }
            },
            "type": "scattercarpet"
           }
          ],
          "scattergeo": [
           {
            "marker": {
             "colorbar": {
              "outlinewidth": 0,
              "ticks": ""
             }
            },
            "type": "scattergeo"
           }
          ],
          "scattergl": [
           {
            "marker": {
             "colorbar": {
              "outlinewidth": 0,
              "ticks": ""
             }
            },
            "type": "scattergl"
           }
          ],
          "scattermapbox": [
           {
            "marker": {
             "colorbar": {
              "outlinewidth": 0,
              "ticks": ""
             }
            },
            "type": "scattermapbox"
           }
          ],
          "scatterpolar": [
           {
            "marker": {
             "colorbar": {
              "outlinewidth": 0,
              "ticks": ""
             }
            },
            "type": "scatterpolar"
           }
          ],
          "scatterpolargl": [
           {
            "marker": {
             "colorbar": {
              "outlinewidth": 0,
              "ticks": ""
             }
            },
            "type": "scatterpolargl"
           }
          ],
          "scatterternary": [
           {
            "marker": {
             "colorbar": {
              "outlinewidth": 0,
              "ticks": ""
             }
            },
            "type": "scatterternary"
           }
          ],
          "surface": [
           {
            "colorbar": {
             "outlinewidth": 0,
             "ticks": ""
            },
            "colorscale": [
             [
              0,
              "#0d0887"
             ],
             [
              0.1111111111111111,
              "#46039f"
             ],
             [
              0.2222222222222222,
              "#7201a8"
             ],
             [
              0.3333333333333333,
              "#9c179e"
             ],
             [
              0.4444444444444444,
              "#bd3786"
             ],
             [
              0.5555555555555556,
              "#d8576b"
             ],
             [
              0.6666666666666666,
              "#ed7953"
             ],
             [
              0.7777777777777778,
              "#fb9f3a"
             ],
             [
              0.8888888888888888,
              "#fdca26"
             ],
             [
              1,
              "#f0f921"
             ]
            ],
            "type": "surface"
           }
          ],
          "table": [
           {
            "cells": {
             "fill": {
              "color": "#EBF0F8"
             },
             "line": {
              "color": "white"
             }
            },
            "header": {
             "fill": {
              "color": "#C8D4E3"
             },
             "line": {
              "color": "white"
             }
            },
            "type": "table"
           }
          ]
         },
         "layout": {
          "annotationdefaults": {
           "arrowcolor": "#2a3f5f",
           "arrowhead": 0,
           "arrowwidth": 1
          },
          "autotypenumbers": "strict",
          "coloraxis": {
           "colorbar": {
            "outlinewidth": 0,
            "ticks": ""
           }
          },
          "colorscale": {
           "diverging": [
            [
             0,
             "#8e0152"
            ],
            [
             0.1,
             "#c51b7d"
            ],
            [
             0.2,
             "#de77ae"
            ],
            [
             0.3,
             "#f1b6da"
            ],
            [
             0.4,
             "#fde0ef"
            ],
            [
             0.5,
             "#f7f7f7"
            ],
            [
             0.6,
             "#e6f5d0"
            ],
            [
             0.7,
             "#b8e186"
            ],
            [
             0.8,
             "#7fbc41"
            ],
            [
             0.9,
             "#4d9221"
            ],
            [
             1,
             "#276419"
            ]
           ],
           "sequential": [
            [
             0,
             "#0d0887"
            ],
            [
             0.1111111111111111,
             "#46039f"
            ],
            [
             0.2222222222222222,
             "#7201a8"
            ],
            [
             0.3333333333333333,
             "#9c179e"
            ],
            [
             0.4444444444444444,
             "#bd3786"
            ],
            [
             0.5555555555555556,
             "#d8576b"
            ],
            [
             0.6666666666666666,
             "#ed7953"
            ],
            [
             0.7777777777777778,
             "#fb9f3a"
            ],
            [
             0.8888888888888888,
             "#fdca26"
            ],
            [
             1,
             "#f0f921"
            ]
           ],
           "sequentialminus": [
            [
             0,
             "#0d0887"
            ],
            [
             0.1111111111111111,
             "#46039f"
            ],
            [
             0.2222222222222222,
             "#7201a8"
            ],
            [
             0.3333333333333333,
             "#9c179e"
            ],
            [
             0.4444444444444444,
             "#bd3786"
            ],
            [
             0.5555555555555556,
             "#d8576b"
            ],
            [
             0.6666666666666666,
             "#ed7953"
            ],
            [
             0.7777777777777778,
             "#fb9f3a"
            ],
            [
             0.8888888888888888,
             "#fdca26"
            ],
            [
             1,
             "#f0f921"
            ]
           ]
          },
          "colorway": [
           "#636efa",
           "#EF553B",
           "#00cc96",
           "#ab63fa",
           "#FFA15A",
           "#19d3f3",
           "#FF6692",
           "#B6E880",
           "#FF97FF",
           "#FECB52"
          ],
          "font": {
           "color": "#2a3f5f"
          },
          "geo": {
           "bgcolor": "white",
           "lakecolor": "white",
           "landcolor": "#E5ECF6",
           "showlakes": true,
           "showland": true,
           "subunitcolor": "white"
          },
          "hoverlabel": {
           "align": "left"
          },
          "hovermode": "closest",
          "mapbox": {
           "style": "light"
          },
          "paper_bgcolor": "white",
          "plot_bgcolor": "#E5ECF6",
          "polar": {
           "angularaxis": {
            "gridcolor": "white",
            "linecolor": "white",
            "ticks": ""
           },
           "bgcolor": "#E5ECF6",
           "radialaxis": {
            "gridcolor": "white",
            "linecolor": "white",
            "ticks": ""
           }
          },
          "scene": {
           "xaxis": {
            "backgroundcolor": "#E5ECF6",
            "gridcolor": "white",
            "gridwidth": 2,
            "linecolor": "white",
            "showbackground": true,
            "ticks": "",
            "zerolinecolor": "white"
           },
           "yaxis": {
            "backgroundcolor": "#E5ECF6",
            "gridcolor": "white",
            "gridwidth": 2,
            "linecolor": "white",
            "showbackground": true,
            "ticks": "",
            "zerolinecolor": "white"
           },
           "zaxis": {
            "backgroundcolor": "#E5ECF6",
            "gridcolor": "white",
            "gridwidth": 2,
            "linecolor": "white",
            "showbackground": true,
            "ticks": "",
            "zerolinecolor": "white"
           }
          },
          "shapedefaults": {
           "line": {
            "color": "#2a3f5f"
           }
          },
          "ternary": {
           "aaxis": {
            "gridcolor": "white",
            "linecolor": "white",
            "ticks": ""
           },
           "baxis": {
            "gridcolor": "white",
            "linecolor": "white",
            "ticks": ""
           },
           "bgcolor": "#E5ECF6",
           "caxis": {
            "gridcolor": "white",
            "linecolor": "white",
            "ticks": ""
           }
          },
          "title": {
           "x": 0.05
          },
          "xaxis": {
           "automargin": true,
           "gridcolor": "white",
           "linecolor": "white",
           "ticks": "",
           "title": {
            "standoff": 15
           },
           "zerolinecolor": "white",
           "zerolinewidth": 2
          },
          "yaxis": {
           "automargin": true,
           "gridcolor": "white",
           "linecolor": "white",
           "ticks": "",
           "title": {
            "standoff": 15
           },
           "zerolinecolor": "white",
           "zerolinewidth": 2
          }
         }
        },
        "width": 1000,
        "yaxis": {
         "range": [
          0,
          64.5
         ],
         "showgrid": false,
         "showticklabels": false
        },
        "yaxis2": {
         "anchor": "x",
         "matches": "y",
         "overlaying": "y",
         "visible": false
        }
       }
      }
     },
     "metadata": {},
     "output_type": "display_data"
    }
   ],
   "source": [
    "# Create a figure with the right layout\n",
    "fig = go.Figure(\n",
    "    layout=go.Layout(\n",
    "        height=600,\n",
    "        width=1000,\n",
    "        barmode=\"group\",\n",
    "        yaxis_showticklabels=False,\n",
    "        yaxis_showgrid=False,\n",
    "        yaxis_range=[0, df.groupby(axis=1, level=0).sum().max().max() * 1.5],\n",
    "       # Secondary y-axis overlayed on the primary one and not visible\n",
    "        yaxis2=go.layout.YAxis(\n",
    "            visible=False,\n",
    "            matches=\"y\",\n",
    "            overlaying=\"y\",\n",
    "            anchor=\"x\",\n",
    "        ),\n",
    "        font=dict(size=24),\n",
    "        legend_x=0,\n",
    "        legend_y=1,\n",
    "        legend_orientation=\"h\",\n",
    "        hovermode=\"x\",\n",
    "        margin=dict(b=0,t=10,l=0,r=10)\n",
    "    )\n",
    ")\n",
    "\n",
    "# Define some colors for the product, revenue pairs\n",
    "colors = {\n",
    "    \"SIB\" : {\n",
    "        \"Duration: 20+\" : \"#00D8FF\",\n",
    "        \"Duration: 16-20\": \"#00BCDE\",\n",
    "        \"Duration: 11-15\": \"#00A7C6\",\n",
    "        \"Duration: 6-10\": \"#0089A3\",\n",
    "        \"Duration: <5\": \"#006D82\",\n",
    "        \"Duration: 0\": \"#005262\",\n",
    "    },\n",
    "    \"Aggression\" : {\n",
    "        \"Duration: 20+\" : \"#F7FF00\",\n",
    "        \"Duration: 16-20\": \"#D6DD00\",\n",
    "        \"Duration: 11-15\": \"#BAC100\",\n",
    "        \"Duration: 6-10\": \"#9CA200\",\n",
    "        \"Duration: <5\": \"#838800\",\n",
    "        \"Duration: 0\": \"#6A6E00\",\n",
    "    },\n",
    "    \"Disruptive\" : {\n",
    "        \"Duration: 20+\" : \"#00FF08\",\n",
    "        \"Duration: 16-20\": \"#00ED07\",\n",
    "        \"Duration: 11-15\": \"#00D006\",\n",
    "        \"Duration: 6-10\": \"#00AD05\",\n",
    "        \"Duration: <5\": \"#008C04\",\n",
    "        \"Duration: 0\": \"#006A03\",\n",
    "    },\n",
    "    \"Self Mutilation\" : {\n",
    "        \"Duration: 20+\" : \"#FF0000\",\n",
    "        \"Duration: 16-20\": \"#F00202\",\n",
    "        \"Duration: 11-15\": \"#CA0000\",\n",
    "        \"Duration: 6-10\": \"#AF0000\",\n",
    "        \"Duration: <5\": \"#900000\",\n",
    "        \"Duration: 0\": \"#6C0000\",\n",
    "    },\n",
    "    #\"other\" : {\n",
    "    #    \"Duration: 20+\" : \"#d900ff\",\n",
    "    #    \"Duration: 16-20\": \"#bd02de\",\n",
    "    #    \"Duration: 11-15\": \"#9a02b5\",\n",
    "    #    \"Duration: 6-10\": \"#85039c\",\n",
    "    #    \"Duration: <5\": \"#68017a\",\n",
    "    #    \"Duration: 0\": \"#43014f\",\n",
    "    #},\n",
    "}\n",
    "\n",
    "#removes all zeros rows\n",
    "# df = df.loc[~(df==0).all(axis=1)]\n",
    "# Add the traces\n",
    "for i, t in enumerate(colors):\n",
    "    base_offset = 0\n",
    "    for j, col in enumerate(colors[t]):\n",
    "        if (df[t][col] == 0).all():\n",
    "            continue\n",
    "        # print(df[t][col])\n",
    "        # print(df.index.to_list())\n",
    "        fig.add_trace(go.Bar(\n",
    "            x=df_month_data.index,\n",
    "            y=df[t][col],\n",
    "            base=base_offset,\n",
    "            # Set the right yaxis depending on the selected product (from enumerate)\n",
    "            # yaxis=f\"y{i + 1}\",\n",
    "            # Offset the bar trace, offset needs to match the width\n",
    "            # The values here are in milliseconds, 1billion ms is ~1/3 month\n",
    "            offsetgroup=str(i),\n",
    "            #offset=(i - 1) * 1,\n",
    "            #width=1,\n",
    "            legendgroup=t,\n",
    "            legendgrouptitle_text=t,\n",
    "            name=col,\n",
    "            marker_color=colors[t][col],\n",
    "            marker_line=dict(width=2, color=\"#333\"),\n",
    "            hovertemplate=\"%{y}<extra></extra>\"\n",
    "                            )\n",
    "                    )\n",
    "        \n",
    "        base_offset += df[t][col]\n",
    "fig.show()\n"
   ]
  },
  {
   "cell_type": "code",
   "execution_count": 11,
   "metadata": {},
   "outputs": [
    {
     "data": {
      "application/vnd.plotly.v1+json": {
       "config": {
        "plotlyServerURL": "https://plot.ly"
       },
       "data": [
        {
         "base": 0,
         "hovertemplate": "%{y}<extra></extra>",
         "legendgroup": "SIB",
         "legendgrouptitle": {
          "text": "SIB"
         },
         "marker": {
          "color": "#00D8FF",
          "line": {
           "color": "#333",
           "width": 2
          }
         },
         "name": "Interval: 0",
         "offsetgroup": "0",
         "type": "bar",
         "x": [
          "2022-07",
          "2022-08",
          "2022-09",
          "2022-10",
          "2022-11",
          "2022-12",
          "2023-01",
          "2023-02",
          "2023-03",
          "2023-04",
          "2023-05",
          "2023-06"
         ],
         "y": [
          2,
          0,
          4,
          0,
          2,
          0,
          0,
          0,
          0,
          0,
          0,
          0
         ]
        },
        {
         "base": [
          2,
          0,
          4,
          0,
          2,
          0,
          0,
          0,
          0,
          0,
          0,
          0
         ],
         "hovertemplate": "%{y}<extra></extra>",
         "legendgroup": "SIB",
         "legendgrouptitle": {
          "text": "SIB"
         },
         "marker": {
          "color": "#00BCDE",
          "line": {
           "color": "#333",
           "width": 2
          }
         },
         "name": "Interval: 1",
         "offsetgroup": "0",
         "type": "bar",
         "x": [
          "2022-07",
          "2022-08",
          "2022-09",
          "2022-10",
          "2022-11",
          "2022-12",
          "2023-01",
          "2023-02",
          "2023-03",
          "2023-04",
          "2023-05",
          "2023-06"
         ],
         "y": [
          4,
          0,
          3,
          0,
          4,
          2,
          0,
          0,
          0,
          0,
          0,
          0
         ]
        },
        {
         "base": [
          6,
          0,
          7,
          0,
          6,
          2,
          0,
          0,
          0,
          0,
          0,
          0
         ],
         "hovertemplate": "%{y}<extra></extra>",
         "legendgroup": "SIB",
         "legendgrouptitle": {
          "text": "SIB"
         },
         "marker": {
          "color": "#00A7C6",
          "line": {
           "color": "#333",
           "width": 2
          }
         },
         "name": "Interval: 2",
         "offsetgroup": "0",
         "type": "bar",
         "x": [
          "2022-07",
          "2022-08",
          "2022-09",
          "2022-10",
          "2022-11",
          "2022-12",
          "2023-01",
          "2023-02",
          "2023-03",
          "2023-04",
          "2023-05",
          "2023-06"
         ],
         "y": [
          2,
          15,
          0,
          3,
          0,
          0,
          0,
          0,
          0,
          0,
          0,
          0
         ]
        },
        {
         "base": [
          8,
          15,
          7,
          3,
          6,
          2,
          0,
          0,
          0,
          0,
          0,
          0
         ],
         "hovertemplate": "%{y}<extra></extra>",
         "legendgroup": "SIB",
         "legendgrouptitle": {
          "text": "SIB"
         },
         "marker": {
          "color": "#0089A3",
          "line": {
           "color": "#333",
           "width": 2
          }
         },
         "name": "Interval: 3",
         "offsetgroup": "0",
         "type": "bar",
         "x": [
          "2022-07",
          "2022-08",
          "2022-09",
          "2022-10",
          "2022-11",
          "2022-12",
          "2023-01",
          "2023-02",
          "2023-03",
          "2023-04",
          "2023-05",
          "2023-06"
         ],
         "y": [
          1,
          2,
          0,
          3,
          0,
          0,
          0,
          0,
          0,
          0,
          0,
          0
         ]
        },
        {
         "base": [
          9,
          17,
          7,
          6,
          6,
          2,
          0,
          0,
          0,
          0,
          0,
          0
         ],
         "hovertemplate": "%{y}<extra></extra>",
         "legendgroup": "SIB",
         "legendgrouptitle": {
          "text": "SIB"
         },
         "marker": {
          "color": "#006D82",
          "line": {
           "color": "#333",
           "width": 2
          }
         },
         "name": "Interval: 4",
         "offsetgroup": "0",
         "type": "bar",
         "x": [
          "2022-07",
          "2022-08",
          "2022-09",
          "2022-10",
          "2022-11",
          "2022-12",
          "2023-01",
          "2023-02",
          "2023-03",
          "2023-04",
          "2023-05",
          "2023-06"
         ],
         "y": [
          1,
          0,
          0,
          1,
          0,
          0,
          0,
          0,
          0,
          0,
          0,
          0
         ]
        },
        {
         "base": 0,
         "hovertemplate": "%{y}<extra></extra>",
         "legendgroup": "Aggression",
         "legendgrouptitle": {
          "text": "Aggression"
         },
         "marker": {
          "color": "#F7FF00",
          "line": {
           "color": "#333",
           "width": 2
          }
         },
         "name": "Interval: 0",
         "offsetgroup": "1",
         "type": "bar",
         "x": [
          "2022-07",
          "2022-08",
          "2022-09",
          "2022-10",
          "2022-11",
          "2022-12",
          "2023-01",
          "2023-02",
          "2023-03",
          "2023-04",
          "2023-05",
          "2023-06"
         ],
         "y": [
          0,
          0,
          8,
          3,
          3,
          5,
          0,
          0,
          0,
          0,
          0,
          0
         ]
        },
        {
         "base": [
          0,
          0,
          8,
          3,
          3,
          5,
          0,
          0,
          0,
          0,
          0,
          0
         ],
         "hovertemplate": "%{y}<extra></extra>",
         "legendgroup": "Aggression",
         "legendgrouptitle": {
          "text": "Aggression"
         },
         "marker": {
          "color": "#D6DD00",
          "line": {
           "color": "#333",
           "width": 2
          }
         },
         "name": "Interval: 1",
         "offsetgroup": "1",
         "type": "bar",
         "x": [
          "2022-07",
          "2022-08",
          "2022-09",
          "2022-10",
          "2022-11",
          "2022-12",
          "2023-01",
          "2023-02",
          "2023-03",
          "2023-04",
          "2023-05",
          "2023-06"
         ],
         "y": [
          19,
          11,
          11,
          13,
          5,
          10,
          0,
          0,
          0,
          0,
          0,
          0
         ]
        },
        {
         "base": [
          19,
          11,
          19,
          16,
          8,
          15,
          0,
          0,
          0,
          0,
          0,
          0
         ],
         "hovertemplate": "%{y}<extra></extra>",
         "legendgroup": "Aggression",
         "legendgrouptitle": {
          "text": "Aggression"
         },
         "marker": {
          "color": "#BAC100",
          "line": {
           "color": "#333",
           "width": 2
          }
         },
         "name": "Interval: 2",
         "offsetgroup": "1",
         "type": "bar",
         "x": [
          "2022-07",
          "2022-08",
          "2022-09",
          "2022-10",
          "2022-11",
          "2022-12",
          "2023-01",
          "2023-02",
          "2023-03",
          "2023-04",
          "2023-05",
          "2023-06"
         ],
         "y": [
          6,
          13,
          1,
          19,
          7,
          2,
          0,
          0,
          0,
          0,
          0,
          0
         ]
        },
        {
         "base": [
          25,
          24,
          20,
          35,
          15,
          17,
          0,
          0,
          0,
          0,
          0,
          0
         ],
         "hovertemplate": "%{y}<extra></extra>",
         "legendgroup": "Aggression",
         "legendgrouptitle": {
          "text": "Aggression"
         },
         "marker": {
          "color": "#9CA200",
          "line": {
           "color": "#333",
           "width": 2
          }
         },
         "name": "Interval: 3",
         "offsetgroup": "1",
         "type": "bar",
         "x": [
          "2022-07",
          "2022-08",
          "2022-09",
          "2022-10",
          "2022-11",
          "2022-12",
          "2023-01",
          "2023-02",
          "2023-03",
          "2023-04",
          "2023-05",
          "2023-06"
         ],
         "y": [
          4,
          10,
          1,
          1,
          0,
          2,
          0,
          0,
          0,
          0,
          0,
          0
         ]
        },
        {
         "base": [
          29,
          34,
          21,
          36,
          15,
          19,
          0,
          0,
          0,
          0,
          0,
          0
         ],
         "hovertemplate": "%{y}<extra></extra>",
         "legendgroup": "Aggression",
         "legendgrouptitle": {
          "text": "Aggression"
         },
         "marker": {
          "color": "#838800",
          "line": {
           "color": "#333",
           "width": 2
          }
         },
         "name": "Interval: 4",
         "offsetgroup": "1",
         "type": "bar",
         "x": [
          "2022-07",
          "2022-08",
          "2022-09",
          "2022-10",
          "2022-11",
          "2022-12",
          "2023-01",
          "2023-02",
          "2023-03",
          "2023-04",
          "2023-05",
          "2023-06"
         ],
         "y": [
          6,
          0,
          0,
          6,
          2,
          1,
          0,
          0,
          0,
          0,
          0,
          0
         ]
        }
       ],
       "layout": {
        "barmode": "group",
        "font": {
         "size": 24
        },
        "height": 600,
        "hovermode": "x",
        "legend": {
         "orientation": "h",
         "x": 0,
         "y": 1
        },
        "margin": {
         "b": 0,
         "l": 0,
         "r": 10,
         "t": 10
        },
        "template": {
         "data": {
          "bar": [
           {
            "error_x": {
             "color": "#2a3f5f"
            },
            "error_y": {
             "color": "#2a3f5f"
            },
            "marker": {
             "line": {
              "color": "#E5ECF6",
              "width": 0.5
             },
             "pattern": {
              "fillmode": "overlay",
              "size": 10,
              "solidity": 0.2
             }
            },
            "type": "bar"
           }
          ],
          "barpolar": [
           {
            "marker": {
             "line": {
              "color": "#E5ECF6",
              "width": 0.5
             },
             "pattern": {
              "fillmode": "overlay",
              "size": 10,
              "solidity": 0.2
             }
            },
            "type": "barpolar"
           }
          ],
          "carpet": [
           {
            "aaxis": {
             "endlinecolor": "#2a3f5f",
             "gridcolor": "white",
             "linecolor": "white",
             "minorgridcolor": "white",
             "startlinecolor": "#2a3f5f"
            },
            "baxis": {
             "endlinecolor": "#2a3f5f",
             "gridcolor": "white",
             "linecolor": "white",
             "minorgridcolor": "white",
             "startlinecolor": "#2a3f5f"
            },
            "type": "carpet"
           }
          ],
          "choropleth": [
           {
            "colorbar": {
             "outlinewidth": 0,
             "ticks": ""
            },
            "type": "choropleth"
           }
          ],
          "contour": [
           {
            "colorbar": {
             "outlinewidth": 0,
             "ticks": ""
            },
            "colorscale": [
             [
              0,
              "#0d0887"
             ],
             [
              0.1111111111111111,
              "#46039f"
             ],
             [
              0.2222222222222222,
              "#7201a8"
             ],
             [
              0.3333333333333333,
              "#9c179e"
             ],
             [
              0.4444444444444444,
              "#bd3786"
             ],
             [
              0.5555555555555556,
              "#d8576b"
             ],
             [
              0.6666666666666666,
              "#ed7953"
             ],
             [
              0.7777777777777778,
              "#fb9f3a"
             ],
             [
              0.8888888888888888,
              "#fdca26"
             ],
             [
              1,
              "#f0f921"
             ]
            ],
            "type": "contour"
           }
          ],
          "contourcarpet": [
           {
            "colorbar": {
             "outlinewidth": 0,
             "ticks": ""
            },
            "type": "contourcarpet"
           }
          ],
          "heatmap": [
           {
            "colorbar": {
             "outlinewidth": 0,
             "ticks": ""
            },
            "colorscale": [
             [
              0,
              "#0d0887"
             ],
             [
              0.1111111111111111,
              "#46039f"
             ],
             [
              0.2222222222222222,
              "#7201a8"
             ],
             [
              0.3333333333333333,
              "#9c179e"
             ],
             [
              0.4444444444444444,
              "#bd3786"
             ],
             [
              0.5555555555555556,
              "#d8576b"
             ],
             [
              0.6666666666666666,
              "#ed7953"
             ],
             [
              0.7777777777777778,
              "#fb9f3a"
             ],
             [
              0.8888888888888888,
              "#fdca26"
             ],
             [
              1,
              "#f0f921"
             ]
            ],
            "type": "heatmap"
           }
          ],
          "heatmapgl": [
           {
            "colorbar": {
             "outlinewidth": 0,
             "ticks": ""
            },
            "colorscale": [
             [
              0,
              "#0d0887"
             ],
             [
              0.1111111111111111,
              "#46039f"
             ],
             [
              0.2222222222222222,
              "#7201a8"
             ],
             [
              0.3333333333333333,
              "#9c179e"
             ],
             [
              0.4444444444444444,
              "#bd3786"
             ],
             [
              0.5555555555555556,
              "#d8576b"
             ],
             [
              0.6666666666666666,
              "#ed7953"
             ],
             [
              0.7777777777777778,
              "#fb9f3a"
             ],
             [
              0.8888888888888888,
              "#fdca26"
             ],
             [
              1,
              "#f0f921"
             ]
            ],
            "type": "heatmapgl"
           }
          ],
          "histogram": [
           {
            "marker": {
             "pattern": {
              "fillmode": "overlay",
              "size": 10,
              "solidity": 0.2
             }
            },
            "type": "histogram"
           }
          ],
          "histogram2d": [
           {
            "colorbar": {
             "outlinewidth": 0,
             "ticks": ""
            },
            "colorscale": [
             [
              0,
              "#0d0887"
             ],
             [
              0.1111111111111111,
              "#46039f"
             ],
             [
              0.2222222222222222,
              "#7201a8"
             ],
             [
              0.3333333333333333,
              "#9c179e"
             ],
             [
              0.4444444444444444,
              "#bd3786"
             ],
             [
              0.5555555555555556,
              "#d8576b"
             ],
             [
              0.6666666666666666,
              "#ed7953"
             ],
             [
              0.7777777777777778,
              "#fb9f3a"
             ],
             [
              0.8888888888888888,
              "#fdca26"
             ],
             [
              1,
              "#f0f921"
             ]
            ],
            "type": "histogram2d"
           }
          ],
          "histogram2dcontour": [
           {
            "colorbar": {
             "outlinewidth": 0,
             "ticks": ""
            },
            "colorscale": [
             [
              0,
              "#0d0887"
             ],
             [
              0.1111111111111111,
              "#46039f"
             ],
             [
              0.2222222222222222,
              "#7201a8"
             ],
             [
              0.3333333333333333,
              "#9c179e"
             ],
             [
              0.4444444444444444,
              "#bd3786"
             ],
             [
              0.5555555555555556,
              "#d8576b"
             ],
             [
              0.6666666666666666,
              "#ed7953"
             ],
             [
              0.7777777777777778,
              "#fb9f3a"
             ],
             [
              0.8888888888888888,
              "#fdca26"
             ],
             [
              1,
              "#f0f921"
             ]
            ],
            "type": "histogram2dcontour"
           }
          ],
          "mesh3d": [
           {
            "colorbar": {
             "outlinewidth": 0,
             "ticks": ""
            },
            "type": "mesh3d"
           }
          ],
          "parcoords": [
           {
            "line": {
             "colorbar": {
              "outlinewidth": 0,
              "ticks": ""
             }
            },
            "type": "parcoords"
           }
          ],
          "pie": [
           {
            "automargin": true,
            "type": "pie"
           }
          ],
          "scatter": [
           {
            "fillpattern": {
             "fillmode": "overlay",
             "size": 10,
             "solidity": 0.2
            },
            "type": "scatter"
           }
          ],
          "scatter3d": [
           {
            "line": {
             "colorbar": {
              "outlinewidth": 0,
              "ticks": ""
             }
            },
            "marker": {
             "colorbar": {
              "outlinewidth": 0,
              "ticks": ""
             }
            },
            "type": "scatter3d"
           }
          ],
          "scattercarpet": [
           {
            "marker": {
             "colorbar": {
              "outlinewidth": 0,
              "ticks": ""
             }
            },
            "type": "scattercarpet"
           }
          ],
          "scattergeo": [
           {
            "marker": {
             "colorbar": {
              "outlinewidth": 0,
              "ticks": ""
             }
            },
            "type": "scattergeo"
           }
          ],
          "scattergl": [
           {
            "marker": {
             "colorbar": {
              "outlinewidth": 0,
              "ticks": ""
             }
            },
            "type": "scattergl"
           }
          ],
          "scattermapbox": [
           {
            "marker": {
             "colorbar": {
              "outlinewidth": 0,
              "ticks": ""
             }
            },
            "type": "scattermapbox"
           }
          ],
          "scatterpolar": [
           {
            "marker": {
             "colorbar": {
              "outlinewidth": 0,
              "ticks": ""
             }
            },
            "type": "scatterpolar"
           }
          ],
          "scatterpolargl": [
           {
            "marker": {
             "colorbar": {
              "outlinewidth": 0,
              "ticks": ""
             }
            },
            "type": "scatterpolargl"
           }
          ],
          "scatterternary": [
           {
            "marker": {
             "colorbar": {
              "outlinewidth": 0,
              "ticks": ""
             }
            },
            "type": "scatterternary"
           }
          ],
          "surface": [
           {
            "colorbar": {
             "outlinewidth": 0,
             "ticks": ""
            },
            "colorscale": [
             [
              0,
              "#0d0887"
             ],
             [
              0.1111111111111111,
              "#46039f"
             ],
             [
              0.2222222222222222,
              "#7201a8"
             ],
             [
              0.3333333333333333,
              "#9c179e"
             ],
             [
              0.4444444444444444,
              "#bd3786"
             ],
             [
              0.5555555555555556,
              "#d8576b"
             ],
             [
              0.6666666666666666,
              "#ed7953"
             ],
             [
              0.7777777777777778,
              "#fb9f3a"
             ],
             [
              0.8888888888888888,
              "#fdca26"
             ],
             [
              1,
              "#f0f921"
             ]
            ],
            "type": "surface"
           }
          ],
          "table": [
           {
            "cells": {
             "fill": {
              "color": "#EBF0F8"
             },
             "line": {
              "color": "white"
             }
            },
            "header": {
             "fill": {
              "color": "#C8D4E3"
             },
             "line": {
              "color": "white"
             }
            },
            "type": "table"
           }
          ]
         },
         "layout": {
          "annotationdefaults": {
           "arrowcolor": "#2a3f5f",
           "arrowhead": 0,
           "arrowwidth": 1
          },
          "autotypenumbers": "strict",
          "coloraxis": {
           "colorbar": {
            "outlinewidth": 0,
            "ticks": ""
           }
          },
          "colorscale": {
           "diverging": [
            [
             0,
             "#8e0152"
            ],
            [
             0.1,
             "#c51b7d"
            ],
            [
             0.2,
             "#de77ae"
            ],
            [
             0.3,
             "#f1b6da"
            ],
            [
             0.4,
             "#fde0ef"
            ],
            [
             0.5,
             "#f7f7f7"
            ],
            [
             0.6,
             "#e6f5d0"
            ],
            [
             0.7,
             "#b8e186"
            ],
            [
             0.8,
             "#7fbc41"
            ],
            [
             0.9,
             "#4d9221"
            ],
            [
             1,
             "#276419"
            ]
           ],
           "sequential": [
            [
             0,
             "#0d0887"
            ],
            [
             0.1111111111111111,
             "#46039f"
            ],
            [
             0.2222222222222222,
             "#7201a8"
            ],
            [
             0.3333333333333333,
             "#9c179e"
            ],
            [
             0.4444444444444444,
             "#bd3786"
            ],
            [
             0.5555555555555556,
             "#d8576b"
            ],
            [
             0.6666666666666666,
             "#ed7953"
            ],
            [
             0.7777777777777778,
             "#fb9f3a"
            ],
            [
             0.8888888888888888,
             "#fdca26"
            ],
            [
             1,
             "#f0f921"
            ]
           ],
           "sequentialminus": [
            [
             0,
             "#0d0887"
            ],
            [
             0.1111111111111111,
             "#46039f"
            ],
            [
             0.2222222222222222,
             "#7201a8"
            ],
            [
             0.3333333333333333,
             "#9c179e"
            ],
            [
             0.4444444444444444,
             "#bd3786"
            ],
            [
             0.5555555555555556,
             "#d8576b"
            ],
            [
             0.6666666666666666,
             "#ed7953"
            ],
            [
             0.7777777777777778,
             "#fb9f3a"
            ],
            [
             0.8888888888888888,
             "#fdca26"
            ],
            [
             1,
             "#f0f921"
            ]
           ]
          },
          "colorway": [
           "#636efa",
           "#EF553B",
           "#00cc96",
           "#ab63fa",
           "#FFA15A",
           "#19d3f3",
           "#FF6692",
           "#B6E880",
           "#FF97FF",
           "#FECB52"
          ],
          "font": {
           "color": "#2a3f5f"
          },
          "geo": {
           "bgcolor": "white",
           "lakecolor": "white",
           "landcolor": "#E5ECF6",
           "showlakes": true,
           "showland": true,
           "subunitcolor": "white"
          },
          "hoverlabel": {
           "align": "left"
          },
          "hovermode": "closest",
          "mapbox": {
           "style": "light"
          },
          "paper_bgcolor": "white",
          "plot_bgcolor": "#E5ECF6",
          "polar": {
           "angularaxis": {
            "gridcolor": "white",
            "linecolor": "white",
            "ticks": ""
           },
           "bgcolor": "#E5ECF6",
           "radialaxis": {
            "gridcolor": "white",
            "linecolor": "white",
            "ticks": ""
           }
          },
          "scene": {
           "xaxis": {
            "backgroundcolor": "#E5ECF6",
            "gridcolor": "white",
            "gridwidth": 2,
            "linecolor": "white",
            "showbackground": true,
            "ticks": "",
            "zerolinecolor": "white"
           },
           "yaxis": {
            "backgroundcolor": "#E5ECF6",
            "gridcolor": "white",
            "gridwidth": 2,
            "linecolor": "white",
            "showbackground": true,
            "ticks": "",
            "zerolinecolor": "white"
           },
           "zaxis": {
            "backgroundcolor": "#E5ECF6",
            "gridcolor": "white",
            "gridwidth": 2,
            "linecolor": "white",
            "showbackground": true,
            "ticks": "",
            "zerolinecolor": "white"
           }
          },
          "shapedefaults": {
           "line": {
            "color": "#2a3f5f"
           }
          },
          "ternary": {
           "aaxis": {
            "gridcolor": "white",
            "linecolor": "white",
            "ticks": ""
           },
           "baxis": {
            "gridcolor": "white",
            "linecolor": "white",
            "ticks": ""
           },
           "bgcolor": "#E5ECF6",
           "caxis": {
            "gridcolor": "white",
            "linecolor": "white",
            "ticks": ""
           }
          },
          "title": {
           "x": 0.05
          },
          "xaxis": {
           "automargin": true,
           "gridcolor": "white",
           "linecolor": "white",
           "ticks": "",
           "title": {
            "standoff": 15
           },
           "zerolinecolor": "white",
           "zerolinewidth": 2
          },
          "yaxis": {
           "automargin": true,
           "gridcolor": "white",
           "linecolor": "white",
           "ticks": "",
           "title": {
            "standoff": 15
           },
           "zerolinecolor": "white",
           "zerolinewidth": 2
          }
         }
        },
        "width": 1000,
        "yaxis": {
         "range": [
          0,
          63
         ],
         "showgrid": false,
         "showticklabels": false
        },
        "yaxis2": {
         "anchor": "x",
         "matches": "y",
         "overlaying": "y",
         "visible": false
        }
       }
      }
     },
     "metadata": {},
     "output_type": "display_data"
    }
   ],
   "source": [
    "#intensity interval data\n",
    "dfin\n",
    "dfin_wide = pd.pivot_table(dfin, values='value', index=['Date', 'variable'], columns='Target',aggfunc=np.max)\n",
    "dfin_wide_grp = pd.pivot_table(dfin_wide, index=\"Date\", columns=\"variable\", values=[\"Aggression\", \"Disruptive\", \"SIB\", \"Self Mutilation\"])\n",
    "dfin_wide_grp.index.name = None\n",
    "\n",
    "#group by month\n",
    "dfin_wide_grp['Yr_Mnth'] = pd.to_datetime(dfin_wide_grp.index).strftime('%Y-%m')\n",
    "dfin_m = dfin_wide_grp.groupby(['Yr_Mnth'],sort=False,)[dfin_wide_grp.columns].sum().reset_index()\n",
    "df_month_data = dfin_wide_grp.groupby(['Yr_Mnth'],sort=False,)[dfin_wide_grp.columns].sum()\n",
    "dfin_wide_grp = dfin_m.drop('Yr_Mnth', axis='columns')\n",
    "\n",
    "# Create a figure with the right layout\n",
    "fig = go.Figure(\n",
    "    layout=go.Layout(\n",
    "        height=600,\n",
    "        width=1000,\n",
    "        barmode=\"group\",\n",
    "        yaxis_showticklabels=False,\n",
    "        yaxis_showgrid=False,\n",
    "        yaxis_range=[0, dfin_wide_grp.groupby(axis=1, level=0).sum().max().max() * 1.5],\n",
    "       # Secondary y-axis overlayed on the primary one and not visible\n",
    "        yaxis2=go.layout.YAxis(\n",
    "            visible=False,\n",
    "            matches=\"y\",\n",
    "            overlaying=\"y\",\n",
    "            anchor=\"x\",\n",
    "        ),\n",
    "        font=dict(size=24),\n",
    "        legend_x=0,\n",
    "        legend_y=1,\n",
    "        legend_orientation=\"h\",\n",
    "        hovermode=\"x\",\n",
    "        margin=dict(b=0,t=10,l=0,r=10)\n",
    "    )\n",
    ")\n",
    "\n",
    "# Define some colors for the product, revenue pairs\n",
    "colors = {\n",
    "    \"SIB\" : {\n",
    "        \"Interval: 0\" : \"#00D8FF\",\n",
    "        \"Interval: 1\": \"#00BCDE\",\n",
    "        \"Interval: 2\": \"#00A7C6\",\n",
    "        \"Interval: 3\": \"#0089A3\",\n",
    "        \"Interval: 4\": \"#006D82\",\n",
    "    },\n",
    "    \"Aggression\" : {\n",
    "        \"Interval: 0\" : \"#F7FF00\",\n",
    "        \"Interval: 1\": \"#D6DD00\",\n",
    "        \"Interval: 2\": \"#BAC100\",\n",
    "        \"Interval: 3\": \"#9CA200\",\n",
    "        \"Interval: 4\": \"#838800\",\n",
    "    },\n",
    "    \"Disruptive\" : {\n",
    "        \"Interval: 0\" : \"#00FF08\",\n",
    "        \"Interval: 1\": \"#00ED07\",\n",
    "        \"Interval: 2\": \"#00D006\",\n",
    "        \"Interval: 3\": \"#00AD05\",\n",
    "        \"Interval: 4\": \"#008C04\",\n",
    "    },\n",
    "    \"Self Mutilation\" : {\n",
    "        \"Interval: 0\" : \"#FF0000\",\n",
    "        \"Interval: 1\": \"#F00202\",\n",
    "        \"Interval: 2\": \"#CA0000\",\n",
    "        \"Interval: 3\": \"#AF0000\",\n",
    "        \"Interval: 4\": \"#900000\",\n",
    "    },\n",
    "}\n",
    "\n",
    "#removes all zeros rows\n",
    "# df = df.loc[~(df==0).all(axis=1)]\n",
    "\n",
    "# Add the traces\n",
    "for i, t in enumerate(colors):\n",
    "    base_offset = 0\n",
    "    for j, col in enumerate(colors[t]):\n",
    "        if (dfin_wide_grp[t][col] == 0).all():\n",
    "            continue\n",
    "        # print(df[t][col])\n",
    "        # print(df.index.to_list())\n",
    "        fig.add_trace(go.Bar(\n",
    "            x=df_month_data.index,\n",
    "            y=dfin_wide_grp[t][col],\n",
    "            base=base_offset,\n",
    "            # Set the right yaxis depending on the selected product (from enumerate)\n",
    "            # yaxis=f\"y{i + 1}\",\n",
    "            # Offset the bar trace, offset needs to match the width\n",
    "            # The values here are in milliseconds, 1billion ms is ~1/3 month\n",
    "            offsetgroup=str(i),\n",
    "            #offset=(i - 1) * 1,\n",
    "            #width=1,\n",
    "            legendgroup=t,\n",
    "            legendgrouptitle_text=t,\n",
    "            name=col,\n",
    "            marker_color=colors[t][col],\n",
    "            marker_line=dict(width=2, color=\"#333\"),\n",
    "            hovertemplate=\"%{y}<extra></extra>\"\n",
    "                            )\n",
    "                    )\n",
    "        \n",
    "        base_offset += dfin_wide_grp[t][col]\n",
    "fig.show()"
   ]
  },
  {
   "cell_type": "code",
   "execution_count": null,
   "metadata": {},
   "outputs": [],
   "source": [
    "        barmode=\"group\",\n",
    "        yaxis_showticklabels=False,\n",
    "        yaxis_showgrid=False,\n",
    "        yaxis_range=[0, df.groupby(axis=1, level=0).sum().max().max() * 1.5],\n",
    "       # Secondary y-axis overlayed on the primary one and not visible\n",
    "        yaxis2=go.layout.YAxis(\n",
    "            visible=False,\n",
    "            matches=\"y\",\n",
    "            overlaying=\"y\",\n",
    "            anchor=\"x\",\n",
    "        ),\n",
    "        font=dict(size=24),\n",
    "        legend_x=0,\n",
    "        legend_y=1,\n",
    "        legend_orientation=\"h\",\n",
    "        hovermode=\"x\",\n",
    "        margin=dict(b=0,t=10,l=0,r=10)\n",
    "    )\n",
    ")\n",
    "\n",
    "# Define some colors for the product, revenue pairs\n",
    "colors = {\n",
    "    \"SIB\" : {\n",
    "        \"Duration: 20+\" : \"#00D8FF\",\n",
    "        \"Duration: 16-20\": \"#00BCDE\",\n",
    "        \"Duration: 11-15\": \"#00A7C6\",\n",
    "        \"Duration: 6-10\": \"#0089A3\",\n",
    "        \"Duration: <5\": \"#006D82\",\n",
    "        \"Duration: 0\": \"#005262\",\n",
    "    },\n",
    "    \"Aggression\" : {\n",
    "        \"Duration: 20+\" : \"#F7FF00\",\n",
    "        \"Duration: 16-20\": \"#D6DD00\",\n",
    "        \"Duration: 11-15\": \"#BAC100\",\n",
    "        \"Duration: 6-10\": \"#9CA200\",\n",
    "        \"Duration: <5\": \"#838800\",\n",
    "        \"Duration: 0\": \"#6A6E00\",\n",
    "    },\n",
    "    \"Disruptive\" : {\n",
    "        \"Duration: 20+\" : \"#00FF08\",\n",
    "        \"Duration: 16-20\": \"#00ED07\",\n",
    "        \"Duration: 11-15\": \"#00D006\",\n",
    "        \"Duration: 6-10\": \"#00AD05\",\n",
    "        \"Duration: <5\": \"#008C04\",\n",
    "        \"Duration: 0\": \"#006A03\",\n",
    "    },\n",
    "    \"Self Mutilation\" : {\n",
    "        \"Duration: 20+\" : \"#FF0000\",\n",
    "        \"Duration: 16-20\": \"#F00202\",\n",
    "        \"Duration: 11-15\": \"#CA0000\",\n",
    "        \"Duration: 6-10\": \"#AF0000\",\n",
    "        \"Duration: <5\": \"#900000\",\n",
    "        \"Duration: 0\": \"#6C0000\",\n",
    "    },\n",
    "    #\"other\" : {\n",
    "    #    \"Duration: 20+\" : \"#d900ff\",\n",
    "    #    \"Duration: 16-20\": \"#bd02de\",\n",
    "    #    \"Duration: 11-15\": \"#9a02b5\",\n",
    "    #    \"Duration: 6-10\": \"#85039c\",\n",
    "    #    \"Duration: <5\": \"#68017a\",\n",
    "    #    \"Duration: 0\": \"#43014f\",\n",
    "    #},\n",
    "}\n",
    "\n",
    "# Add the traces\n",
    "for i, t in enumerate(colors):\n",
    "    base_offset = 0\n",
    "    for j, col in enumerate(colors[t]):\n",
    "        if (df[t][col] == 0).all():\n",
    "            continue\n",
    "        # print(df[t][col])\n",
    "        # print(df.index.to_list())\n",
    "        fig.add_trace(go.Bar(\n",
    "            x=df_month_data.index,\n",
    "            y=df[t][col],\n",
    "            base=base_offset,\n",
    "            # Set the right yaxis depending on the selected product (from enumerate)\n",
    "            # yaxis=f\"y{i + 1}\",\n",
    "            # Offset the bar trace, offset needs to match the width\n",
    "            # The values here are in milliseconds, 1billion ms is ~1/3 month\n",
    "            offsetgroup=str(i),\n",
    "            #offset=(i - 1) * 1,\n",
    "            #width=1,\n",
    "            legendgroup=t,\n",
    "            legendgrouptitle_text=t,\n",
    "            name=col,\n",
    "            marker_color=colors[t][col],\n",
    "            marker_line=dict(width=2, color=\"#333\"),\n",
    "            hovertemplate=\"%{y}<extra></extra>\"\n",
    "                            )\n",
    "                    )\n",
    "        \n",
    "        base_offset += df[t][col]\n",
    "fig.show()"
   ]
  },
  {
   "cell_type": "code",
   "execution_count": null,
   "metadata": {},
   "outputs": [],
   "source": [
    "dfdur_wide = pd.pivot_table(dfdur, values='value', index=['Date', 'variable'], columns='Target',aggfunc=np.max)\n",
    "dfdur_wide_grp = pd.pivot_table(dfdur_wide, index=\"Date\", columns=\"variable\", values=[\"Aggression\", \"Disruptive\", \"SIB\", \"Self Mutilation\"])\n",
    "dfdur_wide_grp.index.name = None\n",
    "# dfdur_wide_grp = dfdur_wide_grp.reset_index(drop=True).rename_axis(None, axis=1)\n",
    "dfdur_wide_grp.head()"
   ]
  },
  {
   "cell_type": "code",
   "execution_count": null,
   "metadata": {},
   "outputs": [],
   "source": [
    "import numpy as np\n",
    "import pandas as pd\n",
    "import plotly.graph_objects as go\n",
    "\n",
    "\n",
    "# Create dummy data indexed by month and with multi-columns [product, revenue]\n",
    "index = pd.date_range(\"2020\", \"2021\", freq=\"MS\", closed=\"left\")\n",
    "df = pd.concat(\n",
    "    [\n",
    "        pd.DataFrame(\n",
    "            np.random.rand(12, 3) * 1.25 + 0.25,\n",
    "            index=index,\n",
    "            columns=[\"Revenue1\", \"Revenue2\", \"Revenue3\"]\n",
    "        ),\n",
    "        pd.DataFrame(\n",
    "            np.random.rand(12, 3) + 0.5,\n",
    "            index=index,\n",
    "            columns=[\"Revenue1\", \"Revenue2\", \"Revenue3\"]\n",
    "        ),\n",
    "    ],\n",
    "    axis=1,\n",
    "    keys=[\"Product1\", \"Product2\"]\n",
    ")\n",
    "\n",
    "# Create a figure with the right layout\n",
    "fig = go.Figure(\n",
    "    layout=go.Layout(\n",
    "        height=600,\n",
    "        width=1000,\n",
    "        barmode=\"relative\",\n",
    "        yaxis_showticklabels=False,\n",
    "        yaxis_showgrid=False,\n",
    "        yaxis_range=[0, df.groupby(axis=1, level=0).sum().max().max() * 1.5],\n",
    "       # Secondary y-axis overlayed on the primary one and not visible\n",
    "        yaxis2=go.layout.YAxis(\n",
    "            visible=False,\n",
    "            matches=\"y\",\n",
    "            overlaying=\"y\",\n",
    "            anchor=\"x\",\n",
    "        ),\n",
    "        font=dict(size=24),\n",
    "        legend_x=0,\n",
    "        legend_y=1,\n",
    "        legend_orientation=\"h\",\n",
    "        hovermode=\"x\",\n",
    "        margin=dict(b=0,t=10,l=0,r=10)\n",
    "    )\n",
    ")\n",
    "\n",
    "# Define some colors for the product, revenue pairs\n",
    "colors = {\n",
    "    \"Product1\": {\n",
    "        \"Revenue1\": \"#F28F1D\",\n",
    "        \"Revenue2\": \"#F6C619\",\n",
    "        \"Revenue3\": \"#FADD75\",\n",
    "    },\n",
    "    \"Product2\": {\n",
    "        \"Revenue1\": \"#2B6045\",\n",
    "        \"Revenue2\": \"#5EB88A\",\n",
    "        \"Revenue3\": \"#9ED4B9\",\n",
    "    }\n",
    "}\n",
    "\n",
    "# Add the traces\n",
    "for i, t in enumerate(colors):\n",
    "    print(t)\n",
    "    for j, col in enumerate(df[t].columns):\n",
    "        if (df[t][col] == 0).all():\n",
    "            continue\n",
    "        print(df[t][col])\n",
    "        print(df.index)\n",
    "        fig.add_trace(go.Bar(\n",
    "            x=df.index,\n",
    "            y=df[t][col],\n",
    "            # Set the right yaxis depending on the selected product (from enumerate)\n",
    "            yaxis=f\"y{i + 1}\",\n",
    "            # Offset the bar trace, offset needs to match the width\n",
    "            # The values here are in milliseconds, 1billion ms is ~1/3 month\n",
    "            offsetgroup=str(i),\n",
    "            offset=(i - 1) * 1000000000,\n",
    "            width=1000000000,\n",
    "            legendgroup=t,\n",
    "            legendgrouptitle_text=t,\n",
    "            name=col,\n",
    "            marker_color=colors[t][col],\n",
    "            marker_line=dict(width=2, color=\"#333\"),\n",
    "            hovertemplate=\"%{y}<extra></extra>\"\n",
    "                            )\n",
    "        )\n",
    "\n",
    "fig.show()\n",
    "df.head()"
   ]
  },
  {
   "cell_type": "code",
   "execution_count": null,
   "metadata": {},
   "outputs": [],
   "source": [
    "dfdur_wide = pd.pivot_table(dfdur, values='value', index=['Date', 'variable'], columns='Target',aggfunc=np.max).reset_index()\n",
    "dfdur_wide_grp = pd.pivot_table(dfdur_wide, index=\"Date\", columns=\"variable\", values=[\"Aggression\", \"Disruptive\", \"SIB\", \"Self Mutilation\"])\n",
    "dfdur_wide.head()"
   ]
  },
  {
   "cell_type": "code",
   "execution_count": null,
   "metadata": {},
   "outputs": [],
   "source": [
    "dfdur_wide_grp.reset_index().head()"
   ]
  },
  {
   "cell_type": "code",
   "execution_count": null,
   "metadata": {},
   "outputs": [],
   "source": [
    "dfdur.head(10)"
   ]
  },
  {
   "cell_type": "code",
   "execution_count": null,
   "metadata": {},
   "outputs": [],
   "source": []
  }
 ],
 "metadata": {
  "interpreter": {
   "hash": "e134e05457d34029b6460cd73bbf1ed73f339b5b6d98c95be70b69eba114fe95"
  },
  "kernelspec": {
   "display_name": "Python 3.9.13 64-bit (conda)",
   "name": "python3"
  },
  "language_info": {
   "codemirror_mode": {
    "name": "ipython",
    "version": 3
   },
   "file_extension": ".py",
   "mimetype": "text/x-python",
   "name": "python",
   "nbconvert_exporter": "python",
   "pygments_lexer": "ipython3",
   "version": "3.9.13"
  },
  "orig_nbformat": 4
 },
 "nbformat": 4,
 "nbformat_minor": 2
}
