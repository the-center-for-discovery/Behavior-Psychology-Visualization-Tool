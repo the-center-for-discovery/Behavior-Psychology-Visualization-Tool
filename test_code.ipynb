{
 "cells": [
  {
   "cell_type": "code",
   "execution_count": null,
   "metadata": {},
   "outputs": [],
   "source": [
    "import datetime\n",
    "import numpy as np\n",
    "import pandas as pd\n",
    "import plotly.express as px\n",
    "import warnings\n",
    "\n",
    "import pdb\n",
    "\n",
    "pd.options.display.max_columns = 200\n",
    "pd.options.display.max_rows = 200\n",
    "warnings.filterwarnings('ignore')\n",
    "\n",
    "wbpath = 'data/DP Beh Data 2022-23.xlsm'\n",
    "#read in necessary sheets \n",
    "dfcolnmes = pd.read_excel(wbpath, sheet_name='Oct', skiprows=0)\n",
    "df = pd.read_excel(wbpath, sheet_name='Oct', skiprows=1)\n",
    "\n",
    "dfinfo = pd.read_excel(wbpath, sheet_name=0)\n",
    "dfstudet = pd.read_excel(wbpath, sheet_name=2, header=None)\n",
    "\n",
    "#get years variable \n",
    "year = dfinfo.iloc[3,1]\n",
    "year1, year2 = str.split(year, '-')\n",
    "\n",
    "df.head()"
   ]
  },
  {
   "cell_type": "code",
   "execution_count": null,
   "metadata": {},
   "outputs": [],
   "source": [
    "dfcolnmes.head()"
   ]
  },
  {
   "cell_type": "code",
   "execution_count": null,
   "metadata": {},
   "outputs": [],
   "source": [
    "#clean up column names \n",
    "df.columns = df.columns.str.replace('.1','')\n",
    "df.columns = df.columns.str.replace('.2','') \n",
    "df.columns = df.columns.str.replace('.3','') \n",
    "df.columns = df.columns.str.replace('.4','') \n",
    "df.columns = df.columns.str.replace('.5','')\n",
    "\n",
    "#create 'month number' variable \n",
    "month_name = dfcolnmes.columns[0]\n",
    "datetime_object = datetime.datetime.strptime(month_name, \"%B\")\n",
    "month_num = datetime_object.month\n",
    "\n",
    "#if month number is between 7 and 12 year1 is selected, else year2 \n",
    "if 7 <= month_num <= 12:\n",
    "    year_num = year1\n",
    "else:\n",
    "    year_num = year2\n",
    "\n",
    "#create date string \n",
    "date = str(year_num) + '-' + str(month_num)\n",
    "print(date)\n",
    "\n",
    "#create indexes and list variable \n",
    "idx1 = [8,26,44,62,80]\n",
    "idx2 = [21,39,57,75,93]\n",
    "tgt = [4,22,40,58,76]\n",
    "\n",
    "dfdurinlist=[]\n",
    "for i, enum in enumerate(idx1):\n",
    "    \n",
    "    dfiter = df.iloc[:,[0,1,2] + list(range(enum,idx2[i]))]\n",
    "    dfiter.insert(3,'Target', str(dfcolnmes.columns[tgt[i]]))\n",
    "    dfiter.drop(0, inplace=True)\n",
    "\n",
    "    #print(pd.DataFrame(dfiter.head()))\n",
    "    dfiter.columns.values[6] = 'Duration: 0'\n",
    "    dfiter.columns.values[7] = 'Duration: <5'\n",
    "    dfiter.columns.values[8] = 'Duration: 6-10'\n",
    "    dfiter.columns.values[9] = 'Duration: 11-15'\n",
    "    dfiter.columns.values[10] = 'Duration: 16-20'\n",
    "    dfiter.columns.values[11] = 'Duration: 20+'\n",
    "    dfiter.columns.values[12] = 'Interval: 0'\n",
    "    dfiter.columns.values[13] = 'Interval: 1'\n",
    "    dfiter.columns.values[14] = 'Interval: 2'\n",
    "    dfiter.columns.values[15] = 'Interval: 3'\n",
    "    dfiter.columns.values[16] = 'Interval: 4'\n",
    "\n",
    "    dfiter = dfiter.drop(dfiter.index[np.where(dfiter.index >= 94)])\n",
    "    dfiter.iloc[:,0] = dfiter.iloc[:,0].fillna(method='ffill')\n",
    "\n",
    "    #cut off dataframe rows based on number of days in month\n",
    "    if month_num == 4 or month_num == 6 or month_num == 9 or month_num == 11:\n",
    "        dfiter = dfiter.drop(dfiter.index[np.where(dfiter.index >= 90)])\n",
    "    elif month_num == 2:\n",
    "        dfiter = dfiter.drop(dfiter.index[np.where(dfiter.index >= 84)])\n",
    "    else:\n",
    "        dfiter = dfiter\n",
    "    \n",
    "    dfdurinlist.append(dfiter)\n",
    "\n",
    "dfdurin = pd.concat(dfdurinlist)\n",
    "print(dfdurin.shape)\n",
    "pd.DataFrame(dfdurinlist[0].head())\n",
    "dfdurin.head(100)"
   ]
  },
  {
   "cell_type": "code",
   "execution_count": null,
   "metadata": {},
   "outputs": [],
   "source": [
    "dfdurin.drop(columns=[dfdurin.columns[4],dfdurin.columns[5]], inplace=True)\n",
    "durin_m = pd.melt(dfdurin, id_vars = [dfdurin.columns[0],dfdurin.columns[1],dfdurin.columns[2],dfdurin.columns[3]])\n",
    "durin_m = durin_m.groupby(['Target','variable'])['value'].sum().reset_index()\n",
    "durin_m = durin_m[~durin_m['Target'].str.contains('Insert')]\n",
    "durin_m.head(50) "
   ]
  },
  {
   "cell_type": "code",
   "execution_count": null,
   "metadata": {},
   "outputs": [],
   "source": [
    "fig = px.bar(durin_m[~durin_m['variable'].str.contains('Interval')],x = 'Target', y='value', color = 'variable',\n",
    "             color_discrete_sequence= px.colors.sequential.Reds, category_orders={\"variable\": [\"Duration: 0\", \"Duration: <5\", \"Sat\", \"Duration: 6-10\",\n",
    "                                                                                               \"Duration: 11-15\",\"Duration: 16-20\", \"Duration: 20+\"]})\n",
    "fig.update_traces(width=0.4)\n",
    "\n",
    "fig"
   ]
  },
  {
   "cell_type": "code",
   "execution_count": null,
   "metadata": {},
   "outputs": [],
   "source": [
    "fig = px.bar(durin_m[~durin_m['variable'].str.contains('Duration')],x = 'Target', y='value', color = 'variable',\n",
    "             color_discrete_sequence= px.colors.sequential.Greens, category_orders={\"variable\": [\"Interval: 0\", \"Interval: 1\", \"Interval: 2\",\n",
    "                                                                                               \"Interval: 3\",\"Duration: 4\"]})\n",
    "fig.update_traces(width=0.4)\n",
    "\n",
    "fig"
   ]
  },
  {
   "cell_type": "code",
   "execution_count": null,
   "metadata": {},
   "outputs": [],
   "source": [
    "fig = px.bar(durin_m[~durin_m['variable'].str.contains('Interval')],x = 'Target', y='value', color = 'variable',\n",
    "             color_discrete_sequence= px.colors.sequential.Reds, category_orders={\"variable\": [\"Duration: 0\", \"Duration: <5\", \"Sat\", \"Duration: 6-10\",\n",
    "                                                                                               \"Duration: 11-15\",\"Duration: 16-20\", \"Duration: 20+\"]})\n",
    "fig.update_traces(width=0.4)\n",
    "fig"
   ]
  },
  {
   "cell_type": "code",
   "execution_count": null,
   "metadata": {},
   "outputs": [],
   "source": [
    "# dfdurin1 = df.iloc[:,[0,1,2] + list(range(8,21))]\n",
    "# dfdurin1.insert(3,'Target', str(dfcolnmes.columns[4]))\n",
    "# dfdurin2 = df.iloc[:,[0,1,2] + list(range(26,39))]\n",
    "# dfdurin2.insert(3, 'Target', str(dfcolnmes.columns[22]))\n",
    "# dfdurin3 = df.iloc[:,[0,1,2] + list(range(44,57))]\n",
    "# dfdurin3.insert(3, 'Target', str(dfcolnmes.columns[40]))\n",
    "# dfdurin4 = df.iloc[:,[0,1,2] + list(range(62,75))]\n",
    "# dfdurin4.insert(3, 'Target', str(dfcolnmes.columns[58]))\n",
    "# dfdurin5 = df.iloc[:,[0,1,2] + list(range(80,93))]\n",
    "# dfdurin5.insert(3, 'Target', str(dfcolnmes.columns[76]))\n",
    "\n",
    "# dfdurin = pd.concat([dfdurin1,dfdurin2,dfdurin3,dfdurin4,dfdurin5])              \n",
    "# print(dfdurin.shape)\n",
    "# dfdurin2.head()"
   ]
  },
  {
   "cell_type": "code",
   "execution_count": null,
   "metadata": {},
   "outputs": [],
   "source": [
    "#NOTE; rename 'Duration Intervals' columns with the behavior name, same as - `'Unnamed: 7':str(dfbeh.columns[3])+'_beh'`\n",
    "\n",
    "# dfdurin = dfdurin.rename(columns = {'Unnamed: 1':'Shift','Unnamed: 2':'No Data',\n",
    "#                                 'Unnamed: 11':str(dfdurin.iloc[0,7]),'Unnamed: 46':str(dfcolnmes.columns[7]),\n",
    "#                                 'Unnamed: 64':str(dfcolnmes.columns[9]),'Unnamed: 79':str(dfcolnmes.columns[11])})"
   ]
  },
  {
   "cell_type": "code",
   "execution_count": null,
   "metadata": {},
   "outputs": [],
   "source": [
    "df = pd.read_excel(wbpath, sheet_name='July', skiprows=[1,2])\n",
    "dfinfo = pd.read_excel(wbpath, sheet_name=0)\n",
    "dfstudet = pd.read_excel(wbpath, sheet_name=2, header=None)\n",
    "\n",
    "#get years variable \n",
    "year = dfinfo.iloc[3,1]\n",
    "year1, year2 = str.split(year, '-')\n",
    "\n",
    "#get name\n",
    "# name = dfstudet.iloc[0,0]\n",
    "# print(f\"name is {name}\")\n",
    "\n",
    "# pdb.set_trace()\n",
    "#select necessary columns and front fill NaNs in month column \n",
    "dfbeh = df.iloc[:, [0,1,2,4,7,22,25,40,43,58,61,76,79]]\n",
    "#print(dfbeh.head())\n",
    "dfbeh = dfbeh.rename(columns = {'Unnamed: 1':'Shift','Unnamed: 2':'No Data','Unnamed: 7':str(dfbeh.columns[3])+'_beh','Unnamed: 25':str(dfbeh.columns[5])+'_beh',\n",
    "                                'Unnamed: 43':str(dfbeh.columns[7])+'_beh','Unnamed: 61':str(dfbeh.columns[9])+'_beh','Unnamed: 79':str(dfbeh.columns[11])+'_beh'})\n",
    "\n",
    "dfbeh.head()"
   ]
  },
  {
   "cell_type": "code",
   "execution_count": 1,
   "metadata": {},
   "outputs": [
    {
     "name": "stderr",
     "output_type": "stream",
     "text": [
      "/var/folders/bf/5_wbvc1n7tb3fqhf188cf6x00000gn/T/ipykernel_11342/2638987717.py:8: FutureWarning: Argument `closed` is deprecated in favor of `inclusive`.\n",
      "  index = pd.date_range(\"2020\", \"2021\", freq=\"MS\", closed=\"left\")\n"
     ]
    },
    {
     "ename": "ParserError",
     "evalue": "Unknown string format: 2022-7-nan present at position 1",
     "output_type": "error",
     "traceback": [
      "\u001b[0;31m---------------------------------------------------------------------------\u001b[0m",
      "\u001b[0;31mParserError\u001b[0m                               Traceback (most recent call last)",
      "\u001b[0;32m~/opt/anaconda3/lib/python3.9/site-packages/pandas/_libs/tslib.pyx\u001b[0m in \u001b[0;36mpandas._libs.tslib.array_to_datetime\u001b[0;34m()\u001b[0m\n",
      "\u001b[0;32m~/opt/anaconda3/lib/python3.9/site-packages/pandas/_libs/tslibs/parsing.pyx\u001b[0m in \u001b[0;36mpandas._libs.tslibs.parsing.parse_datetime_string\u001b[0;34m()\u001b[0m\n",
      "\u001b[0;32m~/opt/anaconda3/lib/python3.9/site-packages/dateutil/parser/_parser.py\u001b[0m in \u001b[0;36mparse\u001b[0;34m(timestr, parserinfo, **kwargs)\u001b[0m\n\u001b[1;32m   1367\u001b[0m     \u001b[0;32melse\u001b[0m\u001b[0;34m:\u001b[0m\u001b[0;34m\u001b[0m\u001b[0;34m\u001b[0m\u001b[0m\n\u001b[0;32m-> 1368\u001b[0;31m         \u001b[0;32mreturn\u001b[0m \u001b[0mDEFAULTPARSER\u001b[0m\u001b[0;34m.\u001b[0m\u001b[0mparse\u001b[0m\u001b[0;34m(\u001b[0m\u001b[0mtimestr\u001b[0m\u001b[0;34m,\u001b[0m \u001b[0;34m**\u001b[0m\u001b[0mkwargs\u001b[0m\u001b[0;34m)\u001b[0m\u001b[0;34m\u001b[0m\u001b[0;34m\u001b[0m\u001b[0m\n\u001b[0m\u001b[1;32m   1369\u001b[0m \u001b[0;34m\u001b[0m\u001b[0m\n",
      "\u001b[0;32m~/opt/anaconda3/lib/python3.9/site-packages/dateutil/parser/_parser.py\u001b[0m in \u001b[0;36mparse\u001b[0;34m(self, timestr, default, ignoretz, tzinfos, **kwargs)\u001b[0m\n\u001b[1;32m    642\u001b[0m         \u001b[0;32mif\u001b[0m \u001b[0mres\u001b[0m \u001b[0;32mis\u001b[0m \u001b[0;32mNone\u001b[0m\u001b[0;34m:\u001b[0m\u001b[0;34m\u001b[0m\u001b[0;34m\u001b[0m\u001b[0m\n\u001b[0;32m--> 643\u001b[0;31m             \u001b[0;32mraise\u001b[0m \u001b[0mParserError\u001b[0m\u001b[0;34m(\u001b[0m\u001b[0;34m\"Unknown string format: %s\"\u001b[0m\u001b[0;34m,\u001b[0m \u001b[0mtimestr\u001b[0m\u001b[0;34m)\u001b[0m\u001b[0;34m\u001b[0m\u001b[0;34m\u001b[0m\u001b[0m\n\u001b[0m\u001b[1;32m    644\u001b[0m \u001b[0;34m\u001b[0m\u001b[0m\n",
      "\u001b[0;31mParserError\u001b[0m: Unknown string format: 2022-7-nan",
      "\nDuring handling of the above exception, another exception occurred:\n",
      "\u001b[0;31mTypeError\u001b[0m                                 Traceback (most recent call last)",
      "\u001b[0;32m~/opt/anaconda3/lib/python3.9/site-packages/pandas/_libs/tslib.pyx\u001b[0m in \u001b[0;36mpandas._libs.tslib.array_to_datetime\u001b[0;34m()\u001b[0m\n",
      "\u001b[0;31mTypeError\u001b[0m: invalid string coercion to datetime for \"2022-7-nan\" at position 1",
      "\nDuring handling of the above exception, another exception occurred:\n",
      "\u001b[0;31mParserError\u001b[0m                               Traceback (most recent call last)",
      "\u001b[0;32m/var/folders/bf/5_wbvc1n7tb3fqhf188cf6x00000gn/T/ipykernel_11342/2638987717.py\u001b[0m in \u001b[0;36m<module>\u001b[0;34m\u001b[0m\n\u001b[1;32m      7\u001b[0m \u001b[0;31m# Create dummy data indexed by month and with multi-columns [product, revenue]\u001b[0m\u001b[0;34m\u001b[0m\u001b[0;34m\u001b[0m\u001b[0m\n\u001b[1;32m      8\u001b[0m \u001b[0mindex\u001b[0m \u001b[0;34m=\u001b[0m \u001b[0mpd\u001b[0m\u001b[0;34m.\u001b[0m\u001b[0mdate_range\u001b[0m\u001b[0;34m(\u001b[0m\u001b[0;34m\"2020\"\u001b[0m\u001b[0;34m,\u001b[0m \u001b[0;34m\"2021\"\u001b[0m\u001b[0;34m,\u001b[0m \u001b[0mfreq\u001b[0m\u001b[0;34m=\u001b[0m\u001b[0;34m\"MS\"\u001b[0m\u001b[0;34m,\u001b[0m \u001b[0mclosed\u001b[0m\u001b[0;34m=\u001b[0m\u001b[0;34m\"left\"\u001b[0m\u001b[0;34m)\u001b[0m\u001b[0;34m\u001b[0m\u001b[0;34m\u001b[0m\u001b[0m\n\u001b[0;32m----> 9\u001b[0;31m \u001b[0mdfdur\u001b[0m\u001b[0;34m,\u001b[0m \u001b[0mdfin\u001b[0m \u001b[0;34m=\u001b[0m \u001b[0mget_all_months_int_dur\u001b[0m\u001b[0;34m(\u001b[0m\u001b[0;34m\"data/DP Beh Data 2022-23.xlsm\"\u001b[0m\u001b[0;34m)\u001b[0m\u001b[0;34m\u001b[0m\u001b[0;34m\u001b[0m\u001b[0m\n\u001b[0m\u001b[1;32m     10\u001b[0m \u001b[0;34m\u001b[0m\u001b[0m\n\u001b[1;32m     11\u001b[0m \u001b[0;31m# dfdur_wide = pd.pivot(dfdur, columns=\"variable\", values=\"value\")\u001b[0m\u001b[0;34m\u001b[0m\u001b[0;34m\u001b[0m\u001b[0m\n",
      "\u001b[0;32m~/Documents/TCFD_projects/visualization tool/Behavior-Psychology-Visualization-Tool/read_workbook.py\u001b[0m in \u001b[0;36mget_all_months_int_dur\u001b[0;34m(workbook_xl)\u001b[0m\n\u001b[1;32m    130\u001b[0m \u001b[0;34m\u001b[0m\u001b[0m\n\u001b[1;32m    131\u001b[0m     \u001b[0;32mfor\u001b[0m \u001b[0mmonth\u001b[0m \u001b[0;32min\u001b[0m \u001b[0mmonths\u001b[0m\u001b[0;34m:\u001b[0m\u001b[0;34m\u001b[0m\u001b[0;34m\u001b[0m\u001b[0m\n\u001b[0;32m--> 132\u001b[0;31m         \u001b[0mduration\u001b[0m\u001b[0;34m,\u001b[0m \u001b[0mintensity\u001b[0m \u001b[0;34m=\u001b[0m \u001b[0mget_month_with_dur_int\u001b[0m\u001b[0;34m(\u001b[0m\u001b[0mxl_file\u001b[0m\u001b[0;34m,\u001b[0m \u001b[0mmonth\u001b[0m\u001b[0;34m)\u001b[0m\u001b[0;34m\u001b[0m\u001b[0;34m\u001b[0m\u001b[0m\n\u001b[0m\u001b[1;32m    133\u001b[0m         \u001b[0;31m# print(df_month)\u001b[0m\u001b[0;34m\u001b[0m\u001b[0;34m\u001b[0m\u001b[0m\n\u001b[1;32m    134\u001b[0m         \u001b[0mduration_data\u001b[0m\u001b[0;34m.\u001b[0m\u001b[0mappend\u001b[0m\u001b[0;34m(\u001b[0m\u001b[0mduration\u001b[0m\u001b[0;34m)\u001b[0m\u001b[0;34m\u001b[0m\u001b[0;34m\u001b[0m\u001b[0m\n",
      "\u001b[0;32m~/Documents/TCFD_projects/visualization tool/Behavior-Psychology-Visualization-Tool/read_workbook.py\u001b[0m in \u001b[0;36mget_month_with_dur_int\u001b[0;34m(workbook_xl, month)\u001b[0m\n\u001b[1;32m     93\u001b[0m     \u001b[0;31m#create date column and convery to padas datetime\u001b[0m\u001b[0;34m\u001b[0m\u001b[0;34m\u001b[0m\u001b[0m\n\u001b[1;32m     94\u001b[0m     \u001b[0mdfdurin\u001b[0m\u001b[0;34m[\u001b[0m\u001b[0;34m'Date'\u001b[0m\u001b[0;34m]\u001b[0m \u001b[0;34m=\u001b[0m \u001b[0mdate\u001b[0m \u001b[0;34m+\u001b[0m \u001b[0;34m'-'\u001b[0m \u001b[0;34m+\u001b[0m \u001b[0mdfdurin\u001b[0m\u001b[0;34m.\u001b[0m\u001b[0miloc\u001b[0m\u001b[0;34m[\u001b[0m\u001b[0;34m:\u001b[0m\u001b[0;34m,\u001b[0m\u001b[0;36m0\u001b[0m\u001b[0;34m]\u001b[0m\u001b[0;34m.\u001b[0m\u001b[0mastype\u001b[0m\u001b[0;34m(\u001b[0m\u001b[0mstr\u001b[0m\u001b[0;34m)\u001b[0m\u001b[0;34m\u001b[0m\u001b[0;34m\u001b[0m\u001b[0m\n\u001b[0;32m---> 95\u001b[0;31m     \u001b[0mdfdurin\u001b[0m\u001b[0;34m[\u001b[0m\u001b[0;34m'Date'\u001b[0m\u001b[0;34m]\u001b[0m \u001b[0;34m=\u001b[0m \u001b[0mpd\u001b[0m\u001b[0;34m.\u001b[0m\u001b[0mto_datetime\u001b[0m\u001b[0;34m(\u001b[0m\u001b[0mdfdurin\u001b[0m\u001b[0;34m[\u001b[0m\u001b[0;34m'Date'\u001b[0m\u001b[0;34m]\u001b[0m\u001b[0;34m)\u001b[0m\u001b[0;34m\u001b[0m\u001b[0;34m\u001b[0m\u001b[0m\n\u001b[0m\u001b[1;32m     96\u001b[0m \u001b[0;34m\u001b[0m\u001b[0m\n\u001b[1;32m     97\u001b[0m     \u001b[0;31m# print(dfdurin)\u001b[0m\u001b[0;34m\u001b[0m\u001b[0;34m\u001b[0m\u001b[0m\n",
      "\u001b[0;32m~/opt/anaconda3/lib/python3.9/site-packages/pandas/core/tools/datetimes.py\u001b[0m in \u001b[0;36mto_datetime\u001b[0;34m(arg, errors, dayfirst, yearfirst, utc, format, exact, unit, infer_datetime_format, origin, cache)\u001b[0m\n\u001b[1;32m   1062\u001b[0m                 \u001b[0mresult\u001b[0m \u001b[0;34m=\u001b[0m \u001b[0marg\u001b[0m\u001b[0;34m.\u001b[0m\u001b[0mtz_localize\u001b[0m\u001b[0;34m(\u001b[0m\u001b[0mtz\u001b[0m\u001b[0;34m)\u001b[0m\u001b[0;34m\u001b[0m\u001b[0;34m\u001b[0m\u001b[0m\n\u001b[1;32m   1063\u001b[0m     \u001b[0;32melif\u001b[0m \u001b[0misinstance\u001b[0m\u001b[0;34m(\u001b[0m\u001b[0marg\u001b[0m\u001b[0;34m,\u001b[0m \u001b[0mABCSeries\u001b[0m\u001b[0;34m)\u001b[0m\u001b[0;34m:\u001b[0m\u001b[0;34m\u001b[0m\u001b[0;34m\u001b[0m\u001b[0m\n\u001b[0;32m-> 1064\u001b[0;31m         \u001b[0mcache_array\u001b[0m \u001b[0;34m=\u001b[0m \u001b[0m_maybe_cache\u001b[0m\u001b[0;34m(\u001b[0m\u001b[0marg\u001b[0m\u001b[0;34m,\u001b[0m \u001b[0mformat\u001b[0m\u001b[0;34m,\u001b[0m \u001b[0mcache\u001b[0m\u001b[0;34m,\u001b[0m \u001b[0mconvert_listlike\u001b[0m\u001b[0;34m)\u001b[0m\u001b[0;34m\u001b[0m\u001b[0;34m\u001b[0m\u001b[0m\n\u001b[0m\u001b[1;32m   1065\u001b[0m         \u001b[0;32mif\u001b[0m \u001b[0;32mnot\u001b[0m \u001b[0mcache_array\u001b[0m\u001b[0;34m.\u001b[0m\u001b[0mempty\u001b[0m\u001b[0;34m:\u001b[0m\u001b[0;34m\u001b[0m\u001b[0;34m\u001b[0m\u001b[0m\n\u001b[1;32m   1066\u001b[0m             \u001b[0mresult\u001b[0m \u001b[0;34m=\u001b[0m \u001b[0marg\u001b[0m\u001b[0;34m.\u001b[0m\u001b[0mmap\u001b[0m\u001b[0;34m(\u001b[0m\u001b[0mcache_array\u001b[0m\u001b[0;34m)\u001b[0m\u001b[0;34m\u001b[0m\u001b[0;34m\u001b[0m\u001b[0m\n",
      "\u001b[0;32m~/opt/anaconda3/lib/python3.9/site-packages/pandas/core/tools/datetimes.py\u001b[0m in \u001b[0;36m_maybe_cache\u001b[0;34m(arg, format, cache, convert_listlike)\u001b[0m\n\u001b[1;32m    227\u001b[0m         \u001b[0munique_dates\u001b[0m \u001b[0;34m=\u001b[0m \u001b[0munique\u001b[0m\u001b[0;34m(\u001b[0m\u001b[0marg\u001b[0m\u001b[0;34m)\u001b[0m\u001b[0;34m\u001b[0m\u001b[0;34m\u001b[0m\u001b[0m\n\u001b[1;32m    228\u001b[0m         \u001b[0;32mif\u001b[0m \u001b[0mlen\u001b[0m\u001b[0;34m(\u001b[0m\u001b[0munique_dates\u001b[0m\u001b[0;34m)\u001b[0m \u001b[0;34m<\u001b[0m \u001b[0mlen\u001b[0m\u001b[0;34m(\u001b[0m\u001b[0marg\u001b[0m\u001b[0;34m)\u001b[0m\u001b[0;34m:\u001b[0m\u001b[0;34m\u001b[0m\u001b[0;34m\u001b[0m\u001b[0m\n\u001b[0;32m--> 229\u001b[0;31m             \u001b[0mcache_dates\u001b[0m \u001b[0;34m=\u001b[0m \u001b[0mconvert_listlike\u001b[0m\u001b[0;34m(\u001b[0m\u001b[0munique_dates\u001b[0m\u001b[0;34m,\u001b[0m \u001b[0mformat\u001b[0m\u001b[0;34m)\u001b[0m\u001b[0;34m\u001b[0m\u001b[0;34m\u001b[0m\u001b[0m\n\u001b[0m\u001b[1;32m    230\u001b[0m             \u001b[0;31m# GH#45319\u001b[0m\u001b[0;34m\u001b[0m\u001b[0;34m\u001b[0m\u001b[0m\n\u001b[1;32m    231\u001b[0m             \u001b[0;32mtry\u001b[0m\u001b[0;34m:\u001b[0m\u001b[0;34m\u001b[0m\u001b[0;34m\u001b[0m\u001b[0m\n",
      "\u001b[0;32m~/opt/anaconda3/lib/python3.9/site-packages/pandas/core/tools/datetimes.py\u001b[0m in \u001b[0;36m_convert_listlike_datetimes\u001b[0;34m(arg, format, name, tz, unit, errors, infer_datetime_format, dayfirst, yearfirst, exact)\u001b[0m\n\u001b[1;32m    436\u001b[0m     \u001b[0;32massert\u001b[0m \u001b[0mformat\u001b[0m \u001b[0;32mis\u001b[0m \u001b[0;32mNone\u001b[0m \u001b[0;32mor\u001b[0m \u001b[0minfer_datetime_format\u001b[0m\u001b[0;34m\u001b[0m\u001b[0;34m\u001b[0m\u001b[0m\n\u001b[1;32m    437\u001b[0m     \u001b[0mutc\u001b[0m \u001b[0;34m=\u001b[0m \u001b[0mtz\u001b[0m \u001b[0;34m==\u001b[0m \u001b[0;34m\"utc\"\u001b[0m\u001b[0;34m\u001b[0m\u001b[0;34m\u001b[0m\u001b[0m\n\u001b[0;32m--> 438\u001b[0;31m     result, tz_parsed = objects_to_datetime64ns(\n\u001b[0m\u001b[1;32m    439\u001b[0m         \u001b[0marg\u001b[0m\u001b[0;34m,\u001b[0m\u001b[0;34m\u001b[0m\u001b[0;34m\u001b[0m\u001b[0m\n\u001b[1;32m    440\u001b[0m         \u001b[0mdayfirst\u001b[0m\u001b[0;34m=\u001b[0m\u001b[0mdayfirst\u001b[0m\u001b[0;34m,\u001b[0m\u001b[0;34m\u001b[0m\u001b[0;34m\u001b[0m\u001b[0m\n",
      "\u001b[0;32m~/opt/anaconda3/lib/python3.9/site-packages/pandas/core/arrays/datetimes.py\u001b[0m in \u001b[0;36mobjects_to_datetime64ns\u001b[0;34m(data, dayfirst, yearfirst, utc, errors, require_iso8601, allow_object, allow_mixed)\u001b[0m\n\u001b[1;32m   2175\u001b[0m     \u001b[0morder\u001b[0m\u001b[0;34m:\u001b[0m \u001b[0mLiteral\u001b[0m\u001b[0;34m[\u001b[0m\u001b[0;34m\"F\"\u001b[0m\u001b[0;34m,\u001b[0m \u001b[0;34m\"C\"\u001b[0m\u001b[0;34m]\u001b[0m \u001b[0;34m=\u001b[0m \u001b[0;34m\"F\"\u001b[0m \u001b[0;32mif\u001b[0m \u001b[0mflags\u001b[0m\u001b[0;34m.\u001b[0m\u001b[0mf_contiguous\u001b[0m \u001b[0;32melse\u001b[0m \u001b[0;34m\"C\"\u001b[0m\u001b[0;34m\u001b[0m\u001b[0;34m\u001b[0m\u001b[0m\n\u001b[1;32m   2176\u001b[0m     \u001b[0;32mtry\u001b[0m\u001b[0;34m:\u001b[0m\u001b[0;34m\u001b[0m\u001b[0;34m\u001b[0m\u001b[0m\n\u001b[0;32m-> 2177\u001b[0;31m         result, tz_parsed = tslib.array_to_datetime(\n\u001b[0m\u001b[1;32m   2178\u001b[0m             \u001b[0mdata\u001b[0m\u001b[0;34m.\u001b[0m\u001b[0mravel\u001b[0m\u001b[0;34m(\u001b[0m\u001b[0;34m\"K\"\u001b[0m\u001b[0;34m)\u001b[0m\u001b[0;34m,\u001b[0m\u001b[0;34m\u001b[0m\u001b[0;34m\u001b[0m\u001b[0m\n\u001b[1;32m   2179\u001b[0m             \u001b[0merrors\u001b[0m\u001b[0;34m=\u001b[0m\u001b[0merrors\u001b[0m\u001b[0;34m,\u001b[0m\u001b[0;34m\u001b[0m\u001b[0;34m\u001b[0m\u001b[0m\n",
      "\u001b[0;32m~/opt/anaconda3/lib/python3.9/site-packages/pandas/_libs/tslib.pyx\u001b[0m in \u001b[0;36mpandas._libs.tslib.array_to_datetime\u001b[0;34m()\u001b[0m\n",
      "\u001b[0;32m~/opt/anaconda3/lib/python3.9/site-packages/pandas/_libs/tslib.pyx\u001b[0m in \u001b[0;36mpandas._libs.tslib.array_to_datetime\u001b[0;34m()\u001b[0m\n",
      "\u001b[0;32m~/opt/anaconda3/lib/python3.9/site-packages/pandas/_libs/tslib.pyx\u001b[0m in \u001b[0;36mpandas._libs.tslib._array_to_datetime_object\u001b[0;34m()\u001b[0m\n",
      "\u001b[0;32m~/opt/anaconda3/lib/python3.9/site-packages/pandas/_libs/tslib.pyx\u001b[0m in \u001b[0;36mpandas._libs.tslib._array_to_datetime_object\u001b[0;34m()\u001b[0m\n",
      "\u001b[0;32m~/opt/anaconda3/lib/python3.9/site-packages/pandas/_libs/tslibs/parsing.pyx\u001b[0m in \u001b[0;36mpandas._libs.tslibs.parsing.parse_datetime_string\u001b[0;34m()\u001b[0m\n",
      "\u001b[0;32m~/opt/anaconda3/lib/python3.9/site-packages/dateutil/parser/_parser.py\u001b[0m in \u001b[0;36mparse\u001b[0;34m(timestr, parserinfo, **kwargs)\u001b[0m\n\u001b[1;32m   1366\u001b[0m         \u001b[0;32mreturn\u001b[0m \u001b[0mparser\u001b[0m\u001b[0;34m(\u001b[0m\u001b[0mparserinfo\u001b[0m\u001b[0;34m)\u001b[0m\u001b[0;34m.\u001b[0m\u001b[0mparse\u001b[0m\u001b[0;34m(\u001b[0m\u001b[0mtimestr\u001b[0m\u001b[0;34m,\u001b[0m \u001b[0;34m**\u001b[0m\u001b[0mkwargs\u001b[0m\u001b[0;34m)\u001b[0m\u001b[0;34m\u001b[0m\u001b[0;34m\u001b[0m\u001b[0m\n\u001b[1;32m   1367\u001b[0m     \u001b[0;32melse\u001b[0m\u001b[0;34m:\u001b[0m\u001b[0;34m\u001b[0m\u001b[0;34m\u001b[0m\u001b[0m\n\u001b[0;32m-> 1368\u001b[0;31m         \u001b[0;32mreturn\u001b[0m \u001b[0mDEFAULTPARSER\u001b[0m\u001b[0;34m.\u001b[0m\u001b[0mparse\u001b[0m\u001b[0;34m(\u001b[0m\u001b[0mtimestr\u001b[0m\u001b[0;34m,\u001b[0m \u001b[0;34m**\u001b[0m\u001b[0mkwargs\u001b[0m\u001b[0;34m)\u001b[0m\u001b[0;34m\u001b[0m\u001b[0;34m\u001b[0m\u001b[0m\n\u001b[0m\u001b[1;32m   1369\u001b[0m \u001b[0;34m\u001b[0m\u001b[0m\n\u001b[1;32m   1370\u001b[0m \u001b[0;34m\u001b[0m\u001b[0m\n",
      "\u001b[0;32m~/opt/anaconda3/lib/python3.9/site-packages/dateutil/parser/_parser.py\u001b[0m in \u001b[0;36mparse\u001b[0;34m(self, timestr, default, ignoretz, tzinfos, **kwargs)\u001b[0m\n\u001b[1;32m    641\u001b[0m \u001b[0;34m\u001b[0m\u001b[0m\n\u001b[1;32m    642\u001b[0m         \u001b[0;32mif\u001b[0m \u001b[0mres\u001b[0m \u001b[0;32mis\u001b[0m \u001b[0;32mNone\u001b[0m\u001b[0;34m:\u001b[0m\u001b[0;34m\u001b[0m\u001b[0;34m\u001b[0m\u001b[0m\n\u001b[0;32m--> 643\u001b[0;31m             \u001b[0;32mraise\u001b[0m \u001b[0mParserError\u001b[0m\u001b[0;34m(\u001b[0m\u001b[0;34m\"Unknown string format: %s\"\u001b[0m\u001b[0;34m,\u001b[0m \u001b[0mtimestr\u001b[0m\u001b[0;34m)\u001b[0m\u001b[0;34m\u001b[0m\u001b[0;34m\u001b[0m\u001b[0m\n\u001b[0m\u001b[1;32m    644\u001b[0m \u001b[0;34m\u001b[0m\u001b[0m\n\u001b[1;32m    645\u001b[0m         \u001b[0;32mif\u001b[0m \u001b[0mlen\u001b[0m\u001b[0;34m(\u001b[0m\u001b[0mres\u001b[0m\u001b[0;34m)\u001b[0m \u001b[0;34m==\u001b[0m \u001b[0;36m0\u001b[0m\u001b[0;34m:\u001b[0m\u001b[0;34m\u001b[0m\u001b[0;34m\u001b[0m\u001b[0m\n",
      "\u001b[0;31mParserError\u001b[0m: Unknown string format: 2022-7-nan present at position 1"
     ]
    }
   ],
   "source": [
    "import numpy as np\n",
    "import pandas as pd\n",
    "import plotly.graph_objects as go\n",
    "from read_workbook import *\n",
    "\n",
    "\n",
    "# Create dummy data indexed by month and with multi-columns [product, revenue]\n",
    "index = pd.date_range(\"2020\", \"2021\", freq=\"MS\", closed=\"left\")\n",
    "dfdur, dfin = get_all_months_int_dur(\"data/DP Beh Data 2022-23.xlsm\")\n",
    "\n",
    "# dfdur_wide = pd.pivot(dfdur, columns=\"variable\", values=\"value\")\n",
    "\n",
    "dfdur_wide = pd.pivot_table(dfdur, values='value', index=['Date', 'variable'], columns='Target',aggfunc=np.max)\n",
    "dfdur_wide_grp = pd.pivot_table(dfdur_wide, index=\"Date\", columns=\"variable\", values=[\"Aggression\", \"Disruptive\", \"SIB\", \"Self Mutilation\"])\n",
    "dfdur_wide_grp.index.name = None\n",
    "\n",
    "df = dfdur_wide_grp"
   ]
  },
  {
   "cell_type": "code",
   "execution_count": 2,
   "metadata": {},
   "outputs": [],
   "source": [
    "# print(df.columns)\n",
    "#group data by month\n",
    "df['Yr_Mnth'] = pd.to_datetime(df.index).strftime('%Y-%m')\n",
    "dfm = df.groupby(['Yr_Mnth'],sort=False,)[df.columns].sum().reset_index()\n",
    "df_month_data = df.groupby(['Yr_Mnth'],sort=False,)[df.columns].sum()\n",
    "df = dfm.drop('Yr_Mnth', axis='columns')"
   ]
  },
  {
   "cell_type": "code",
   "execution_count": 3,
   "metadata": {},
   "outputs": [
    {
     "data": {
      "application/vnd.plotly.v1+json": {
       "config": {
        "plotlyServerURL": "https://plot.ly"
       },
       "data": [
        {
         "base": 0,
         "hovertemplate": "%{y}<extra></extra>",
         "legendgroup": "SIB",
         "legendgrouptitle": {
          "text": "SIB"
         },
         "marker": {
          "color": "#00D8FF",
          "line": {
           "color": "#333",
           "width": 2
          }
         },
         "name": "Duration: 20+",
         "offsetgroup": "0",
         "type": "bar",
         "x": [
          "2022-07",
          "2022-08",
          "2022-09",
          "2022-10",
          "2022-11",
          "2022-12",
          "2023-01",
          "2023-02",
          "2023-03",
          "2023-04",
          "2023-05",
          "2023-06"
         ],
         "y": [
          1,
          3,
          0,
          1,
          0,
          0,
          0,
          0,
          0,
          0,
          0,
          0
         ]
        },
        {
         "base": [
          1,
          3,
          0,
          1,
          0,
          0,
          0,
          0,
          0,
          0,
          0,
          0
         ],
         "hovertemplate": "%{y}<extra></extra>",
         "legendgroup": "SIB",
         "legendgrouptitle": {
          "text": "SIB"
         },
         "marker": {
          "color": "#00BCDE",
          "line": {
           "color": "#333",
           "width": 2
          }
         },
         "name": "Duration: 16-20",
         "offsetgroup": "0",
         "type": "bar",
         "x": [
          "2022-07",
          "2022-08",
          "2022-09",
          "2022-10",
          "2022-11",
          "2022-12",
          "2023-01",
          "2023-02",
          "2023-03",
          "2023-04",
          "2023-05",
          "2023-06"
         ],
         "y": [
          0,
          2,
          0,
          0,
          0,
          0,
          0,
          0,
          0,
          0,
          0,
          0
         ]
        },
        {
         "base": [
          1,
          5,
          0,
          1,
          0,
          0,
          0,
          0,
          0,
          0,
          0,
          0
         ],
         "hovertemplate": "%{y}<extra></extra>",
         "legendgroup": "SIB",
         "legendgrouptitle": {
          "text": "SIB"
         },
         "marker": {
          "color": "#0089A3",
          "line": {
           "color": "#333",
           "width": 2
          }
         },
         "name": "Duration: 6-10",
         "offsetgroup": "0",
         "type": "bar",
         "x": [
          "2022-07",
          "2022-08",
          "2022-09",
          "2022-10",
          "2022-11",
          "2022-12",
          "2023-01",
          "2023-02",
          "2023-03",
          "2023-04",
          "2023-05",
          "2023-06"
         ],
         "y": [
          3,
          3,
          2,
          6,
          0,
          0,
          0,
          0,
          0,
          0,
          0,
          0
         ]
        },
        {
         "base": [
          4,
          8,
          2,
          7,
          0,
          0,
          0,
          0,
          0,
          0,
          0,
          0
         ],
         "hovertemplate": "%{y}<extra></extra>",
         "legendgroup": "SIB",
         "legendgrouptitle": {
          "text": "SIB"
         },
         "marker": {
          "color": "#006D82",
          "line": {
           "color": "#333",
           "width": 2
          }
         },
         "name": "Duration: <5",
         "offsetgroup": "0",
         "type": "bar",
         "x": [
          "2022-07",
          "2022-08",
          "2022-09",
          "2022-10",
          "2022-11",
          "2022-12",
          "2023-01",
          "2023-02",
          "2023-03",
          "2023-04",
          "2023-05",
          "2023-06"
         ],
         "y": [
          4,
          9,
          5,
          0,
          6,
          2,
          0,
          0,
          0,
          0,
          0,
          0
         ]
        },
        {
         "base": [
          8,
          17,
          7,
          7,
          6,
          2,
          0,
          0,
          0,
          0,
          0,
          0
         ],
         "hovertemplate": "%{y}<extra></extra>",
         "legendgroup": "SIB",
         "legendgrouptitle": {
          "text": "SIB"
         },
         "marker": {
          "color": "#005262",
          "line": {
           "color": "#333",
           "width": 2
          }
         },
         "name": "Duration: 0",
         "offsetgroup": "0",
         "type": "bar",
         "x": [
          "2022-07",
          "2022-08",
          "2022-09",
          "2022-10",
          "2022-11",
          "2022-12",
          "2023-01",
          "2023-02",
          "2023-03",
          "2023-04",
          "2023-05",
          "2023-06"
         ],
         "y": [
          2,
          0,
          0,
          0,
          0,
          0,
          0,
          0,
          0,
          0,
          0,
          0
         ]
        },
        {
         "base": 0,
         "hovertemplate": "%{y}<extra></extra>",
         "legendgroup": "Aggression",
         "legendgrouptitle": {
          "text": "Aggression"
         },
         "marker": {
          "color": "#F7FF00",
          "line": {
           "color": "#333",
           "width": 2
          }
         },
         "name": "Duration: 20+",
         "offsetgroup": "1",
         "type": "bar",
         "x": [
          "2022-07",
          "2022-08",
          "2022-09",
          "2022-10",
          "2022-11",
          "2022-12",
          "2023-01",
          "2023-02",
          "2023-03",
          "2023-04",
          "2023-05",
          "2023-06"
         ],
         "y": [
          3,
          1,
          0,
          1,
          0,
          0,
          0,
          0,
          0,
          0,
          0,
          0
         ]
        },
        {
         "base": [
          3,
          1,
          0,
          1,
          0,
          0,
          0,
          0,
          0,
          0,
          0,
          0
         ],
         "hovertemplate": "%{y}<extra></extra>",
         "legendgroup": "Aggression",
         "legendgrouptitle": {
          "text": "Aggression"
         },
         "marker": {
          "color": "#D6DD00",
          "line": {
           "color": "#333",
           "width": 2
          }
         },
         "name": "Duration: 16-20",
         "offsetgroup": "1",
         "type": "bar",
         "x": [
          "2022-07",
          "2022-08",
          "2022-09",
          "2022-10",
          "2022-11",
          "2022-12",
          "2023-01",
          "2023-02",
          "2023-03",
          "2023-04",
          "2023-05",
          "2023-06"
         ],
         "y": [
          2,
          12,
          1,
          0,
          0,
          1,
          0,
          0,
          0,
          0,
          0,
          0
         ]
        },
        {
         "base": [
          5,
          13,
          1,
          1,
          0,
          1,
          0,
          0,
          0,
          0,
          0,
          0
         ],
         "hovertemplate": "%{y}<extra></extra>",
         "legendgroup": "Aggression",
         "legendgrouptitle": {
          "text": "Aggression"
         },
         "marker": {
          "color": "#BAC100",
          "line": {
           "color": "#333",
           "width": 2
          }
         },
         "name": "Duration: 11-15",
         "offsetgroup": "1",
         "type": "bar",
         "x": [
          "2022-07",
          "2022-08",
          "2022-09",
          "2022-10",
          "2022-11",
          "2022-12",
          "2023-01",
          "2023-02",
          "2023-03",
          "2023-04",
          "2023-05",
          "2023-06"
         ],
         "y": [
          7,
          0,
          0,
          0,
          1,
          0,
          0,
          0,
          0,
          0,
          0,
          0
         ]
        },
        {
         "base": [
          12,
          13,
          1,
          1,
          1,
          1,
          0,
          0,
          0,
          0,
          0,
          0
         ],
         "hovertemplate": "%{y}<extra></extra>",
         "legendgroup": "Aggression",
         "legendgrouptitle": {
          "text": "Aggression"
         },
         "marker": {
          "color": "#9CA200",
          "line": {
           "color": "#333",
           "width": 2
          }
         },
         "name": "Duration: 6-10",
         "offsetgroup": "1",
         "type": "bar",
         "x": [
          "2022-07",
          "2022-08",
          "2022-09",
          "2022-10",
          "2022-11",
          "2022-12",
          "2023-01",
          "2023-02",
          "2023-03",
          "2023-04",
          "2023-05",
          "2023-06"
         ],
         "y": [
          7,
          3,
          2,
          16,
          4,
          4,
          0,
          0,
          0,
          0,
          0,
          0
         ]
        },
        {
         "base": [
          19,
          16,
          3,
          17,
          5,
          5,
          0,
          0,
          0,
          0,
          0,
          0
         ],
         "hovertemplate": "%{y}<extra></extra>",
         "legendgroup": "Aggression",
         "legendgrouptitle": {
          "text": "Aggression"
         },
         "marker": {
          "color": "#838800",
          "line": {
           "color": "#333",
           "width": 2
          }
         },
         "name": "Duration: <5",
         "offsetgroup": "1",
         "type": "bar",
         "x": [
          "2022-07",
          "2022-08",
          "2022-09",
          "2022-10",
          "2022-11",
          "2022-12",
          "2023-01",
          "2023-02",
          "2023-03",
          "2023-04",
          "2023-05",
          "2023-06"
         ],
         "y": [
          16,
          18,
          18,
          25,
          12,
          9,
          0,
          0,
          0,
          0,
          0,
          0
         ]
        },
        {
         "base": [
          35,
          34,
          21,
          42,
          17,
          14,
          0,
          0,
          0,
          0,
          0,
          0
         ],
         "hovertemplate": "%{y}<extra></extra>",
         "legendgroup": "Aggression",
         "legendgrouptitle": {
          "text": "Aggression"
         },
         "marker": {
          "color": "#6A6E00",
          "line": {
           "color": "#333",
           "width": 2
          }
         },
         "name": "Duration: 0",
         "offsetgroup": "1",
         "type": "bar",
         "x": [
          "2022-07",
          "2022-08",
          "2022-09",
          "2022-10",
          "2022-11",
          "2022-12",
          "2023-01",
          "2023-02",
          "2023-03",
          "2023-04",
          "2023-05",
          "2023-06"
         ],
         "y": [
          0,
          0,
          0,
          1,
          0,
          0,
          0,
          0,
          0,
          0,
          0,
          0
         ]
        },
        {
         "base": 0,
         "hovertemplate": "%{y}<extra></extra>",
         "legendgroup": "Disruptive",
         "legendgrouptitle": {
          "text": "Disruptive"
         },
         "marker": {
          "color": "#00FF08",
          "line": {
           "color": "#333",
           "width": 2
          }
         },
         "name": "Duration: 20+",
         "offsetgroup": "2",
         "type": "bar",
         "x": [
          "2022-07",
          "2022-08",
          "2022-09",
          "2022-10",
          "2022-11",
          "2022-12",
          "2023-01",
          "2023-02",
          "2023-03",
          "2023-04",
          "2023-05",
          "2023-06"
         ],
         "y": [
          1,
          0,
          0,
          1,
          0,
          0,
          0,
          0,
          0,
          0,
          0,
          0
         ]
        },
        {
         "base": [
          1,
          0,
          0,
          1,
          0,
          0,
          0,
          0,
          0,
          0,
          0,
          0
         ],
         "hovertemplate": "%{y}<extra></extra>",
         "legendgroup": "Disruptive",
         "legendgrouptitle": {
          "text": "Disruptive"
         },
         "marker": {
          "color": "#00ED07",
          "line": {
           "color": "#333",
           "width": 2
          }
         },
         "name": "Duration: 16-20",
         "offsetgroup": "2",
         "type": "bar",
         "x": [
          "2022-07",
          "2022-08",
          "2022-09",
          "2022-10",
          "2022-11",
          "2022-12",
          "2023-01",
          "2023-02",
          "2023-03",
          "2023-04",
          "2023-05",
          "2023-06"
         ],
         "y": [
          0,
          0,
          1,
          0,
          0,
          1,
          0,
          0,
          0,
          0,
          0,
          0
         ]
        },
        {
         "base": [
          1,
          0,
          1,
          1,
          0,
          1,
          0,
          0,
          0,
          0,
          0,
          0
         ],
         "hovertemplate": "%{y}<extra></extra>",
         "legendgroup": "Disruptive",
         "legendgrouptitle": {
          "text": "Disruptive"
         },
         "marker": {
          "color": "#00D006",
          "line": {
           "color": "#333",
           "width": 2
          }
         },
         "name": "Duration: 11-15",
         "offsetgroup": "2",
         "type": "bar",
         "x": [
          "2022-07",
          "2022-08",
          "2022-09",
          "2022-10",
          "2022-11",
          "2022-12",
          "2023-01",
          "2023-02",
          "2023-03",
          "2023-04",
          "2023-05",
          "2023-06"
         ],
         "y": [
          1,
          0,
          0,
          0,
          0,
          0,
          0,
          0,
          0,
          0,
          0,
          0
         ]
        },
        {
         "base": [
          2,
          0,
          1,
          1,
          0,
          1,
          0,
          0,
          0,
          0,
          0,
          0
         ],
         "hovertemplate": "%{y}<extra></extra>",
         "legendgroup": "Disruptive",
         "legendgrouptitle": {
          "text": "Disruptive"
         },
         "marker": {
          "color": "#00AD05",
          "line": {
           "color": "#333",
           "width": 2
          }
         },
         "name": "Duration: 6-10",
         "offsetgroup": "2",
         "type": "bar",
         "x": [
          "2022-07",
          "2022-08",
          "2022-09",
          "2022-10",
          "2022-11",
          "2022-12",
          "2023-01",
          "2023-02",
          "2023-03",
          "2023-04",
          "2023-05",
          "2023-06"
         ],
         "y": [
          0,
          0,
          0,
          1,
          4,
          1,
          0,
          0,
          0,
          0,
          0,
          0
         ]
        },
        {
         "base": [
          2,
          0,
          1,
          2,
          4,
          2,
          0,
          0,
          0,
          0,
          0,
          0
         ],
         "hovertemplate": "%{y}<extra></extra>",
         "legendgroup": "Disruptive",
         "legendgrouptitle": {
          "text": "Disruptive"
         },
         "marker": {
          "color": "#008C04",
          "line": {
           "color": "#333",
           "width": 2
          }
         },
         "name": "Duration: <5",
         "offsetgroup": "2",
         "type": "bar",
         "x": [
          "2022-07",
          "2022-08",
          "2022-09",
          "2022-10",
          "2022-11",
          "2022-12",
          "2023-01",
          "2023-02",
          "2023-03",
          "2023-04",
          "2023-05",
          "2023-06"
         ],
         "y": [
          1,
          7,
          4,
          2,
          4,
          8,
          0,
          0,
          0,
          0,
          0,
          0
         ]
        },
        {
         "base": [
          3,
          7,
          5,
          4,
          8,
          10,
          0,
          0,
          0,
          0,
          0,
          0
         ],
         "hovertemplate": "%{y}<extra></extra>",
         "legendgroup": "Disruptive",
         "legendgrouptitle": {
          "text": "Disruptive"
         },
         "marker": {
          "color": "#006A03",
          "line": {
           "color": "#333",
           "width": 2
          }
         },
         "name": "Duration: 0",
         "offsetgroup": "2",
         "type": "bar",
         "x": [
          "2022-07",
          "2022-08",
          "2022-09",
          "2022-10",
          "2022-11",
          "2022-12",
          "2023-01",
          "2023-02",
          "2023-03",
          "2023-04",
          "2023-05",
          "2023-06"
         ],
         "y": [
          1,
          1,
          0,
          0,
          0,
          0,
          0,
          0,
          0,
          0,
          0,
          0
         ]
        }
       ],
       "layout": {
        "barmode": "group",
        "font": {
         "size": 24
        },
        "height": 600,
        "hovermode": "x",
        "legend": {
         "orientation": "h",
         "x": 0,
         "y": 1
        },
        "margin": {
         "b": 0,
         "l": 0,
         "r": 10,
         "t": 10
        },
        "template": {
         "data": {
          "bar": [
           {
            "error_x": {
             "color": "#2a3f5f"
            },
            "error_y": {
             "color": "#2a3f5f"
            },
            "marker": {
             "line": {
              "color": "#E5ECF6",
              "width": 0.5
             },
             "pattern": {
              "fillmode": "overlay",
              "size": 10,
              "solidity": 0.2
             }
            },
            "type": "bar"
           }
          ],
          "barpolar": [
           {
            "marker": {
             "line": {
              "color": "#E5ECF6",
              "width": 0.5
             },
             "pattern": {
              "fillmode": "overlay",
              "size": 10,
              "solidity": 0.2
             }
            },
            "type": "barpolar"
           }
          ],
          "carpet": [
           {
            "aaxis": {
             "endlinecolor": "#2a3f5f",
             "gridcolor": "white",
             "linecolor": "white",
             "minorgridcolor": "white",
             "startlinecolor": "#2a3f5f"
            },
            "baxis": {
             "endlinecolor": "#2a3f5f",
             "gridcolor": "white",
             "linecolor": "white",
             "minorgridcolor": "white",
             "startlinecolor": "#2a3f5f"
            },
            "type": "carpet"
           }
          ],
          "choropleth": [
           {
            "colorbar": {
             "outlinewidth": 0,
             "ticks": ""
            },
            "type": "choropleth"
           }
          ],
          "contour": [
           {
            "colorbar": {
             "outlinewidth": 0,
             "ticks": ""
            },
            "colorscale": [
             [
              0,
              "#0d0887"
             ],
             [
              0.1111111111111111,
              "#46039f"
             ],
             [
              0.2222222222222222,
              "#7201a8"
             ],
             [
              0.3333333333333333,
              "#9c179e"
             ],
             [
              0.4444444444444444,
              "#bd3786"
             ],
             [
              0.5555555555555556,
              "#d8576b"
             ],
             [
              0.6666666666666666,
              "#ed7953"
             ],
             [
              0.7777777777777778,
              "#fb9f3a"
             ],
             [
              0.8888888888888888,
              "#fdca26"
             ],
             [
              1,
              "#f0f921"
             ]
            ],
            "type": "contour"
           }
          ],
          "contourcarpet": [
           {
            "colorbar": {
             "outlinewidth": 0,
             "ticks": ""
            },
            "type": "contourcarpet"
           }
          ],
          "heatmap": [
           {
            "colorbar": {
             "outlinewidth": 0,
             "ticks": ""
            },
            "colorscale": [
             [
              0,
              "#0d0887"
             ],
             [
              0.1111111111111111,
              "#46039f"
             ],
             [
              0.2222222222222222,
              "#7201a8"
             ],
             [
              0.3333333333333333,
              "#9c179e"
             ],
             [
              0.4444444444444444,
              "#bd3786"
             ],
             [
              0.5555555555555556,
              "#d8576b"
             ],
             [
              0.6666666666666666,
              "#ed7953"
             ],
             [
              0.7777777777777778,
              "#fb9f3a"
             ],
             [
              0.8888888888888888,
              "#fdca26"
             ],
             [
              1,
              "#f0f921"
             ]
            ],
            "type": "heatmap"
           }
          ],
          "heatmapgl": [
           {
            "colorbar": {
             "outlinewidth": 0,
             "ticks": ""
            },
            "colorscale": [
             [
              0,
              "#0d0887"
             ],
             [
              0.1111111111111111,
              "#46039f"
             ],
             [
              0.2222222222222222,
              "#7201a8"
             ],
             [
              0.3333333333333333,
              "#9c179e"
             ],
             [
              0.4444444444444444,
              "#bd3786"
             ],
             [
              0.5555555555555556,
              "#d8576b"
             ],
             [
              0.6666666666666666,
              "#ed7953"
             ],
             [
              0.7777777777777778,
              "#fb9f3a"
             ],
             [
              0.8888888888888888,
              "#fdca26"
             ],
             [
              1,
              "#f0f921"
             ]
            ],
            "type": "heatmapgl"
           }
          ],
          "histogram": [
           {
            "marker": {
             "pattern": {
              "fillmode": "overlay",
              "size": 10,
              "solidity": 0.2
             }
            },
            "type": "histogram"
           }
          ],
          "histogram2d": [
           {
            "colorbar": {
             "outlinewidth": 0,
             "ticks": ""
            },
            "colorscale": [
             [
              0,
              "#0d0887"
             ],
             [
              0.1111111111111111,
              "#46039f"
             ],
             [
              0.2222222222222222,
              "#7201a8"
             ],
             [
              0.3333333333333333,
              "#9c179e"
             ],
             [
              0.4444444444444444,
              "#bd3786"
             ],
             [
              0.5555555555555556,
              "#d8576b"
             ],
             [
              0.6666666666666666,
              "#ed7953"
             ],
             [
              0.7777777777777778,
              "#fb9f3a"
             ],
             [
              0.8888888888888888,
              "#fdca26"
             ],
             [
              1,
              "#f0f921"
             ]
            ],
            "type": "histogram2d"
           }
          ],
          "histogram2dcontour": [
           {
            "colorbar": {
             "outlinewidth": 0,
             "ticks": ""
            },
            "colorscale": [
             [
              0,
              "#0d0887"
             ],
             [
              0.1111111111111111,
              "#46039f"
             ],
             [
              0.2222222222222222,
              "#7201a8"
             ],
             [
              0.3333333333333333,
              "#9c179e"
             ],
             [
              0.4444444444444444,
              "#bd3786"
             ],
             [
              0.5555555555555556,
              "#d8576b"
             ],
             [
              0.6666666666666666,
              "#ed7953"
             ],
             [
              0.7777777777777778,
              "#fb9f3a"
             ],
             [
              0.8888888888888888,
              "#fdca26"
             ],
             [
              1,
              "#f0f921"
             ]
            ],
            "type": "histogram2dcontour"
           }
          ],
          "mesh3d": [
           {
            "colorbar": {
             "outlinewidth": 0,
             "ticks": ""
            },
            "type": "mesh3d"
           }
          ],
          "parcoords": [
           {
            "line": {
             "colorbar": {
              "outlinewidth": 0,
              "ticks": ""
             }
            },
            "type": "parcoords"
           }
          ],
          "pie": [
           {
            "automargin": true,
            "type": "pie"
           }
          ],
          "scatter": [
           {
            "fillpattern": {
             "fillmode": "overlay",
             "size": 10,
             "solidity": 0.2
            },
            "type": "scatter"
           }
          ],
          "scatter3d": [
           {
            "line": {
             "colorbar": {
              "outlinewidth": 0,
              "ticks": ""
             }
            },
            "marker": {
             "colorbar": {
              "outlinewidth": 0,
              "ticks": ""
             }
            },
            "type": "scatter3d"
           }
          ],
          "scattercarpet": [
           {
            "marker": {
             "colorbar": {
              "outlinewidth": 0,
              "ticks": ""
             }
            },
            "type": "scattercarpet"
           }
          ],
          "scattergeo": [
           {
            "marker": {
             "colorbar": {
              "outlinewidth": 0,
              "ticks": ""
             }
            },
            "type": "scattergeo"
           }
          ],
          "scattergl": [
           {
            "marker": {
             "colorbar": {
              "outlinewidth": 0,
              "ticks": ""
             }
            },
            "type": "scattergl"
           }
          ],
          "scattermapbox": [
           {
            "marker": {
             "colorbar": {
              "outlinewidth": 0,
              "ticks": ""
             }
            },
            "type": "scattermapbox"
           }
          ],
          "scatterpolar": [
           {
            "marker": {
             "colorbar": {
              "outlinewidth": 0,
              "ticks": ""
             }
            },
            "type": "scatterpolar"
           }
          ],
          "scatterpolargl": [
           {
            "marker": {
             "colorbar": {
              "outlinewidth": 0,
              "ticks": ""
             }
            },
            "type": "scatterpolargl"
           }
          ],
          "scatterternary": [
           {
            "marker": {
             "colorbar": {
              "outlinewidth": 0,
              "ticks": ""
             }
            },
            "type": "scatterternary"
           }
          ],
          "surface": [
           {
            "colorbar": {
             "outlinewidth": 0,
             "ticks": ""
            },
            "colorscale": [
             [
              0,
              "#0d0887"
             ],
             [
              0.1111111111111111,
              "#46039f"
             ],
             [
              0.2222222222222222,
              "#7201a8"
             ],
             [
              0.3333333333333333,
              "#9c179e"
             ],
             [
              0.4444444444444444,
              "#bd3786"
             ],
             [
              0.5555555555555556,
              "#d8576b"
             ],
             [
              0.6666666666666666,
              "#ed7953"
             ],
             [
              0.7777777777777778,
              "#fb9f3a"
             ],
             [
              0.8888888888888888,
              "#fdca26"
             ],
             [
              1,
              "#f0f921"
             ]
            ],
            "type": "surface"
           }
          ],
          "table": [
           {
            "cells": {
             "fill": {
              "color": "#EBF0F8"
             },
             "line": {
              "color": "white"
             }
            },
            "header": {
             "fill": {
              "color": "#C8D4E3"
             },
             "line": {
              "color": "white"
             }
            },
            "type": "table"
           }
          ]
         },
         "layout": {
          "annotationdefaults": {
           "arrowcolor": "#2a3f5f",
           "arrowhead": 0,
           "arrowwidth": 1
          },
          "autotypenumbers": "strict",
          "coloraxis": {
           "colorbar": {
            "outlinewidth": 0,
            "ticks": ""
           }
          },
          "colorscale": {
           "diverging": [
            [
             0,
             "#8e0152"
            ],
            [
             0.1,
             "#c51b7d"
            ],
            [
             0.2,
             "#de77ae"
            ],
            [
             0.3,
             "#f1b6da"
            ],
            [
             0.4,
             "#fde0ef"
            ],
            [
             0.5,
             "#f7f7f7"
            ],
            [
             0.6,
             "#e6f5d0"
            ],
            [
             0.7,
             "#b8e186"
            ],
            [
             0.8,
             "#7fbc41"
            ],
            [
             0.9,
             "#4d9221"
            ],
            [
             1,
             "#276419"
            ]
           ],
           "sequential": [
            [
             0,
             "#0d0887"
            ],
            [
             0.1111111111111111,
             "#46039f"
            ],
            [
             0.2222222222222222,
             "#7201a8"
            ],
            [
             0.3333333333333333,
             "#9c179e"
            ],
            [
             0.4444444444444444,
             "#bd3786"
            ],
            [
             0.5555555555555556,
             "#d8576b"
            ],
            [
             0.6666666666666666,
             "#ed7953"
            ],
            [
             0.7777777777777778,
             "#fb9f3a"
            ],
            [
             0.8888888888888888,
             "#fdca26"
            ],
            [
             1,
             "#f0f921"
            ]
           ],
           "sequentialminus": [
            [
             0,
             "#0d0887"
            ],
            [
             0.1111111111111111,
             "#46039f"
            ],
            [
             0.2222222222222222,
             "#7201a8"
            ],
            [
             0.3333333333333333,
             "#9c179e"
            ],
            [
             0.4444444444444444,
             "#bd3786"
            ],
            [
             0.5555555555555556,
             "#d8576b"
            ],
            [
             0.6666666666666666,
             "#ed7953"
            ],
            [
             0.7777777777777778,
             "#fb9f3a"
            ],
            [
             0.8888888888888888,
             "#fdca26"
            ],
            [
             1,
             "#f0f921"
            ]
           ]
          },
          "colorway": [
           "#636efa",
           "#EF553B",
           "#00cc96",
           "#ab63fa",
           "#FFA15A",
           "#19d3f3",
           "#FF6692",
           "#B6E880",
           "#FF97FF",
           "#FECB52"
          ],
          "font": {
           "color": "#2a3f5f"
          },
          "geo": {
           "bgcolor": "white",
           "lakecolor": "white",
           "landcolor": "#E5ECF6",
           "showlakes": true,
           "showland": true,
           "subunitcolor": "white"
          },
          "hoverlabel": {
           "align": "left"
          },
          "hovermode": "closest",
          "mapbox": {
           "style": "light"
          },
          "paper_bgcolor": "white",
          "plot_bgcolor": "#E5ECF6",
          "polar": {
           "angularaxis": {
            "gridcolor": "white",
            "linecolor": "white",
            "ticks": ""
           },
           "bgcolor": "#E5ECF6",
           "radialaxis": {
            "gridcolor": "white",
            "linecolor": "white",
            "ticks": ""
           }
          },
          "scene": {
           "xaxis": {
            "backgroundcolor": "#E5ECF6",
            "gridcolor": "white",
            "gridwidth": 2,
            "linecolor": "white",
            "showbackground": true,
            "ticks": "",
            "zerolinecolor": "white"
           },
           "yaxis": {
            "backgroundcolor": "#E5ECF6",
            "gridcolor": "white",
            "gridwidth": 2,
            "linecolor": "white",
            "showbackground": true,
            "ticks": "",
            "zerolinecolor": "white"
           },
           "zaxis": {
            "backgroundcolor": "#E5ECF6",
            "gridcolor": "white",
            "gridwidth": 2,
            "linecolor": "white",
            "showbackground": true,
            "ticks": "",
            "zerolinecolor": "white"
           }
          },
          "shapedefaults": {
           "line": {
            "color": "#2a3f5f"
           }
          },
          "ternary": {
           "aaxis": {
            "gridcolor": "white",
            "linecolor": "white",
            "ticks": ""
           },
           "baxis": {
            "gridcolor": "white",
            "linecolor": "white",
            "ticks": ""
           },
           "bgcolor": "#E5ECF6",
           "caxis": {
            "gridcolor": "white",
            "linecolor": "white",
            "ticks": ""
           }
          },
          "title": {
           "x": 0.05
          },
          "xaxis": {
           "automargin": true,
           "gridcolor": "white",
           "linecolor": "white",
           "ticks": "",
           "title": {
            "standoff": 15
           },
           "zerolinecolor": "white",
           "zerolinewidth": 2
          },
          "yaxis": {
           "automargin": true,
           "gridcolor": "white",
           "linecolor": "white",
           "ticks": "",
           "title": {
            "standoff": 15
           },
           "zerolinecolor": "white",
           "zerolinewidth": 2
          }
         }
        },
        "width": 1000,
        "yaxis": {
         "range": [
          0,
          64.5
         ],
         "showgrid": false,
         "showticklabels": false
        },
        "yaxis2": {
         "anchor": "x",
         "matches": "y",
         "overlaying": "y",
         "visible": false
        }
       }
      }
     },
     "metadata": {},
     "output_type": "display_data"
    }
   ],
   "source": [
    "# Create a figure with the right layout\n",
    "fig = go.Figure(\n",
    "    layout=go.Layout(\n",
    "        height=600,\n",
    "        width=1000,\n",
    "        barmode=\"group\",\n",
    "        yaxis_showticklabels=False,\n",
    "        yaxis_showgrid=False,\n",
    "        yaxis_range=[0, df.groupby(axis=1, level=0).sum().max().max() * 1.5],\n",
    "       # Secondary y-axis overlayed on the primary one and not visible\n",
    "        yaxis2=go.layout.YAxis(\n",
    "            visible=False,\n",
    "            matches=\"y\",\n",
    "            overlaying=\"y\",\n",
    "            anchor=\"x\",\n",
    "        ),\n",
    "        font=dict(size=24),\n",
    "        legend_x=0,\n",
    "        legend_y=1,\n",
    "        legend_orientation=\"h\",\n",
    "        hovermode=\"x\",\n",
    "        margin=dict(b=0,t=10,l=0,r=10)\n",
    "    )\n",
    ")\n",
    "\n",
    "# Define some colors for the product, revenue pairs\n",
    "colors = {\n",
    "    \"SIB\" : {\n",
    "        \"Duration: 20+\" : \"#00D8FF\",\n",
    "        \"Duration: 16-20\": \"#00BCDE\",\n",
    "        \"Duration: 11-15\": \"#00A7C6\",\n",
    "        \"Duration: 6-10\": \"#0089A3\",\n",
    "        \"Duration: <5\": \"#006D82\",\n",
    "        \"Duration: 0\": \"#005262\",\n",
    "    },\n",
    "    \"Aggression\" : {\n",
    "        \"Duration: 20+\" : \"#F7FF00\",\n",
    "        \"Duration: 16-20\": \"#D6DD00\",\n",
    "        \"Duration: 11-15\": \"#BAC100\",\n",
    "        \"Duration: 6-10\": \"#9CA200\",\n",
    "        \"Duration: <5\": \"#838800\",\n",
    "        \"Duration: 0\": \"#6A6E00\",\n",
    "    },\n",
    "    \"Disruptive\" : {\n",
    "        \"Duration: 20+\" : \"#00FF08\",\n",
    "        \"Duration: 16-20\": \"#00ED07\",\n",
    "        \"Duration: 11-15\": \"#00D006\",\n",
    "        \"Duration: 6-10\": \"#00AD05\",\n",
    "        \"Duration: <5\": \"#008C04\",\n",
    "        \"Duration: 0\": \"#006A03\",\n",
    "    },\n",
    "    \"Self Mutilation\" : {\n",
    "        \"Duration: 20+\" : \"#FF0000\",\n",
    "        \"Duration: 16-20\": \"#F00202\",\n",
    "        \"Duration: 11-15\": \"#CA0000\",\n",
    "        \"Duration: 6-10\": \"#AF0000\",\n",
    "        \"Duration: <5\": \"#900000\",\n",
    "        \"Duration: 0\": \"#6C0000\",\n",
    "    },\n",
    "    #\"other\" : {\n",
    "    #    \"Duration: 20+\" : \"#d900ff\",\n",
    "    #    \"Duration: 16-20\": \"#bd02de\",\n",
    "    #    \"Duration: 11-15\": \"#9a02b5\",\n",
    "    #    \"Duration: 6-10\": \"#85039c\",\n",
    "    #    \"Duration: <5\": \"#68017a\",\n",
    "    #    \"Duration: 0\": \"#43014f\",\n",
    "    #},\n",
    "}\n",
    "\n",
    "#removes all zeros rows\n",
    "# df = df.loc[~(df==0).all(axis=1)]\n",
    "# Add the traces\n",
    "for i, t in enumerate(colors):\n",
    "    base_offset = 0\n",
    "    for j, col in enumerate(colors[t]):\n",
    "        if (df[t][col] == 0).all():\n",
    "            continue\n",
    "        # print(df[t][col])\n",
    "        # print(df.index.to_list())\n",
    "        fig.add_trace(go.Bar(\n",
    "            x=df_month_data.index,\n",
    "            y=df[t][col],\n",
    "            base=base_offset,\n",
    "            # Set the right yaxis depending on the selected product (from enumerate)\n",
    "            # yaxis=f\"y{i + 1}\",\n",
    "            # Offset the bar trace, offset needs to match the width\n",
    "            # The values here are in milliseconds, 1billion ms is ~1/3 month\n",
    "            offsetgroup=str(i),\n",
    "            #offset=(i - 1) * 1,\n",
    "            #width=1,\n",
    "            legendgroup=t,\n",
    "            legendgrouptitle_text=t,\n",
    "            name=col,\n",
    "            marker_color=colors[t][col],\n",
    "            marker_line=dict(width=2, color=\"#333\"),\n",
    "            hovertemplate=\"%{y}<extra></extra>\"\n",
    "                            )\n",
    "                    )\n",
    "        \n",
    "        base_offset += df[t][col]\n",
    "fig.show()\n"
   ]
  },
  {
   "cell_type": "code",
   "execution_count": null,
   "metadata": {},
   "outputs": [],
   "source": [
    "#intensity interval data\n",
    "dfin\n",
    "dfin_wide = pd.pivot_table(dfin, values='value', index=['Date', 'variable'], columns='Target',aggfunc=np.max)\n",
    "dfin_wide"
   ]
  },
  {
   "cell_type": "code",
   "execution_count": null,
   "metadata": {},
   "outputs": [],
   "source": [
    "        barmode=\"group\",\n",
    "        yaxis_showticklabels=False,\n",
    "        yaxis_showgrid=False,\n",
    "        yaxis_range=[0, df.groupby(axis=1, level=0).sum().max().max() * 1.5],\n",
    "       # Secondary y-axis overlayed on the primary one and not visible\n",
    "        yaxis2=go.layout.YAxis(\n",
    "            visible=False,\n",
    "            matches=\"y\",\n",
    "            overlaying=\"y\",\n",
    "            anchor=\"x\",\n",
    "        ),\n",
    "        font=dict(size=24),\n",
    "        legend_x=0,\n",
    "        legend_y=1,\n",
    "        legend_orientation=\"h\",\n",
    "        hovermode=\"x\",\n",
    "        margin=dict(b=0,t=10,l=0,r=10)\n",
    "    )\n",
    ")\n",
    "\n",
    "# Define some colors for the product, revenue pairs\n",
    "colors = {\n",
    "    \"SIB\" : {\n",
    "        \"Duration: 20+\" : \"#00D8FF\",\n",
    "        \"Duration: 16-20\": \"#00BCDE\",\n",
    "        \"Duration: 11-15\": \"#00A7C6\",\n",
    "        \"Duration: 6-10\": \"#0089A3\",\n",
    "        \"Duration: <5\": \"#006D82\",\n",
    "        \"Duration: 0\": \"#005262\",\n",
    "    },\n",
    "    \"Aggression\" : {\n",
    "        \"Duration: 20+\" : \"#F7FF00\",\n",
    "        \"Duration: 16-20\": \"#D6DD00\",\n",
    "        \"Duration: 11-15\": \"#BAC100\",\n",
    "        \"Duration: 6-10\": \"#9CA200\",\n",
    "        \"Duration: <5\": \"#838800\",\n",
    "        \"Duration: 0\": \"#6A6E00\",\n",
    "    },\n",
    "    \"Disruptive\" : {\n",
    "        \"Duration: 20+\" : \"#00FF08\",\n",
    "        \"Duration: 16-20\": \"#00ED07\",\n",
    "        \"Duration: 11-15\": \"#00D006\",\n",
    "        \"Duration: 6-10\": \"#00AD05\",\n",
    "        \"Duration: <5\": \"#008C04\",\n",
    "        \"Duration: 0\": \"#006A03\",\n",
    "    },\n",
    "    \"Self Mutilation\" : {\n",
    "        \"Duration: 20+\" : \"#FF0000\",\n",
    "        \"Duration: 16-20\": \"#F00202\",\n",
    "        \"Duration: 11-15\": \"#CA0000\",\n",
    "        \"Duration: 6-10\": \"#AF0000\",\n",
    "        \"Duration: <5\": \"#900000\",\n",
    "        \"Duration: 0\": \"#6C0000\",\n",
    "    },\n",
    "    #\"other\" : {\n",
    "    #    \"Duration: 20+\" : \"#d900ff\",\n",
    "    #    \"Duration: 16-20\": \"#bd02de\",\n",
    "    #    \"Duration: 11-15\": \"#9a02b5\",\n",
    "    #    \"Duration: 6-10\": \"#85039c\",\n",
    "    #    \"Duration: <5\": \"#68017a\",\n",
    "    #    \"Duration: 0\": \"#43014f\",\n",
    "    #},\n",
    "}\n",
    "\n",
    "# Add the traces\n",
    "for i, t in enumerate(colors):\n",
    "    base_offset = 0\n",
    "    for j, col in enumerate(colors[t]):\n",
    "        if (df[t][col] == 0).all():\n",
    "            continue\n",
    "        # print(df[t][col])\n",
    "        # print(df.index.to_list())\n",
    "        fig.add_trace(go.Bar(\n",
    "            x=df_month_data.index,\n",
    "            y=df[t][col],\n",
    "            base=base_offset,\n",
    "            # Set the right yaxis depending on the selected product (from enumerate)\n",
    "            # yaxis=f\"y{i + 1}\",\n",
    "            # Offset the bar trace, offset needs to match the width\n",
    "            # The values here are in milliseconds, 1billion ms is ~1/3 month\n",
    "            offsetgroup=str(i),\n",
    "            #offset=(i - 1) * 1,\n",
    "            #width=1,\n",
    "            legendgroup=t,\n",
    "            legendgrouptitle_text=t,\n",
    "            name=col,\n",
    "            marker_color=colors[t][col],\n",
    "            marker_line=dict(width=2, color=\"#333\"),\n",
    "            hovertemplate=\"%{y}<extra></extra>\"\n",
    "                            )\n",
    "                    )\n",
    "        \n",
    "        base_offset += df[t][col]\n",
    "fig.show()"
   ]
  },
  {
   "cell_type": "code",
   "execution_count": null,
   "metadata": {},
   "outputs": [],
   "source": [
    "dfdur_wide = pd.pivot_table(dfdur, values='value', index=['Date', 'variable'], columns='Target',aggfunc=np.max)\n",
    "dfdur_wide_grp = pd.pivot_table(dfdur_wide, index=\"Date\", columns=\"variable\", values=[\"Aggression\", \"Disruptive\", \"SIB\", \"Self Mutilation\"])\n",
    "dfdur_wide_grp.index.name = None\n",
    "# dfdur_wide_grp = dfdur_wide_grp.reset_index(drop=True).rename_axis(None, axis=1)\n",
    "dfdur_wide_grp.head()"
   ]
  },
  {
   "cell_type": "code",
   "execution_count": null,
   "metadata": {},
   "outputs": [],
   "source": [
    "import numpy as np\n",
    "import pandas as pd\n",
    "import plotly.graph_objects as go\n",
    "\n",
    "\n",
    "# Create dummy data indexed by month and with multi-columns [product, revenue]\n",
    "index = pd.date_range(\"2020\", \"2021\", freq=\"MS\", closed=\"left\")\n",
    "df = pd.concat(\n",
    "    [\n",
    "        pd.DataFrame(\n",
    "            np.random.rand(12, 3) * 1.25 + 0.25,\n",
    "            index=index,\n",
    "            columns=[\"Revenue1\", \"Revenue2\", \"Revenue3\"]\n",
    "        ),\n",
    "        pd.DataFrame(\n",
    "            np.random.rand(12, 3) + 0.5,\n",
    "            index=index,\n",
    "            columns=[\"Revenue1\", \"Revenue2\", \"Revenue3\"]\n",
    "        ),\n",
    "    ],\n",
    "    axis=1,\n",
    "    keys=[\"Product1\", \"Product2\"]\n",
    ")\n",
    "\n",
    "# Create a figure with the right layout\n",
    "fig = go.Figure(\n",
    "    layout=go.Layout(\n",
    "        height=600,\n",
    "        width=1000,\n",
    "        barmode=\"relative\",\n",
    "        yaxis_showticklabels=False,\n",
    "        yaxis_showgrid=False,\n",
    "        yaxis_range=[0, df.groupby(axis=1, level=0).sum().max().max() * 1.5],\n",
    "       # Secondary y-axis overlayed on the primary one and not visible\n",
    "        yaxis2=go.layout.YAxis(\n",
    "            visible=False,\n",
    "            matches=\"y\",\n",
    "            overlaying=\"y\",\n",
    "            anchor=\"x\",\n",
    "        ),\n",
    "        font=dict(size=24),\n",
    "        legend_x=0,\n",
    "        legend_y=1,\n",
    "        legend_orientation=\"h\",\n",
    "        hovermode=\"x\",\n",
    "        margin=dict(b=0,t=10,l=0,r=10)\n",
    "    )\n",
    ")\n",
    "\n",
    "# Define some colors for the product, revenue pairs\n",
    "colors = {\n",
    "    \"Product1\": {\n",
    "        \"Revenue1\": \"#F28F1D\",\n",
    "        \"Revenue2\": \"#F6C619\",\n",
    "        \"Revenue3\": \"#FADD75\",\n",
    "    },\n",
    "    \"Product2\": {\n",
    "        \"Revenue1\": \"#2B6045\",\n",
    "        \"Revenue2\": \"#5EB88A\",\n",
    "        \"Revenue3\": \"#9ED4B9\",\n",
    "    }\n",
    "}\n",
    "\n",
    "# Add the traces\n",
    "for i, t in enumerate(colors):\n",
    "    print(t)\n",
    "    for j, col in enumerate(df[t].columns):\n",
    "        if (df[t][col] == 0).all():\n",
    "            continue\n",
    "        print(df[t][col])\n",
    "        print(df.index)\n",
    "        fig.add_trace(go.Bar(\n",
    "            x=df.index,\n",
    "            y=df[t][col],\n",
    "            # Set the right yaxis depending on the selected product (from enumerate)\n",
    "            yaxis=f\"y{i + 1}\",\n",
    "            # Offset the bar trace, offset needs to match the width\n",
    "            # The values here are in milliseconds, 1billion ms is ~1/3 month\n",
    "            offsetgroup=str(i),\n",
    "            offset=(i - 1) * 1000000000,\n",
    "            width=1000000000,\n",
    "            legendgroup=t,\n",
    "            legendgrouptitle_text=t,\n",
    "            name=col,\n",
    "            marker_color=colors[t][col],\n",
    "            marker_line=dict(width=2, color=\"#333\"),\n",
    "            hovertemplate=\"%{y}<extra></extra>\"\n",
    "                            )\n",
    "        )\n",
    "\n",
    "fig.show()\n",
    "df.head()"
   ]
  },
  {
   "cell_type": "code",
   "execution_count": null,
   "metadata": {},
   "outputs": [],
   "source": [
    "dfdur_wide = pd.pivot_table(dfdur, values='value', index=['Date', 'variable'], columns='Target',aggfunc=np.max).reset_index()\n",
    "dfdur_wide_grp = pd.pivot_table(dfdur_wide, index=\"Date\", columns=\"variable\", values=[\"Aggression\", \"Disruptive\", \"SIB\", \"Self Mutilation\"])\n",
    "dfdur_wide.head()"
   ]
  },
  {
   "cell_type": "code",
   "execution_count": null,
   "metadata": {},
   "outputs": [],
   "source": [
    "dfdur_wide_grp.reset_index().head()"
   ]
  },
  {
   "cell_type": "code",
   "execution_count": null,
   "metadata": {},
   "outputs": [],
   "source": [
    "dfdur.head(10)"
   ]
  },
  {
   "cell_type": "code",
   "execution_count": null,
   "metadata": {},
   "outputs": [],
   "source": []
  }
 ],
 "metadata": {
  "interpreter": {
   "hash": "e134e05457d34029b6460cd73bbf1ed73f339b5b6d98c95be70b69eba114fe95"
  },
  "kernelspec": {
   "display_name": "Python 3.9.13 64-bit (conda)",
   "name": "python3"
  },
  "language_info": {
   "codemirror_mode": {
    "name": "ipython",
    "version": 3
   },
   "file_extension": ".py",
   "mimetype": "text/x-python",
   "name": "python",
   "nbconvert_exporter": "python",
   "pygments_lexer": "ipython3",
   "version": "3.9.13"
  },
  "orig_nbformat": 4
 },
 "nbformat": 4,
 "nbformat_minor": 2
}
